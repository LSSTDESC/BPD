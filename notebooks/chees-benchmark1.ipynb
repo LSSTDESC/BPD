{
 "cells": [
  {
   "cell_type": "code",
   "execution_count": 6,
   "id": "450441e7-3be2-4fd1-9bef-8b7e5b2f5a07",
   "metadata": {
    "tags": []
   },
   "outputs": [],
   "source": [
    "import os\n",
    "\n",
    "os.environ[\"CUDA_VISIBLE_DEVICES\"] = \"0\"\n",
    "\n",
    "\n",
    "import time\n",
    "from functools import partial\n",
    "from pathlib import Path\n",
    "\n",
    "import blackjax\n",
    "import galsim\n",
    "import jax\n",
    "import jax.numpy as jnp\n",
    "import jax_galsim as xgalsim\n",
    "import numpy as np\n",
    "from jax import jit as jjit\n",
    "from jax import random, vmap\n",
    "from jax.scipy import stats\n",
    "\n",
    "from bpd.chains import inference_loop\n",
    "from bpd.draw import add_noise\n",
    "from bpd.measure import get_snr\n",
    "import optax"
   ]
  },
  {
   "cell_type": "code",
   "execution_count": null,
   "id": "d2508708-6a0c-4669-8e77-9321bf0887a2",
   "metadata": {},
   "outputs": [],
   "source": [
    "from blackjax.diagnostics import effective_sample_size"
   ]
  },
  {
   "cell_type": "code",
   "execution_count": 67,
   "id": "93d64ff3-727b-487b-8bd9-6ee0547a6582",
   "metadata": {
    "tags": []
   },
   "outputs": [],
   "source": [
    "import matplotlib.pyplot as plt"
   ]
  },
  {
   "cell_type": "code",
   "execution_count": 2,
   "id": "a34593a2-870b-41b2-af82-ec06ba4cdfae",
   "metadata": {
    "tags": []
   },
   "outputs": [
    {
     "name": "stdout",
     "output_type": "stream",
     "text": [
      "devices available: [CudaDevice(id=0)]\n"
     ]
    }
   ],
   "source": [
    "print(\"devices available:\", jax.devices())"
   ]
  },
  {
   "cell_type": "code",
   "execution_count": 3,
   "id": "e7e7fccd-f617-4c22-8cae-65bc8b2db88e",
   "metadata": {
    "tags": []
   },
   "outputs": [],
   "source": [
    "SCRATCH_DIR = Path(\"/pscratch/sd/i/imendoza/data/cache_chains\")\n",
    "\n",
    "\n",
    "# GPU preamble\n",
    "GPU = jax.devices(\"gpu\")[0]\n",
    "\n",
    "jax.config.update(\"jax_default_device\", GPU)\n",
    "\n",
    "jax.config.update(\"jax_enable_x64\", True)"
   ]
  },
  {
   "cell_type": "code",
   "execution_count": 4,
   "id": "32b469d5-db61-4083-9dee-f408257498c6",
   "metadata": {
    "tags": []
   },
   "outputs": [],
   "source": [
    "PIXEL_SCALE = 0.2\n",
    "BACKGROUND = 1e4\n",
    "SLEN = 53\n",
    "PSF_HLR = 0.7\n",
    "GSPARAMS = xgalsim.GSParams(minimum_fft_size=256, maximum_fft_size=256)\n",
    "\n",
    "LOG_FLUX = 4.5\n",
    "HLR = 0.9\n",
    "G1 = 0.05\n",
    "G2 = 0.0\n",
    "X = 0.0\n",
    "Y = 0.0\n",
    "\n",
    "TRUE_PARAMS = {\"f\": LOG_FLUX, \"hlr\": HLR, \"g1\": G1, \"g2\": G2, \"x\": X, \"y\": Y}\n",
    "\n",
    "# make sure relevant things are in GPU\n",
    "TRUE_PARAMS_GPU = jax.device_put(TRUE_PARAMS, device=GPU)\n",
    "BACKGROUND_GPU = jax.device_put(BACKGROUND, device=GPU)\n",
    "BOUNDS = {\n",
    "    \"f\": (-1.0, 9.0),\n",
    "    \"hlr\": (0.01, 5.0),\n",
    "    \"g1\": (-0.7, 0.7),\n",
    "    \"g2\": (-0.7, 0.7),\n",
    "    \"x\": 1,  # sigma (in pixels)\n",
    "    \"y\": 1,  # sigma (in pixels)\n",
    "}\n",
    "BOUNDS_GPU = jax.device_put(BOUNDS, device=GPU)\n",
    "\n",
    "\n",
    "# sample from ball around some dictionary of true params\n",
    "def sample_ball(rng_key, center_params: dict):\n",
    "    new = {}\n",
    "    keys = random.split(rng_key, len(center_params.keys()))\n",
    "    rng_key_dict = {p: k for p, k in zip(center_params, keys)}\n",
    "    for p in center_params:\n",
    "        centr = center_params[p]\n",
    "        if p == \"f\":\n",
    "            new[p] = random.uniform(\n",
    "                rng_key_dict[p], shape=(), minval=centr - 0.25, maxval=centr + 0.25\n",
    "            )\n",
    "        elif p == \"hlr\":\n",
    "            new[p] = random.uniform(\n",
    "                rng_key_dict[p], shape=(), minval=centr - 0.2, maxval=centr + 0.2\n",
    "            )\n",
    "        elif p in {\"g1\", \"g2\"}:\n",
    "            new[p] = random.uniform(\n",
    "                rng_key_dict[p], shape=(), minval=centr - 0.025, maxval=centr + 0.025\n",
    "            )\n",
    "        elif p in {\"x\", \"y\"}:\n",
    "            new[p] = random.uniform(\n",
    "                rng_key_dict[p], shape=(), minval=centr - 0.5, maxval=centr + 0.5\n",
    "            )\n",
    "    return new\n",
    "\n",
    "\n",
    "def _draw_gal():\n",
    "    gal = galsim.Gaussian(flux=10**LOG_FLUX, half_light_radius=HLR)\n",
    "    gal = gal.shift(dx=X, dy=Y)\n",
    "    gal = gal.shear(g1=G1, g2=G2)\n",
    "\n",
    "    psf = galsim.Gaussian(flux=1.0, half_light_radius=PSF_HLR)\n",
    "    gal_conv = galsim.Convolve([gal, psf])\n",
    "    image = gal_conv.drawImage(nx=SLEN, ny=SLEN, scale=PIXEL_SCALE)\n",
    "    return image.array\n",
    "\n",
    "\n",
    "def draw_gal(f, hlr, g1, g2, x, y):\n",
    "    # x, y arguments in pixels\n",
    "    gal = xgalsim.Gaussian(flux=10**f, half_light_radius=hlr)\n",
    "    gal = gal.shift(dx=x * PIXEL_SCALE, dy=y * PIXEL_SCALE)\n",
    "    gal = gal.shear(g1=g1, g2=g2)\n",
    "\n",
    "    psf = xgalsim.Gaussian(flux=1, half_light_radius=PSF_HLR)\n",
    "    gal_conv = xgalsim.Convolve([gal, psf]).withGSParams(GSPARAMS)\n",
    "    image = gal_conv.drawImage(nx=SLEN, ny=SLEN, scale=PIXEL_SCALE)\n",
    "    return image.array\n",
    "\n",
    "\n",
    "def _logprob_fn(params, data):\n",
    "\n",
    "    # prior\n",
    "    prior = jnp.array(0.0, device=GPU)\n",
    "    for p in (\"f\", \"hlr\", \"g1\", \"g2\"):  # uniform priors\n",
    "        b1, b2 = BOUNDS_GPU[p]\n",
    "        prior += stats.uniform.logpdf(params[p], b1, b2 - b1)\n",
    "\n",
    "    for p in (\"x\", \"y\"):  # normal\n",
    "        sigma = BOUNDS_GPU[p]\n",
    "        prior += stats.norm.logpdf(params[p], sigma)\n",
    "\n",
    "    # likelihood\n",
    "    model = draw_gal(**params)\n",
    "    likelihood = stats.norm.logpdf(data, loc=model, scale=jnp.sqrt(BACKGROUND_GPU))\n",
    "\n",
    "    return jnp.sum(prior) + jnp.sum(likelihood)"
   ]
  },
  {
   "cell_type": "code",
   "execution_count": 105,
   "id": "a7ef5f46-6517-478b-88b3-41dd0580bbd0",
   "metadata": {
    "tags": []
   },
   "outputs": [],
   "source": [
    "# run setup\n",
    "N_WARMUPS = 500\n",
    "N_SAMPLES = 1000\n",
    "N_CHAINS = 200\n",
    "SEED = 42\n"
   ]
  },
  {
   "cell_type": "code",
   "execution_count": 106,
   "id": "f23e12d4-e66e-4fc9-b536-790aa47283c5",
   "metadata": {
    "tags": []
   },
   "outputs": [],
   "source": [
    "def do_warmup(rng_key, positions, data, n_warmup:int, step_size:float=0.1, lr:float=1e-3, n_chains:int=None):\n",
    "    logdensity = partial(_logprob_fn, data=data)\n",
    "    warmup = blackjax.chees_adaptation(logdensity, n_chains)\n",
    "    optim = optax.adam(lr)\n",
    "    return warmup.run(\n",
    "        rng_key,\n",
    "        positions, #PyTree where each leaf has shape (num_chains, ...)\n",
    "        step_size,\n",
    "        optim,\n",
    "        n_warmup,\n",
    "    )"
   ]
  },
  {
   "cell_type": "code",
   "execution_count": 107,
   "id": "e17fc385-7962-414a-bfd4-5bac86165a6c",
   "metadata": {
    "tags": []
   },
   "outputs": [
    {
     "name": "stdout",
     "output_type": "stream",
     "text": [
      "data info: {CudaDevice(id=0)} <class 'jaxlib.xla_extension.ArrayImpl'> (53, 53)\n"
     ]
    }
   ],
   "source": [
    "# get data\n",
    "data = add_noise(_draw_gal(), BACKGROUND, rng=np.random.default_rng(SEED), n=1)[0]\n",
    "data_gpu = jax.device_put(data, device=GPU)\n",
    "print(\"data info:\", data_gpu.devices(), type(data_gpu), data_gpu.shape)"
   ]
  },
  {
   "cell_type": "code",
   "execution_count": 108,
   "id": "63322334-3921-4b0d-978f-c32a18a03863",
   "metadata": {
    "tags": []
   },
   "outputs": [],
   "source": [
    "key = jax.device_put(random.key(SEED), device=GPU)\n",
    "key1, key2, key3 = random.split(key, 3)"
   ]
  },
  {
   "cell_type": "code",
   "execution_count": 109,
   "id": "31eaecd6-7bee-4152-808f-bebce4d97e1d",
   "metadata": {
    "tags": []
   },
   "outputs": [
    {
     "data": {
      "text/plain": [
       "((200,), {CudaDevice(id=0)})"
      ]
     },
     "execution_count": 109,
     "metadata": {},
     "output_type": "execute_result"
    }
   ],
   "source": [
    "# get initial positions for all chains\n",
    "ball_keys = random.split(key1, N_CHAINS)\n",
    "all_init_positions = vmap(sample_ball, in_axes=(0, None))(\n",
    "    ball_keys, TRUE_PARAMS_GPU\n",
    ")\n",
    "all_init_positions['f'].shape, all_init_positions['f'].devices()"
   ]
  },
  {
   "cell_type": "code",
   "execution_count": 111,
   "id": "72c29a4a-d240-469c-b609-ee7c527f0d39",
   "metadata": {
    "tags": []
   },
   "outputs": [],
   "source": [
    "(last_states, parameters), _ =  do_warmup(key2, all_init_positions, data_gpu, n_warmup=500, n_chains=N_CHAINS) "
   ]
  },
  {
   "cell_type": "code",
   "execution_count": 112,
   "id": "3c8366fd-f33b-4c36-9bf8-27aa2c2dbd77",
   "metadata": {
    "tags": []
   },
   "outputs": [
    {
     "data": {
      "text/plain": [
       "{'step_size': Array(0.0267025, dtype=float64, weak_type=True),\n",
       " 'inverse_mass_matrix': Array([1., 1., 1., 1., 1., 1.], dtype=float64),\n",
       " 'next_random_arg_fn': <function blackjax.adaptation.chees_adaptation.chees_adaptation.<locals>.run.<locals>.<lambda>(i)>,\n",
       " 'integration_steps_fn': <function blackjax.adaptation.chees_adaptation.chees_adaptation.<locals>.run.<locals>.<lambda>(arg)>}"
      ]
     },
     "execution_count": 112,
     "metadata": {},
     "output_type": "execute_result"
    }
   ],
   "source": [
    "parameters"
   ]
  },
  {
   "cell_type": "code",
   "execution_count": 113,
   "id": "36aa35c3-cf39-49d7-87c5-bf66dad8d0a8",
   "metadata": {
    "tags": []
   },
   "outputs": [],
   "source": [
    "def do_inference(rng_key, init_state, data, kernel):\n",
    "    _logdensity = partial(_logprob_fn, data=data)\n",
    "\n",
    "    return inference_loop(\n",
    "        rng_key, init_state, kernel=kernel, n_samples=N_SAMPLES\n",
    "    )\n"
   ]
  },
  {
   "cell_type": "code",
   "execution_count": 114,
   "id": "0cbae8ad-357a-4c57-b5f2-c8b658ec6138",
   "metadata": {
    "tags": []
   },
   "outputs": [],
   "source": [
    "kernel = blackjax.dynamic_hmc(logdensity, **parameters).step"
   ]
  },
  {
   "cell_type": "code",
   "execution_count": 115,
   "id": "12fdf81b-c7b8-4408-a1f7-2bcc40b70f67",
   "metadata": {
    "tags": []
   },
   "outputs": [],
   "source": [
    "keys3 = random.split(key3, N_CHAINS)\n",
    "new_states, info = jax.vmap(kernel)(keys3, last_states)"
   ]
  },
  {
   "cell_type": "code",
   "execution_count": null,
   "id": "4eaec83d-74d2-45f7-a3b8-0172ba3618ac",
   "metadata": {
    "tags": []
   },
   "outputs": [],
   "source": [
    "states, info = jax.vmap(do_inference, in_axes=(0, 0, None, None))(keys3, last_states, data, kernel)"
   ]
  },
  {
   "cell_type": "code",
   "execution_count": 96,
   "id": "0e932b21-93c4-4e00-b799-a9b03c08e3fb",
   "metadata": {
    "tags": []
   },
   "outputs": [
    {
     "data": {
      "text/plain": [
       "(100, 1000)"
      ]
     },
     "execution_count": 96,
     "metadata": {},
     "output_type": "execute_result"
    }
   ],
   "source": [
    "states.position['f'].shape"
   ]
  },
  {
   "cell_type": "code",
   "execution_count": 97,
   "id": "e6d950df-326f-46e8-8171-fc7fafe900cc",
   "metadata": {
    "tags": []
   },
   "outputs": [
    {
     "data": {
      "text/plain": [
       "[<matplotlib.lines.Line2D at 0x7f6d046358a0>]"
      ]
     },
     "execution_count": 97,
     "metadata": {},
     "output_type": "execute_result"
    },
    {
     "data": {
      "image/png": "[encoded data removed]",
      "text/plain": [
       "<Figure size 640x480 with 1 Axes>"
      ]
     },
     "metadata": {},
     "output_type": "display_data"
    }
   ],
   "source": [
    "f= states.position['f']\n",
    "plt.plot(f[0, :])\n",
    "plt.plot(f[1, :])"
   ]
  },
  {
   "cell_type": "code",
   "execution_count": 98,
   "id": "5a5a7d1c-0c28-4b1e-b6c4-ebddd217adbb",
   "metadata": {
    "tags": []
   },
   "outputs": [
    {
     "data": {
      "text/plain": [
       "Array(29850.23346792, dtype=float64)"
      ]
     },
     "execution_count": 98,
     "metadata": {},
     "output_type": "execute_result"
    }
   ],
   "source": [
    "effective_sample_size(f, chain_axis=0, sample_axis=1)"
   ]
  },
  {
   "cell_type": "code",
   "execution_count": null,
   "id": "9f29d0ef-7713-42ac-b4a4-bed8feda5ba4",
   "metadata": {},
   "outputs": [],
   "source": []
  }
 ],
 "metadata": {
  "kernelspec": {
   "display_name": "bpd_gpu2",
   "language": "python",
   "name": "bpd_gpu2"
  },
  "language_info": {
   "codemirror_mode": {
    "name": "ipython",
    "version": 3
   },
   "file_extension": ".py",
   "mimetype": "text/x-python",
   "name": "python",
   "nbconvert_exporter": "python",
   "pygments_lexer": "ipython3",
   "version": "3.10.14"
  }
 },
 "nbformat": 4,
 "nbformat_minor": 5
}
