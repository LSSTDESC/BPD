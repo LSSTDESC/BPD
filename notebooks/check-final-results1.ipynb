{
 "cells": [
  {
   "cell_type": "code",
   "execution_count": 4,
   "id": "29771df0-1b47-4b2f-9e24-2523a0b8b7bc",
   "metadata": {},
   "outputs": [],
   "source": [
    "import os\n",
    "\n",
    "os.environ[\"CUDA_VISIBLE_DEVICES\"] = \"\"\n",
    "os.environ[\"JAX_PLATFORMS\"] = \"cpu\""
   ]
  },
  {
   "cell_type": "code",
   "execution_count": 5,
   "id": "34cfd069-2bb3-405c-a7ff-2ddd4eb58c98",
   "metadata": {},
   "outputs": [],
   "source": [
    "from functools import partial\n",
    "from pathlib import Path\n",
    "\n",
    "import jax\n",
    "import jax.numpy as jnp\n",
    "import matplotlib.pyplot as plt\n",
    "import numpy as np\n",
    "import pandas\n",
    "import typer\n",
    "from chainconsumer import Chain, ChainConfig, ChainConsumer, Truth\n",
    "from chainconsumer.plotting.config import PlotConfig\n",
    "from tqdm import tqdm\n",
    "\n",
    "from bpd import DATA_DIR, HOME_DIR\n",
    "from bpd.draw import draw_exponential_galsim\n",
    "from bpd.io import load_dataset, save_dataset\n",
    "from bpd.plotting import (\n",
    "    get_timing_figure,\n",
    "    set_rc_params,\n",
    ")\n",
    "from bpd.sample import sample_galaxy_params_skew\n",
    "from bpd.utils import DEFAULT_HYPERPARAMS, get_snr\n",
    "\n",
    "FIG_DIR = HOME_DIR / \"paper\"\n",
    "CHAIN_DIR = DATA_DIR / \"cache_chains\""
   ]
  },
  {
   "cell_type": "code",
   "execution_count": 49,
   "id": "bb0a3bc8-09a8-4e48-b7b2-be7112eef834",
   "metadata": {},
   "outputs": [],
   "source": [
    "INPUT_PATHS = {\n",
    "    \"timing_results\": CHAIN_DIR / \"exp23_43\" / \"timing_results_43.npz\",\n",
    "    \"timing_conv\": CHAIN_DIR / \"exp23_43\" / \"convergence_results_43.npz\",\n",
    "    \"exp70_sp\": CHAIN_DIR / \"exp70_51\" / \"g_samples_512_plus.npy\",\n",
    "    \"exp70_sm\": CHAIN_DIR / \"exp70_51\" / \"g_samples_512_minus.npy\",\n",
    "    \"exp70_errs\": CHAIN_DIR / \"exp70_51\" / \"g_samples_514_errs.npz\",\n",
    "    \"exp71_sp\": CHAIN_DIR / \"exp71_51\" / \"shear_samples_512_plus.npz\",\n",
    "    \"exp71_sm\": CHAIN_DIR / \"exp71_51\" / \"shear_samples_512_minus.npz\",\n",
    "    \"exp71_errs\": CHAIN_DIR / \"exp71_51\" / \"g_samples_514_errs.npz\",\n",
    "    \"exp72_sp\": CHAIN_DIR / \"exp72_51\" / \"g_samples_512_plus.npy\",\n",
    "    \"exp72_sm\": CHAIN_DIR / \"exp72_51\" / \"g_samples_512_minus.npy\",\n",
    "    \"exp72_errs\": CHAIN_DIR / \"exp72_51\" / \"g_samples_514_errs.npz\",\n",
    "    \"exp73_sp\": CHAIN_DIR / \"exp73_51\" / \"shear_samples_512_plus.npz\",\n",
    "    \"exp73_sm\": CHAIN_DIR / \"exp73_51\" / \"shear_samples_512_minus.npz\",\n",
    "    \"exp73_errs\": CHAIN_DIR / \"exp73_51\" / \"g_samples_514_errs_514.npz\",\n",
    "}"
   ]
  },
  {
   "cell_type": "markdown",
   "id": "09f1c121-02d8-4a9f-8b14-c2d74f47fa07",
   "metadata": {},
   "source": [
    "# Use medians instead of means"
   ]
  },
  {
   "cell_type": "code",
   "execution_count": 58,
   "id": "900a1126-a876-4703-a0e3-b7736241b97a",
   "metadata": {},
   "outputs": [
    {
     "name": "stdout",
     "output_type": "stream",
     "text": [
      "-0.3437093517237866 0.948180672083316\n"
     ]
    }
   ],
   "source": [
    "gp1 = np.load(INPUT_PATHS[\"exp70_sp\"])\n",
    "gm1 = np.load(INPUT_PATHS[\"exp70_sm\"])\n",
    "\n",
    "gps1 = load_dataset(INPUT_PATHS[\"exp70_errs\"])[\"g_plus\"]\n",
    "gms1 = load_dataset(INPUT_PATHS[\"exp70_errs\"])[\"g_minus\"]\n",
    "\n",
    "m1_mean = np.median(gp1[:, 0] - gm1[:, 0]) / 2 / 0.02 - 1\n",
    "m1s = (np.median(gps1[:, :, 0], axis=1) - np.median(gms1[:, :, 0], axis=1)) / 2 / 0.02 - 1\n",
    "m1_std = m1s.std() / np.sqrt(len(m1s))\n",
    "\n",
    "print(m1_mean / 1e-3, m1_std / 1e-3 * 3)\n"
   ]
  },
  {
   "cell_type": "code",
   "execution_count": 59,
   "id": "3225378a-6c6e-43c3-8c58-e647a52ef2bd",
   "metadata": {},
   "outputs": [
    {
     "name": "stdout",
     "output_type": "stream",
     "text": [
      "-0.19600598010849346 0.9483421903300215\n"
     ]
    }
   ],
   "source": [
    "gp1 = np.load(INPUT_PATHS[\"exp72_sp\"])\n",
    "gm1 = np.load(INPUT_PATHS[\"exp72_sm\"])\n",
    "\n",
    "gps1 = load_dataset(INPUT_PATHS[\"exp72_errs\"])[\"gp\"]\n",
    "gms1 = load_dataset(INPUT_PATHS[\"exp72_errs\"])[\"gm\"]\n",
    "\n",
    "m1_mean = np.median(gp1[:, 0] - gm1[:, 0]) / 2 / 0.02 - 1\n",
    "m1s = (np.median(gps1[:, :, 0], axis=1) - np.median(gms1[:, :, 0], axis=1)) / 2 / 0.02 - 1\n",
    "m1_std = m1s.std() / np.sqrt(len(m1s))\n",
    "\n",
    "print(m1_mean / 1e-3, m1_std / 1e-3 * 3)\n"
   ]
  },
  {
   "cell_type": "code",
   "execution_count": 62,
   "id": "51a0d3e1-b716-433f-a823-7a42d53b44aa",
   "metadata": {},
   "outputs": [
    {
     "name": "stdout",
     "output_type": "stream",
     "text": [
      "-0.315995486336651 1.1676360604036442\n"
     ]
    }
   ],
   "source": [
    "dsp2 = load_dataset(INPUT_PATHS[\"exp71_sp\"])\n",
    "dsm2 = load_dataset(INPUT_PATHS[\"exp71_sm\"])\n",
    "gp1 = jnp.stack([dsp2[\"samples\"][\"g1\"], dsp2[\"samples\"][\"g2\"]], axis=-1)\n",
    "gm1 = jnp.stack([dsm2[\"samples\"][\"g1\"], dsm2[\"samples\"][\"g2\"]], axis=-1)\n",
    "\n",
    "gps1 = load_dataset(INPUT_PATHS[\"exp71_errs\"])[\"plus\"]['g']\n",
    "gms1 = load_dataset(INPUT_PATHS[\"exp71_errs\"])[\"minus\"]['g']\n",
    "\n",
    "m1_mean = np.median(gp1[:, 0] - gm1[:, 0]) / 2 / 0.02 - 1\n",
    "m1s = (np.median(gps1[:, :, 0], axis=1) - np.median(gms1[:, :, 0], axis=1)) / 2 / 0.02 - 1\n",
    "m1_std = m1s.std() / np.sqrt(len(m1s))\n",
    "\n",
    "print(m1_mean / 1e-3, m1_std / 1e-3 * 3)\n"
   ]
  },
  {
   "cell_type": "code",
   "execution_count": 63,
   "id": "937bc00a-1b2e-40e7-a29a-7ed40a584da1",
   "metadata": {},
   "outputs": [
    {
     "name": "stdout",
     "output_type": "stream",
     "text": [
      "-0.22854954440398867 1.6791922446479193\n"
     ]
    }
   ],
   "source": [
    "dsp2 = load_dataset(INPUT_PATHS[\"exp73_sp\"])\n",
    "dsm2 = load_dataset(INPUT_PATHS[\"exp73_sm\"])\n",
    "gp1 = jnp.stack([dsp2[\"samples\"][\"g1\"], dsp2[\"samples\"][\"g2\"]], axis=-1)\n",
    "gm1 = jnp.stack([dsm2[\"samples\"][\"g1\"], dsm2[\"samples\"][\"g2\"]], axis=-1)\n",
    "\n",
    "gps1 = load_dataset(INPUT_PATHS[\"exp73_errs\"])[\"plus\"]['g']\n",
    "gms1 = load_dataset(INPUT_PATHS[\"exp73_errs\"])[\"minus\"]['g']\n",
    "\n",
    "m1_mean = np.median(gp1[:, 0] - gm1[:, 0]) / 2 / 0.02 - 1\n",
    "m1s = (np.median(gps1[:, :, 0], axis=1) - np.median(gms1[:, :, 0], axis=1)) / 2 / 0.02 - 1\n",
    "m1_std = m1s.std() / np.sqrt(len(m1s))\n",
    "\n",
    "print(m1_mean / 1e-3, m1_std / 1e-3 * 3)\n"
   ]
  },
  {
   "cell_type": "markdown",
   "id": "c4e26ecc-df23-4bf9-a9cb-beaec7f797e7",
   "metadata": {},
   "source": [
    "# Galaxy distributions"
   ]
  },
  {
   "cell_type": "code",
   "execution_count": null,
   "id": "acaedfcf-00b5-49af-9ae0-d9ddd348d990",
   "metadata": {},
   "outputs": [],
   "source": []
  }
 ],
 "metadata": {
  "kernelspec": {
   "display_name": "bpd_gpu",
   "language": "python",
   "name": "bpd_gpu"
  },
  "language_info": {
   "codemirror_mode": {
    "name": "ipython",
    "version": 3
   },
   "file_extension": ".py",
   "mimetype": "text/x-python",
   "name": "python",
   "nbconvert_exporter": "python",
   "pygments_lexer": "ipython3",
   "version": "3.12.9"
  }
 },
 "nbformat": 4,
 "nbformat_minor": 5
}
