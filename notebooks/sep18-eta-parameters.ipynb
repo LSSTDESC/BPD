{
 "cells": [
  {
   "cell_type": "code",
   "execution_count": 32,
   "id": "b180dd6e-307f-45fc-a833-fcc6b1a97efe",
   "metadata": {},
   "outputs": [],
   "source": [
    "import numpy as np\n",
    "import os\n",
    "import matplotlib.pyplot as plt \n",
    "from functools import partial\n",
    "\n",
    "os.environ[\"JAX_PLATFORMS\"] = \"cpu\"\n",
    "import jax\n",
    "\n",
    "from bpd import DATA_DIR\n",
    "from bpd.io import load_dataset\n",
    "\n",
    "from jax import vmap, jit, grad, Array, random\n",
    "\n",
    "\n",
    "\n",
    "import jax.numpy as jnp\n",
    "import jax.scipy as jsp\n",
    "from jax.scipy.stats import norm\n",
    "\n",
    "from bpd.sample import sample_ellip_prior\n",
    "from bpd.shear import (\n",
    "    inv_shear_func1,\n",
    "    inv_shear_func2,\n",
    "    inv_shear_transformation,\n",
    "    shear_transformation,\n",
    ")\n"
   ]
  },
  {
   "cell_type": "code",
   "execution_count": 39,
   "id": "d2224fc5-81bd-45c7-bb64-0f89fd863c04",
   "metadata": {},
   "outputs": [],
   "source": [
    "def sample_noisy_eta(rng_key, *, g, sigma_e: float, sigma_m: float, n: int = 1):\n",
    "    k1, k2 = random.split(rng_key)\n",
    "    es = sample_ellip_prior(k1, sigma_e, n)\n",
    "    essh = shear_transformation(es, g)\n",
    "    etas = vmap(g2eta)(essh)\n",
    "    noisy_etas = etas.reshape(n, 2) + random.normal(k2, shape=(n, 2)) * sigma_m\n",
    "    return noisy_etas, etas\n",
    "\n",
    "\n",
    "def eta2g(eta: Array):\n",
    "    assert eta.shape == (2,)\n",
    "    eta1 = eta[0]\n",
    "    eta2 = eta[1]\n",
    "    abseta = jnp.sqrt(eta1**2 + eta2**2)\n",
    "    g1 = eta1 * jnp.tanh(0.5 * abseta) / abseta\n",
    "    g2 = eta2 * jnp.tanh(0.5 * abseta) / abseta\n",
    "    return jnp.array([g1, g2])\n",
    "\n",
    "def g2eta(g: Array):\n",
    "    assert g.shape == (2,)\n",
    "    g1 = g[0]\n",
    "    g2 = g[1]\n",
    "    absg = jnp.sqrt(g1**2 + g2**2)\n",
    "    eta1 = g1 * jnp.arctanh(absg) * 2 / absg\n",
    "    eta2 = g2 * jnp.arctanh(absg) * 2 / absg\n",
    "    return jnp.array([eta1, eta2])"
   ]
  },
  {
   "cell_type": "code",
   "execution_count": 40,
   "id": "7a02cad5-f65c-43b8-bd66-9c0a69055de3",
   "metadata": {},
   "outputs": [],
   "source": [
    "dirpath = DATA_DIR / \"cache_chains\" / \"exp70_51\"\n",
    "samples_plus_fpath = dirpath / \"interim_samples_511_plus.npz\""
   ]
  },
  {
   "cell_type": "code",
   "execution_count": 41,
   "id": "bdf741d0-19c9-4c7a-84bf-6d47ea75187d",
   "metadata": {},
   "outputs": [
    {
     "data": {
      "text/plain": [
       "dict_keys(['samples', 'truth', 'hyper'])"
      ]
     },
     "execution_count": 41,
     "metadata": {},
     "output_type": "execute_result"
    }
   ],
   "source": [
    "ds = load_dataset(samples_plus_fpath)\n",
    "ds.keys()"
   ]
  },
  {
   "cell_type": "code",
   "execution_count": 42,
   "id": "241d2f19-aed3-4ffa-bb16-d850741c29bc",
   "metadata": {},
   "outputs": [
    {
     "data": {
      "text/plain": [
       "(320000, 300)"
      ]
     },
     "execution_count": 42,
     "metadata": {},
     "output_type": "execute_result"
    }
   ],
   "source": [
    "e1_samples = ds['samples']['e1']\n",
    "e1_samples.shape"
   ]
  },
  {
   "cell_type": "code",
   "execution_count": 52,
   "id": "a37d6bc0-9c9d-4457-a33b-58d9f827f1b9",
   "metadata": {},
   "outputs": [],
   "source": [
    "eta_samples, _  = sample_noisy_eta(random.key(42), g=jnp.array([0.02, 0.0]), sigma_e=0.2, sigma_m=0.2, n=320_000*300)\n",
    "e1_samples_eta = vmap(eta2g)(eta_samples)[:, 0]"
   ]
  },
  {
   "cell_type": "code",
   "execution_count": 53,
   "id": "7f811401-cc8d-4052-810a-0b14daaa6579",
   "metadata": {},
   "outputs": [
    {
     "data": {
      "text/plain": [
       "(96000000,)"
      ]
     },
     "execution_count": 53,
     "metadata": {},
     "output_type": "execute_result"
    }
   ],
   "source": [
    "e1_samples_eta.shape"
   ]
  },
  {
   "cell_type": "code",
   "execution_count": 54,
   "id": "97136b5b-d3bf-4405-b5f2-f43e5c739428",
   "metadata": {},
   "outputs": [
    {
     "data": {
      "text/plain": [
       "(array([6.000000e+00, 4.300000e+01, 1.740000e+02, 4.750000e+02,\n",
       "        1.517000e+03, 4.105000e+03, 9.531000e+03, 2.151700e+04,\n",
       "        4.503400e+04, 8.594100e+04, 1.541580e+05, 2.622150e+05,\n",
       "        4.254260e+05, 6.571100e+05, 9.714130e+05, 1.377718e+06,\n",
       "        1.876691e+06, 2.467130e+06, 3.128136e+06, 3.829070e+06,\n",
       "        4.553142e+06, 5.230081e+06, 5.833672e+06, 6.313395e+06,\n",
       "        6.628596e+06, 6.758926e+06, 6.689655e+06, 6.428311e+06,\n",
       "        5.997920e+06, 5.418472e+06, 4.751884e+06, 4.024881e+06,\n",
       "        3.297089e+06, 2.605519e+06, 1.987223e+06, 1.455652e+06,\n",
       "        1.018318e+06, 6.853510e+05, 4.375940e+05, 2.645530e+05,\n",
       "        1.502270e+05, 8.108200e+04, 4.023600e+04, 1.858900e+04,\n",
       "        7.880000e+03, 2.940000e+03, 9.900000e+02, 3.280000e+02,\n",
       "        6.300000e+01, 1.700000e+01, 4.000000e+00]),\n",
       " array([-0.92817843, -0.89113255, -0.85408666, -0.81704078, -0.77999489,\n",
       "        -0.74294901, -0.70590312, -0.66885724, -0.63181135, -0.59476546,\n",
       "        -0.55771958, -0.52067369, -0.48362781, -0.44658192, -0.40953604,\n",
       "        -0.37249015, -0.33544427, -0.29839838, -0.2613525 , -0.22430661,\n",
       "        -0.18726073, -0.15021484, -0.11316895, -0.07612307, -0.03907718,\n",
       "        -0.0020313 ,  0.03501459,  0.07206047,  0.10910636,  0.14615224,\n",
       "         0.18319813,  0.22024401,  0.2572899 ,  0.29433578,  0.33138167,\n",
       "         0.36842756,  0.40547344,  0.44251933,  0.47956521,  0.5166111 ,\n",
       "         0.55365698,  0.59070287,  0.62774875,  0.66479464,  0.70184052,\n",
       "         0.73888641,  0.77593229,  0.81297818,  0.85002407,  0.88706995,\n",
       "         0.92411584,  0.96116172]),\n",
       " [<matplotlib.patches.Polygon at 0x7f6115d2a060>])"
      ]
     },
     "execution_count": 54,
     "metadata": {},
     "output_type": "execute_result"
    },
    {
     "data": {
      "image/png": "[encoded data removed]",
      "text/plain": [
       "<Figure size 640x480 with 1 Axes>"
      ]
     },
     "metadata": {},
     "output_type": "display_data"
    }
   ],
   "source": [
    "plt.hist(e1_samples.ravel(), bins=51, histtype='step')\n",
    "plt.hist(e1_samples_eta, bins=51, histtype='step')"
   ]
  },
  {
   "cell_type": "code",
   "execution_count": null,
   "id": "40405645-9790-42c1-b199-ed51c1859233",
   "metadata": {},
   "outputs": [],
   "source": [
    "\n"
   ]
  }
 ],
 "metadata": {
  "kernelspec": {
   "display_name": "bpd_gpu4",
   "language": "python",
   "name": "bpd_gpu4"
  },
  "language_info": {
   "codemirror_mode": {
    "name": "ipython",
    "version": 3
   },
   "file_extension": ".py",
   "mimetype": "text/x-python",
   "name": "python",
   "nbconvert_exporter": "python",
   "pygments_lexer": "ipython3",
   "version": "3.12.11"
  }
 },
 "nbformat": 4,
 "nbformat_minor": 5
}
