{
 "cells": [
  {
   "cell_type": "code",
   "execution_count": 57,
   "metadata": {},
   "outputs": [],
   "source": [
    "import os\n",
    "os.environ[\"CUDA_VISIBLE_DEVICES\"] = \"\"\n",
    "os.environ[\"JAX_PLATFORMS\"] = \"cpu\""
   ]
  },
  {
   "cell_type": "code",
   "execution_count": 58,
   "metadata": {},
   "outputs": [],
   "source": [
    "from bpd.sample import sample_galaxy_params_simple, sample_ellip_prior\n",
    "from functools import partial \n",
    "\n",
    "import jax \n",
    "from jax import vmap\n",
    "\n",
    "import jax.numpy as jnp\n",
    "\n",
    "import matplotlib.pyplot as plt "
   ]
  },
  {
   "cell_type": "markdown",
   "metadata": {},
   "source": [
    "## Ellipticity"
   ]
  },
  {
   "cell_type": "code",
   "execution_count": 59,
   "metadata": {},
   "outputs": [],
   "source": [
    "key =jax.random.key(42)\n",
    "\n",
    "k1, k2 = jax.random.split(key, 2)"
   ]
  },
  {
   "cell_type": "code",
   "execution_count": 60,
   "metadata": {},
   "outputs": [],
   "source": [
    "es =sample_ellip_prior(k1, sigma=0.2, n=100000)"
   ]
  },
  {
   "cell_type": "code",
   "execution_count": 61,
   "metadata": {},
   "outputs": [
    {
     "data": {
      "text/plain": [
       "(100000, 2)"
      ]
     },
     "execution_count": 61,
     "metadata": {},
     "output_type": "execute_result"
    }
   ],
   "source": [
    "es.shape"
   ]
  },
  {
   "cell_type": "code",
   "execution_count": 62,
   "metadata": {},
   "outputs": [
    {
     "data": {
      "text/plain": [
       "(Array([-0.84875464, -0.24917875], dtype=float64),\n",
       " Array(0.88457588, dtype=float64))"
      ]
     },
     "execution_count": 62,
     "metadata": {},
     "output_type": "execute_result"
    }
   ],
   "source": [
    "mag = jnp.sqrt(es[:, 0]**2 + es[:, 1]**2)\n",
    "idx = jnp.argmax(mag)\n",
    "es[idx], mag[idx]"
   ]
  },
  {
   "cell_type": "code",
   "execution_count": 63,
   "metadata": {},
   "outputs": [
    {
     "data": {
      "image/png": "[encoded data removed]",
      "text/plain": [
       "<Figure size 640x480 with 1 Axes>"
      ]
     },
     "metadata": {},
     "output_type": "display_data"
    }
   ],
   "source": [
    "plt.hist(mag, bins=100);"
   ]
  },
  {
   "cell_type": "code",
   "execution_count": 85,
   "metadata": {},
   "outputs": [
    {
     "data": {
      "text/plain": [
       "(100000,)"
      ]
     },
     "execution_count": 85,
     "metadata": {},
     "output_type": "execute_result"
    }
   ],
   "source": [
    "k2s = jax.random.split(k2, 100000)\n",
    "hlr = 10 ** ( vmap(jax.random.normal)(k2s) * 0.05 + -0.4)\n",
    "hlr.shape"
   ]
  },
  {
   "cell_type": "code",
   "execution_count": 86,
   "metadata": {},
   "outputs": [
    {
     "data": {
      "text/plain": [
       "(np.float64(1.6521496619118223), 2.0)"
      ]
     },
     "execution_count": 86,
     "metadata": {},
     "output_type": "execute_result"
    }
   ],
   "source": [
    "import galsim\n",
    "gal = galsim.Exponential(half_light_radius=2.0,flux=10000.0)\n",
    "gal.calculateFWHM(), gal.half_light_radius"
   ]
  },
  {
   "cell_type": "markdown",
   "metadata": {},
   "source": [
    "## Image size"
   ]
  },
  {
   "cell_type": "code",
   "execution_count": 87,
   "metadata": {},
   "outputs": [],
   "source": [
    "# image size\n",
    "import galsim \n",
    "def get_exponential_size(f, hlr, e1, e2, psf_fwhm):\n",
    "\n",
    "    gal = galsim.Exponential(flux=f, half_light_radius=hlr)\n",
    "    gal = gal.shear(g1=e1, g2=e2)  # intrinsic ellipticity\n",
    "\n",
    "    psf = galsim.Gaussian(flux=1.0, fwhm=psf_fwhm)\n",
    "    gal_conv = galsim.Convolve([gal, psf])\n",
    "    return gal_conv.getGoodImageSize(0.2)\n"
   ]
  },
  {
   "cell_type": "code",
   "execution_count": 88,
   "metadata": {},
   "outputs": [
    {
     "name": "stderr",
     "output_type": "stream",
     "text": [
      "100%|██████████| 100000/100000 [00:58<00:00, 1704.31it/s]\n"
     ]
    }
   ],
   "source": [
    "from tqdm import tqdm\n",
    "\n",
    "ss = [] \n",
    "for ii in tqdm(range(100000)):\n",
    "    ss.append(get_exponential_size(1e5, hlr[ii], es[ii, 0], es[ii, 1], psf_fwhm=0.8))\n",
    "\n",
    "ss = jnp.array(ss)"
   ]
  },
  {
   "cell_type": "code",
   "execution_count": 89,
   "metadata": {},
   "outputs": [
    {
     "data": {
      "image/png": "[encoded data removed]",
      "text/plain": [
       "<Figure size 640x480 with 1 Axes>"
      ]
     },
     "metadata": {},
     "output_type": "display_data"
    }
   ],
   "source": [
    "plt.hist(ss, bins=100);\n",
    "plt.yscale('log')"
   ]
  },
  {
   "cell_type": "code",
   "execution_count": 90,
   "metadata": {},
   "outputs": [
    {
     "data": {
      "text/plain": [
       "Array(54., dtype=float64)"
      ]
     },
     "execution_count": 90,
     "metadata": {},
     "output_type": "execute_result"
    }
   ],
   "source": [
    "jnp.quantile(ss, 0.999)"
   ]
  },
  {
   "cell_type": "code",
   "execution_count": 91,
   "metadata": {},
   "outputs": [
    {
     "data": {
      "text/plain": [
       "0.3981071705534972"
      ]
     },
     "execution_count": 91,
     "metadata": {},
     "output_type": "execute_result"
    }
   ],
   "source": [
    "10**-0.4"
   ]
  },
  {
   "cell_type": "markdown",
   "metadata": {},
   "source": [
    "## SNR"
   ]
  },
  {
   "cell_type": "code",
   "execution_count": 1,
   "metadata": {},
   "outputs": [
    {
     "ename": "NameError",
     "evalue": "name 'jax' is not defined",
     "output_type": "error",
     "traceback": [
      "\u001b[0;31m---------------------------------------------------------------------------\u001b[0m",
      "\u001b[0;31mNameError\u001b[0m                                 Traceback (most recent call last)",
      "Cell \u001b[0;32mIn[1], line 2\u001b[0m\n\u001b[1;32m      1\u001b[0m seed \u001b[38;5;241m=\u001b[39m \u001b[38;5;241m42\u001b[39m \n\u001b[0;32m----> 2\u001b[0m k \u001b[38;5;241m=\u001b[39m jax\u001b[38;5;241m.\u001b[39mrandom\u001b[38;5;241m.\u001b[39mkey(\u001b[38;5;241m42\u001b[39m)\n\u001b[1;32m      3\u001b[0m keys \u001b[38;5;241m=\u001b[39m jax\u001b[38;5;241m.\u001b[39mrandom\u001b[38;5;241m.\u001b[39msplit(k, \u001b[38;5;241m10000\u001b[39m)\n",
      "\u001b[0;31mNameError\u001b[0m: name 'jax' is not defined"
     ]
    }
   ],
   "source": [
    "seed = 42 \n",
    "k = jax.random.key(42)\n",
    "keys = jax.random.split(k, 10000)"
   ]
  },
  {
   "cell_type": "code",
   "execution_count": 103,
   "metadata": {},
   "outputs": [],
   "source": [
    "_sample_fnc = partial(sample_galaxy_params_simple, \n",
    "                      shape_noise=0.1, mean_logflux=2.5, sigma_logflux=0.4, mean_loghlr=-0.4, sigma_loghlr=0.05)\n",
    "galaxy_params = vmap(_sample_fnc)(keys)"
   ]
  },
  {
   "cell_type": "code",
   "execution_count": 104,
   "metadata": {},
   "outputs": [
    {
     "data": {
      "text/plain": [
       "dict_keys(['e1', 'e2', 'g1', 'g2', 'x', 'y', 'f', 'hlr'])"
      ]
     },
     "execution_count": 104,
     "metadata": {},
     "output_type": "execute_result"
    }
   ],
   "source": [
    "draw_params = {**galaxy_params}\n",
    "draw_params['f'] = 10**draw_params.pop(\"lf\")\n",
    "draw_params['hlr'] = 10**draw_params.pop(\"lhlr\")\n",
    "draw_params['x'] = jnp.zeros_like(draw_params['x'])\n",
    "draw_params['y'] = jnp.zeros_like(draw_params['y'])\n",
    "\n",
    "draw_params.keys()"
   ]
  },
  {
   "cell_type": "code",
   "execution_count": 105,
   "metadata": {},
   "outputs": [
    {
     "name": "stderr",
     "output_type": "stream",
     "text": [
      "100%|██████████| 10000/10000 [00:16<00:00, 592.08it/s]\n"
     ]
    }
   ],
   "source": [
    "from bpd.draw import draw_exponential_galsim\n",
    "from tqdm import tqdm\n",
    "\n",
    "\n",
    "_draw_galsim = partial(draw_exponential_galsim, slen=63)\n",
    "noiseless = [] \n",
    "\n",
    "\n",
    "\n",
    "for ii in tqdm(range(10000)):\n",
    "    _params = {k:v[ii] for k,v in draw_params.items()}\n",
    "    noiseless.append(_draw_galsim(**_params))\n",
    "\n",
    "\n",
    "noiseless = jnp.stack(noiseless, axis=0)"
   ]
  },
  {
   "cell_type": "code",
   "execution_count": 106,
   "metadata": {},
   "outputs": [
    {
     "data": {
      "text/plain": [
       "(10000, 63, 63)"
      ]
     },
     "execution_count": 106,
     "metadata": {},
     "output_type": "execute_result"
    }
   ],
   "source": [
    "noiseless.shape"
   ]
  },
  {
   "cell_type": "code",
   "execution_count": 107,
   "metadata": {},
   "outputs": [
    {
     "name": "stderr",
     "output_type": "stream",
     "text": [
      "100%|██████████| 10000/10000 [00:01<00:00, 6315.89it/s]\n"
     ]
    }
   ],
   "source": [
    "from bpd.utils import get_snr\n",
    "\n",
    "snrs = [] \n",
    "for ii in tqdm(range(10000)):\n",
    "    snrs.append(get_snr(noiseless[ii], 1.0))\n",
    "\n",
    "snrs = jnp.stack(snrs, axis=0)"
   ]
  },
  {
   "cell_type": "code",
   "execution_count": 108,
   "metadata": {},
   "outputs": [
    {
     "data": {
      "text/plain": [
       "<matplotlib.lines.Line2D at 0x7fcf2f1823c0>"
      ]
     },
     "execution_count": 108,
     "metadata": {},
     "output_type": "execute_result"
    },
    {
     "data": {
      "image/png": "[encoded data removed]",
      "text/plain": [
       "<Figure size 640x480 with 1 Axes>"
      ]
     },
     "metadata": {},
     "output_type": "display_data"
    }
   ],
   "source": [
    "plt.hist(snrs, bins=51, histtype='step', density=True)\n",
    "plt.axvline(snrs.mean(), linestyle='--', color='k')\n",
    "plt.axvline(10.0, linestyle='--', color='r')"
   ]
  },
  {
   "cell_type": "code",
   "execution_count": 109,
   "metadata": {},
   "outputs": [
    {
     "data": {
      "text/plain": [
       "(Array(14.965368, dtype=float32), Array(17.077452, dtype=float32))"
      ]
     },
     "execution_count": 109,
     "metadata": {},
     "output_type": "execute_result"
    }
   ],
   "source": [
    "jnp.median(snrs), snrs.mean()"
   ]
  },
  {
   "cell_type": "code",
   "execution_count": 110,
   "metadata": {},
   "outputs": [
    {
     "data": {
      "text/plain": [
       "<matplotlib.lines.Line2D at 0x7fcf2fe5bc20>"
      ]
     },
     "execution_count": 110,
     "metadata": {},
     "output_type": "execute_result"
    },
    {
     "data": {
      "image/png": "[encoded data removed]",
      "text/plain": [
       "<Figure size 640x480 with 1 Axes>"
      ]
     },
     "metadata": {},
     "output_type": "display_data"
    }
   ],
   "source": [
    "plt.scatter(galaxy_params['lf'],  snrs, marker='o', s=2., alpha=0.2)\n",
    "plt.axhline(10., color='r', linestyle='--')\n",
    "plt.axvline(2.3, color='r')\n",
    "\n",
    "plt.axhline(15., color='k', linestyle='--')\n",
    "plt.axvline(2.5, color='k', linestyle='-')"
   ]
  },
  {
   "cell_type": "code",
   "execution_count": null,
   "metadata": {},
   "outputs": [],
   "source": []
  }
 ],
 "metadata": {
  "kernelspec": {
   "display_name": "NERSC Python",
   "language": "python",
   "name": "python3"
  },
  "language_info": {
   "codemirror_mode": {
    "name": "ipython",
    "version": 3
   },
   "file_extension": ".py",
   "mimetype": "text/x-python",
   "name": "python",
   "nbconvert_exporter": "python",
   "pygments_lexer": "ipython3",
   "version": "3.11.7"
  }
 },
 "nbformat": 4,
 "nbformat_minor": 4
}
