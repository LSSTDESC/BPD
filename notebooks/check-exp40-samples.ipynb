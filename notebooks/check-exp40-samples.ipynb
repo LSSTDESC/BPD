{
 "cells": [
  {
   "cell_type": "code",
   "execution_count": 1,
   "metadata": {},
   "outputs": [],
   "source": [
    "import os\n",
    "\n",
    "os.environ[\"CUDA_VISIBLE_DEVICES\"] = \"\"\n",
    "os.environ[\"JAX_PLATFORMS\"] = \"cpu\"\n",
    "os.environ[\"JAX_ENABLE_X64\"] = \"True\"\n"
   ]
  },
  {
   "cell_type": "code",
   "execution_count": 2,
   "metadata": {},
   "outputs": [],
   "source": [
    "import matplotlib.pyplot as plt \n",
    "from bpd.io import load_dataset\n",
    "import jax.numpy as jnp"
   ]
  },
  {
   "cell_type": "markdown",
   "metadata": {},
   "source": [
    "## Interim samples"
   ]
  },
  {
   "cell_type": "code",
   "execution_count": 4,
   "metadata": {},
   "outputs": [],
   "source": [
    "ds = load_dataset(\"/pscratch/sd/i/imendoza/data/cache_chains/exp40_42/interim_samples_42_plus.npz\")"
   ]
  },
  {
   "cell_type": "code",
   "execution_count": 5,
   "metadata": {},
   "outputs": [
    {
     "data": {
      "image/png": "[encoded data removed]",
      "text/plain": [
       "<Figure size 640x480 with 1 Axes>"
      ]
     },
     "metadata": {},
     "output_type": "display_data"
    }
   ],
   "source": [
    "e_post = ds['e_post']\n",
    "for ii in range(1):\n",
    "    plt.scatter(e_post[ii, :150, 0], e_post[ii, :150, 1], marker='x')"
   ]
  },
  {
   "cell_type": "markdown",
   "metadata": {},
   "source": [
    "## Jackknife results"
   ]
  },
  {
   "cell_type": "code",
   "execution_count": 14,
   "metadata": {},
   "outputs": [
    {
     "data": {
      "text/plain": [
       "((10, 2), (3000, 2))"
      ]
     },
     "execution_count": 14,
     "metadata": {},
     "output_type": "execute_result"
    }
   ],
   "source": [
    "g_means_best = jnp.load(\"/pscratch/sd/i/imendoza/data/cache_chains/exp40_42/g_samples_jack_42_42.npy\")\n",
    "g_plus_samples = jnp.load(\"/pscratch/sd/i/imendoza/data/cache_chains/exp40_42/g_samples_42_42_plus.npy\")\n",
    "g_means_best.shape, g_plus_samples.shape"
   ]
  },
  {
   "cell_type": "code",
   "execution_count": 29,
   "metadata": {},
   "outputs": [],
   "source": [
    "g_minus_samples = jnp.load(\"/pscratch/sd/i/imendoza/data/cache_chains/exp40_42/g_samples_42_42_minus.npy\")"
   ]
  },
  {
   "cell_type": "code",
   "execution_count": 15,
   "metadata": {},
   "outputs": [
    {
     "data": {
      "text/plain": [
       "(Array([ 1.97574675e-02, -8.00175022e-06], dtype=float64),\n",
       " Array([ 1.96979209e-02, -4.42939238e-05], dtype=float64))"
      ]
     },
     "execution_count": 15,
     "metadata": {},
     "output_type": "execute_result"
    }
   ],
   "source": [
    "g_means_best.mean(axis=0), g_plus_samples.mean(axis=0)"
   ]
  },
  {
   "cell_type": "code",
   "execution_count": 17,
   "metadata": {},
   "outputs": [
    {
     "data": {
      "text/plain": [
       "Array([8.58946928e-05, 6.32937266e-05], dtype=float64)"
      ]
     },
     "execution_count": 17,
     "metadata": {},
     "output_type": "execute_result"
    }
   ],
   "source": [
    "# jackknife error \n",
    "jack_err = jnp.sqrt(g_means_best.var(axis=0) * (g_means_best.shape[0]-1))\n",
    "jack_err"
   ]
  },
  {
   "cell_type": "code",
   "execution_count": 19,
   "metadata": {},
   "outputs": [],
   "source": [
    "err_g = g_plus_samples.std(axis=0)"
   ]
  },
  {
   "cell_type": "code",
   "execution_count": 21,
   "metadata": {},
   "outputs": [
    {
     "data": {
      "text/plain": [
       "Array([14.77085222, 20.01591207], dtype=float64)"
      ]
     },
     "execution_count": 21,
     "metadata": {},
     "output_type": "execute_result"
    }
   ],
   "source": [
    "err_g / jack_err # > 10 times reduction in err"
   ]
  },
  {
   "cell_type": "code",
   "execution_count": 24,
   "metadata": {},
   "outputs": [
    {
     "data": {
      "text/plain": [
       "(Array(-0.01212662, dtype=float64), Array(0.00429473, dtype=float64))"
      ]
     },
     "execution_count": 24,
     "metadata": {},
     "output_type": "execute_result"
    }
   ],
   "source": [
    "# multiplicative bias \n",
    "g1_best = g_means_best[:, 0].mean()\n",
    "m_best = (g1_best - 0.02) / 0.02\n",
    "m_err = jack_err[0] / 0.02\n",
    "m_best, m_err"
   ]
  },
  {
   "cell_type": "code",
   "execution_count": 26,
   "metadata": {},
   "outputs": [
    {
     "name": "stdout",
     "output_type": "stream",
     "text": [
      "m bias and err in 10-3 units: -12.126624322919207, 4.294734638019036 \n"
     ]
    }
   ],
   "source": [
    "# in 1e-3 units\n",
    "print(f\"m bias and err in 10-3 units: {m_best / 1e-3}, {m_err / 1e-3} \")"
   ]
  },
  {
   "cell_type": "code",
   "execution_count": 25,
   "metadata": {},
   "outputs": [
    {
     "name": "stdout",
     "output_type": "stream",
     "text": [
      "Number of sigma off:  2.823602700750951\n"
     ]
    }
   ],
   "source": [
    "print(\"Number of sigma off: \", abs(m_best / m_err))"
   ]
  },
  {
   "cell_type": "code",
   "execution_count": 32,
   "metadata": {},
   "outputs": [
    {
     "data": {
      "text/plain": [
       "(Array(-0.01046653, dtype=float64), Array(0.09005558, dtype=float64))"
      ]
     },
     "execution_count": 32,
     "metadata": {},
     "output_type": "execute_result"
    }
   ],
   "source": [
    "g1_best = (g_plus_samples[:, 0].mean() - g_minus_samples[:, 0].mean()) / 2\n",
    "m_best = (g1_best - 0.02) / 0.02\n",
    "m_err = (g_plus_samples[:, 0].std() + g_minus_samples[:, 0].std()) / jnp.sqrt(2) / 0.02\n",
    "m_best, m_err"
   ]
  },
  {
   "cell_type": "code",
   "execution_count": 31,
   "metadata": {},
   "outputs": [
    {
     "data": {
      "text/plain": [
       "(Array(0.01969792, dtype=float64), Array(-0.01988342, dtype=float64))"
      ]
     },
     "execution_count": 31,
     "metadata": {},
     "output_type": "execute_result"
    }
   ],
   "source": [
    "g_plus_samples[:, 0].mean(), g_minus_samples[:, 0].mean()"
   ]
  },
  {
   "cell_type": "code",
   "execution_count": 34,
   "metadata": {},
   "outputs": [
    {
     "data": {
      "text/plain": [
       "Array(0.06343689, dtype=float64)"
      ]
     },
     "execution_count": 34,
     "metadata": {},
     "output_type": "execute_result"
    }
   ],
   "source": [
    "g_plus_samples[:, 0].std() / 0.02"
   ]
  },
  {
   "cell_type": "code",
   "execution_count": 35,
   "metadata": {},
   "outputs": [
    {
     "data": {
      "text/plain": [
       "Array(0.05929607, dtype=float64)"
      ]
     },
     "execution_count": 35,
     "metadata": {},
     "output_type": "execute_result"
    }
   ],
   "source": [
    "(g_plus_samples[:, 0] - g_minus_samples[:, 0]).std() / 0.02 "
   ]
  },
  {
   "cell_type": "code",
   "execution_count": 36,
   "metadata": {},
   "outputs": [
    {
     "data": {
      "text/plain": [
       "(Array(0.01970665, dtype=float64), Array(-0.01991047, dtype=float64))"
      ]
     },
     "execution_count": 36,
     "metadata": {},
     "output_type": "execute_result"
    }
   ],
   "source": [
    "jnp.median(g_plus_samples[:, 0]), jnp.median(g_minus_samples[:, 0])"
   ]
  },
  {
   "cell_type": "code",
   "execution_count": 37,
   "metadata": {},
   "outputs": [
    {
     "data": {
      "text/plain": [
       "(3000,)"
      ]
     },
     "execution_count": 37,
     "metadata": {},
     "output_type": "execute_result"
    }
   ],
   "source": [
    "g_plus_samples[:, 0].shape"
   ]
  },
  {
   "cell_type": "code",
   "execution_count": 39,
   "metadata": {},
   "outputs": [
    {
     "data": {
      "text/plain": [
       "0.08"
      ]
     },
     "execution_count": 39,
     "metadata": {},
     "output_type": "execute_result"
    }
   ],
   "source": [
    "16e-4 / 0.02"
   ]
  },
  {
   "cell_type": "code",
   "execution_count": 44,
   "metadata": {},
   "outputs": [
    {
     "data": {
      "text/plain": [
       "(3000, 2)"
      ]
     },
     "execution_count": 44,
     "metadata": {},
     "output_type": "execute_result"
    }
   ],
   "source": [
    "g_plus_samples.shape"
   ]
  },
  {
   "cell_type": "code",
   "execution_count": 45,
   "metadata": {},
   "outputs": [
    {
     "data": {
      "image/png": "[encoded data removed]",
      "text/plain": [
       "<Figure size 700x700 with 4 Axes>"
      ]
     },
     "metadata": {},
     "output_type": "display_data"
    }
   ],
   "source": [
    "from bpd.diagnostics import get_contour_plot\n",
    "d = {'m1': (g_plus_samples[:, 0] - g_minus_samples[:, 0]) / 2 / 0.02 - 1, 'm2': \n",
    "     (g_plus_samples[:, 1] + g_minus_samples[:, 1]) / 2 }\n",
    "get_contour_plot([d], ['m1', 'm2'], {'m1':0, 'm2':0});"
   ]
  },
  {
   "cell_type": "markdown",
   "metadata": {},
   "source": [
    "## New JK results 2"
   ]
  },
  {
   "cell_type": "code",
   "execution_count": 3,
   "metadata": {},
   "outputs": [],
   "source": [
    "from bpd.io import load_dataset"
   ]
  },
  {
   "cell_type": "code",
   "execution_count": 8,
   "metadata": {},
   "outputs": [
    {
     "data": {
      "text/plain": [
       "dict_keys(['g_plus', 'g_minus'])"
      ]
     },
     "execution_count": 8,
     "metadata": {},
     "output_type": "execute_result"
    }
   ],
   "source": [
    "ds= load_dataset(\"/pscratch/sd/i/imendoza/data/cache_chains/exp40_43/g_samples_jack_43_43.npz\")\n",
    "ds.keys()\n"
   ]
  },
  {
   "cell_type": "code",
   "execution_count": 11,
   "metadata": {},
   "outputs": [
    {
     "data": {
      "text/plain": [
       "((50, 1000, 2), (50, 1000, 2))"
      ]
     },
     "execution_count": 11,
     "metadata": {},
     "output_type": "execute_result"
    }
   ],
   "source": [
    "g_plus, g_minus = ds['g_plus'], ds['g_minus'], \n",
    "g_plus.shape, g_minus.shape"
   ]
  },
  {
   "cell_type": "code",
   "execution_count": 14,
   "metadata": {},
   "outputs": [
    {
     "data": {
      "text/plain": [
       "((50,), (50,))"
      ]
     },
     "execution_count": 14,
     "metadata": {},
     "output_type": "execute_result"
    }
   ],
   "source": [
    "m_mean_samples = (g_plus[..., 0].mean(axis=1) - g_minus[..., 0].mean(axis=1)) * 0.5 / 0.02 - 1\n",
    "c_mean_samples = (g_plus[..., 1].mean(axis=1) + g_minus[..., 1].mean(axis=1)) * 0.5\n",
    "\n",
    "m_mean_samples.shape, c_mean_samples.shape"
   ]
  },
  {
   "cell_type": "code",
   "execution_count": 19,
   "metadata": {},
   "outputs": [
    {
     "data": {
      "text/plain": [
       "(-0.01900281508027152, 0.004717151237248046, 4.028451521804002)"
      ]
     },
     "execution_count": 19,
     "metadata": {},
     "output_type": "execute_result"
    }
   ],
   "source": [
    "m_mean = m_mean_samples.mean().item()\n",
    "m_err = jnp.sqrt(m_mean_samples.var() * (50-1)).item()\n",
    "\n",
    "m_mean, m_err, jnp.abs(m_mean / m_err).item()"
   ]
  },
  {
   "cell_type": "code",
   "execution_count": 20,
   "metadata": {},
   "outputs": [
    {
     "data": {
      "text/plain": [
       "(-0.0014066811717202523, 0.001300286137393242, 1.0818243240986223)"
      ]
     },
     "execution_count": 20,
     "metadata": {},
     "output_type": "execute_result"
    }
   ],
   "source": [
    "c_mean = c_mean_samples.mean().item()\n",
    "c_err = jnp.sqrt(c_mean_samples.var() * (50-1)).item()\n",
    "\n",
    "c_mean, c_err, jnp.abs(c_mean / c_err).item()"
   ]
  },
  {
   "cell_type": "markdown",
   "metadata": {},
   "source": [
    "## Low noise"
   ]
  },
  {
   "cell_type": "code",
   "execution_count": 3,
   "metadata": {},
   "outputs": [
    {
     "data": {
      "text/plain": [
       "((3000, 2), (3000, 2))"
      ]
     },
     "execution_count": 3,
     "metadata": {},
     "output_type": "execute_result"
    }
   ],
   "source": [
    "g_samples_plus = jnp.load(\"/pscratch/sd/i/imendoza/data/cache_chains/exp41_42/g_samples_42_42_plus.npy\")\n",
    "g_samples_minus = jnp.load(\"/pscratch/sd/i/imendoza/data/cache_chains/exp41_42/g_samples_42_42_minus.npy\")\n",
    "g_samples_minus.shape, g_samples_plus.shape"
   ]
  },
  {
   "cell_type": "code",
   "execution_count": 4,
   "metadata": {},
   "outputs": [
    {
     "data": {
      "text/plain": [
       "(array([4.000e+00, 9.000e+00, 2.300e+01, 6.300e+01, 1.701e+03, 1.125e+03,\n",
       "        5.600e+01, 1.300e+01, 5.000e+00, 1.000e+00]),\n",
       " array([-4.14933677e-03, -3.31793311e-03, -2.48652946e-03, -1.65512581e-03,\n",
       "        -8.23722156e-04,  7.68149606e-06,  8.39085148e-04,  1.67048880e-03,\n",
       "         2.50189245e-03,  3.33329611e-03,  4.16469976e-03]),\n",
       " <BarContainer object of 10 artists>)"
      ]
     },
     "execution_count": 4,
     "metadata": {},
     "output_type": "execute_result"
    },
    {
     "data": {
      "image/png": "[encoded data removed]",
      "text/plain": [
       "<Figure size 640x480 with 1 Axes>"
      ]
     },
     "metadata": {},
     "output_type": "display_data"
    }
   ],
   "source": [
    "plt.hist((g_samples_plus[:, 0] - g_samples_minus[:, 0]) / 2 / 0.02 -1)"
   ]
  },
  {
   "cell_type": "code",
   "execution_count": 5,
   "metadata": {},
   "outputs": [
    {
     "data": {
      "text/plain": [
       "Array(-2.31088372e-05, dtype=float64)"
      ]
     },
     "execution_count": 5,
     "metadata": {},
     "output_type": "execute_result"
    }
   ],
   "source": [
    "(g_samples_plus[:, 0].mean() - g_samples_minus[:, 0].mean()) / 2 / 0.02 - 1"
   ]
  },
  {
   "cell_type": "code",
   "execution_count": 6,
   "metadata": {},
   "outputs": [
    {
     "data": {
      "text/plain": [
       "Array([-0.02001691, -0.02001398, -0.02001398, ..., -0.02004814,\n",
       "       -0.01999532, -0.01995792], dtype=float64)"
      ]
     },
     "execution_count": 6,
     "metadata": {},
     "output_type": "execute_result"
    }
   ],
   "source": [
    "g_samples_minus[:, 0]"
   ]
  },
  {
   "cell_type": "code",
   "execution_count": 7,
   "metadata": {},
   "outputs": [
    {
     "data": {
      "text/plain": [
       "dict_keys(['g_plus', 'g_minus'])"
      ]
     },
     "execution_count": 7,
     "metadata": {},
     "output_type": "execute_result"
    }
   ],
   "source": [
    "from bpd.io import load_dataset\n",
    "\n",
    "ds= load_dataset(\"/pscratch/sd/i/imendoza/data/cache_chains/exp41_42/g_samples_jack_42_42.npz\")\n",
    "ds.keys()\n"
   ]
  },
  {
   "cell_type": "code",
   "execution_count": 8,
   "metadata": {},
   "outputs": [
    {
     "data": {
      "text/plain": [
       "((50, 3000, 2), (50, 3000, 2))"
      ]
     },
     "execution_count": 8,
     "metadata": {},
     "output_type": "execute_result"
    }
   ],
   "source": [
    "g_plus, g_minus = ds['g_plus'], ds['g_minus'], \n",
    "g_plus.shape, g_minus.shape"
   ]
  },
  {
   "cell_type": "code",
   "execution_count": 9,
   "metadata": {},
   "outputs": [
    {
     "data": {
      "text/plain": [
       "array([-0.02000385, -0.02001381, -0.02000984, -0.02001415, -0.02001347,\n",
       "       -0.02001389, -0.02001224, -0.02000614, -0.01999798, -0.0200003 ,\n",
       "       -0.02001314, -0.02001369, -0.02002029, -0.02001344, -0.02000756,\n",
       "       -0.02001096, -0.0200148 , -0.02001496, -0.02001576, -0.02001315,\n",
       "       -0.02001549, -0.0200043 , -0.02000814, -0.02001567, -0.02001256,\n",
       "       -0.02001459, -0.02001511, -0.02001729, -0.02000704, -0.02000419,\n",
       "       -0.02000798, -0.02000391, -0.02001381, -0.02000913, -0.02001382,\n",
       "       -0.0200085 , -0.02001091, -0.02001754, -0.02001646, -0.02000457,\n",
       "       -0.02000862, -0.02000675, -0.02001176, -0.02000874, -0.02001353,\n",
       "       -0.02001035, -0.02000965, -0.02001154, -0.02001142, -0.02000664])"
      ]
     },
     "execution_count": 9,
     "metadata": {},
     "output_type": "execute_result"
    }
   ],
   "source": [
    "g_minus[..., 0].mean(axis=1)"
   ]
  },
  {
   "cell_type": "code",
   "execution_count": 10,
   "metadata": {},
   "outputs": [],
   "source": [
    "m_mean_samples = (g_plus[..., 0].mean(axis=1) - g_minus[..., 0].mean(axis=1)) / 2 / 0.02 - 1\n"
   ]
  },
  {
   "cell_type": "code",
   "execution_count": 11,
   "metadata": {},
   "outputs": [
    {
     "data": {
      "text/plain": [
       "array([-1.90332745e-05, -8.22393134e-06, -5.49629423e-06, -9.37569903e-06,\n",
       "       -1.10798702e-05, -1.07157036e-05,  2.26329544e-07, -1.03935514e-05,\n",
       "       -1.01965505e-05, -2.00114196e-05, -1.02840698e-05, -1.01836245e-05,\n",
       "       -5.30590069e-06, -4.77553981e-06, -1.05102536e-05, -3.31248828e-06,\n",
       "       -9.02241233e-06, -1.03582115e-05, -1.08991167e-05, -1.29873663e-05,\n",
       "       -1.39393221e-05, -1.00858733e-05, -1.26184699e-05, -1.36232164e-05,\n",
       "       -2.95637457e-05, -1.00303383e-05, -7.42368933e-06, -4.11147499e-06,\n",
       "       -9.67651334e-06, -7.24105832e-06,  1.86938308e-05, -1.08780740e-05,\n",
       "       -9.71791171e-06,  1.68435654e-06, -1.12098620e-05, -1.19706617e-05,\n",
       "       -1.00224276e-05, -6.82942803e-06, -1.05483044e-05, -5.67567165e-06,\n",
       "       -8.43262339e-06, -1.10805684e-05, -2.15883858e-05, -9.86246491e-06,\n",
       "       -1.03832897e-05, -1.34240542e-05, -9.92404630e-06, -8.52209557e-06,\n",
       "       -6.29548010e-06, -9.73052074e-06])"
      ]
     },
     "execution_count": 11,
     "metadata": {},
     "output_type": "execute_result"
    }
   ],
   "source": [
    "m_mean_samples"
   ]
  },
  {
   "cell_type": "code",
   "execution_count": 17,
   "metadata": {},
   "outputs": [
    {
     "data": {
      "text/plain": [
       "'python /global/u2/i/imendoza/BPD/experiments/exp40/get_interim_samples.py {{seed}} {tag} --mode {mode} --g1 {g1} --g2 {g2} --n-gals {n_gals} --n-samples-per-gal {n_samples_per_gal} --mean-logflux {mean_logflux} --sigma-logflux {sigma_logflux} --shape-noise {shape_noise} --sigma-e-int {sigma_e_int}'"
      ]
     },
     "execution_count": 17,
     "metadata": {},
     "output_type": "execute_result"
    }
   ],
   "source": [
    "template_cmd = '''python /global/u2/i/imendoza/BPD/experiments/exp40/get_interim_samples.py\n",
    "                {{seed}} {tag}\n",
    "                --mode {mode}\n",
    "                --g1 {g1} --g2 {g2}\n",
    "                --n-gals {n_gals}\n",
    "                --n-samples-per-gal {n_samples_per_gal}\n",
    "                --mean-logflux {mean_logflux}\n",
    "                --sigma-logflux {sigma_logflux}\n",
    "                --shape-noise {shape_noise} --sigma-e-int {sigma_e_int}'''.split()\n",
    "\" \".join(template_cmd)"
   ]
  },
  {
   "cell_type": "code",
   "execution_count": 13,
   "metadata": {},
   "outputs": [
    {
     "data": {
      "text/plain": [
       "\u001b[0;31mSignature:\u001b[0m \u001b[0mtemplate_cmd\u001b[0m\u001b[0;34m.\u001b[0m\u001b[0mstrip\u001b[0m\u001b[0;34m(\u001b[0m\u001b[0mchars\u001b[0m\u001b[0;34m=\u001b[0m\u001b[0;32mNone\u001b[0m\u001b[0;34m,\u001b[0m \u001b[0;34m/\u001b[0m\u001b[0;34m)\u001b[0m\u001b[0;34m\u001b[0m\u001b[0;34m\u001b[0m\u001b[0m\n",
       "\u001b[0;31mDocstring:\u001b[0m\n",
       "Return a copy of the string with leading and trailing whitespace removed.\n",
       "\n",
       "If chars is given and not None, remove characters in chars instead.\n",
       "\u001b[0;31mType:\u001b[0m      builtin_function_or_method"
      ]
     },
     "metadata": {},
     "output_type": "display_data"
    }
   ],
   "source": [
    "template_cmd.strip?"
   ]
  },
  {
   "cell_type": "markdown",
   "metadata": {},
   "source": [
    "# Check exp 43, seed 42"
   ]
  },
  {
   "cell_type": "code",
   "execution_count": 8,
   "metadata": {},
   "outputs": [
    {
     "data": {
      "text/plain": [
       "dict_keys(['g_plus', 'g_minus'])"
      ]
     },
     "execution_count": 8,
     "metadata": {},
     "output_type": "execute_result"
    }
   ],
   "source": [
    "from bpd.io import load_dataset\n",
    "\n",
    "g_jack = load_dataset(\"/pscratch/sd/i/imendoza/data/cache_chains/exp43_42/g_samples_jack_42_42.npz\")\n",
    "g_jack.keys()"
   ]
  },
  {
   "cell_type": "code",
   "execution_count": 11,
   "metadata": {},
   "outputs": [
    {
     "data": {
      "text/plain": [
       "array([[0.01988626, 0.02003488, 0.01986479, ..., 0.02007257, 0.01979331,\n",
       "        0.01992438],\n",
       "       [0.01995859, 0.01995859, 0.01997021, ..., 0.02007208, 0.02005628,\n",
       "        0.02006425],\n",
       "       [0.02009189, 0.02001315, 0.01993979, ..., 0.01992257, 0.0200692 ,\n",
       "        0.01999789],\n",
       "       ...,\n",
       "       [0.020036  , 0.01997049, 0.02025009, ..., 0.020053  , 0.01997016,\n",
       "        0.01997792],\n",
       "       [0.01993609, 0.01999821, 0.02002059, ..., 0.02016258, 0.02006164,\n",
       "        0.02002377],\n",
       "       [0.01983582, 0.01986363, 0.02002089, ..., 0.02006663, 0.01983871,\n",
       "        0.01993675]])"
      ]
     },
     "execution_count": 11,
     "metadata": {},
     "output_type": "execute_result"
    }
   ],
   "source": [
    "g_jack['g_minus'][:, :, 0]"
   ]
  },
  {
   "cell_type": "code",
   "execution_count": 14,
   "metadata": {},
   "outputs": [],
   "source": [
    "e_samples = load_dataset(\"/pscratch/sd/i/imendoza/data/cache_chains/exp41_43/interim_samples_430_plus.npz\")\n"
   ]
  },
  {
   "cell_type": "code",
   "execution_count": 15,
   "metadata": {},
   "outputs": [
    {
     "data": {
      "text/plain": [
       "(250, 300, 2)"
      ]
     },
     "execution_count": 15,
     "metadata": {},
     "output_type": "execute_result"
    }
   ],
   "source": [
    "e_samples['e_post'].shape"
   ]
  },
  {
   "cell_type": "markdown",
   "metadata": {},
   "source": [
    "# Check exp 42, seed 42 "
   ]
  },
  {
   "cell_type": "code",
   "execution_count": 16,
   "metadata": {},
   "outputs": [],
   "source": [
    "e_samples = load_dataset(\"/pscratch/sd/i/imendoza/data/cache_chains/exp42_42/interim_samples_42_minus.npz\")\n"
   ]
  },
  {
   "cell_type": "code",
   "execution_count": 18,
   "metadata": {},
   "outputs": [
    {
     "data": {
      "text/plain": [
       "(1000, 300, 2)"
      ]
     },
     "execution_count": 18,
     "metadata": {},
     "output_type": "execute_result"
    }
   ],
   "source": [
    "epm = e_samples['e_post']\n",
    "epm.shape"
   ]
  },
  {
   "cell_type": "code",
   "execution_count": 19,
   "metadata": {},
   "outputs": [
    {
     "data": {
      "text/plain": [
       "array([ 0.02026839,  0.01062752,  0.0207992 ,  0.00867463, -0.00241932,\n",
       "       -0.05167649, -0.01187401, -0.02002467, -0.00840656,  0.01358962,\n",
       "        0.00941122,  0.0126395 ,  0.00796278, -0.01575685, -0.00244464,\n",
       "        0.01156404,  0.02422278, -0.00781306, -0.01534526,  0.01320393,\n",
       "       -0.01940763,  0.01099101,  0.00271516, -0.01281383,  0.00263431,\n",
       "       -0.00644436, -0.01379281, -0.00697672, -0.00687232,  0.01072884,\n",
       "       -0.00154873,  0.00727836, -0.00251267, -0.00364285,  0.00772901,\n",
       "       -0.01363679, -0.00926352,  0.00119222, -0.03108969,  0.00675698,\n",
       "       -0.01572667,  0.03503162,  0.0216145 ,  0.00835866,  0.00808854,\n",
       "       -0.0486384 ,  0.05919603,  0.04905289,  0.03041528, -0.00815077,\n",
       "       -0.02484042,  0.0215544 , -0.02079258, -0.03916525,  0.00351892,\n",
       "       -0.08352434, -0.00646959,  0.0014005 ,  0.0014005 ,  0.00878785,\n",
       "        0.01012286,  0.00298158,  0.00740127, -0.03081465,  0.00374454,\n",
       "       -0.01048664, -0.00345093,  0.01900705, -0.02244537,  0.00595199,\n",
       "        0.0183759 ,  0.02962928, -0.04296871,  0.06724679,  0.05621392,\n",
       "       -0.00020239,  0.0222541 , -0.04285595, -0.05450591,  0.01945992,\n",
       "        0.01880916, -0.03496425, -0.03009681, -0.03009681,  0.02485887,\n",
       "       -0.02184902, -0.0079231 ,  0.02949109, -0.05248053,  0.05883998,\n",
       "       -0.02134726, -0.02294693,  0.01890771,  0.01890771, -0.03047223,\n",
       "       -0.00947199,  0.01293447,  0.04387658,  0.00392715,  0.03698171,\n",
       "       -0.00688966,  0.0072161 ,  0.00255319, -0.03799279,  0.00538219,\n",
       "        0.0028223 ,  0.01503288, -0.01067864, -0.02787843,  0.02620782,\n",
       "       -0.03160017,  0.03092733,  0.02800979, -0.02689439,  0.00198292,\n",
       "       -0.02410368, -0.02007195, -0.00084609, -0.02470537, -0.01483476,\n",
       "       -0.04677271,  0.01306337, -0.01370564,  0.01270103,  0.03208273,\n",
       "        0.02512704,  0.0147138 ,  0.0147138 ,  0.01967312, -0.01197557,\n",
       "        0.02522416, -0.01755652, -0.01205867, -0.0224196 ,  0.01121439,\n",
       "       -0.01128093, -0.00714367, -0.01863673, -0.01863673,  0.0035627 ,\n",
       "       -0.01708067, -0.01366427,  0.07020795,  0.05871492, -0.00459157,\n",
       "       -0.00459157, -0.01696929, -0.01198983,  0.0142855 , -0.01479576,\n",
       "       -0.00617372,  0.00980865, -0.01192163,  0.00420048, -0.02348717,\n",
       "       -0.0138118 , -0.02229435, -0.01999728, -0.01751145,  0.00573562,\n",
       "        0.00517474, -0.02054436,  0.00328534,  0.01163885,  0.00631119,\n",
       "       -0.01336621, -0.01336621, -0.01214443,  0.0270341 ,  0.03083841,\n",
       "       -0.04190896, -0.06023004,  0.01276822,  0.01731562, -0.01952172,\n",
       "       -0.02353897,  0.01699295, -0.00745477,  0.0181866 ,  0.02264553,\n",
       "       -0.0303984 , -0.00127538, -0.03996151, -0.02795822,  0.00959067,\n",
       "        0.00959067, -0.02230982, -0.02091934,  0.00744929,  0.01749375,\n",
       "       -0.00619073, -0.00702083,  0.0320999 , -0.01987039, -0.01703903,\n",
       "       -0.00504993, -0.02807123, -0.0019189 ,  0.02432911, -0.01557176,\n",
       "        0.03666067,  0.02537785, -0.00109212, -0.03984936, -0.06617564,\n",
       "       -0.03809741,  0.02900647, -0.00807646, -0.00609604, -0.00609604,\n",
       "        0.02562492, -0.00038728,  0.01344225,  0.00939125, -0.00674834,\n",
       "       -0.00532232, -0.00898747, -0.02266738, -0.01636656, -0.00180166,\n",
       "       -0.02607947, -0.0227917 ,  0.00449211,  0.01830531,  0.01170634,\n",
       "        0.01339618, -0.01652714,  0.02686673, -0.01772436, -0.01179314,\n",
       "       -0.05043019, -0.00732004, -0.01288762, -0.01817285, -0.04976479,\n",
       "       -0.02511998,  0.02247885, -0.00253221,  0.0152293 ,  0.00092624,\n",
       "       -0.01126163, -0.00814076,  0.00338027, -0.01047372, -0.01287933,\n",
       "       -0.01575551,  0.00159166, -0.03403829,  0.02719029,  0.01997322,\n",
       "        0.00841476,  0.01014457, -0.01610892, -0.0085854 ,  0.00087662,\n",
       "        0.00232012, -0.05454034,  0.04683887,  0.0035362 ,  0.00686041,\n",
       "        0.00152713, -0.02709117,  0.02703964,  0.02220297,  0.0367162 ,\n",
       "       -0.00297422, -0.00912924,  0.06050308, -0.02475276,  0.00168051,\n",
       "        0.00168051,  0.01450106, -0.02178035,  0.00929191,  0.00734024,\n",
       "        0.00812252,  0.00812252,  0.00088928,  0.00204594,  0.01636171,\n",
       "        0.02269735, -0.02169836,  0.01190627, -0.02904614, -0.03215912,\n",
       "        0.02617033,  0.0199913 ,  0.01701141, -0.02682943, -0.02273051,\n",
       "       -0.01543458,  0.00053525, -0.01597918,  0.01434689,  0.01216481,\n",
       "        0.01902959, -0.02848404,  0.031546  , -0.05584234, -0.00965346])"
      ]
     },
     "execution_count": 19,
     "metadata": {},
     "output_type": "execute_result"
    }
   ],
   "source": [
    "epm[0, :, 0]"
   ]
  },
  {
   "cell_type": "code",
   "execution_count": 20,
   "metadata": {},
   "outputs": [],
   "source": [
    "g_samples = jnp.load(\"/pscratch/sd/i/imendoza/data/cache_chains/exp42_42/g_samples_42_42_plus.npy\")\n"
   ]
  },
  {
   "cell_type": "code",
   "execution_count": 22,
   "metadata": {},
   "outputs": [
    {
     "data": {
      "text/plain": [
       "Array([0.02, 0.02, 0.02, ..., 0.02, 0.02, 0.02], dtype=float64)"
      ]
     },
     "execution_count": 22,
     "metadata": {},
     "output_type": "execute_result"
    }
   ],
   "source": [
    "\n",
    "g_samples[:,0]"
   ]
  },
  {
   "cell_type": "code",
   "execution_count": null,
   "metadata": {},
   "outputs": [],
   "source": []
  }
 ],
 "metadata": {
  "kernelspec": {
   "display_name": "bpd_gpu3",
   "language": "python",
   "name": "python3"
  },
  "language_info": {
   "codemirror_mode": {
    "name": "ipython",
    "version": 3
   },
   "file_extension": ".py",
   "mimetype": "text/x-python",
   "name": "python",
   "nbconvert_exporter": "python",
   "pygments_lexer": "ipython3",
   "version": "3.12.8"
  }
 },
 "nbformat": 4,
 "nbformat_minor": 4
}
