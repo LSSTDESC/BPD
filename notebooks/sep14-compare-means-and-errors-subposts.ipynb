{
 "cells": [
  {
   "cell_type": "code",
   "execution_count": 1,
   "id": "16ed855f-07ed-41ed-b536-85c8bee2d9d1",
   "metadata": {},
   "outputs": [],
   "source": [
    "import os\n",
    "\n",
    "os.environ[\"JAX_PLATFORMS\"] = \"cpu\"\n",
    "os.environ[\"JAX_ENABLE_X64\"] = \"True\"\n"
   ]
  },
  {
   "cell_type": "code",
   "execution_count": 2,
   "id": "cb2fa7c9-4748-493a-81a9-f8bf2e1a83fc",
   "metadata": {},
   "outputs": [],
   "source": [
    "from bpd.io import load_dataset, save_dataset\n",
    "import matplotlib.pyplot as plt \n",
    "import numpy as np \n",
    "from tqdm import tqdm\n",
    "\n"
   ]
  },
  {
   "cell_type": "code",
   "execution_count": 3,
   "id": "e16dca72-b699-449b-b798-1c4c37530727",
   "metadata": {},
   "outputs": [
    {
     "ename": "ImportError",
     "evalue": "cannot import name 'combine_subposts_gaussian' from 'bpd.utils' (/global/u2/i/imendoza/BPD/bpd/utils.py)",
     "output_type": "error",
     "traceback": [
      "\u001b[31m---------------------------------------------------------------------------\u001b[39m",
      "\u001b[31mImportError\u001b[39m                               Traceback (most recent call last)",
      "\u001b[36mCell\u001b[39m\u001b[36m \u001b[39m\u001b[32mIn[3]\u001b[39m\u001b[32m, line 1\u001b[39m\n\u001b[32m----> \u001b[39m\u001b[32m1\u001b[39m \u001b[38;5;28;01mfrom\u001b[39;00m\u001b[38;5;250m \u001b[39m\u001b[34;01mbpd\u001b[39;00m\u001b[34;01m.\u001b[39;00m\u001b[34;01mutils\u001b[39;00m\u001b[38;5;250m \u001b[39m\u001b[38;5;28;01mimport\u001b[39;00m combine_subposts_gaussian\n",
      "\u001b[31mImportError\u001b[39m: cannot import name 'combine_subposts_gaussian' from 'bpd.utils' (/global/u2/i/imendoza/BPD/bpd/utils.py)"
     ]
    }
   ],
   "source": [
    "from bpd.utils import combine_subposts_gaussian\n"
   ]
  },
  {
   "cell_type": "markdown",
   "id": "e379351c-85fc-4b0f-8a22-5a4e6bf2e70c",
   "metadata": {},
   "source": [
    "# Compare means and errors across groups"
   ]
  },
  {
   "cell_type": "code",
   "execution_count": 6,
   "id": "e1320187-90b9-4cce-b2b2-4a046c262b23",
   "metadata": {},
   "outputs": [],
   "source": [
    "fpath1= \"/pscratch/sd/i/imendoza/data/cache_chains/exp70_51/g_samples_512_plus.npz\"\n",
    "fpath2= \"/pscratch/sd/i/imendoza/data/cache_chains/exp71_51/shear_samples_512_plus.npz\"\n",
    "fpath3= \"/pscratch/sd/i/imendoza/data/cache_chains/exp72_51/g_samples_512_plus.npz\"\n",
    "fpath4= \"/pscratch/sd/i/imendoza/data/cache_chains/exp73_51/shear_samples_512_plus.npz\"\n",
    "\n",
    "fpaths = [fpath1, fpath2, fpath3, fpath4]"
   ]
  },
  {
   "cell_type": "code",
   "execution_count": 7,
   "id": "d3d1eeb7-9bf8-4f46-9e3a-1580b84cdb5f",
   "metadata": {},
   "outputs": [],
   "source": [
    "# fpath1= \"/pscratch/sd/i/imendoza/data/cache_chains/exp70_51/g_samples_512_minus.npz\"\n",
    "# fpath2= \"/pscratch/sd/i/imendoza/data/cache_chains/exp71_51/shear_samples_512_minus.npz\"\n",
    "# fpath3= \"/pscratch/sd/i/imendoza/data/cache_chains/exp72_51/g_samples_512_minus.npz\"\n",
    "# fpath4= \"/pscratch/sd/i/imendoza/data/cache_chains/exp73_51/shear_samples_512_minus.npz\"\n",
    "\n",
    "# fpaths = [fpath1, fpath2, fpath3, fpath4]"
   ]
  },
  {
   "cell_type": "code",
   "execution_count": 8,
   "id": "6ebf7e29-bb67-41b0-9a3e-53649a5026b2",
   "metadata": {},
   "outputs": [],
   "source": [
    "efpath1= \"/pscratch/sd/i/imendoza/data/cache_chains/exp70_51/g_samples_514_errs.npz\"\n",
    "efpath2= \"/pscratch/sd/i/imendoza/data/cache_chains/exp71_51/g_samples_514_errs.npz\"\n",
    "efpath3= \"/pscratch/sd/i/imendoza/data/cache_chains/exp72_51/g_samples_514_errs.npz\"\n",
    "efpath4= \"/pscratch/sd/i/imendoza/data/cache_chains/exp73_51/g_samples_514_errs.npz\"\n",
    "\n",
    "errs_fpaths = [efpath1, efpath2, efpath3, efpath4]"
   ]
  },
  {
   "cell_type": "code",
   "execution_count": 9,
   "id": "d5d1f7d5-d9ad-4bf2-b66c-9f6d789a8942",
   "metadata": {},
   "outputs": [],
   "source": [
    "# full posterior \n",
    "mu1 = []\n",
    "sigma1 = [] \n",
    "for fpath in fpaths:\n",
    "    ds = load_dataset(fpath)\n",
    "    g1 = ds['samples']['g1']\n",
    "    assert g1.ndim == 1\n",
    "    mu1.append(g1.mean())\n",
    "    sigma1.append(g1.std() / np.sqrt(g1.shape[0]))"
   ]
  },
  {
   "cell_type": "code",
   "execution_count": 10,
   "id": "8b0dbfbe-0907-491f-828b-a544a2345397",
   "metadata": {},
   "outputs": [],
   "source": [
    "# # plt.hist(g1)\n",
    "# plt.hist(g1s[10, :])\n",
    "# plt.hist(g1)"
   ]
  },
  {
   "cell_type": "code",
   "execution_count": 15,
   "id": "9ab482c9-1669-45f1-9e96-02c889b8d8b3",
   "metadata": {},
   "outputs": [
    {
     "name": "stdout",
     "output_type": "stream",
     "text": [
      "(500, 1000)\n",
      "(500, 1000)\n",
      "(500, 1000)\n",
      "(500, 1000)\n"
     ]
    }
   ],
   "source": [
    "# vanilla, no formal combination\n",
    "mu2 = []\n",
    "sigma2 = [] \n",
    "for fp in errs_fpaths:\n",
    "    ds = load_dataset(fp)\n",
    "    g1s = ds['plus']['g1']\n",
    "    print(g1s.shape)\n",
    "    mu2.append(g1s.mean())\n",
    "    sigma2.append(g1s.mean(1).std() / np.sqrt(len(g1s)))"
   ]
  },
  {
   "cell_type": "code",
   "execution_count": 17,
   "id": "99309367-24ba-40b6-9945-cf0e24b86d88",
   "metadata": {},
   "outputs": [],
   "source": [
    "# # combine subposteriors correctly\n",
    "# from bpd.utils import combine_subposts_gaussian\n",
    "# mu3 = [] \n",
    "# for fp in errs_fpaths:\n",
    "#     ds = load_dataset(fp)\n",
    "#     g1 = ds['plus']['g1']\n",
    "#     g2 = ds['plus']['g2']\n",
    "#     g = np.stack([g1, g2], axis=-1)\n",
    "#     assert g.shape == (500, 1000, 2)\n",
    "#     mu, cov = combine_subposts_gaussian(g)\n",
    "#     mu3.append(mu[0].item())"
   ]
  },
  {
   "cell_type": "code",
   "execution_count": 18,
   "id": "bd63ec79-3a38-445d-8909-51200d30fb5f",
   "metadata": {},
   "outputs": [],
   "source": [
    "# # remember wrong for case 4 \n",
    "# mu3 = []\n",
    "# for fp in errs_fpaths:\n",
    "#     ds = load_dataset(fp)\n",
    "#     g1 = ds['plus']['g1']\n",
    "#     Sigma = np.sum((g1.var(axis=1))**-1)**-1\n",
    "#     fmu = Sigma * np.sum(g1.var(axis=1)**-1 * g1.mean(axis=1))\n",
    "#     mu3.append(fmu)"
   ]
  },
  {
   "cell_type": "code",
   "execution_count": 19,
   "id": "e2807314-be7c-4a29-945c-fff3f8a07e52",
   "metadata": {},
   "outputs": [],
   "source": [
    "# # # remember wrong for case 4 \n",
    "# mu4 = []\n",
    "# for fp in errs_fpaths:\n",
    "#     ds = load_dataset(fp)\n",
    "#     g1 = ds['plus']['g1'] \n",
    "#     g2 = ds['plus']['g2']\n",
    "#     gs = np.stack([g1,g2], axis=-1)\n",
    "#     mu = gps.mean(1)\n",
    "#     covs = [] \n",
    "#     for ii in range(len(gs)):\n",
    "#         covs.append(np.cov(gs[ii].T))\n",
    "#     covs = np.stack(covs)\n",
    "    \n",
    "#     fcov = 0. \n",
    "#     for ii in range(len(covs)):\n",
    "#         fcov += np.linalg.inv(covs[ii])\n",
    "#     fcov = np.linalg.inv(fcov)\n",
    "    \n",
    "#     fmu = 0.\n",
    "#     for ii in range(len(covs)):\n",
    "#         fmu += np.linalg.inv(covs[ii]).dot(mu[ii].T)\n",
    "    \n",
    "#     fmu = fcov.dot(fmu)\n",
    "#     mu4.append(fmu[0])"
   ]
  },
  {
   "cell_type": "code",
   "execution_count": 23,
   "id": "3588828a-6924-4a0e-8fc7-7346122b0068",
   "metadata": {},
   "outputs": [
    {
     "data": {
      "image/png": "[encoded data removed]",
      "text/plain": [
       "<Figure size 700x700 with 1 Axes>"
      ]
     },
     "metadata": {},
     "output_type": "display_data"
    }
   ],
   "source": [
    "\n",
    "fig, ax = plt.subplots(1,1, figsize=(7,7))\n",
    "ys = np.array([0.75, 0.5, 0.25, 0.0])\n",
    "\n",
    "# multiplicative bias\n",
    "ax.errorbar(x=mu1, y=ys, xerr=[s*3 for s in sigma1], color=\"k\", fmt=\"o\", capsize=10.0, label='full')\n",
    "ax.errorbar(x=mu2,xerr=[s*3 for s in sigma2],  y=ys+0.05, color=\"r\", fmt=\"o\", capsize=10.0, label='subset')\n",
    "# ax.errorbar(x=mu3, y=ys+0.1, color=\"b\", fmt=\"o\", capsize=10.0, label='gaussian')\n",
    "# ax.errorbar(x=mu4, y=ys-0.05, color=\"m\", fmt=\"o\", capsize=10.0)\n",
    "\n",
    "\n",
    "ax.set_yticks([0.75, 0.5, 0.25, 0.0])\n",
    "ax.set_yticklabels([\"shapes-fixed\", \"shapes-all\", \"all-fixed\", \"all-free\"])\n",
    "plt.title(\"g1 (plus)\")\n",
    "# ax.set_ylim(-0.1, 0.85)\n",
    "\n",
    "\n",
    "\n",
    "# ax.set_xlim(-3, 3)\n",
    "plt.legend()\n",
    "plt.tight_layout()"
   ]
  },
  {
   "cell_type": "code",
   "execution_count": 27,
   "id": "5a85a990-ad08-4bbd-8227-3ee247670ce1",
   "metadata": {},
   "outputs": [
    {
     "data": {
      "text/plain": [
       "array([-1.33653013e-03, -7.02745840e-05, -2.39080990e-03,  9.37582693e-04])"
      ]
     },
     "execution_count": 27,
     "metadata": {},
     "output_type": "execute_result"
    }
   ],
   "source": [
    "(np.array(mu1) - np.array(mu3)) / 0.02"
   ]
  },
  {
   "cell_type": "markdown",
   "id": "d554e845-efc1-492f-ae73-7b3f9d80c2a3",
   "metadata": {
    "jp-MarkdownHeadingCollapsed": true
   },
   "source": [
    "## Error estimation"
   ]
  },
  {
   "cell_type": "code",
   "execution_count": 47,
   "id": "3d078023-2148-47ee-b68f-cbd8366cfaba",
   "metadata": {},
   "outputs": [
    {
     "name": "stderr",
     "output_type": "stream",
     "text": [
      "100%|██████████| 1000/1000 [01:18<00:00, 12.81it/s]\n",
      "100%|██████████| 1000/1000 [01:20<00:00, 12.43it/s]\n",
      "100%|██████████| 1000/1000 [01:22<00:00, 12.18it/s]\n",
      "100%|██████████| 1000/1000 [01:18<00:00, 12.76it/s]\n"
     ]
    }
   ],
   "source": [
    "from bpd.utils import combine_subposts_gaussian\n",
    "from tqdm import tqdm\n",
    "errs1 = []\n",
    "n_boots = 1000\n",
    "for fp in errs_fpaths:\n",
    "    ds = load_dataset(fp)\n",
    "    g1p = ds['plus']['g1']\n",
    "    g2p = ds['plus']['g2']\n",
    "    g1m = ds['minus']['g1']\n",
    "    g2m = ds['minus']['g2']\n",
    "    gp = np.stack([g1p, g2p], axis=-1)\n",
    "    gm = np.stack([g1m, g2m], axis=-1)\n",
    "    assert gp.shape == (500, 1000, 2)\n",
    "    ms = [] \n",
    "    for ii in tqdm(range(n_boots)):\n",
    "        boot = np.random.randint(0, 500, (500,))\n",
    "        _gp = gp[boot]\n",
    "        _gm = gm[boot]\n",
    "        mu_p, _ = combine_subposts_gaussian(_gp)\n",
    "        mu_m, _ = combine_subposts_gaussian(_gm)\n",
    "        gp1_mean = mu_p[0].item()\n",
    "        gm1_mean = mu_m[0].item()\n",
    "        m = (gp1_mean - gm1_mean) / 2/ 0.02 - 1\n",
    "        ms.append(m)\n",
    "    errs1.append(np.array(ms).std())"
   ]
  },
  {
   "cell_type": "code",
   "execution_count": 48,
   "id": "c72de1fc-6f44-42e2-8dca-ab6c10f62896",
   "metadata": {},
   "outputs": [
    {
     "data": {
      "text/plain": [
       "array([1.46810642, 1.84595328, 1.31886041, 2.62889204])"
      ]
     },
     "execution_count": 48,
     "metadata": {},
     "output_type": "execute_result"
    }
   ],
   "source": [
    "np.array(errs1) * 3 / 1e-3 "
   ]
  },
  {
   "cell_type": "code",
   "execution_count": 49,
   "id": "14fe3dd0-17f8-45b1-a9f0-5f5fd5251312",
   "metadata": {},
   "outputs": [],
   "source": [
    "from bpd.utils import combine_subposts_gaussian\n",
    "from tqdm import tqdm\n",
    "errs2 = []\n",
    "for fp in errs_fpaths:\n",
    "    ds = load_dataset(fp)\n",
    "    g1p = ds['plus']['g1']\n",
    "    g2p = ds['plus']['g2']\n",
    "    g1m = ds['minus']['g1']\n",
    "    g2m = ds['minus']['g2']\n",
    "    gp = np.stack([g1p, g2p], axis=-1)\n",
    "    gm = np.stack([g1m, g2m], axis=-1)\n",
    "    assert gp.shape == (500, 1000, 2)\n",
    "    ms = (gp[:, :, 0].mean(1) - gm[:, :, 0].mean(1)) / 0.02 / 2 - 1\n",
    "    errs2.append(ms.std() / np.sqrt(500))"
   ]
  },
  {
   "cell_type": "code",
   "execution_count": 50,
   "id": "aa0afbfe-659a-494c-81fc-5744fd9cb52c",
   "metadata": {},
   "outputs": [
    {
     "data": {
      "text/plain": [
       "array([0.75781401, 0.94637404, 0.77809427, 1.33108432])"
      ]
     },
     "execution_count": 50,
     "metadata": {},
     "output_type": "execute_result"
    }
   ],
   "source": [
    "np.array(errs2)  * 3 / 1e-3"
   ]
  },
  {
   "cell_type": "markdown",
   "id": "6705b0d3-3828-43e1-a32b-4b472525b4fd",
   "metadata": {
    "jp-MarkdownHeadingCollapsed": true
   },
   "source": [
    "# 10k example"
   ]
  },
  {
   "cell_type": "code",
   "execution_count": 5,
   "id": "1c5c0337-e349-4a14-8c14-7770d358daa2",
   "metadata": {},
   "outputs": [],
   "source": [
    "fpath1= \"/pscratch/sd/i/imendoza/data/cache_chains/exp70_51/g_samples_boots_111.npz\"\n",
    "fpath2= \"/pscratch/sd/i/imendoza/data/cache_chains/exp70_51/g_samples_111_errs.npz\"\n"
   ]
  },
  {
   "cell_type": "code",
   "execution_count": 6,
   "id": "20b70802-6fb5-41b6-946a-bf1716a8a174",
   "metadata": {},
   "outputs": [],
   "source": []
  },
  {
   "cell_type": "code",
   "execution_count": 10,
   "id": "436a888c-5f9e-49cb-a0ad-02f1072692b4",
   "metadata": {},
   "outputs": [
    {
     "data": {
      "text/plain": [
       "np.float64(4.55019546670417)"
      ]
     },
     "execution_count": 10,
     "metadata": {},
     "output_type": "execute_result"
    }
   ],
   "source": [
    "# boot\n",
    "ds1 = load_dataset(fpath1)\n",
    "gpb = ds1['gp']\n",
    "gpm = ds1['gm']\n",
    "\n",
    "mb = (gpb[:, :, 0].mean(1) - gpm[:, :, 0].mean(1)) / 2/ 0.02 - 1\n",
    "mb.std() * 3 / 1e-3"
   ]
  },
  {
   "cell_type": "code",
   "execution_count": 13,
   "id": "247f558d-e36f-4029-a0e7-fc0b0831712e",
   "metadata": {},
   "outputs": [
    {
     "data": {
      "text/plain": [
       "np.float64(4.515078143071639)"
      ]
     },
     "execution_count": 13,
     "metadata": {},
     "output_type": "execute_result"
    }
   ],
   "source": [
    "# subsets\n",
    "ds2 = load_dataset(fpath2)\n",
    "gps = ds2['g_plus']\n",
    "gms = ds2['g_minus']\n",
    "ms = (gps[:, :, 0].mean(1) - gms[:, :, 0].mean(1)) / 2/ 0.02 - 1\n",
    "ms.std() / np.sqrt(500) * 3 / 1e-3"
   ]
  },
  {
   "cell_type": "code",
   "execution_count": 18,
   "id": "d96ea41f-f622-40e1-839e-236fc4a6cf17",
   "metadata": {},
   "outputs": [
    {
     "name": "stderr",
     "output_type": "stream",
     "text": [
      "100%|██████████| 1000/1000 [01:17<00:00, 12.87it/s]\n"
     ]
    },
    {
     "data": {
      "text/plain": [
       "np.float64(9.258945920442223)"
      ]
     },
     "execution_count": 18,
     "metadata": {},
     "output_type": "execute_result"
    }
   ],
   "source": [
    "# subposterior combination\n",
    "ds2 = load_dataset(fpath2)\n",
    "gps = ds2['g_plus']\n",
    "gms = ds2['g_minus']\n",
    "n_boots = 1000\n",
    "assert gps.shape == (500, 1000, 2)\n",
    "ms = []\n",
    "for ii in tqdm(range(n_boots)):\n",
    "    boot = np.random.randint(0, 500, (500,))\n",
    "    _gp = gps[boot]\n",
    "    _gm = gms[boot]\n",
    "    mu_p, _ = combine_subposts_gaussian(_gp)\n",
    "    mu_m, _ = combine_subposts_gaussian(_gm)\n",
    "    gp1_mean = mu_p[0].item()\n",
    "    gm1_mean = mu_m[0].item()\n",
    "    m = (gp1_mean - gm1_mean) / 2/ 0.02 - 1\n",
    "    ms.append(m)\n",
    "np.array(ms).std()  * 3 / 1e-3"
   ]
  },
  {
   "cell_type": "markdown",
   "id": "422f5ea0-3948-4c65-82b8-7d0fcf557c61",
   "metadata": {},
   "source": [
    "# Multiplicative bias "
   ]
  },
  {
   "cell_type": "code",
   "execution_count": 5,
   "id": "5030876f-f788-4dc5-81ef-9fbc79f13763",
   "metadata": {},
   "outputs": [],
   "source": [
    "fpath1p= \"/pscratch/sd/i/imendoza/data/cache_chains/exp70_51/g_samples_512_plus.npz\"\n",
    "fpath1m= \"/pscratch/sd/i/imendoza/data/cache_chains/exp70_51/g_samples_512_minus.npz\"\n",
    "fpath2p= \"/pscratch/sd/i/imendoza/data/cache_chains/exp71_51/shear_samples_512_plus.npz\"\n",
    "fpath2m= \"/pscratch/sd/i/imendoza/data/cache_chains/exp71_51/shear_samples_512_minus.npz\"\n",
    "fpath3p= \"/pscratch/sd/i/imendoza/data/cache_chains/exp72_51/g_samples_512_plus.npz\"\n",
    "fpath3m= \"/pscratch/sd/i/imendoza/data/cache_chains/exp72_51/g_samples_512_minus.npz\"\n",
    "fpath4p= \"/pscratch/sd/i/imendoza/data/cache_chains/exp73_51/shear_samples_512_plus.npz\"\n",
    "fpath4m= \"/pscratch/sd/i/imendoza/data/cache_chains/exp73_51/shear_samples_512_minus.npz\"\n",
    "\n",
    "fpaths = [(fpath1p, fpath1m), (fpath2p, fpath2m), (fpath3p, fpath3m), (fpath4p, fpath4m)]"
   ]
  },
  {
   "cell_type": "code",
   "execution_count": 6,
   "id": "42d46ba6-4865-4025-acd6-31f3116fa7e7",
   "metadata": {},
   "outputs": [],
   "source": [
    "efpath1= \"/pscratch/sd/i/imendoza/data/cache_chains/exp70_51/g_samples_514_errs.npz\"\n",
    "efpath2= \"/pscratch/sd/i/imendoza/data/cache_chains/exp71_51/g_samples_514_errs.npz\"\n",
    "efpath3= \"/pscratch/sd/i/imendoza/data/cache_chains/exp72_51/g_samples_514_errs.npz\"\n",
    "efpath4= \"/pscratch/sd/i/imendoza/data/cache_chains/exp73_51/g_samples_514_errs.npz\"\n",
    "\n",
    "errs_fpaths = [efpath1, efpath2, efpath3, efpath4]"
   ]
  },
  {
   "cell_type": "code",
   "execution_count": 10,
   "id": "9d5042de-7126-468a-85e4-03427ed23656",
   "metadata": {},
   "outputs": [],
   "source": [
    "# full posterior \n",
    "m_full = []\n",
    "for (fpp, fpm) in fpaths:\n",
    "    dsp = load_dataset(fpp)\n",
    "    dsm = load_dataset(fpm)\n",
    "    g1p = dsp['samples']['g1']\n",
    "    g1m = dsm['samples']['g1']\n",
    "    assert g1p.ndim == 1\n",
    "    m = (g1p.mean() - g1m.mean()) / 2/ 0.02 - 1\n",
    "    m_full.append(m)\n",
    "m_full = np.array(m_full)"
   ]
  },
  {
   "cell_type": "code",
   "execution_count": 11,
   "id": "5d752074-b302-4cac-871d-0dc9290f0065",
   "metadata": {},
   "outputs": [],
   "source": [
    "# full posterior \n",
    "m_sub = []\n",
    "sigma_m = [] \n",
    "for fp in errs_fpaths:\n",
    "    ds = load_dataset(fp)\n",
    "    g1p = ds['plus']['g1']\n",
    "    g1m = ds['minus']['g1']\n",
    "    assert g1p.ndim == 2\n",
    "    ms = (g1p.mean(1) - g1m.mean(1)) / 2/ 0.02 - 1\n",
    "    m_mean = ms.mean()\n",
    "    sig = ms.std() / np.sqrt(len(ms))\n",
    "    m_sub.append(m)\n",
    "    sigma_m.append(sig)\n",
    "m_sub = np.array(m_sub)\n",
    "sigma_m = np.array(sigma_m)"
   ]
  },
  {
   "cell_type": "code",
   "execution_count": 15,
   "id": "10bfcd3f-6328-46bb-aed1-12d689b7460d",
   "metadata": {},
   "outputs": [
    {
     "data": {
      "image/png": "[encoded data removed]",
      "text/plain": [
       "<Figure size 700x700 with 1 Axes>"
      ]
     },
     "metadata": {},
     "output_type": "display_data"
    }
   ],
   "source": [
    "\n",
    "fig, ax = plt.subplots(1,1, figsize=(7,7))\n",
    "ys = np.array([0.75, 0.5, 0.25, 0.0])\n",
    "\n",
    "# multiplicative bias\n",
    "ax.errorbar(x=m_full, y=ys, color=\"k\", fmt=\"o\", capsize=10.0, label='full')\n",
    "ax.errorbar(x=m_sub, xerr=[s*3 for s in sigma_m],  y=ys+0.05, color=\"r\", fmt=\"o\", capsize=10.0, label='subset mean ')\n",
    "# ax.errorbar(x=mu3, y=ys+0.1, color=\"b\", fmt=\"o\", capsize=10.0, label='gaussian')\n",
    "# ax.errorbar(x=mu4, y=ys-0.05, color=\"m\", fmt=\"o\", capsize=10.0)\n",
    "\n",
    "\n",
    "ax.set_yticks([0.75, 0.5, 0.25, 0.0])\n",
    "ax.set_yticklabels([\"shapes-fixed\", \"shapes-all\", \"all-fixed\", \"all-free\"])\n",
    "plt.title(\"multiplicative bias\")\n",
    "# ax.set_ylim(-0.1, 0.85)\n",
    "\n",
    "\n",
    "\n",
    "# ax.set_xlim(-3, 3)\n",
    "plt.legend()\n",
    "plt.tight_layout()"
   ]
  },
  {
   "cell_type": "code",
   "execution_count": null,
   "id": "4627c392-eaad-447d-943e-fa070da391a9",
   "metadata": {},
   "outputs": [],
   "source": []
  }
 ],
 "metadata": {
  "kernelspec": {
   "display_name": "bpd_gpu4",
   "language": "python",
   "name": "bpd_gpu4"
  },
  "language_info": {
   "codemirror_mode": {
    "name": "ipython",
    "version": 3
   },
   "file_extension": ".py",
   "mimetype": "text/x-python",
   "name": "python",
   "nbconvert_exporter": "python",
   "pygments_lexer": "ipython3",
   "version": "3.12.11"
  }
 },
 "nbformat": 4,
 "nbformat_minor": 5
}
