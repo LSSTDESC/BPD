{
 "cells": [
  {
   "cell_type": "code",
   "execution_count": 4,
   "id": "cca60799-f4c2-4395-ab9d-5461a2419123",
   "metadata": {
    "tags": []
   },
   "outputs": [],
   "source": [
    "from bpd.prior import sample_noisy_ellipticities_unclipped\n",
    "from jax import random\n",
    "import jax.numpy as jnp"
   ]
  },
  {
   "cell_type": "code",
   "execution_count": 5,
   "id": "38140b10-b976-46e8-9d1e-da98b867acdf",
   "metadata": {
    "tags": []
   },
   "outputs": [],
   "source": [
    "rng_key = random.key(42)\n",
    "_, e, _ = sample_noisy_ellipticities_unclipped(rng_key, g=jnp.array([0.02, 0.0]), sigma_m=1e-4, sigma_e=1e-3, n=10000)"
   ]
  },
  {
   "cell_type": "code",
   "execution_count": 8,
   "id": "3fcea711-9436-4509-a6cb-52e61ae6a020",
   "metadata": {
    "tags": []
   },
   "outputs": [
    {
     "data": {
      "text/plain": [
       "Array(3.13401326e-05, dtype=float64)"
      ]
     },
     "execution_count": 8,
     "metadata": {},
     "output_type": "execute_result"
    }
   ],
   "source": [
    "e[:, 0].std() / jnp.sqrt(1000)"
   ]
  },
  {
   "cell_type": "code",
   "execution_count": null,
   "id": "f0b78fb1-9fe8-4723-b31f-bf0cb5bc95e3",
   "metadata": {},
   "outputs": [],
   "source": []
  }
 ],
 "metadata": {
  "kernelspec": {
   "display_name": "bpd_gpu3",
   "language": "python",
   "name": "bpd_gpu3"
  },
  "language_info": {
   "codemirror_mode": {
    "name": "ipython",
    "version": 3
   },
   "file_extension": ".py",
   "mimetype": "text/x-python",
   "name": "python",
   "nbconvert_exporter": "python",
   "pygments_lexer": "ipython3",
   "version": "3.12.8"
  }
 },
 "nbformat": 4,
 "nbformat_minor": 5
}
