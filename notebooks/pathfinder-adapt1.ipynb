{
 "cells": [
  {
   "cell_type": "code",
   "execution_count": 1,
   "id": "f02d02be-a3d2-4323-834a-afb55c0da06e",
   "metadata": {},
   "outputs": [],
   "source": [
    "#!/usr/bin/env python3\n",
    "import os\n",
    "from functools import partial\n",
    "\n",
    "os.environ[\"JAX_ENABLE_X64\"] = \"True\"\n",
    "os.environ[\"CUDA_VISIBLE_DEVICES\"] = \"0\"\n",
    "\n",
    "import jax.numpy as jnp\n",
    "import typer\n",
    "from jax import jit, random, vmap\n",
    "from jax._src.prng import PRNGKeyArray\n",
    "\n",
    "from bpd import DATA_DIR\n",
    "from bpd.draw import draw_gaussian\n",
    "from bpd.initialization import init_with_truth\n",
    "from bpd.io import save_dataset\n",
    "from bpd.likelihood import gaussian_image_loglikelihood\n",
    "from bpd.pipelines import pipeline_interim_samples_one_galaxy\n",
    "from bpd.prior import interim_gprops_logprior\n",
    "from bpd.sample import (\n",
    "    get_target_images,\n",
    "    get_true_params_from_galaxy_params,\n",
    "    sample_target_galaxy_params_simple,\n",
    ")"
   ]
  },
  {
   "cell_type": "code",
   "execution_count": 2,
   "id": "f5a94074-187b-4fce-8043-e6674e059898",
   "metadata": {},
   "outputs": [],
   "source": [
    "import blackjax\n",
    "from blackjax.adaptation import pathfinder_adaptation"
   ]
  },
  {
   "cell_type": "code",
   "execution_count": 3,
   "id": "9dbf407d-9410-43a4-be1b-0f9d8f703c72",
   "metadata": {},
   "outputs": [],
   "source": [
    "\n",
    "def sample_prior(\n",
    "    rng_key: PRNGKeyArray,\n",
    "    *,\n",
    "    mean_logflux: float,\n",
    "    sigma_logflux: float,\n",
    "    shape_noise: float,\n",
    "    g1: float = 0.02,\n",
    "    g2: float = 0.0,\n",
    ") -> dict[str, float]:\n",
    "    k1, k2 = random.split(rng_key)\n",
    "\n",
    "    lf = random.normal(k1) * sigma_logflux + mean_logflux\n",
    "    other_params = sample_target_galaxy_params_simple(\n",
    "        k2, shape_noise=shape_noise, g1=g1, g2=g2\n",
    "    )\n",
    "\n",
    "    return {\"lf\": lf, \"hlr\": 0.8, **other_params}"
   ]
  },
  {
   "cell_type": "code",
   "execution_count": 4,
   "id": "5a15460d-33a3-466f-a576-e6db61654fa3",
   "metadata": {},
   "outputs": [],
   "source": [
    "g1 = 0.02 \n",
    "g2 = 0.0\n",
    "shape_noise = 1e-3\n",
    "mean_logflux = 6.0\n",
    "sigma_logflux = 0.1\n",
    "sigma_e_int=0.04\n",
    "background = 1.0 \n",
    "slen = 63\n",
    "fft_size=256"
   ]
  },
  {
   "cell_type": "markdown",
   "id": "c092d556-e0b2-405f-8720-14f28ad8f5c1",
   "metadata": {},
   "source": [
    "## Vmap"
   ]
  },
  {
   "cell_type": "code",
   "execution_count": 5,
   "id": "e1157348-0bed-49d8-8241-6023a4caca3d",
   "metadata": {},
   "outputs": [],
   "source": [
    "n_gals = 2"
   ]
  },
  {
   "cell_type": "code",
   "execution_count": 6,
   "id": "adcda02b-b04c-4426-8ac9-3c8af2fbb403",
   "metadata": {},
   "outputs": [],
   "source": [
    "rng_key = random.key(42)\n",
    "pkey, nkey, gkey = random.split(rng_key, 3)"
   ]
  },
  {
   "cell_type": "code",
   "execution_count": 7,
   "id": "f06816c5-ae73-46d0-b120-4b36c53b36b7",
   "metadata": {},
   "outputs": [],
   "source": [
    "gkeys = random.split(gkey, n_gals)"
   ]
  },
  {
   "cell_type": "code",
   "execution_count": 8,
   "id": "359bf722-2f71-425c-92cd-4da9a1fbcaa0",
   "metadata": {},
   "outputs": [],
   "source": [
    "# galaxy parameters from prior\n",
    "pkeys = random.split(pkey, n_gals)\n",
    "_get_galaxy_params = partial(\n",
    "    sample_prior,\n",
    "    shape_noise=shape_noise,\n",
    "    mean_logflux=mean_logflux,\n",
    "    sigma_logflux=sigma_logflux,\n",
    "    g1=g1,\n",
    "    g2=g2,\n",
    ")\n",
    "galaxy_params = vmap(_get_galaxy_params)(pkeys)\n",
    "assert galaxy_params[\"x\"].shape == (n_gals,)\n",
    "assert galaxy_params[\"e1\"].shape == (n_gals,)"
   ]
  },
  {
   "cell_type": "code",
   "execution_count": 9,
   "id": "56a28cab-5a21-47be-b309-4cd6e4a30335",
   "metadata": {},
   "outputs": [],
   "source": [
    "# now get corresponding target images\n",
    "draw_params = {**galaxy_params}\n",
    "draw_params[\"f\"] = 10 ** draw_params.pop(\"lf\")\n",
    "target_images = get_target_images(\n",
    "    nkey, draw_params, background=background, slen=slen\n",
    ")\n",
    "assert target_images.shape == (n_gals, slen, slen)"
   ]
  },
  {
   "cell_type": "code",
   "execution_count": 10,
   "id": "742c3983-084e-4c2a-8561-1b7d5789c990",
   "metadata": {},
   "outputs": [],
   "source": [
    "true_params = vmap(get_true_params_from_galaxy_params)(galaxy_params)\n",
    "fixed_params = {\n",
    "    \"x\": true_params.pop(\"x\"),\n",
    "    \"y\": true_params.pop(\"y\"),\n",
    "    \"f\": 10 ** true_params.pop(\"lf\"),\n",
    "    \"hlr\": true_params.pop(\"hlr\"),\n",
    "}"
   ]
  },
  {
   "cell_type": "code",
   "execution_count": 11,
   "id": "ad972134-d6a5-43f6-aff5-c56cc31d1fc0",
   "metadata": {},
   "outputs": [],
   "source": [
    "_logprior = partial(\n",
    "    interim_gprops_logprior,\n",
    "    sigma_e=sigma_e_int,\n",
    "    free_flux_hlr=False,\n",
    "    free_dxdy=False,\n",
    ")\n",
    "_draw_fnc = partial(draw_gaussian, slen=slen, fft_size=fft_size)\n",
    "_loglikelihood = partial(\n",
    "    gaussian_image_loglikelihood,\n",
    "    draw_fnc=_draw_fnc,\n",
    "    background=background,\n",
    "    free_flux_hlr=False,\n",
    "    free_dxdy=False,\n",
    ")"
   ]
  },
  {
   "cell_type": "code",
   "execution_count": 12,
   "id": "f331b044-662e-4819-9aa3-00c6f125bf83",
   "metadata": {},
   "outputs": [],
   "source": [
    "from bpd.chains import inference_loop\n",
    "from functools import partial\n",
    "from bpd.pipelines import logtarget_images\n",
    "\n",
    "\n",
    "def run_inference_path_nuts(\n",
    "    rng_key: PRNGKeyArray,\n",
    "    init_positions,\n",
    "    data,\n",
    "    *,\n",
    "    logtarget,\n",
    "    n_samples: int=100,\n",
    "    initial_step_size: float=1e-3,\n",
    "    max_num_doublings: int=5,\n",
    "    n_warmup_steps: int = 500,\n",
    "    target_acceptance_rate: float = 0.80,\n",
    "    is_mass_matrix_diagonal: bool = True,\n",
    "):\n",
    "\n",
    "    key1, key2 = random.split(rng_key)\n",
    "\n",
    "    _logtarget = partial(logtarget, data=data)\n",
    "\n",
    "    adapt = blackjax.pathfinder_adaptation(\n",
    "        blackjax.nuts,\n",
    "        _logtarget,\n",
    "        initial_step_size=initial_step_size,\n",
    "        target_acceptance_rate=target_acceptance_rate,\n",
    "        max_num_doublings=max_num_doublings\n",
    "    )\n",
    "\n",
    "    (init_states, tuned_params), _ = adapt.run(key1, init_positions, n_warmup_steps)\n",
    "    kernel = blackjax.nuts(_logtarget, **tuned_params).step\n",
    "    states, _ = inference_loop(key2, init_states, kernel=kernel, n_samples=n_samples)\n",
    "    return states.position\n"
   ]
  },
  {
   "cell_type": "code",
   "execution_count": 13,
   "id": "20b8510f-aa1d-4372-a7c7-69da0822a4a3",
   "metadata": {},
   "outputs": [],
   "source": [
    "def pipeline_interim_samples_one_galaxy(\n",
    "    rng_key,\n",
    "    true_params: dict[str, float],\n",
    "    target_image,\n",
    "    fixed_params: dict[str, float],\n",
    "    *,\n",
    "    initialization_fnc,\n",
    "    logprior,\n",
    "    loglikelihood,\n",
    "    n_samples: int = 100,\n",
    "    max_num_doublings: int = 5,\n",
    "    initial_step_size: float = 1e-3,\n",
    "    n_warmup_steps: int = 500,\n",
    "    is_mass_matrix_diagonal: bool = True,\n",
    "):\n",
    "    # Flux and HLR are fixed to truth and not inferred in this function.\n",
    "    k1, k2 = random.split(rng_key)\n",
    "\n",
    "    init_position = initialization_fnc(k1, true_params=true_params, data=target_image)\n",
    "\n",
    "    _logtarget = partial(\n",
    "        logtarget_images,\n",
    "        logprior_fnc=logprior,\n",
    "        loglikelihood_fnc=loglikelihood,\n",
    "        fixed_params=fixed_params,\n",
    "    )\n",
    "\n",
    "    _inference_fnc = partial(\n",
    "        run_inference_path_nuts,\n",
    "        logtarget=_logtarget,\n",
    "        is_mass_matrix_diagonal=is_mass_matrix_diagonal,\n",
    "        n_warmup_steps=n_warmup_steps,\n",
    "        max_num_doublings=max_num_doublings,\n",
    "        initial_step_size=initial_step_size,\n",
    "        n_samples=n_samples,\n",
    "    )\n",
    "    _run_inference = jit(_inference_fnc)\n",
    "\n",
    "    interim_samples = _run_inference(k2, init_position, target_image)\n",
    "    return interim_samples"
   ]
  },
  {
   "cell_type": "code",
   "execution_count": 14,
   "id": "982722e7-584c-4199-bc71-05000a270395",
   "metadata": {},
   "outputs": [],
   "source": [
    "from bpd.initialization import init_with_truth"
   ]
  },
  {
   "cell_type": "code",
   "execution_count": 15,
   "id": "9bf4b613-e4ce-4b36-9840-e5516da23a9b",
   "metadata": {},
   "outputs": [],
   "source": [
    "pipe = partial(\n",
    "    pipeline_interim_samples_one_galaxy,\n",
    "    initialization_fnc=init_with_truth,\n",
    "    logprior=_logprior,\n",
    "    loglikelihood=_loglikelihood,\n",
    ")\n",
    "vpipe = vmap(jit(pipe))"
   ]
  },
  {
   "cell_type": "code",
   "execution_count": 16,
   "id": "f88efbdf-e561-4a90-8a16-edd9da410738",
   "metadata": {},
   "outputs": [],
   "source": [
    "# run_sampling = vmap(jit(partial(run_inference_path_nuts, logtarget=_logtarget, n_samples=100, initial_step_size=1e-3, max_num_doublings=5, n_warmup_steps=100)))"
   ]
  },
  {
   "cell_type": "code",
   "execution_count": 20,
   "id": "065f9b75-db7e-4977-8eb6-ac410e71ba4c",
   "metadata": {},
   "outputs": [],
   "source": [
    "# compile\n",
    "_ = vpipe(gkeys[0, None], {k:v[0, None] for k,v in true_params.items()}, target_images[0, None], {k:v[0, None] for k,v in fixed_params.items()})"
   ]
  },
  {
   "cell_type": "code",
   "execution_count": 19,
   "id": "389777f2-671d-4166-a471-30fb79582f8d",
   "metadata": {},
   "outputs": [
    {
     "name": "stdout",
     "output_type": "stream",
     "text": [
      "CPU times: user 768 ms, sys: 3.74 ms, total: 772 ms\n",
      "Wall time: 769 ms\n"
     ]
    }
   ],
   "source": [
    "%%time\n",
    "samples = vpipe(gkeys, true_params, target_images, fixed_params)"
   ]
  },
  {
   "cell_type": "code",
   "execution_count": 22,
   "id": "6dd63fc3-5263-47dc-947a-d3fa5cbdbb1c",
   "metadata": {},
   "outputs": [
    {
     "data": {
      "text/plain": [
       "(1, 100)"
      ]
     },
     "execution_count": 22,
     "metadata": {},
     "output_type": "execute_result"
    }
   ],
   "source": [
    "samples['e1'].shape"
   ]
  },
  {
   "cell_type": "code",
   "execution_count": 115,
   "id": "0d7713e1-644f-44d8-b1c6-50415ecce589",
   "metadata": {},
   "outputs": [],
   "source": [
    "import matplotlib.pyplot as plt "
   ]
  },
  {
   "cell_type": "code",
   "execution_count": 116,
   "id": "51342171-fbb7-439f-8db4-7c95bbbef781",
   "metadata": {},
   "outputs": [
    {
     "data": {
      "text/plain": [
       "[<matplotlib.lines.Line2D at 0x7f79a30ee750>]"
      ]
     },
     "execution_count": 116,
     "metadata": {},
     "output_type": "execute_result"
    },
    {
     "data": {
      "image/png": "[encoded data removed]",
      "text/plain": [
       "<Figure size 640x480 with 1 Axes>"
      ]
     },
     "metadata": {},
     "output_type": "display_data"
    }
   ],
   "source": [
    "plt.plot(samples['e1'][0])"
   ]
  },
  {
   "cell_type": "markdown",
   "id": "5b5ddb77-b663-4728-8d6a-36d59d2104cc",
   "metadata": {
    "jp-MarkdownHeadingCollapsed": true
   },
   "source": [
    "## Try adaptation on 1 galaxy now"
   ]
  },
  {
   "cell_type": "code",
   "execution_count": 82,
   "id": "a5b5db5e-cb0f-4eb1-9e9d-786f1d6d19b7",
   "metadata": {},
   "outputs": [],
   "source": [
    "rng_key = random.key(42)\n",
    "pkey, nkey, gkey = random.split(rng_key, 3)"
   ]
  },
  {
   "cell_type": "code",
   "execution_count": 84,
   "id": "6b527e05-d0d7-43f0-9a4e-085633a9fe21",
   "metadata": {},
   "outputs": [
    {
     "data": {
      "text/plain": [
       "()"
      ]
     },
     "execution_count": 84,
     "metadata": {},
     "output_type": "execute_result"
    }
   ],
   "source": [
    "# galaxy parameters from prior\n",
    "pkeys = random.split(pkey, n_gals)\n",
    "_get_galaxy_params = partial(\n",
    "    sample_prior,\n",
    "    shape_noise=shape_noise,\n",
    "    mean_logflux=mean_logflux,\n",
    "    sigma_logflux=sigma_logflux,\n",
    "    g1=g1,\n",
    "    g2=g2,\n",
    ")\n",
    "galaxy_params = _get_galaxy_params(pkey)\n",
    "galaxy_params['e1'].shape"
   ]
  },
  {
   "cell_type": "code",
   "execution_count": 86,
   "id": "7086ec5d-1f56-4cc7-990b-8df19d1d3b57",
   "metadata": {},
   "outputs": [
    {
     "ename": "IndexError",
     "evalue": "tuple index out of range",
     "output_type": "error",
     "traceback": [
      "\u001b[0;31m---------------------------------------------------------------------------\u001b[0m",
      "\u001b[0;31mIndexError\u001b[0m                                Traceback (most recent call last)",
      "Cell \u001b[0;32mIn[86], line 4\u001b[0m\n\u001b[1;32m      2\u001b[0m draw_params \u001b[38;5;241m=\u001b[39m {\u001b[38;5;241m*\u001b[39m\u001b[38;5;241m*\u001b[39mgalaxy_params}\n\u001b[1;32m      3\u001b[0m draw_params[\u001b[38;5;124m\"\u001b[39m\u001b[38;5;124mf\u001b[39m\u001b[38;5;124m\"\u001b[39m] \u001b[38;5;241m=\u001b[39m \u001b[38;5;241m10\u001b[39m \u001b[38;5;241m*\u001b[39m\u001b[38;5;241m*\u001b[39m draw_params\u001b[38;5;241m.\u001b[39mpop(\u001b[38;5;124m\"\u001b[39m\u001b[38;5;124mlf\u001b[39m\u001b[38;5;124m\"\u001b[39m)\n\u001b[0;32m----> 4\u001b[0m target_images \u001b[38;5;241m=\u001b[39m \u001b[43mget_target_images\u001b[49m\u001b[43m(\u001b[49m\n\u001b[1;32m      5\u001b[0m \u001b[43m    \u001b[49m\u001b[43mnkey\u001b[49m\u001b[43m,\u001b[49m\u001b[43m \u001b[49m\u001b[43mdraw_params\u001b[49m\u001b[43m,\u001b[49m\u001b[43m \u001b[49m\u001b[43mbackground\u001b[49m\u001b[38;5;241;43m=\u001b[39;49m\u001b[43mbackground\u001b[49m\u001b[43m,\u001b[49m\u001b[43m \u001b[49m\u001b[43mslen\u001b[49m\u001b[38;5;241;43m=\u001b[39;49m\u001b[43mslen\u001b[49m\n\u001b[1;32m      6\u001b[0m \u001b[43m)\u001b[49m\n\u001b[1;32m      7\u001b[0m \u001b[38;5;28;01massert\u001b[39;00m target_images\u001b[38;5;241m.\u001b[39mshape \u001b[38;5;241m==\u001b[39m (n_gals, slen, slen)\n",
      "File \u001b[0;32m/global/u2/i/imendoza/BPD/bpd/sample.py:109\u001b[0m, in \u001b[0;36mget_target_images\u001b[0;34m(rng_key, galaxy_params, background, slen)\u001b[0m\n\u001b[1;32m    101\u001b[0m \u001b[38;5;28;01mdef\u001b[39;00m \u001b[38;5;21mget_target_images\u001b[39m(\n\u001b[1;32m    102\u001b[0m     rng_key: PRNGKeyArray,\n\u001b[1;32m    103\u001b[0m     galaxy_params: \u001b[38;5;28mdict\u001b[39m[\u001b[38;5;28mstr\u001b[39m, Array],\n\u001b[0;32m   (...)\u001b[0m\n\u001b[1;32m    106\u001b[0m     slen: \u001b[38;5;28mint\u001b[39m,\n\u001b[1;32m    107\u001b[0m ):\n\u001b[1;32m    108\u001b[0m \u001b[38;5;250m    \u001b[39m\u001b[38;5;124;03m\"\"\"Single noise realization of multiple galaxies (GalSim).\"\"\"\u001b[39;00m\n\u001b[0;32m--> 109\u001b[0m     n_gals \u001b[38;5;241m=\u001b[39m \u001b[43mgalaxy_params\u001b[49m\u001b[43m[\u001b[49m\u001b[38;5;124;43m\"\u001b[39;49m\u001b[38;5;124;43mf\u001b[39;49m\u001b[38;5;124;43m\"\u001b[39;49m\u001b[43m]\u001b[49m\u001b[38;5;241;43m.\u001b[39;49m\u001b[43mshape\u001b[49m\u001b[43m[\u001b[49m\u001b[38;5;241;43m0\u001b[39;49m\u001b[43m]\u001b[49m\n\u001b[1;32m    110\u001b[0m     nkeys \u001b[38;5;241m=\u001b[39m random\u001b[38;5;241m.\u001b[39msplit(rng_key, n_gals)\n\u001b[1;32m    112\u001b[0m     target_images \u001b[38;5;241m=\u001b[39m []\n",
      "\u001b[0;31mIndexError\u001b[0m: tuple index out of range"
     ]
    }
   ],
   "source": [
    "# now get corresponding target images\n",
    "draw_params = {**galaxy_params}\n",
    "draw_params[\"f\"] = 10 ** draw_params.pop(\"lf\")\n",
    "draw_params = \n",
    "target_images = get_target_images(\n",
    "    nkey, draw_params, background=background, slen=slen\n",
    ")\n",
    "assert target_images.shape == (n_gals, slen, slen)"
   ]
  },
  {
   "cell_type": "code",
   "execution_count": null,
   "id": "4b7626a9-360a-4f95-951f-dd2e979b696b",
   "metadata": {},
   "outputs": [],
   "source": []
  }
 ],
 "metadata": {
  "kernelspec": {
   "display_name": "bpd_gpu3",
   "language": "python",
   "name": "bpd_gpu3"
  },
  "language_info": {
   "codemirror_mode": {
    "name": "ipython",
    "version": 3
   },
   "file_extension": ".py",
   "mimetype": "text/x-python",
   "name": "python",
   "nbconvert_exporter": "python",
   "pygments_lexer": "ipython3",
   "version": "3.12.8"
  }
 },
 "nbformat": 4,
 "nbformat_minor": 5
}
