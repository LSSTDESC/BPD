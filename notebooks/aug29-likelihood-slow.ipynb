{
 "cells": [
  {
   "cell_type": "code",
   "execution_count": 1,
   "id": "a5430651-387e-48a0-90bb-aa4aa78f090a",
   "metadata": {},
   "outputs": [],
   "source": [
    "import os"
   ]
  },
  {
   "cell_type": "code",
   "execution_count": 2,
   "id": "e1cbae97-4a5d-4c1e-8a3b-0f78258445d4",
   "metadata": {},
   "outputs": [],
   "source": [
    "os.environ[\"JAX_PLATFORMS\"] = \"cuda,cpu\"\n",
    "os.environ[\"CUDA_VISIBLE_DEVICES\"]=\"0\""
   ]
  },
  {
   "cell_type": "code",
   "execution_count": 3,
   "id": "ad75d7b4-bd31-4bc8-bd0d-94a3a480e40d",
   "metadata": {},
   "outputs": [],
   "source": [
    "import jax"
   ]
  },
  {
   "cell_type": "code",
   "execution_count": 4,
   "id": "3967fd2b-7949-4f05-a03a-4052ccd6687e",
   "metadata": {},
   "outputs": [],
   "source": [
    "from functools import partial\n",
    "\n",
    "import jax\n",
    "import jax.numpy as jnp\n",
    "import typer\n",
    "from jax import random\n",
    "\n",
    "from jax import jit \n",
    "\n",
    "from bpd import DATA_DIR\n",
    "from bpd.io import load_dataset_jax, save_dataset\n",
    "from bpd.jackknife import run_bootstrap_shear_pipeline\n",
    "from bpd.pipelines import pipeline_shear_inference_simple, logtarget_shear"
   ]
  },
  {
   "cell_type": "code",
   "execution_count": 5,
   "id": "dea0b6bd-2e93-46f4-a499-70ae4342d3ff",
   "metadata": {},
   "outputs": [],
   "source": [
    "from bpd.chains import run_inference_nuts\n",
    "from bpd.likelihood import shear_loglikelihood\n",
    "from bpd.prior import (\n",
    "    ellip_prior_e1e2,\n",
    "    interim_gprops_logprior,\n",
    "    true_all_params_skew_logprior,\n",
    "    true_ellip_logprior,\n",
    ")\n",
    "from bpd.sample import sample_noisy_ellipticities_unclipped\n",
    "from bpd.utils import uniform_logpdf"
   ]
  },
  {
   "cell_type": "code",
   "execution_count": 6,
   "id": "4ebbbe88-5759-40f9-80ba-a6bbc5c3902e",
   "metadata": {},
   "outputs": [],
   "source": [
    "CPU = jax.devices('cpu')[0]\n",
    "GPU = jax.devices('gpu')[0]"
   ]
  },
  {
   "cell_type": "markdown",
   "id": "0904d8a4-30d9-4b34-8982-76ac4d6e9540",
   "metadata": {},
   "source": [
    "# Run"
   ]
  },
  {
   "cell_type": "code",
   "execution_count": 7,
   "id": "be58c4e0-ca92-4b17-8a85-c5cfc1ba2a0d",
   "metadata": {},
   "outputs": [],
   "source": [
    "dirpath = DATA_DIR / \"cache_chains\" / \"exp70_51\"\n",
    "samples_plus_fpath = dirpath / \"interim_samples_511_plus.npz\"\n",
    "samples_minus_fpath = dirpath / \"interim_samples_511_minus.npz\"\n",
    "assert samples_plus_fpath.exists() and samples_minus_fpath.exists()\n",
    "# fpath = dirpath / f\"g_samples_boots_{seed}.npz\"\n",
    "\n",
    "dsp = load_dataset_jax(samples_plus_fpath)\n",
    "dsm = load_dataset_jax(samples_minus_fpath)\n",
    "\n",
    "rng_key = random.key(52)\n",
    "k1, k2 = random.split(rng_key)\n",
    "\n",
    "n_gals = 100_000\n",
    "\n",
    "total_n_gals = dsp[\"samples\"][\"e1\"].shape[0]\n",
    "if n_gals is None:\n",
    "    n_gals = total_n_gals\n",
    "assert n_gals <= total_n_gals\n",
    "subset = random.choice(k1, jnp.arange(total_n_gals), shape=(n_gals,), replace=False)\n",
    "\n",
    "e1p = dsp[\"samples\"][\"e1\"][subset]\n",
    "e2p = dsp[\"samples\"][\"e2\"][subset]\n",
    "e1e2p = jnp.stack([e1p, e2p], axis=-1)\n",
    "\n",
    "e1m = dsm[\"samples\"][\"e1\"][subset]\n",
    "e2m = dsm[\"samples\"][\"e2\"][subset]\n",
    "e1e2m = jnp.stack([e1m, e2m], axis=-1)\n",
    "\n",
    "sigma_e = dsp[\"hyper\"][\"shape_noise\"]\n",
    "sigma_e_int = dsp[\"hyper\"][\"sigma_e_int\"]\n",
    "assert sigma_e == dsm[\"hyper\"][\"shape_noise\"]\n",
    "assert sigma_e_int == dsm[\"hyper\"][\"sigma_e_int\"]\n",
    "assert jnp.all(dsp[\"truth\"][\"e1\"] == dsm[\"truth\"][\"e1\"])\n",
    "assert jnp.all(dsp[\"truth\"][\"lf\"] == dsm[\"truth\"][\"lf\"])"
   ]
  },
  {
   "cell_type": "code",
   "execution_count": 8,
   "id": "57f008b4-b16b-44a3-9d3c-c728c138d78a",
   "metadata": {},
   "outputs": [
    {
     "data": {
      "text/plain": [
       "((100000, 300, 2), (100000, 300, 2))"
      ]
     },
     "execution_count": 8,
     "metadata": {},
     "output_type": "execute_result"
    }
   ],
   "source": [
    "e1e2p.shape, e1e2m.shape"
   ]
  },
  {
   "cell_type": "markdown",
   "id": "b36335f0-0d1f-490b-b1ce-f11075233454",
   "metadata": {},
   "source": [
    "# Evaluate likelihood timing"
   ]
  },
  {
   "cell_type": "markdown",
   "id": "9956f52e-357a-4f4e-bf0d-4216e3312c29",
   "metadata": {},
   "source": [
    "## gpu"
   ]
  },
  {
   "cell_type": "code",
   "execution_count": 9,
   "id": "88ae2378-c73e-4fcf-83c5-40fc212af414",
   "metadata": {},
   "outputs": [],
   "source": [
    "_logprior = lambda e, g: true_ellip_logprior(e, g, sigma_e=sigma_e)\n",
    "_interim_logprior = lambda e: jnp.log(ellip_prior_e1e2(e, sigma=sigma_e_int))\n",
    "\n",
    "_loglikelihood = partial(\n",
    "    shear_loglikelihood, logprior=_logprior, interim_logprior=_interim_logprior\n",
    ")\n",
    "_loglikelihood_jitted = jit(_loglikelihood, device=GPU)\n",
    "\n",
    "_logtarget = jit(partial(logtarget_shear, loglikelihood=_loglikelihood_jitted), device=GPU)"
   ]
  },
  {
   "cell_type": "code",
   "execution_count": 10,
   "id": "de131c2d-d0ba-4fc5-94d6-74464897b20c",
   "metadata": {},
   "outputs": [
    {
     "name": "stdout",
     "output_type": "stream",
     "text": [
      "227 μs ± 45.7 μs per loop (mean ± std. dev. of 7 runs, 1 loop each)\n"
     ]
    }
   ],
   "source": [
    "%%timeit\n",
    "_logtarget(g=jnp.array([0.02,0.0]), data=e1e2p)"
   ]
  },
  {
   "cell_type": "markdown",
   "id": "337a9298-65ef-4787-8980-91e0f3085507",
   "metadata": {},
   "source": [
    "## cpu"
   ]
  },
  {
   "cell_type": "code",
   "execution_count": 11,
   "id": "19c8078b-7d2a-4512-9b0d-2c4392cfdbcc",
   "metadata": {},
   "outputs": [],
   "source": [
    "_logprior = lambda e, g: true_ellip_logprior(e, g, sigma_e=sigma_e)\n",
    "_interim_logprior = lambda e: jnp.log(ellip_prior_e1e2(e, sigma=sigma_e_int))\n",
    "\n",
    "_loglikelihood = partial(\n",
    "    shear_loglikelihood, logprior=_logprior, interim_logprior=_interim_logprior\n",
    ")\n",
    "_loglikelihood_jitted = jit(_loglikelihood, device=CPU)\n",
    "\n",
    "_logtarget = jit(partial(logtarget_shear, loglikelihood=_loglikelihood_jitted), device=CPU)"
   ]
  },
  {
   "cell_type": "code",
   "execution_count": 12,
   "id": "e9276e5c-0435-4d4c-96d6-9023d382cb16",
   "metadata": {},
   "outputs": [
    {
     "name": "stdout",
     "output_type": "stream",
     "text": [
      "202 ms ± 70.1 ms per loop (mean ± std. dev. of 7 runs, 1 loop each)\n"
     ]
    }
   ],
   "source": [
    "%%timeit\n",
    "_logtarget(g=jnp.array([0.02,0.0]), data=e1e2p)"
   ]
  },
  {
   "cell_type": "code",
   "execution_count": null,
   "id": "9878750f-2782-460c-9881-32beb820c972",
   "metadata": {},
   "outputs": [],
   "source": []
  }
 ],
 "metadata": {
  "kernelspec": {
   "display_name": "bpd_gpu4",
   "language": "python",
   "name": "bpd_gpu4"
  },
  "language_info": {
   "codemirror_mode": {
    "name": "ipython",
    "version": 3
   },
   "file_extension": ".py",
   "mimetype": "text/x-python",
   "name": "python",
   "nbconvert_exporter": "python",
   "pygments_lexer": "ipython3",
   "version": "3.12.11"
  }
 },
 "nbformat": 4,
 "nbformat_minor": 5
}
