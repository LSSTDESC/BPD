{
 "cells": [
  {
   "cell_type": "code",
   "execution_count": 1,
   "metadata": {},
   "outputs": [
    {
     "name": "stderr",
     "output_type": "stream",
     "text": [
      "2024-12-04 11:11:52.765465: W external/xla/xla/service/gpu/nvptx_compiler.cc:836] The NVIDIA driver's CUDA version is 12.2 which is older than the PTX compiler version (12.6.20). Because the driver is older than the PTX compiler version, XLA is disabling parallel compilation, which may slow down compilation. You should update your NVIDIA driver or use the NVIDIA-provided CUDA forward compatibility packages.\n",
      "2024-12-04 11:11:59.594455: W tensorflow/compiler/tf2tensorrt/utils/py_utils.cc:38] TF-TRT Warning: Could not find TensorRT\n"
     ]
    }
   ],
   "source": [
    "import os\n",
    "os.environ[\"CUDA_VISIBLE_DEVICES\"] = \"0\"\n",
    "os.environ[\"JAX_ENABLE_X64\"] = \"True\"\n",
    "\n",
    "from typing import Callable\n",
    "from functools import partial\n",
    "\n",
    "import jax\n",
    "import jax.numpy as jnp\n",
    "import optax\n",
    "\n",
    "from jax import Array\n",
    "from jax import vmap, value_and_grad, jit, grad\n",
    "from jax import random\n",
    "\n",
    "from bpd.pipelines.image_samples import loglikelihood, logprior, logtarget, sample_target_galaxy_params_simple, get_target_images, get_true_params_from_galaxy_params\n",
    "from bpd.draw import draw_gaussian\n",
    "\n",
    "import matplotlib.pyplot as plt"
   ]
  },
  {
   "cell_type": "code",
   "execution_count": 2,
   "metadata": {},
   "outputs": [],
   "source": [
    "\n",
    "def sample_prior(\n",
    "    rng_key,\n",
    "    *,\n",
    "    flux_bds: tuple = (2.5, 4.0),\n",
    "    hlr_bds: tuple = (0.7, 2.0),\n",
    "    shape_noise: float = 0.3,\n",
    "    g1: float = 0.02,\n",
    "    g2: float = 0.0,\n",
    ") -> dict[str, float]:\n",
    "    k1, k2, k3 = random.split(rng_key, 3)\n",
    "\n",
    "    lf = random.uniform(k1, minval=flux_bds[0], maxval=flux_bds[1])\n",
    "    hlr = random.uniform(k2, minval=hlr_bds[0], maxval=hlr_bds[1])\n",
    "\n",
    "    other_params = sample_target_galaxy_params_simple(\n",
    "        k3, shape_noise=shape_noise, g1=g1, g2=g2\n",
    "    )\n",
    "\n",
    "    return {\"lf\": lf, \"hlr\": hlr, **other_params}\n",
    "\n",
    "def _sample_prior_init(rng_key):\n",
    "    prior_samples = sample_prior(rng_key)\n",
    "    truth_samples = get_true_params_from_galaxy_params(prior_samples)\n",
    "    return truth_samples"
   ]
  },
  {
   "cell_type": "code",
   "execution_count": 3,
   "metadata": {},
   "outputs": [],
   "source": [
    "def find_likelihood_peak(\n",
    "    data: Array,\n",
    "    params_init:dict,\n",
    "    *,\n",
    "    learning_rate: float = 1e-3,\n",
    "    n_steps: int = 1000,\n",
    "    likelihood_fnc: Callable,\n",
    ") -> tuple[float, float]:\n",
    "    \"\"\"Find the peak of the likelihood using gradient descent.\"\"\"\n",
    "\n",
    "    def loss(params):\n",
    "        return -likelihood_fnc(params, data)\n",
    "\n",
    "    optimizer = optax.adam(learning_rate)\n",
    "    opt_state = optimizer.init(params_init)\n",
    "    vals = [] \n",
    "    params = params_init\n",
    "\n",
    "    @jit\n",
    "    def step(params, opt_state):\n",
    "        loss_val, grads = value_and_grad(loss)(params)\n",
    "        updates, opt_state = optimizer.update(grads, opt_state)\n",
    "        params = optax.apply_updates(params, updates)\n",
    "        return params, opt_state, loss_val\n",
    "\n",
    "    for _ in range(n_steps):\n",
    "        params, opt_state, loss_val = step(params, opt_state)\n",
    "        vals.append(loss_val)\n",
    "\n",
    "    return params, jnp.array(vals)"
   ]
  },
  {
   "cell_type": "code",
   "execution_count": 4,
   "metadata": {},
   "outputs": [],
   "source": [
    "def find_likelihood_peak_scan(\n",
    "    data: Array,\n",
    "    params_init:dict,\n",
    "    *,\n",
    "    learning_rate: float = 1e-3,\n",
    "    n_steps: int = 1000,\n",
    "    likelihood_fnc: Callable,\n",
    ") -> tuple[float, float]:\n",
    "    \"\"\"Find the peak of the likelihood using gradient descent.\"\"\"\n",
    "\n",
    "    def loss(params):\n",
    "        return -likelihood_fnc(params, data)\n",
    "\n",
    "    optimizer = optax.adam(learning_rate)\n",
    "    opt_state = optimizer.init(params_init)\n",
    "    vals = [] \n",
    "    params = params_init\n",
    "\n",
    "    def step(state, _):\n",
    "        params, opt_state = state\n",
    "        loss_val, grads = value_and_grad(loss)(params)\n",
    "        updates, opt_state = optimizer.update(grads, opt_state)\n",
    "        params = optax.apply_updates(params, updates)\n",
    "        return (params, opt_state), loss_val\n",
    "\n",
    "\n",
    "    (params, _), loss_vals = jax.lax.scan(step, (params, opt_state), length=n_steps)\n",
    "\n",
    "\n",
    "\n",
    "    return params, loss_vals"
   ]
  },
  {
   "cell_type": "code",
   "execution_count": 5,
   "metadata": {},
   "outputs": [],
   "source": [
    "# def find_likelihood_peak_lbfgs(\n",
    "#     data: Array,\n",
    "#     params_init:dict,\n",
    "#     *,\n",
    "#     learning_rate: float = 1e-3,\n",
    "#     n_steps: int = 1000,\n",
    "#     likelihood_fnc: Callable,\n",
    "# ) -> tuple[float, float]:\n",
    "#     \"\"\"Find the peak of the likelihood using gradient descent.\"\"\"\n",
    "\n",
    "#     def loss(params):\n",
    "#         return -likelihood_fnc(params, data)\n",
    "\n",
    "#     optimizer = optax.lbfgs(learning_rate)\n",
    "#     opt_state = optimizer.init(params_init)\n",
    "#     _value_and_grad = optax.value_and_grad_from_state(loss)\n",
    "\n",
    "#     @jit\n",
    "#     def step(params, opt_state):\n",
    "#         vals, grads = _value_and_grad(params, state=opt_state)\n",
    "#         updates, opt_state = optimizer.update(grads, opt_state, params,value=vals, grad=grads,value_fn=loss)\n",
    "#         params = optax.apply_updates(params, updates)\n",
    "#         return params, opt_state, vals\n",
    "\n",
    "#     for _ in range(n_steps):\n",
    "#         params, opt_state, _ = step(params_init, opt_state)\n",
    "\n",
    "#     return params"
   ]
  },
  {
   "cell_type": "markdown",
   "metadata": {
    "jp-MarkdownHeadingCollapsed": true
   },
   "source": [
    "## Test optimization"
   ]
  },
  {
   "cell_type": "code",
   "execution_count": 102,
   "metadata": {},
   "outputs": [],
   "source": [
    "rng_key = random.key(42)\n",
    "pkey, nkey, ikey, rkey = random.split(rng_key, 4)\n",
    "\n",
    "n_gals = 100\n",
    "shape_noise = 0.3\n",
    "background= 1.\n",
    "slen = 53\n",
    "fft_size=256\n"
   ]
  },
  {
   "cell_type": "code",
   "execution_count": 103,
   "metadata": {},
   "outputs": [],
   "source": [
    "# generate data and parameters\n",
    "pkeys = random.split(pkey, n_gals)\n",
    "galaxy_params = vmap(partial(sample_prior, shape_noise=shape_noise))(pkeys)\n",
    "assert galaxy_params[\"x\"].shape == (n_gals,)\n",
    "\n",
    "# get images\n",
    "draw_params = {**galaxy_params}\n",
    "draw_params[\"f\"] = 10 ** draw_params.pop(\"lf\")\n",
    "target_images = get_target_images(\n",
    "    nkey, draw_params, background=background, slen=slen\n",
    ")\n",
    "assert target_images.shape == (n_gals, slen, slen)\n",
    "true_params = vmap(get_true_params_from_galaxy_params)(galaxy_params)"
   ]
  },
  {
   "cell_type": "code",
   "execution_count": 104,
   "metadata": {},
   "outputs": [],
   "source": [
    "draw_fnc = partial(draw_gaussian, slen=slen, fft_size=fft_size)\n",
    "_loglikelihood = partial(loglikelihood, draw_fnc=draw_fnc, background=background)"
   ]
  },
  {
   "cell_type": "code",
   "execution_count": 105,
   "metadata": {},
   "outputs": [
    {
     "data": {
      "text/plain": [
       "Array(3.82110866, dtype=float64)"
      ]
     },
     "execution_count": 105,
     "metadata": {},
     "output_type": "execute_result"
    }
   ],
   "source": [
    "init_params = _sample_prior_init(ikey)\n",
    "init_params['lf'] = jnp.log10(target_images[3].sum())\n",
    "init_params['lf']"
   ]
  },
  {
   "cell_type": "code",
   "execution_count": 106,
   "metadata": {},
   "outputs": [
    {
     "name": "stdout",
     "output_type": "stream",
     "text": [
      "CPU times: user 2.25 s, sys: 286 ms, total: 2.54 s\n",
      "Wall time: 2.73 s\n"
     ]
    }
   ],
   "source": [
    "%time fparams, vals = find_likelihood_peak_scan(target_images[3], init_params, likelihood_fnc=_loglikelihood,learning_rate=1e-3, n_steps=2500)"
   ]
  },
  {
   "cell_type": "code",
   "execution_count": 107,
   "metadata": {},
   "outputs": [
    {
     "data": {
      "text/plain": [
       "{'e1': Array(0.08769677, dtype=float64),\n",
       " 'e2': Array(-0.0866866, dtype=float64),\n",
       " 'hlr': Array(1.57712345, dtype=float64),\n",
       " 'lf': Array(3.81945137, dtype=float64),\n",
       " 'x': Array(0.44531078, dtype=float64),\n",
       " 'y': Array(-0.3355329, dtype=float64)}"
      ]
     },
     "execution_count": 107,
     "metadata": {},
     "output_type": "execute_result"
    }
   ],
   "source": [
    "fparams"
   ]
  },
  {
   "cell_type": "code",
   "execution_count": 108,
   "metadata": {},
   "outputs": [
    {
     "data": {
      "text/plain": [
       "{'e1': Array(0.08341272, dtype=float64),\n",
       " 'e2': Array(-0.08991952, dtype=float64),\n",
       " 'hlr': Array(1.57344803, dtype=float64),\n",
       " 'lf': Array(3.82071287, dtype=float64),\n",
       " 'x': Array(0.39980168, dtype=float64),\n",
       " 'y': Array(-0.30789742, dtype=float64)}"
      ]
     },
     "execution_count": 108,
     "metadata": {},
     "output_type": "execute_result"
    }
   ],
   "source": [
    "{p:q[3] for p,q in true_params.items()}"
   ]
  },
  {
   "cell_type": "code",
   "execution_count": 109,
   "metadata": {},
   "outputs": [
    {
     "data": {
      "text/plain": [
       "[<matplotlib.lines.Line2D at 0x7f934f8c4bb0>]"
      ]
     },
     "execution_count": 109,
     "metadata": {},
     "output_type": "execute_result"
    },
    {
     "data": {
      "image/png": "[encoded data removed]",
      "text/plain": [
       "<Figure size 640x480 with 1 Axes>"
      ]
     },
     "metadata": {},
     "output_type": "display_data"
    }
   ],
   "source": [
    "plt.plot(vals)"
   ]
  },
  {
   "cell_type": "code",
   "execution_count": 116,
   "metadata": {},
   "outputs": [],
   "source": [
    "# vmap? \n",
    "init_params = {'lf': jnp.log10(target_images.sum(axis=(1,2))), 'hlr': jnp.full((n_gals,), 1.0), \n",
    "               'x':jnp.zeros(n_gals), 'y':jnp.zeros(n_gals), 'e1':jnp.zeros(n_gals), 'e2':jnp.zeros(n_gals)\n",
    "               }\n",
    "\n",
    "\n",
    "get_mle = jax.jit(partial(find_likelihood_peak_scan, likelihood_fnc=_loglikelihood, learning_rate=1e-3, n_steps=1000))\n"
   ]
  },
  {
   "cell_type": "code",
   "execution_count": 117,
   "metadata": {},
   "outputs": [
    {
     "name": "stdout",
     "output_type": "stream",
     "text": [
      "CPU times: user 1.4 s, sys: 192 ms, total: 1.59 s\n",
      "Wall time: 1.8 s\n"
     ]
    }
   ],
   "source": [
    "%time _ = get_mle(target_images[0], {p: q[0] for p,q in init_params.items()})"
   ]
  },
  {
   "cell_type": "code",
   "execution_count": 118,
   "metadata": {},
   "outputs": [],
   "source": [
    "# make sure gpu\n",
    "init_params = jax.device_put(init_params, jax.devices()[0])\n",
    "target_images = jax.device_put(target_images, jax.devices()[0])"
   ]
  },
  {
   "cell_type": "code",
   "execution_count": 119,
   "metadata": {},
   "outputs": [
    {
     "name": "stdout",
     "output_type": "stream",
     "text": [
      "CPU times: user 5.14 s, sys: 32.4 ms, total: 5.17 s\n",
      "Wall time: 5.47 s\n"
     ]
    }
   ],
   "source": [
    "%time params, valss = vmap(get_mle)(target_images, init_params)"
   ]
  },
  {
   "cell_type": "code",
   "execution_count": 126,
   "metadata": {},
   "outputs": [
    {
     "data": {
      "text/plain": [
       "({'e1': Array(0.01436915, dtype=float64),\n",
       "  'e2': Array(0.03079787, dtype=float64),\n",
       "  'hlr': Array(0.94277652, dtype=float64),\n",
       "  'lf': Array(3.29679319, dtype=float64),\n",
       "  'x': Array(0.18520168, dtype=float64),\n",
       "  'y': Array(0.24368989, dtype=float64)},\n",
       " {'e1': Array(0.02217556, dtype=float64),\n",
       "  'e2': Array(-0.00136225, dtype=float64),\n",
       "  'hlr': Array(0.97781089, dtype=float64),\n",
       "  'lf': Array(3.30683402, dtype=float64),\n",
       "  'x': Array(0.13246106, dtype=float64),\n",
       "  'y': Array(0.16570657, dtype=float64)})"
      ]
     },
     "execution_count": 126,
     "metadata": {},
     "output_type": "execute_result"
    }
   ],
   "source": [
    "idx = 10\n",
    "{p:q[idx] for p,q in params.items()}, {k:v[idx] for k,v in true_params.items()}"
   ]
  },
  {
   "cell_type": "markdown",
   "metadata": {},
   "source": [
    "# Try chains with this initialization strategy, then check step size!"
   ]
  },
  {
   "cell_type": "code",
   "execution_count": 25,
   "metadata": {},
   "outputs": [],
   "source": [
    "rng_key = random.key(42)\n",
    "pkey, nkey, ikey, rkey = random.split(rng_key, 4)\n",
    "\n",
    "n_gals = 10\n",
    "shape_noise = 0.3\n",
    "background= 1.\n",
    "slen = 53\n",
    "fft_size=256\n",
    "sigma_e_int=0.4\n"
   ]
  },
  {
   "cell_type": "code",
   "execution_count": 26,
   "metadata": {},
   "outputs": [],
   "source": [
    "# generate data and parameters\n",
    "pkeys = random.split(pkey, n_gals)\n",
    "galaxy_params = vmap(partial(sample_prior, shape_noise=shape_noise))(pkeys)\n",
    "assert galaxy_params[\"x\"].shape == (n_gals,)\n",
    "\n",
    "# get images\n",
    "draw_params = {**galaxy_params}\n",
    "draw_params[\"f\"] = 10 ** draw_params.pop(\"lf\")\n",
    "target_images = get_target_images(\n",
    "    nkey, draw_params, background=background, slen=slen\n",
    ")\n",
    "assert target_images.shape == (n_gals, slen, slen)\n",
    "true_params = vmap(get_true_params_from_galaxy_params)(galaxy_params)"
   ]
  },
  {
   "cell_type": "code",
   "execution_count": 27,
   "metadata": {},
   "outputs": [],
   "source": [
    "# setup target density\n",
    "draw_fnc = partial(draw_gaussian, slen=slen, fft_size=fft_size)\n",
    "_loglikelihood = partial(loglikelihood, draw_fnc=draw_fnc, background=background)\n",
    "_logprior = partial(logprior, sigma_e=sigma_e_int)\n",
    "_logtarget = partial(\n",
    "    logtarget, logprior_fnc=_logprior, loglikelihood_fnc=_loglikelihood\n",
    ")\n"
   ]
  },
  {
   "cell_type": "code",
   "execution_count": 28,
   "metadata": {},
   "outputs": [
    {
     "name": "stdout",
     "output_type": "stream",
     "text": [
      "CPU times: user 1.43 s, sys: 170 ms, total: 1.6 s\n",
      "Wall time: 1.82 s\n",
      "CPU times: user 1.95 s, sys: 30.1 ms, total: 1.98 s\n",
      "Wall time: 2.23 s\n"
     ]
    }
   ],
   "source": [
    "# init params\n",
    "# vmap? \n",
    "default_params = {'lf': jnp.log10(target_images.sum(axis=(1,2))), 'hlr': jnp.full((n_gals,), 1.0), \n",
    "               'x':jnp.zeros(n_gals), 'y':jnp.zeros(n_gals), 'e1':jnp.zeros(n_gals), 'e2':jnp.zeros(n_gals)\n",
    "               }\n",
    "\n",
    "\n",
    "get_mle = jax.jit(partial(find_likelihood_peak_scan, likelihood_fnc=_loglikelihood, learning_rate=1e-3, n_steps=1000))\n",
    "%time _ = get_mle(target_images[0], {p: q[0] for p,q in default_params.items()}) # compile\n",
    "%time init_params, _ = vmap(get_mle)(target_images, default_params)\n"
   ]
  },
  {
   "cell_type": "code",
   "execution_count": 142,
   "metadata": {},
   "outputs": [],
   "source": [
    "# warmup \n",
    "from bpd.chains import run_sampling_nuts, run_warmup_nuts\n",
    "\n",
    "_run_warmup1 = partial(\n",
    "    run_warmup_nuts,\n",
    "    logtarget=_logtarget,\n",
    "    initial_step_size=0.45,\n",
    "    max_num_doublings=4,\n",
    "    n_warmup_steps=250,\n",
    ")\n",
    "_run_warmup = vmap(vmap(jit(_run_warmup1), in_axes=(0, None, None)))"
   ]
  },
  {
   "cell_type": "code",
   "execution_count": 143,
   "metadata": {},
   "outputs": [],
   "source": [
    "_run_sampling1 = partial(\n",
    "    run_sampling_nuts,\n",
    "    logtarget=_logtarget,\n",
    "    n_samples=500,\n",
    "    max_num_doublings=3,\n",
    ")\n",
    "_run_sampling = vmap(vmap(jit(_run_sampling1), in_axes=(0, 0, 0, None)))"
   ]
  },
  {
   "cell_type": "code",
   "execution_count": 144,
   "metadata": {},
   "outputs": [],
   "source": [
    "gkeys = random.split(rkey, (n_gals, 4, 2))\n",
    "wkeys = gkeys[..., 0]\n",
    "ikeys = gkeys[..., 1]"
   ]
  },
  {
   "cell_type": "code",
   "execution_count": null,
   "metadata": {},
   "outputs": [
    {
     "name": "stderr",
     "output_type": "stream",
     "text": [
      "Exception ignored in: <function WeakKeyDictionary.__init__.<locals>.remove at 0x7f8617a34790>\n",
      "Traceback (most recent call last):\n",
      "  File \"/pscratch/sd/i/imendoza/miniconda3/envs/bpd_gpu2/lib/python3.10/weakref.py\", line 370, in remove\n",
      "    def remove(k, selfref=ref(self)):\n",
      "KeyboardInterrupt: \n"
     ]
    }
   ],
   "source": [
    "# compile\n",
    "_ = _run_warmup(\n",
    "    wkeys[0, None], {p:q[0, None] for p,q in init_params.items()}, target_images[0, None]\n",
    ")"
   ]
  },
  {
   "cell_type": "code",
   "execution_count": null,
   "metadata": {},
   "outputs": [],
   "source": [
    "%time new_states, tuned_params, adapt_info = _run_warmup(wkeys, init_params, target_images)"
   ]
  },
  {
   "cell_type": "code",
   "execution_count": 124,
   "metadata": {},
   "outputs": [
    {
     "data": {
      "text/plain": [
       "(10, 4)"
      ]
     },
     "execution_count": 124,
     "metadata": {},
     "output_type": "execute_result"
    }
   ],
   "source": [
    "new_states.position['e1'].shape"
   ]
  },
  {
   "cell_type": "code",
   "execution_count": 125,
   "metadata": {},
   "outputs": [],
   "source": [
    "my_tuned_params = {p:q for p,q in tuned_params.items() if p!='max_num_doublings'}"
   ]
  },
  {
   "cell_type": "code",
   "execution_count": 128,
   "metadata": {},
   "outputs": [],
   "source": [
    "samples, _ = _run_sampling(\n",
    "    ikeys, new_states, my_tuned_params, target_images\n",
    ")"
   ]
  },
  {
   "cell_type": "code",
   "execution_count": 129,
   "metadata": {},
   "outputs": [
    {
     "name": "stdout",
     "output_type": "stream",
     "text": [
      "CPU times: user 5.61 s, sys: 7.77 ms, total: 5.61 s\n",
      "Wall time: 5.61 s\n"
     ]
    }
   ],
   "source": [
    "%time samples, _ = _run_sampling(ikeys, new_states, my_tuned_params, target_images)"
   ]
  },
  {
   "cell_type": "code",
   "execution_count": 130,
   "metadata": {},
   "outputs": [
    {
     "data": {
      "text/plain": [
       "[<matplotlib.lines.Line2D at 0x7f7a7c5649d0>]"
      ]
     },
     "execution_count": 130,
     "metadata": {},
     "output_type": "execute_result"
    },
    {
     "data": {
      "image/png": "[encoded data removed]",
      "text/plain": [
       "<Figure size 640x480 with 1 Axes>"
      ]
     },
     "metadata": {},
     "output_type": "display_data"
    }
   ],
   "source": [
    "plt.plot(samples['hlr'][0, 0, :])"
   ]
  },
  {
   "cell_type": "code",
   "execution_count": 131,
   "metadata": {},
   "outputs": [],
   "source": [
    "from blackjax.diagnostics import effective_sample_size"
   ]
  },
  {
   "cell_type": "code",
   "execution_count": 140,
   "metadata": {},
   "outputs": [],
   "source": [
    "ess = []\n",
    "p = 'x'\n",
    "for ii in range(n_gals):\n",
    "    ess.append(effective_sample_size(samples[p][ii]) / 2000)\n",
    "    \n",
    "    "
   ]
  },
  {
   "cell_type": "code",
   "execution_count": 141,
   "metadata": {},
   "outputs": [
    {
     "data": {
      "text/plain": [
       "[Array(0.95634127, dtype=float64),\n",
       " Array(0.66791023, dtype=float64),\n",
       " Array(0.47535998, dtype=float64),\n",
       " Array(1.05289563, dtype=float64),\n",
       " Array(0.0305371, dtype=float64),\n",
       " Array(0.58980109, dtype=float64),\n",
       " Array(0.92114123, dtype=float64),\n",
       " Array(0.67116043, dtype=float64),\n",
       " Array(0.63171563, dtype=float64),\n",
       " Array(0.5671219, dtype=float64)]"
      ]
     },
     "execution_count": 141,
     "metadata": {},
     "output_type": "execute_result"
    }
   ],
   "source": [
    "ess"
   ]
  },
  {
   "cell_type": "code",
   "execution_count": null,
   "metadata": {},
   "outputs": [],
   "source": []
  }
 ],
 "metadata": {
  "kernelspec": {
   "display_name": "bpd_gpu2",
   "language": "python",
   "name": "python3"
  },
  "language_info": {
   "codemirror_mode": {
    "name": "ipython",
    "version": 3
   },
   "file_extension": ".py",
   "mimetype": "text/x-python",
   "name": "python",
   "nbconvert_exporter": "python",
   "pygments_lexer": "ipython3",
   "version": "3.10.14"
  }
 },
 "nbformat": 4,
 "nbformat_minor": 4
}
