{
 "cells": [
  {
   "cell_type": "markdown",
   "id": "ea626e63-6076-415c-ae3d-fa895ac4555e",
   "metadata": {},
   "source": [
    "*Created: 09/09/24*\n",
    "\n",
    "**Authors:** Ismael Mendoza\n",
    "\n",
    "The purpose of this notebook is to check the maximum number of chains we can run in 1 GPU."
   ]
  },
  {
   "cell_type": "code",
   "execution_count": 1,
   "id": "a5e4b35d-5df3-4951-86e0-abc26a117e7f",
   "metadata": {
    "tags": []
   },
   "outputs": [
    {
     "data": {
      "text/plain": [
       "'2'"
      ]
     },
     "execution_count": 1,
     "metadata": {},
     "output_type": "execute_result"
    }
   ],
   "source": [
    "import os\n",
    "os.environ['CUDA_VISIBLE_DEVICES'] = '2'\n",
    "os.environ['CUDA_VISIBLE_DEVICES']"
   ]
  },
  {
   "cell_type": "code",
   "execution_count": 2,
   "id": "ca4bd286-da42-4beb-bac2-811b07c81996",
   "metadata": {
    "tags": []
   },
   "outputs": [],
   "source": [
    "import jax \n",
    "import jax.numpy as jnp\n",
    "from jax.scipy import stats\n",
    "\n",
    "from jax import random\n",
    "from jax import jit as jjit"
   ]
  },
  {
   "cell_type": "code",
   "execution_count": 3,
   "id": "184dfb1b-400c-4433-a94f-80edd264e324",
   "metadata": {
    "tags": []
   },
   "outputs": [
    {
     "name": "stderr",
     "output_type": "stream",
     "text": [
      "2024-09-09 11:31:20.982942: W external/xla/xla/service/gpu/nvptx_compiler.cc:836] The NVIDIA driver's CUDA version is 12.2 which is older than the PTX compiler version (12.6.20). Because the driver is older than the PTX compiler version, XLA is disabling parallel compilation, which may slow down compilation. You should update your NVIDIA driver or use the NVIDIA-provided CUDA forward compatibility packages.\n",
      "2024-09-09 11:31:36.603770: W tensorflow/compiler/tf2tensorrt/utils/py_utils.cc:38] TF-TRT Warning: Could not find TensorRT\n"
     ]
    }
   ],
   "source": [
    "import galsim \n",
    "import jax_galsim as xgalsim"
   ]
  },
  {
   "cell_type": "code",
   "execution_count": 4,
   "id": "dbd40aa0-7e80-42d6-8174-364b78b4af80",
   "metadata": {
    "tags": []
   },
   "outputs": [
    {
     "name": "stderr",
     "output_type": "stream",
     "text": [
      "/pscratch/sd/i/imendoza/miniconda3/envs/bpd_gpu2/lib/python3.10/site-packages/tqdm/auto.py:21: TqdmWarning: IProgress not found. Please update jupyter and ipywidgets. See https://ipywidgets.readthedocs.io/en/stable/user_install.html\n",
      "  from .autonotebook import tqdm as notebook_tqdm\n"
     ]
    }
   ],
   "source": [
    "import blackjax\n",
    "import numpy as np \n",
    "\n",
    "import arviz as az\n",
    "import chainconsumer as cc\n",
    "import matplotlib.pyplot as plt\n",
    "\n",
    "import numpyro\n",
    "import time\n",
    "from datetime import date\n",
    "import numpy as np\n",
    "\n",
    "import matplotlib.pyplot as plt "
   ]
  },
  {
   "cell_type": "code",
   "execution_count": 5,
   "id": "abe90b2f-7299-4a77-bfa1-ac72f4b027ba",
   "metadata": {
    "tags": []
   },
   "outputs": [],
   "source": [
    "from tqdm import tqdm"
   ]
  },
  {
   "cell_type": "code",
   "execution_count": 6,
   "id": "2bb111b1-6ba0-4d7b-9e22-967ad77a1f17",
   "metadata": {
    "tags": []
   },
   "outputs": [],
   "source": [
    "from functools import partial"
   ]
  },
  {
   "cell_type": "code",
   "execution_count": 7,
   "id": "ec638526-7fb0-43ea-a0d4-4991b4c03f51",
   "metadata": {
    "tags": []
   },
   "outputs": [],
   "source": [
    "from blackjax.diagnostics import effective_sample_size, potential_scale_reduction"
   ]
  },
  {
   "cell_type": "code",
   "execution_count": 8,
   "id": "c6d47c02-2ff8-4112-b22d-90064a77385f",
   "metadata": {
    "tags": []
   },
   "outputs": [],
   "source": [
    "import bpd\n",
    "from bpd.draw import add_noise\n",
    "from bpd.measure import get_snr\n"
   ]
  },
  {
   "cell_type": "code",
   "execution_count": 9,
   "id": "d99369b4-02b8-4298-bbd2-006e36128984",
   "metadata": {
    "tags": []
   },
   "outputs": [],
   "source": [
    "from bpd.chains import inference_loop"
   ]
  },
  {
   "cell_type": "code",
   "execution_count": 10,
   "id": "50d4e1f6-8301-4368-a4b0-68b6da05ffbb",
   "metadata": {
    "tags": []
   },
   "outputs": [
    {
     "data": {
      "text/plain": [
       "[CudaDevice(id=0)]"
      ]
     },
     "execution_count": 10,
     "metadata": {},
     "output_type": "execute_result"
    }
   ],
   "source": [
    "jax.devices()"
   ]
  },
  {
   "cell_type": "code",
   "execution_count": 11,
   "id": "54c203ab-650b-43eb-afb6-d186ac640c28",
   "metadata": {
    "tags": []
   },
   "outputs": [],
   "source": [
    "GPU = jax.devices('gpu')[0]"
   ]
  },
  {
   "cell_type": "code",
   "execution_count": 12,
   "id": "6c76eece-f4e6-461b-920e-18ed4d810f41",
   "metadata": {
    "tags": []
   },
   "outputs": [],
   "source": [
    "jax.config.update(\"jax_default_device\", GPU)"
   ]
  },
  {
   "cell_type": "code",
   "execution_count": 13,
   "id": "b27fa20b-34b9-4052-b611-a47b1f9e9067",
   "metadata": {
    "tags": []
   },
   "outputs": [],
   "source": [
    "jax.config.update(\"jax_enable_x64\", True) # fair comparison with GalSim, among other reasons"
   ]
  },
  {
   "cell_type": "code",
   "execution_count": 14,
   "id": "eed6d2e7-65fc-4121-a74b-9f5d8b835162",
   "metadata": {
    "tags": []
   },
   "outputs": [],
   "source": [
    "CB_color_cycle = ['#377eb8', '#ff7f00', '#4daf4a',\n",
    "                  '#f781bf', '#a65628', '#984ea3',\n",
    "                  '#999999', '#e41a1c', '#dede00'] # https://gist.github.com/thriveth/8560036"
   ]
  },
  {
   "cell_type": "markdown",
   "id": "8abfc07f-46e8-4c33-9139-ca93965b9ce4",
   "metadata": {
    "tags": []
   },
   "source": [
    "# Drawing methods"
   ]
  },
  {
   "cell_type": "code",
   "execution_count": 15,
   "id": "cabdd06e-eef8-4cf5-b955-bd73dfbbbee0",
   "metadata": {
    "tags": []
   },
   "outputs": [],
   "source": [
    "# constant galaxy parameters to fit \n",
    "PIXEL_SCALE = 0.2\n",
    "BACKGROUND = 1e4\n",
    "SLEN= 53\n",
    "PSF_HLR = 0.7\n",
    "\n",
    "LOG_FLUX = 4.5\n",
    "HLR = 0.9\n",
    "G1 = 0.05\n",
    "G2 = 0.0\n",
    "X=0.\n",
    "Y=0.\n",
    "\n",
    "TRUE_PARAMS = {'f': LOG_FLUX, 'hlr': HLR, 'g1': G1, 'g2': G2, 'x': X, 'y': Y}"
   ]
  },
  {
   "cell_type": "code",
   "execution_count": 16,
   "id": "40fa5f3d-af1a-4384-b455-66e10e0b6599",
   "metadata": {
    "tags": []
   },
   "outputs": [],
   "source": [
    "def _draw_gal():\n",
    "    gal = galsim.Gaussian(flux=10**LOG_FLUX, half_light_radius=HLR)\n",
    "    gal = gal.shift(dx=X, dy=Y)\n",
    "    gal = gal.shear(g1=G1, g2=G2)\n",
    "    \n",
    "    psf = galsim.Gaussian(flux=1., half_light_radius=PSF_HLR)\n",
    "    gal_conv = galsim.Convolve([gal, psf])\n",
    "    image = gal_conv.drawImage(nx=SLEN,ny=SLEN,scale=PIXEL_SCALE,\n",
    "                                 )\n",
    "    return image.array"
   ]
  },
  {
   "cell_type": "code",
   "execution_count": 17,
   "id": "6f627ae5-340d-4265-a8f5-f125b394c6ad",
   "metadata": {
    "tags": []
   },
   "outputs": [
    {
     "data": {
      "text/plain": [
       "<matplotlib.colorbar.Colorbar at 0x7fc6e836fb50>"
      ]
     },
     "execution_count": 17,
     "metadata": {},
     "output_type": "execute_result"
    },
    {
     "data": {
      "image/png": "[encoded data removed]",
      "text/plain": [
       "<Figure size 640x480 with 2 Axes>"
      ]
     },
     "metadata": {},
     "output_type": "display_data"
    }
   ],
   "source": [
    "im_nn = _draw_gal()\n",
    "im = add_noise(im_nn, BACKGROUND)[0] ## does not add background just noise\n",
    "plt.imshow(im)\n",
    "plt.colorbar()"
   ]
  },
  {
   "cell_type": "code",
   "execution_count": 18,
   "id": "410a3e98-6eef-4596-b68f-5c2434ab43ee",
   "metadata": {
    "tags": []
   },
   "outputs": [
    {
     "name": "stdout",
     "output_type": "stream",
     "text": [
      "18.25107\n"
     ]
    }
   ],
   "source": [
    "print(get_snr(im_nn, BACKGROUND))"
   ]
  },
  {
   "cell_type": "code",
   "execution_count": 19,
   "id": "ebc5ac77-953e-434d-813b-d58c49ad1cb8",
   "metadata": {},
   "outputs": [],
   "source": [
    "from functools import partial\n",
    "# jax drawing\n",
    "GSPARAMS = xgalsim.GSParams(minimum_fft_size=256, maximum_fft_size=256)\n",
    "PIXEL_SCALE_GPU = jax.device_put(PIXEL_SCALE, device=GPU)\n",
    "TEN_GPU = jnp.array(10., device=GPU)\n",
    "ONE_GPU = jnp.array(1., device=GPU)\n",
    "PSF_HLR_GPU = jnp.array(PSF_HLR, device=GPU)\n",
    "SLEN_GPU = jnp.array(SLEN, device=GPU)\n",
    "\n",
    "def draw_gal(f, hlr, g1, g2, x, y):\n",
    "    # x, y arguments in pixels\n",
    "    gal = xgalsim.Gaussian(flux=TEN_GPU**f, half_light_radius=hlr)\n",
    "    gal = gal.shift(dx=x*PIXEL_SCALE_GPU, dy=y*PIXEL_SCALE_GPU)\n",
    "    gal = gal.shear(g1=g1, g2=g2)\n",
    "    \n",
    "    psf = xgalsim.Gaussian(flux=ONE_GPU, half_light_radius=PSF_HLR_GPU)\n",
    "    gal_conv = xgalsim.Convolve([gal, psf]).withGSParams(GSPARAMS)\n",
    "    image = gal_conv.drawImage(nx=SLEN,ny=SLEN, ## if I change this to SLEN_GPU, get error\n",
    "                               scale=PIXEL_SCALE_GPU,\n",
    "                            )\n",
    "    return image.array"
   ]
  },
  {
   "cell_type": "code",
   "execution_count": 20,
   "id": "41ed5bb5-4654-4af6-be25-85975a9d218c",
   "metadata": {
    "tags": []
   },
   "outputs": [
    {
     "data": {
      "text/plain": [
       "<matplotlib.colorbar.Colorbar at 0x7fc6d01875e0>"
      ]
     },
     "execution_count": 20,
     "metadata": {},
     "output_type": "execute_result"
    },
    {
     "data": {
      "image/png": "[encoded data removed]",
      "text/plain": [
       "<Figure size 640x480 with 2 Axes>"
      ]
     },
     "metadata": {},
     "output_type": "display_data"
    }
   ],
   "source": [
    "# sanity check 1\n",
    "res = im - draw_gal(**TRUE_PARAMS)\n",
    "plt.imshow(res)\n",
    "plt.colorbar()"
   ]
  },
  {
   "cell_type": "code",
   "execution_count": 21,
   "id": "69f41686-0282-4d66-beec-da9dfa233747",
   "metadata": {
    "tags": []
   },
   "outputs": [
    {
     "data": {
      "text/plain": [
       "<matplotlib.colorbar.Colorbar at 0x7fc6c063ba90>"
      ]
     },
     "execution_count": 21,
     "metadata": {},
     "output_type": "execute_result"
    },
    {
     "data": {
      "image/png": "[encoded data removed]",
      "text/plain": [
       "<Figure size 640x480 with 2 Axes>"
      ]
     },
     "metadata": {},
     "output_type": "display_data"
    }
   ],
   "source": [
    "# sanity check 2\n",
    "res = im_nn - draw_gal(**TRUE_PARAMS)\n",
    "plt.imshow(res)\n",
    "plt.colorbar()"
   ]
  },
  {
   "cell_type": "code",
   "execution_count": 22,
   "id": "1b8ace33-baee-4de1-802b-385aee031983",
   "metadata": {
    "tags": []
   },
   "outputs": [
    {
     "name": "stdout",
     "output_type": "stream",
     "text": [
      "102 μs ± 457 ns per loop (mean ± std. dev. of 7 runs, 10,000 loops each)\n",
      "426 μs ± 13.8 μs per loop (mean ± std. dev. of 7 runs, 1,000 loops each)\n"
     ]
    }
   ],
   "source": [
    "# timing makes sense\n",
    "TRUE_PARAMS_GPU = jax.device_put(TRUE_PARAMS, device=GPU)\n",
    "\n",
    "draw_gal_jitted = jax.jit(draw_gal)\n",
    "draw_gal_jitted(**TRUE_PARAMS_GPU)\n",
    "\n",
    "%timeit draw_gal_jitted(**TRUE_PARAMS_GPU) # ~ 4x fast\n",
    "%timeit _draw_gal()"
   ]
  },
  {
   "cell_type": "markdown",
   "id": "e64b735c-8b5b-4256-b00a-0958b3202127",
   "metadata": {
    "tags": []
   },
   "source": [
    "# Setup logprob"
   ]
  },
  {
   "cell_type": "code",
   "execution_count": 23,
   "id": "05cf9bda-d929-4823-bc56-334d3b9956e1",
   "metadata": {
    "tags": []
   },
   "outputs": [],
   "source": [
    "TRUE_PARAMS_GPU = jax.device_put(TRUE_PARAMS, device=GPU)\n",
    "BACKGROUND_GPU = jax.device_put(BACKGROUND, device=GPU)\n",
    "BOUNDS = {'f': (-1., 9.), 'hlr': (0.01, 5.0), \n",
    "          'g1': (-0.7, 0.7), 'g2': (-0.7, 0.7), \n",
    "          'x': 1,  # sigma (in pixels)\n",
    "          'y':1 # sigma (in pixels)\n",
    "}\n",
    "BOUNDS_GPU = jax.device_put(BOUNDS, device=GPU)"
   ]
  },
  {
   "cell_type": "code",
   "execution_count": 24,
   "id": "4816840d-2fc6-47bd-a283-f61eef1ced28",
   "metadata": {
    "tags": []
   },
   "outputs": [],
   "source": [
    "def prior_sample(rng_key, n:int):\n",
    "    f = random.uniform(rng_key, (n,), minval=BOUNDS_GPU['f'][0], maxval=BOUNDS_GPU['f'][1])\n",
    "    hlr = random.uniform(rng_key, (n,), minval=BOUNDS_GPU['hlr'][0], maxval=BOUNDS_GPU['hlr'][1])\n",
    "    g1 = random.uniform(rng_key, (n,), minval=BOUNDS_GPU['g1'][0], maxval=BOUNDS_GPU['g1'][1])\n",
    "    g2 = random.uniform(rng_key, (n,), minval=BOUNDS_GPU['g2'][0], maxval=BOUNDS_GPU['g2'][1])\n",
    "    x = random.normal(rng_key, (n,)) * BOUNDS_GPU['x'] # mean = 0 , sigma=1\n",
    "    y = random.normal(rng_key, (n,)) * BOUNDS_GPU['y'] # mean = 0, sigma=1\n",
    "    \n",
    "    return {'f': f, 'hlr': hlr, 'g1': g1, 'g2': g2, 'x': x, 'y': y} "
   ]
  },
  {
   "cell_type": "code",
   "execution_count": 25,
   "id": "3c367a37-338f-4182-8562-5f073451d301",
   "metadata": {
    "tags": []
   },
   "outputs": [],
   "source": [
    "# sample from ball around some dictionary of true params\n",
    "def sample_ball(rng_key, center_params:dict):\n",
    "    new = {} \n",
    "    keys = random.split(rng_key, len(center_params.keys()))\n",
    "    rng_key_dict = {p:k for p,k in zip(center_params, keys)}\n",
    "    for p in center_params:\n",
    "        centr = center_params[p]\n",
    "        if p == 'f':\n",
    "            new[p] = random.uniform(rng_key_dict[p], shape=(), minval=centr - 0.25, maxval=centr + 0.25)\n",
    "        elif p == 'hlr':\n",
    "            new[p] = random.uniform(rng_key_dict[p], shape=(), minval=centr - 0.2, maxval=centr + 0.2)\n",
    "        elif p in {'g1', 'g2'}:\n",
    "            new[p] = random.uniform(rng_key_dict[p], shape=(), minval=centr - 0.025, maxval=centr + 0.025)\n",
    "        elif p in {'x', 'y'}:\n",
    "            new[p] = random.uniform(rng_key_dict[p], shape=(), minval=centr - 0.5, maxval=centr + 0.5)\n",
    "    return new\n",
    "        \n"
   ]
  },
  {
   "cell_type": "code",
   "execution_count": 26,
   "id": "71f033be-4e4e-405f-b5e0-e4e35f4105e4",
   "metadata": {
    "tags": []
   },
   "outputs": [],
   "source": [
    "def _logprob_fn(params, data):    \n",
    "    #prior\n",
    "    prior = jnp.array(0., device=GPU) \n",
    "    for p in ('f', 'hlr', 'g1', 'g2'): # uniform priors\n",
    "        b1, b2 = BOUNDS_GPU[p]\n",
    "        prior += stats.uniform.logpdf(params[p], b1, b2-b1)\n",
    "        \n",
    "    for p in ('x', 'y'): # normal\n",
    "        sigma = BOUNDS_GPU[p]\n",
    "        prior += stats.norm.logpdf(params[p], sigma)\n",
    "\n",
    "    # likelihood\n",
    "    model = draw_gal(**params)\n",
    "    likelihood = stats.norm.logpdf(data, loc=model, scale=jnp.sqrt(BACKGROUND_GPU))\n",
    "    \n",
    "    return jnp.sum(prior) + jnp.sum(likelihood)\n"
   ]
  },
  {
   "cell_type": "markdown",
   "id": "fb55a4f1-e87d-41ec-aa29-4475b138cf9f",
   "metadata": {
    "tags": []
   },
   "source": [
    "# Benchmark 2.5"
   ]
  },
  {
   "cell_type": "code",
   "execution_count": 29,
   "id": "ca13b7c5-77e4-4223-9aa5-8d02654e363e",
   "metadata": {
    "tags": []
   },
   "outputs": [],
   "source": [
    "# what parameter space do we want to explore?\n",
    "N_WARMUPS = 500 # seems good enough\n",
    "MAX_DOUBLINGS = 5 # maybe good enough, 10 is a lot and probably need to explore what is good in terms of warmpu first, otherwise one chain can easily get stuck\n",
    "N_CHAINS = (200, 300, 500, 800,)"
   ]
  },
  {
   "cell_type": "code",
   "execution_count": 37,
   "id": "09d260b0-cadb-442a-bb9e-173f53a95a8c",
   "metadata": {
    "tags": []
   },
   "outputs": [],
   "source": [
    "N_SAMPLES = 100"
   ]
  },
  {
   "cell_type": "markdown",
   "id": "e91e3536-592a-420e-9d74-77a248f1f9de",
   "metadata": {
    "tags": []
   },
   "source": [
    "## Run"
   ]
  },
  {
   "cell_type": "code",
   "execution_count": 38,
   "id": "c1b2eed5-87ad-4ed4-b257-37021519df91",
   "metadata": {},
   "outputs": [],
   "source": [
    "SEED = 42"
   ]
  },
  {
   "cell_type": "code",
   "execution_count": 39,
   "id": "cf451ff5-e358-4c32-b1f1-644da7b715c6",
   "metadata": {
    "tags": []
   },
   "outputs": [],
   "source": [
    "results = [] # just for n_chains"
   ]
  },
  {
   "cell_type": "code",
   "execution_count": 40,
   "id": "a0fc88ba-b7e8-4a05-ad16-4b307455e803",
   "metadata": {},
   "outputs": [
    {
     "name": "stdout",
     "output_type": "stream",
     "text": [
      "{CudaDevice(id=0)} <class 'jaxlib.xla_extension.ArrayImpl'> (800, 53, 53)\n"
     ]
    }
   ],
   "source": [
    "# get data\n",
    "data = add_noise(_draw_gal(), BACKGROUND, \n",
    "                 rng=np.random.default_rng(SEED), \n",
    "                 n=max(N_CHAINS,)) \n",
    "data_gpu = jax.device_put(data, device=GPU)\n",
    "print(data_gpu.devices(), type(data_gpu), data_gpu.shape)"
   ]
  },
  {
   "cell_type": "code",
   "execution_count": 41,
   "id": "e9ae90ea-9e86-4c61-b924-58c7a13c35ee",
   "metadata": {},
   "outputs": [
    {
     "name": "stdout",
     "output_type": "stream",
     "text": [
      "{CudaDevice(id=0)}\n"
     ]
    }
   ],
   "source": [
    "# base rng key\n",
    "rng_key = jax.random.key(SEED)\n",
    "rng_key = jax.device_put(rng_key, device=GPU)\n",
    "print(rng_key.devices())"
   ]
  },
  {
   "cell_type": "code",
   "execution_count": 44,
   "id": "ee48d986-0cd5-421d-be46-26466bf27361",
   "metadata": {
    "tags": []
   },
   "outputs": [
    {
     "data": {
      "text/plain": [
       "(800,)"
      ]
     },
     "execution_count": 44,
     "metadata": {},
     "output_type": "execute_result"
    }
   ],
   "source": [
    "# we create all the random keys we will need\n",
    "ball_key, sample_key, warmup_key = random.split(rng_key, 3)\n",
    "\n",
    "ball_keys = random.split(ball_key, max(N_CHAINS))\n",
    "warmup_keys = random.split(warmup_key, max(N_CHAINS))\n",
    "sample_keys = random.split(sample_key, max(N_CHAINS))\n",
    "\n",
    "warmup_keys.shape"
   ]
  },
  {
   "cell_type": "code",
   "execution_count": 45,
   "id": "0b41643f-c135-4c2c-8aee-0cd47c92779c",
   "metadata": {
    "tags": []
   },
   "outputs": [
    {
     "data": {
      "text/plain": [
       "(800,)"
      ]
     },
     "execution_count": 45,
     "metadata": {},
     "output_type": "execute_result"
    }
   ],
   "source": [
    "all_init_positions = jax.vmap(sample_ball, in_axes=(0, None))(ball_keys, TRUE_PARAMS_GPU) # since we run 4 chains per noise realization in this case per object\n",
    "all_init_positions['f'].shape"
   ]
  },
  {
   "cell_type": "code",
   "execution_count": 46,
   "id": "14019ade-2308-45c7-951f-b6e11a6866fe",
   "metadata": {},
   "outputs": [],
   "source": [
    "# vmap only rng_key\n",
    "def do_warmup(rng_key, init_position:dict, data):\n",
    "    \n",
    "    _logdensity = partial(_logprob_fn, data=data)\n",
    "    \n",
    "    warmup = blackjax.window_adaptation(\n",
    "    blackjax.nuts, _logdensity, progress_bar=False, \n",
    "        is_mass_matrix_diagonal=False, \n",
    "        max_num_doublings=MAX_DOUBLINGS, \n",
    "        initial_step_size=0.1, \n",
    "        target_acceptance_rate=0.90 # default\n",
    "    )    \n",
    "    return warmup.run(rng_key, init_position, N_WARMUPS) # (init_states, tuned_params), adapt_info\n",
    "\n",
    "    \n",
    "def do_inference(rng_key, init_state, data, step_size:float, inverse_mass_matrix):\n",
    "    _logdensity = partial(_logprob_fn, data=data)\n",
    "    kernel = blackjax.nuts(_logdensity, step_size=step_size, inverse_mass_matrix=inverse_mass_matrix, \n",
    "                           max_num_doublings=MAX_DOUBLINGS).step\n",
    "    return inference_loop(rng_key, init_state, kernel=kernel, n_samples=N_SAMPLES) # state, info\n",
    "    \n"
   ]
  },
  {
   "cell_type": "code",
   "execution_count": 47,
   "id": "8db0cf76-1f1c-4a8f-a101-241464fcf3b4",
   "metadata": {},
   "outputs": [
    {
     "name": "stdout",
     "output_type": "stream",
     "text": [
      "n_chains:\n",
      "200\n",
      "300\n",
      "500\n",
      "800\n",
      "DONE!\n"
     ]
    }
   ],
   "source": [
    "\n",
    "# can be resued as we fixed warmup and samples and doublings\n",
    "_run_warmup =  jax.vmap(\n",
    "                        jax.jit(\n",
    "                                do_warmup\n",
    "                        ), in_axes=(0, 0, 0)\n",
    "\n",
    ")\n",
    "_run_inference = jax.vmap(\n",
    "                        jax.jit(\n",
    "                                do_inference\n",
    "                        ), in_axes=(0, 0, 0, 0, 0)\n",
    ")\n",
    "\n",
    "\n",
    "print('n_chains:')\n",
    "for ii, n_chains in enumerate(N_CHAINS):\n",
    "    d = {} # save results in this dictionary\n",
    "    print(n_chains)\n",
    "\n",
    "        \n",
    "    # subset what we need for the n_chains\n",
    "    _wkeys = warmup_keys[:n_chains]\n",
    "    _skeys = sample_keys[:n_chains]\n",
    "    _init_positions = {p:q[:n_chains] for p,q in all_init_positions.items()}\n",
    "    _data = data_gpu[:n_chains]\n",
    "\n",
    "\n",
    "    if ii == 0:\n",
    "        # compilation times\n",
    "        t1 = time.time()\n",
    "        (_init_states, _tuned_params), _ = jax.block_until_ready(_run_warmup(_wkeys, _init_positions, _data))            \n",
    "        t2 = time.time()\n",
    "        d['warmup_comp_time'] = t2 - t1 \n",
    "\n",
    "        t1 = time.time()\n",
    "        _ = jax.block_until_ready(_run_inference(_skeys, _init_states, _data, \n",
    "                                                            _tuned_params['step_size'], \n",
    "                                                            _tuned_params['inverse_mass_matrix']))\n",
    "        t2 = time.time()\n",
    "        d['inference_comp_time'] = t2 - t1 \n",
    "\n",
    "    # run times\n",
    "    t1 = time.time()\n",
    "    (init_states, tuned_params), adapt_info = jax.block_until_ready(_run_warmup(_wkeys, _init_positions, _data))\n",
    "    t2 = time.time()\n",
    "    d['warmup_run_time'] = t2 - t1 \n",
    "\n",
    "    t1 = time.time()\n",
    "    states, infos = jax.block_until_ready(_run_inference(_skeys, init_states, _data, \n",
    "                                                         tuned_params['step_size'], \n",
    "                                                         tuned_params['inverse_mass_matrix']\n",
    "                                                        ))\n",
    "    t2 = time.time()\n",
    "    d['inference_run_time'] = t2 - t1 \n",
    "\n",
    "    # save states and info for future reference\n",
    "    d['states'] = states\n",
    "    d['info'] = infos\n",
    "    d['adapt_info'] = adapt_info\n",
    "    d['tuned_params'] = tuned_params\n",
    "    \n",
    "    results.append(d)\n",
    "print('DONE!')"
   ]
  },
  {
   "cell_type": "code",
   "execution_count": 48,
   "id": "54ec03a5-79ed-43e7-8d91-1211232381b9",
   "metadata": {
    "tags": []
   },
   "outputs": [
    {
     "data": {
      "text/plain": [
       "(800, 100)"
      ]
     },
     "execution_count": 48,
     "metadata": {},
     "output_type": "execute_result"
    }
   ],
   "source": [
    "results[-1]['states'].position['f'].shape"
   ]
  },
  {
   "cell_type": "code",
   "execution_count": 51,
   "id": "53df511e-ef98-47eb-b0bb-9736a0566b26",
   "metadata": {
    "tags": []
   },
   "outputs": [
    {
     "data": {
      "text/plain": [
       "(0.4808181238174438, 0.4756063461303711)"
      ]
     },
     "execution_count": 51,
     "metadata": {},
     "output_type": "execute_result"
    }
   ],
   "source": [
    "results[0]['warmup_run_time'] / 200, results[0]['inference_run_time'] / 200 / 100 * 1000"
   ]
  },
  {
   "cell_type": "code",
   "execution_count": 52,
   "id": "3c9bef94-f74b-4dbc-83e5-91021fda3bac",
   "metadata": {
    "tags": []
   },
   "outputs": [],
   "source": [
    "results_dict = {n_chains:results[ii] for ii, n_chains in enumerate(N_CHAINS)}"
   ]
  },
  {
   "cell_type": "markdown",
   "id": "7ce16c47-8a10-4a9b-915d-80f84d985284",
   "metadata": {
    "tags": []
   },
   "source": [
    "## save run"
   ]
  },
  {
   "cell_type": "code",
   "execution_count": 53,
   "id": "1fb85de8-e903-4b13-8ac3-316fcbcc8a2a",
   "metadata": {
    "tags": []
   },
   "outputs": [],
   "source": [
    "jnp.save(f'results_benchmark-v2_5_{SEED}.npy', results_dict)"
   ]
  },
  {
   "cell_type": "code",
   "execution_count": null,
   "id": "a957d849-e676-463a-bcd6-969fab2e1577",
   "metadata": {},
   "outputs": [],
   "source": []
  }
 ],
 "metadata": {
  "kernelspec": {
   "display_name": "bpd_gpu2",
   "language": "python",
   "name": "bpd_gpu2"
  },
  "language_info": {
   "codemirror_mode": {
    "name": "ipython",
    "version": 3
   },
   "file_extension": ".py",
   "mimetype": "text/x-python",
   "name": "python",
   "nbconvert_exporter": "python",
   "pygments_lexer": "ipython3",
   "version": "3.10.14"
  }
 },
 "nbformat": 4,
 "nbformat_minor": 5
}
