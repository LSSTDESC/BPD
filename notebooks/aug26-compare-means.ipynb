{
 "cells": [
  {
   "cell_type": "code",
   "execution_count": 1,
   "id": "16ed855f-07ed-41ed-b536-85c8bee2d9d1",
   "metadata": {},
   "outputs": [],
   "source": [
    "import os\n",
    "\n",
    "os.environ[\"JAX_PLATFORMS\"] = \"cpu\"\n",
    "os.environ[\"JAX_ENABLE_X64\"] = \"True\"\n"
   ]
  },
  {
   "cell_type": "code",
   "execution_count": 2,
   "id": "cb2fa7c9-4748-493a-81a9-f8bf2e1a83fc",
   "metadata": {},
   "outputs": [],
   "source": [
    "from bpd.io import load_dataset, save_dataset\n",
    "import matplotlib.pyplot as plt \n",
    "import numpy as np \n",
    "\n"
   ]
  },
  {
   "cell_type": "markdown",
   "id": "e379351c-85fc-4b0f-8a22-5a4e6bf2e70c",
   "metadata": {},
   "source": [
    "# Compare means and errors across groups"
   ]
  },
  {
   "cell_type": "code",
   "execution_count": 14,
   "id": "e1320187-90b9-4cce-b2b2-4a046c262b23",
   "metadata": {},
   "outputs": [],
   "source": [
    "fpath1= \"/pscratch/sd/i/imendoza/data/cache_chains/exp70_51/g_samples_512_plus.npz\"\n",
    "fpath2= \"/pscratch/sd/i/imendoza/data/cache_chains/exp71_51/shear_samples_512_plus.npz\"\n",
    "fpath3= \"/pscratch/sd/i/imendoza/data/cache_chains/exp72_51/g_samples_512_plus.npz\"\n",
    "fpath4= \"/pscratch/sd/i/imendoza/data/cache_chains/exp73_51/shear_samples_512_plus.npz\"\n",
    "\n",
    "fpaths = [fpath1, fpath2, fpath3, fpath4]"
   ]
  },
  {
   "cell_type": "code",
   "execution_count": 15,
   "id": "6ebf7e29-bb67-41b0-9a3e-53649a5026b2",
   "metadata": {},
   "outputs": [],
   "source": [
    "efpath1= \"/pscratch/sd/i/imendoza/data/cache_chains/exp70_51/g_samples_514_errs.npz\"\n",
    "efpath2= \"/pscratch/sd/i/imendoza/data/cache_chains/exp71_51/g_samples_514_errs.npz\"\n",
    "efpath3= \"/pscratch/sd/i/imendoza/data/cache_chains/exp72_51/g_samples_514_errs.npz\"\n",
    "efpath4= \"/pscratch/sd/i/imendoza/data/cache_chains/exp73_51/g_samples_514_errs.npz\"\n",
    "\n",
    "errs_fpaths = [efpath1, efpath2, efpath3, efpath4]"
   ]
  },
  {
   "cell_type": "code",
   "execution_count": 16,
   "id": "d5d1f7d5-d9ad-4bf2-b66c-9f6d789a8942",
   "metadata": {},
   "outputs": [],
   "source": [
    "mu1 = []\n",
    "sigma1 = [] \n",
    "for fpath in fpaths:\n",
    "    ds = load_dataset(fpath)\n",
    "    g1 = ds['samples']['g1']\n",
    "    assert g1.ndim == 1\n",
    "    mu1.append(g1.mean())\n",
    "    sigma1.append(g1.std())"
   ]
  },
  {
   "cell_type": "code",
   "execution_count": 17,
   "id": "8b0dbfbe-0907-491f-828b-a544a2345397",
   "metadata": {},
   "outputs": [],
   "source": [
    "# # plt.hist(g1)\n",
    "# plt.hist(g1s[10, :])\n",
    "# plt.hist(g1)"
   ]
  },
  {
   "cell_type": "code",
   "execution_count": 18,
   "id": "9ab482c9-1669-45f1-9e96-02c889b8d8b3",
   "metadata": {},
   "outputs": [],
   "source": [
    "mu2 = []\n",
    "sigma2 = [] \n",
    "for fp in errs_fpaths:\n",
    "    ds = load_dataset(fp)\n",
    "    g1s = ds['plus']['g1']\n",
    "    mu2.append(g1s.mean())\n",
    "    sigma2.append(g1s.std(axis=1).mean() / np.sqrt(len(g1s)))"
   ]
  },
  {
   "cell_type": "code",
   "execution_count": 19,
   "id": "bd63ec79-3a38-445d-8909-51200d30fb5f",
   "metadata": {},
   "outputs": [],
   "source": [
    "# remember wrong for case 4 \n",
    "mu3 = []\n",
    "for fp in errs_fpaths:\n",
    "    ds = load_dataset(fp)\n",
    "    g1 = ds['plus']['g1']\n",
    "    Sigma = np.sum((g1.var(axis=1))**-1)**-1\n",
    "    fmu = Sigma * np.sum(g1.var(axis=1)**-1 * g1.mean(axis=1))\n",
    "    mu3.append(fmu)"
   ]
  },
  {
   "cell_type": "code",
   "execution_count": 20,
   "id": "e2807314-be7c-4a29-945c-fff3f8a07e52",
   "metadata": {},
   "outputs": [],
   "source": [
    "# # # remember wrong for case 4 \n",
    "# mu4 = []\n",
    "# for fp in errs_fpaths:\n",
    "#     ds = load_dataset(fp)\n",
    "#     g1 = ds['plus']['g1'] \n",
    "#     g2 = ds['plus']['g2']\n",
    "#     gs = np.stack([g1,g2], axis=-1)\n",
    "#     mu = gps.mean(1)\n",
    "#     covs = [] \n",
    "#     for ii in range(len(gs)):\n",
    "#         covs.append(np.cov(gs[ii].T))\n",
    "#     covs = np.stack(covs)\n",
    "    \n",
    "#     fcov = 0. \n",
    "#     for ii in range(len(covs)):\n",
    "#         fcov += np.linalg.inv(covs[ii])\n",
    "#     fcov = np.linalg.inv(fcov)\n",
    "    \n",
    "#     fmu = 0.\n",
    "#     for ii in range(len(covs)):\n",
    "#         fmu += np.linalg.inv(covs[ii]).dot(mu[ii].T)\n",
    "    \n",
    "#     fmu = fcov.dot(fmu)\n",
    "#     mu4.append(fmu[0])"
   ]
  },
  {
   "cell_type": "code",
   "execution_count": 21,
   "id": "3588828a-6924-4a0e-8fc7-7346122b0068",
   "metadata": {},
   "outputs": [
    {
     "data": {
      "image/png": "[encoded data removed]",
      "text/plain": [
       "<Figure size 400x400 with 1 Axes>"
      ]
     },
     "metadata": {},
     "output_type": "display_data"
    }
   ],
   "source": [
    "\n",
    "fig, ax = plt.subplots(1,1, figsize=(4,4))\n",
    "ys = np.array([0.75, 0.5, 0.25, 0.0])\n",
    "\n",
    "# multiplicative bias\n",
    "ax.errorbar(x=mu1, y=ys, color=\"k\", fmt=\"o\", capsize=10.0, label='full')\n",
    "ax.errorbar(x=mu2,  y=ys+0.05, color=\"r\", fmt=\"o\", capsize=10.0, label='subset')\n",
    "# ax.errorbar(x=mu3, y=ys+0.1, color=\"b\", fmt=\"o\", capsize=10.0)\n",
    "# ax.errorbar(x=mu4, y=ys-0.05, color=\"m\", fmt=\"o\", capsize=10.0)\n",
    "\n",
    "\n",
    "ax.set_yticks([0.75, 0.5, 0.25, 0.0])\n",
    "ax.set_yticklabels([\"shapes-fixed\", \"shapes-all\", \"all-fixed\", \"all-free\"])\n",
    "plt.title(\"g2\")\n",
    "# ax.set_ylim(-0.1, 0.85)\n",
    "\n",
    "\n",
    "\n",
    "# ax.set_xlim(-3, 3)\n",
    "plt.legend()\n",
    "plt.tight_layout()"
   ]
  },
  {
   "cell_type": "code",
   "execution_count": 41,
   "id": "5a85a990-ad08-4bbd-8227-3ee247670ce1",
   "metadata": {},
   "outputs": [
    {
     "data": {
      "text/plain": [
       "[np.float64(0.020581086706269302),\n",
       " np.float64(0.020581601642302313),\n",
       " np.float64(0.020550694288506016),\n",
       " np.float64(0.020540975134959158)]"
      ]
     },
     "execution_count": 41,
     "metadata": {},
     "output_type": "execute_result"
    }
   ],
   "source": [
    "mu1"
   ]
  },
  {
   "cell_type": "code",
   "execution_count": null,
   "id": "6ea93ea8-302b-42c7-8acc-81c2094fc72a",
   "metadata": {},
   "outputs": [],
   "source": []
  }
 ],
 "metadata": {
  "kernelspec": {
   "display_name": "bpd_gpu4",
   "language": "python",
   "name": "bpd_gpu4"
  },
  "language_info": {
   "codemirror_mode": {
    "name": "ipython",
    "version": 3
   },
   "file_extension": ".py",
   "mimetype": "text/x-python",
   "name": "python",
   "nbconvert_exporter": "python",
   "pygments_lexer": "ipython3",
   "version": "3.12.11"
  }
 },
 "nbformat": 4,
 "nbformat_minor": 5
}
