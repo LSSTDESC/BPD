{
 "cells": [
  {
   "cell_type": "code",
   "execution_count": 2,
   "id": "ca71563c-3c6c-4ff0-bc1c-b9e12eb59b12",
   "metadata": {},
   "outputs": [],
   "source": [
    "import os\n",
    "\n",
    "os.environ[\"CUDA_VISIBLE_DEVICES\"] = \"\"\n",
    "os.environ[\"JAX_PLATFORMS\"] = \"cpu\"\n",
    "os.environ[\"JAX_ENABLE_X64\"] = \"True\"\n"
   ]
  },
  {
   "cell_type": "code",
   "execution_count": 14,
   "id": "c78fb390-d4a2-48d2-a7be-154c604dbadb",
   "metadata": {},
   "outputs": [],
   "source": [
    "from bpd.io import load_dataset\n",
    "from bpd import DATA_DIR\n",
    "\n",
    "import numpy as np "
   ]
  },
  {
   "cell_type": "code",
   "execution_count": 15,
   "id": "e12f1be5-692f-416b-b505-5b082a6c735c",
   "metadata": {},
   "outputs": [],
   "source": [
    "CHAIN_DIR = DATA_DIR / \"cache_chains\"\n",
    "\n",
    "fpath = CHAIN_DIR / \"exp23_43\" / \"convergence_results_43.npz\""
   ]
  },
  {
   "cell_type": "code",
   "execution_count": 16,
   "id": "fbbc0f87-5ece-4655-868a-317f8779a498",
   "metadata": {},
   "outputs": [],
   "source": [
    "ds = load_dataset(fpath)"
   ]
  },
  {
   "cell_type": "code",
   "execution_count": 17,
   "id": "6984d4e6-80fd-4f71-a722-4577ec196f5e",
   "metadata": {},
   "outputs": [
    {
     "data": {
      "text/plain": [
       "dict_keys(['ess', 'rhat'])"
      ]
     },
     "execution_count": 17,
     "metadata": {},
     "output_type": "execute_result"
    }
   ],
   "source": [
    "ds.keys()\n"
   ]
  },
  {
   "cell_type": "code",
   "execution_count": 21,
   "id": "6c645f0d-b708-4b30-9ca4-99e81a8c9b29",
   "metadata": {},
   "outputs": [
    {
     "data": {
      "text/plain": [
       "[('dy', np.float64(0.988790390588664)),\n",
       " ('e2', np.float64(0.9563545371456563)),\n",
       " ('e1', np.float64(0.9552672114613644)),\n",
       " ('dx', np.float64(0.9878895270168526)),\n",
       " ('lf', np.float64(0.7380994000220564)),\n",
       " ('lhlr', np.float64(0.6615340697516818))]"
      ]
     },
     "execution_count": 21,
     "metadata": {},
     "output_type": "execute_result"
    }
   ],
   "source": [
    "[ (k, ds['ess'][k].mean()) for k in ds['ess']]"
   ]
  },
  {
   "cell_type": "code",
   "execution_count": 18,
   "id": "7f49f2a9-9db5-4c97-9770-b33d8a225b3c",
   "metadata": {},
   "outputs": [
    {
     "data": {
      "text/plain": [
       "np.float64(0.8813225226643793)"
      ]
     },
     "execution_count": 18,
     "metadata": {},
     "output_type": "execute_result"
    }
   ],
   "source": [
    "np.mean([ds['ess'][k].mean() for k in ds['ess']])"
   ]
  },
  {
   "cell_type": "code",
   "execution_count": null,
   "id": "fec29e5c-e358-40b0-8c59-6c7797cf40c0",
   "metadata": {},
   "outputs": [],
   "source": []
  }
 ],
 "metadata": {
  "kernelspec": {
   "display_name": "bpd_gpu",
   "language": "python",
   "name": "bpd_gpu"
  },
  "language_info": {
   "codemirror_mode": {
    "name": "ipython",
    "version": 3
   },
   "file_extension": ".py",
   "mimetype": "text/x-python",
   "name": "python",
   "nbconvert_exporter": "python",
   "pygments_lexer": "ipython3",
   "version": "3.12.9"
  }
 },
 "nbformat": 4,
 "nbformat_minor": 5
}
