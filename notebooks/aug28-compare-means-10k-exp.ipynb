{
 "cells": [
  {
   "cell_type": "code",
   "execution_count": 1,
   "id": "9048603b-4d23-4025-8a9c-3c2b53598601",
   "metadata": {},
   "outputs": [],
   "source": [
    "import os\n",
    "\n",
    "os.environ[\"JAX_PLATFORMS\"] = \"cpu\"\n",
    "os.environ[\"JAX_ENABLE_X64\"] = \"True\"\n"
   ]
  },
  {
   "cell_type": "code",
   "execution_count": 2,
   "id": "15326c26-d22b-4ec2-a32b-620522c6fc0b",
   "metadata": {},
   "outputs": [],
   "source": [
    "import matplotlib.pyplot as plt \n",
    "\n",
    "from bpd.io import load_dataset"
   ]
  },
  {
   "cell_type": "markdown",
   "id": "92b78e73-59c1-4da4-9d9b-09029f407842",
   "metadata": {},
   "source": [
    "# Load"
   ]
  },
  {
   "cell_type": "code",
   "execution_count": 3,
   "id": "20423b49-46f6-4869-8e98-e97a1fa20ffe",
   "metadata": {},
   "outputs": [],
   "source": [
    "fpath1= \"/pscratch/sd/i/imendoza/data/cache_chains/exp70_51/g_samples_boots_111.npz\"\n",
    "fpaths= [\n",
    "\"/pscratch/sd/i/imendoza/data/cache_chains/exp70_51/g_samples_1111_errs.npz\",\n",
    "\"/pscratch/sd/i/imendoza/data/cache_chains/exp70_51/g_samples_1112_errs.npz\",\n",
    "\"/pscratch/sd/i/imendoza/data/cache_chains/exp70_51/g_samples_1113_errs.npz\",\n",
    "\"/pscratch/sd/i/imendoza/data/cache_chains/exp70_51/g_samples_1114_errs.npz\",\n",
    "\"/pscratch/sd/i/imendoza/data/cache_chains/exp70_51/g_samples_1115_errs.npz\",\n",
    "]"
   ]
  },
  {
   "cell_type": "code",
   "execution_count": 5,
   "id": "d4c0ef8c-c570-4c2a-8266-daa15dbac9d8",
   "metadata": {},
   "outputs": [
    {
     "data": {
      "text/plain": [
       "(200, 1000, 2)"
      ]
     },
     "execution_count": 5,
     "metadata": {},
     "output_type": "execute_result"
    }
   ],
   "source": [
    "ds1 = load_dataset(fpath1)\n",
    "gpb = ds1['gp']\n",
    "gmb = ds1['gm']\n",
    "gpb.shape"
   ]
  },
  {
   "cell_type": "code",
   "execution_count": 6,
   "id": "19c15db5-aa36-4247-a87a-13cd84f79fea",
   "metadata": {},
   "outputs": [
    {
     "data": {
      "text/plain": [
       "np.float64(0.0015167318222347233)"
      ]
     },
     "execution_count": 6,
     "metadata": {},
     "output_type": "execute_result"
    }
   ],
   "source": [
    "mb = (gpb[:, :, 0].mean(1) - gmb[:, :, 0].mean(1)) / 2/ 0.02 - 1\n",
    "mb.std()"
   ]
  },
  {
   "cell_type": "code",
   "execution_count": null,
   "id": "000177f6-ee36-4478-9f35-5dc965720863",
   "metadata": {},
   "outputs": [],
   "source": [
    "sigmas = [] \n",
    "for fp in fpaths:\n",
    "    \n",
    "    "
   ]
  }
 ],
 "metadata": {
  "kernelspec": {
   "display_name": "bpd_gpu4",
   "language": "python",
   "name": "bpd_gpu4"
  },
  "language_info": {
   "codemirror_mode": {
    "name": "ipython",
    "version": 3
   },
   "file_extension": ".py",
   "mimetype": "text/x-python",
   "name": "python",
   "nbconvert_exporter": "python",
   "pygments_lexer": "ipython3",
   "version": "3.12.11"
  }
 },
 "nbformat": 4,
 "nbformat_minor": 5
}
