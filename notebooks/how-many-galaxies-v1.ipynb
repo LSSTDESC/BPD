{
 "cells": [
  {
   "cell_type": "code",
   "execution_count": 1,
   "id": "e10737c3-308e-4fe9-8032-5011ca49aa8e",
   "metadata": {},
   "outputs": [],
   "source": [
    "# attempt to see how mnay galaxies do we need to get to get the error we want (using subset approach for errors)"
   ]
  },
  {
   "cell_type": "code",
   "execution_count": 100,
   "id": "4d47352c-7d64-47d5-9e9c-c4253e2623f4",
   "metadata": {},
   "outputs": [],
   "source": [
    "import os\n",
    "os.environ[\"JAX_ENABLE_X64\"] = \"True\"\n"
   ]
  },
  {
   "cell_type": "code",
   "execution_count": 101,
   "id": "0503c002-70e3-40d9-bd64-d54bbb2226cb",
   "metadata": {},
   "outputs": [],
   "source": [
    "from tqdm import tqdm "
   ]
  },
  {
   "cell_type": "code",
   "execution_count": 102,
   "id": "f8c19faa-c396-4574-b301-584581929e4f",
   "metadata": {},
   "outputs": [],
   "source": [
    "from functools import partial\n",
    "\n",
    "import bpd\n",
    "\n",
    "from jax import jit, vmap\n",
    "\n",
    "import jax.numpy as jnp\n",
    "\n",
    "from bpd.sample import sample_noisy_ellipticities_unclipped\n",
    "from bpd.pipelines import logtarget_toy_ellips, pipeline_shear_inference_simple\n",
    "\n",
    "from bpd.chains import run_inference_nuts\n",
    "\n",
    "from jax import random\n",
    "\n",
    "import matplotlib.pyplot as plt \n",
    "\n",
    "import numpy as np \n"
   ]
  },
  {
   "cell_type": "code",
   "execution_count": 103,
   "id": "c44f34d8-168b-4a0f-86e1-5de60728f5a7",
   "metadata": {},
   "outputs": [],
   "source": [
    "seed = 99\n",
    "g1 = 0.02\n",
    "g2 = 0.0\n",
    "\n",
    "shape_noise = 0.2\n",
    "sigma_e_int=0.3\n",
    "sigma_m = 0.01"
   ]
  },
  {
   "cell_type": "code",
   "execution_count": 104,
   "id": "f9892558-2cef-40d6-99f2-9168fcd1b057",
   "metadata": {},
   "outputs": [],
   "source": [
    "# sample ellipticities\n",
    "\n",
    "k = random.key(seed)\n",
    "k1, k2, k3, k4 = random.split(k, 4 )\n",
    "true_g = jnp.array([g1, g2])"
   ]
  },
  {
   "cell_type": "code",
   "execution_count": 107,
   "id": "aed49760-a661-4c05-808b-8adacab55b19",
   "metadata": {},
   "outputs": [],
   "source": [
    "e_obs_p, _, e_int = sample_noisy_ellipticities_unclipped(\n",
    "    k1, g=true_g, sigma_m=sigma_m, sigma_e=shape_noise, n=100_000\n",
    ")\n",
    "\n",
    "e_obs_m, _, _ = sample_noisy_ellipticities_unclipped(\n",
    "    k1, g=(-1) * true_g, sigma_m=sigma_m, sigma_e=shape_noise, n=100_000\n",
    ")"
   ]
  },
  {
   "cell_type": "code",
   "execution_count": 108,
   "id": "1b9e972a-7bf9-4563-be84-3d825e688aa7",
   "metadata": {},
   "outputs": [
    {
     "data": {
      "text/plain": [
       "((100000, 2), (100000, 2))"
      ]
     },
     "execution_count": 108,
     "metadata": {},
     "output_type": "execute_result"
    }
   ],
   "source": [
    "e_obs_p.shape, e_obs_m.shape"
   ]
  },
  {
   "cell_type": "code",
   "execution_count": 76,
   "id": "4d9f10b6-94fa-436b-9392-b5827902c0db",
   "metadata": {},
   "outputs": [],
   "source": [
    "def get_e1e2_post(key, e_obs_plus, e_obs_minus, *, sigma_e_int, sigma_m, n_samples=300):\n",
    "\n",
    "    _logtarget = partial(logtarget_toy_ellips, sigma_m=sigma_m, sigma_e_int=sigma_e_int)\n",
    "\n",
    "    k2s = random.split(key, e_obs_plus.shape[0])\n",
    "\n",
    "    _pipe = jit(\n",
    "        partial(\n",
    "            run_inference_nuts,\n",
    "            logtarget=_logtarget,\n",
    "            n_samples=n_samples,\n",
    "            initial_step_size=0.01,\n",
    "            max_num_doublings=2,\n",
    "            n_warmup_steps=500,\n",
    "        )\n",
    "    )\n",
    "    pipe = vmap(_pipe, in_axes=(0, 0, 0))\n",
    "\n",
    "    _ = pipe(k2s[:2], e_obs_plus[:2], e_int[:2])\n",
    "    \n",
    "    e1e2p = pipe(k2s, e_obs_plus, e_int)\n",
    "    e1e2m = pipe(k2s, e_obs_minus, e_int)\n",
    "\n",
    "    return e1e2p, e1e2m"
   ]
  },
  {
   "cell_type": "code",
   "execution_count": 115,
   "id": "db71d0af-9b31-443a-bb35-81a465721835",
   "metadata": {},
   "outputs": [],
   "source": [
    "# now  obtain posteriors \n",
    "e1e2p, e1e2m = get_e1e2_post(k2, e_obs_p, e_obs_m, sigma_e_int=sigma_e_int, sigma_m=sigma_m, n_samples=500)"
   ]
  },
  {
   "cell_type": "code",
   "execution_count": 116,
   "id": "538c4b8f-f7d6-4c1f-bdc8-cfdcd49436e3",
   "metadata": {},
   "outputs": [
    {
     "data": {
      "text/plain": [
       "((100000, 500, 2), (100000, 500, 2))"
      ]
     },
     "execution_count": 116,
     "metadata": {},
     "output_type": "execute_result"
    }
   ],
   "source": [
    "e1e2p.shape, e1e2m.shape"
   ]
  },
  {
   "cell_type": "code",
   "execution_count": 117,
   "id": "a021b955-04e9-48c5-bb9f-c6b4603e2441",
   "metadata": {},
   "outputs": [],
   "source": [
    "def get_shear(key, e1e2, *, shape_noise, sigma_e_int, n_samples:int=1000):\n",
    "    \n",
    "    raw_pipeline = partial(\n",
    "        pipeline_shear_inference_simple,\n",
    "        init_g=jnp.array([0.0, 0.0]),\n",
    "        sigma_e=shape_noise ,\n",
    "        sigma_e_int=sigma_e_int,\n",
    "        n_samples=n_samples,\n",
    "        initial_step_size=0.01,\n",
    "    )\n",
    "    pipe = jit(raw_pipeline)\n",
    "\n",
    "\n",
    "    return pipe(key, e1e2)"
   ]
  },
  {
   "cell_type": "code",
   "execution_count": 118,
   "id": "d1690085-d30a-430a-925b-5c54e41822ad",
   "metadata": {},
   "outputs": [
    {
     "data": {
      "text/plain": [
       "(1000, 2)"
      ]
     },
     "execution_count": 118,
     "metadata": {},
     "output_type": "execute_result"
    }
   ],
   "source": [
    "gp = get_shear(k3, e1e2p, shape_noise=shape_noise , sigma_e_int=sigma_e_int)\n",
    "gp.shape"
   ]
  },
  {
   "cell_type": "code",
   "execution_count": 139,
   "id": "777ca3de-759e-47b2-abf5-ae931f1c87df",
   "metadata": {},
   "outputs": [
    {
     "data": {
      "text/plain": [
       "(Array(0.02003458, dtype=float64),\n",
       " Array(-0.01808311, dtype=float64),\n",
       " Array(0.0006277, dtype=float64))"
      ]
     },
     "execution_count": 139,
     "metadata": {},
     "output_type": "execute_result"
    }
   ],
   "source": [
    "gp[:, 0].mean(), gm[:, 0].mean(), gp[:, 0].std()"
   ]
  },
  {
   "cell_type": "code",
   "execution_count": 119,
   "id": "358e7f4f-c7d7-4482-9b39-dbc3f9cefd13",
   "metadata": {},
   "outputs": [
    {
     "data": {
      "text/plain": [
       "(1000, 2)"
      ]
     },
     "execution_count": 119,
     "metadata": {},
     "output_type": "execute_result"
    }
   ],
   "source": [
    "gm = get_shear(k3, e1e2m, shape_noise=shape_noise , sigma_e_int=sigma_e_int)\n",
    "gm.shape"
   ]
  },
  {
   "cell_type": "code",
   "execution_count": 120,
   "id": "26308231-d1ed-42b5-8bb0-cc329a33df43",
   "metadata": {},
   "outputs": [
    {
     "data": {
      "text/plain": [
       "Array(1.98716683e-05, dtype=float64)"
      ]
     },
     "execution_count": 120,
     "metadata": {},
     "output_type": "execute_result"
    }
   ],
   "source": [
    "m = (gp[:, 0].mean() - gm[:, 0].mean()) / 2/ 0.02 -1\n",
    "m"
   ]
  },
  {
   "cell_type": "markdown",
   "id": "b7b9dd78-fb76-47e6-ac12-a6d572e6c854",
   "metadata": {},
   "source": [
    "## Subset errors"
   ]
  },
  {
   "cell_type": "code",
   "execution_count": 123,
   "id": "9c2caa43-b1c3-444f-ad18-ff14123693fa",
   "metadata": {},
   "outputs": [],
   "source": [
    "n_subsets = 500 \n",
    "n_samples = 500\n",
    "k3s = random.split(k3, n_subsets)"
   ]
  },
  {
   "cell_type": "code",
   "execution_count": 124,
   "id": "e697973d-f074-480a-b661-e7106e78b9a2",
   "metadata": {},
   "outputs": [
    {
     "data": {
      "text/plain": [
       "(500, 200, 500, 2)"
      ]
     },
     "execution_count": 124,
     "metadata": {},
     "output_type": "execute_result"
    }
   ],
   "source": [
    "e1e2ps = e1e2p.reshape(n_subsets, -1, n_samples, 2)\n",
    "e1e2ms = e1e2m.reshape(n_subsets, -1, n_samples, 2)\n",
    "e1e2ps.shape"
   ]
  },
  {
   "cell_type": "code",
   "execution_count": 125,
   "id": "f95eae5e-0345-45ce-98ab-b4a4576afbd7",
   "metadata": {},
   "outputs": [],
   "source": [
    "pipe = jit(partial(get_shear, shape_noise=shape_noise, sigma_e_int=sigma_e_int))"
   ]
  },
  {
   "cell_type": "code",
   "execution_count": 126,
   "id": "fa43e486-69e3-4067-90da-ba3b5d811295",
   "metadata": {},
   "outputs": [],
   "source": [
    "gps = vmap(pipe)(k3s, e1e2ps)"
   ]
  },
  {
   "cell_type": "code",
   "execution_count": 127,
   "id": "ef98b60d-465f-40b3-a93f-8b3d2b8301bf",
   "metadata": {},
   "outputs": [],
   "source": [
    "gms = vmap(pipe)(k3s, e1e2ms)"
   ]
  },
  {
   "cell_type": "code",
   "execution_count": 128,
   "id": "6aef77c9-fbbd-4592-a2f0-b710d5e05ed1",
   "metadata": {},
   "outputs": [
    {
     "data": {
      "text/plain": [
       "((500, 1000, 2), (500, 1000, 2))"
      ]
     },
     "execution_count": 128,
     "metadata": {},
     "output_type": "execute_result"
    }
   ],
   "source": [
    "gps.shape, gms.shape"
   ]
  },
  {
   "cell_type": "code",
   "execution_count": 129,
   "id": "e2f00fc4-409f-4be4-a93c-b1cc1d4103cf",
   "metadata": {},
   "outputs": [
    {
     "data": {
      "text/plain": [
       "(500,)"
      ]
     },
     "execution_count": 129,
     "metadata": {},
     "output_type": "execute_result"
    }
   ],
   "source": [
    "ms = (gps[...,0].mean(1) - gms[...,0].mean(1)) / 2/ 0.02 - 1\n",
    "ms.shape"
   ]
  },
  {
   "cell_type": "code",
   "execution_count": 130,
   "id": "4b5bb4d0-2267-4765-8d71-a663a29c70be",
   "metadata": {},
   "outputs": [
    {
     "data": {
      "text/plain": [
       "(array([  6.,  19.,  42.,  88., 132., 106.,  66.,  31.,   8.,   2.]),\n",
       " array([-0.0358524 , -0.02837767, -0.02090294, -0.01342821, -0.00595349,\n",
       "         0.00152124,  0.00899597,  0.0164707 ,  0.02394543,  0.03142016,\n",
       "         0.03889488]),\n",
       " <BarContainer object of 10 artists>)"
      ]
     },
     "execution_count": 130,
     "metadata": {},
     "output_type": "execute_result"
    },
    {
     "data": {
      "image/png": "[encoded data removed]",
      "text/plain": [
       "<Figure size 640x480 with 1 Axes>"
      ]
     },
     "metadata": {},
     "output_type": "display_data"
    }
   ],
   "source": [
    "plt.hist(ms)"
   ]
  },
  {
   "cell_type": "code",
   "execution_count": 131,
   "id": "2420cbd8-5470-42a8-ab1b-aae8a22d9425",
   "metadata": {},
   "outputs": [
    {
     "data": {
      "text/plain": [
       "(Array(-0.00049451, dtype=float64), Array(0.000536, dtype=float64))"
      ]
     },
     "execution_count": 131,
     "metadata": {},
     "output_type": "execute_result"
    }
   ],
   "source": [
    "ms.mean(), ms.std() / np.sqrt(len(ms))"
   ]
  },
  {
   "cell_type": "code",
   "execution_count": 132,
   "id": "44be599c-8d5a-4c70-be45-4556e883796e",
   "metadata": {},
   "outputs": [
    {
     "data": {
      "text/plain": [
       "Array(0.001608, dtype=float64)"
      ]
     },
     "execution_count": 132,
     "metadata": {},
     "output_type": "execute_result"
    }
   ],
   "source": [
    "ms.std() / np.sqrt(len(ms)) * 3"
   ]
  },
  {
   "cell_type": "code",
   "execution_count": 133,
   "id": "14dfd8ca-e81c-4b3f-9cda-b03f44cbb1cd",
   "metadata": {},
   "outputs": [
    {
     "data": {
      "text/plain": [
       "Array(1.98716683e-05, dtype=float64)"
      ]
     },
     "execution_count": 133,
     "metadata": {},
     "output_type": "execute_result"
    }
   ],
   "source": [
    "m"
   ]
  },
  {
   "cell_type": "markdown",
   "id": "99ecdeec-37cc-4a0b-b413-ab219d52d922",
   "metadata": {},
   "source": []
  }
 ],
 "metadata": {
  "kernelspec": {
   "display_name": "bpd_gpu",
   "language": "python",
   "name": "bpd_gpu"
  },
  "language_info": {
   "codemirror_mode": {
    "name": "ipython",
    "version": 3
   },
   "file_extension": ".py",
   "mimetype": "text/x-python",
   "name": "python",
   "nbconvert_exporter": "python",
   "pygments_lexer": "ipython3",
   "version": "3.12.9"
  }
 },
 "nbformat": 4,
 "nbformat_minor": 5
}
