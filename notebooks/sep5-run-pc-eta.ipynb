{
 "cells": [
  {
   "cell_type": "code",
   "execution_count": 56,
   "id": "49e57b2b-dbf1-425b-970c-65eb5c9073e5",
   "metadata": {},
   "outputs": [],
   "source": [
    "import matplotlib.pyplot as plt"
   ]
  },
  {
   "cell_type": "code",
   "execution_count": 57,
   "id": "f42a25ad-f060-40b2-abd3-fbd9e9f5ac9e",
   "metadata": {},
   "outputs": [],
   "source": [
    "#!/usr/bin/env python3\n",
    "from functools import partial\n",
    "\n",
    "import jax.numpy as jnp\n",
    "import jax.scipy as jsp\n",
    "from jax import Array, grad, jit, random, vmap\n",
    "from jax.random import PRNGKey\n",
    "from jax.scipy.stats import norm\n",
    "\n",
    "from bpd.chains import run_inference_nuts\n",
    "from bpd.prior import ellip_prior_e1e2\n",
    "from bpd.sample import sample_ellip_prior\n",
    "from bpd.shear import (\n",
    "    inv_shear_func1,\n",
    "    inv_shear_func2,\n",
    "    inv_shear_transformation,\n",
    "    shear_transformation,\n",
    ")\n",
    "from bpd.utils import uniform_logpdf\n",
    "\n",
    "eta_inv_fnc1 = lambda eta: eta2g(eta)[0]\n",
    "eta_inv_fnc2 = lambda eta: eta2g(eta)[1]\n",
    "\n",
    "grad_fnc1 = grad(eta_inv_fnc1)\n",
    "grad_fnc2 = grad(eta_inv_fnc2)\n",
    "\n",
    "\n",
    "def eta2g(eta: Array):\n",
    "    assert eta.shape == (2,)\n",
    "    eta1 = eta[0]\n",
    "    eta2 = eta[1]\n",
    "    abseta = jnp.sqrt(eta1**2 + eta2**2)\n",
    "    g1 = eta1 * jnp.tanh(0.5 * abseta) / abseta\n",
    "    g2 = eta2 * jnp.tanh(0.5 * abseta) / abseta\n",
    "    return jnp.array([g1, g2])\n",
    "\n",
    "\n",
    "def g2eta(g: Array):\n",
    "    assert g.shape == (2,)\n",
    "    g1 = g[0]\n",
    "    g2 = g[1]\n",
    "    absg = jnp.sqrt(g1**2 + g2**2)\n",
    "    eta1 = g1 * jnp.arctanh(absg) * 2 / absg\n",
    "    eta2 = g2 * jnp.arctanh(absg) * 2 / absg\n",
    "    return jnp.array([eta1, eta2])\n",
    "\n",
    "\n",
    "def sample_noisy_eta(rng_key, *, g, sigma_e: float, sigma_m: float, n: int = 1):\n",
    "    k1, k2 = random.split(rng_key)\n",
    "    es = sample_ellip_prior(k1, sigma_e, n)\n",
    "    essh = shear_transformation(es, g)\n",
    "    etas = vmap(g2eta)(essh)\n",
    "    noisy_etas = etas.reshape(n, 2) + random.normal(k2, shape=(n, 2)) * sigma_m\n",
    "    return noisy_etas, etas\n",
    "\n",
    "\n",
    "def eta_target(eta, *, data, sigma_e: float, sigma_m: float):\n",
    "    neta = data\n",
    "    llike = norm.logpdf(neta, loc=eta, scale=sigma_m).sum()\n",
    "\n",
    "    e1e2 = eta2g(eta)\n",
    "    lprior1 = jnp.log(ellip_prior_e1e2(e1e2, sigma_e))\n",
    "\n",
    "    grad1 = grad_fnc1(eta)\n",
    "    grad2 = grad_fnc2(eta)\n",
    "    prior2 = jnp.abs(grad1[..., 0] * grad2[..., 1] - grad1[..., 1] * grad2[..., 0])\n",
    "    lprior2 = jnp.log(prior2)\n",
    "\n",
    "    return llike + lprior1 + lprior2\n",
    "\n",
    "\n",
    "_grad_shear_fnc1 = vmap(\n",
    "    vmap(grad(inv_shear_func1), in_axes=(0, None)), in_axes=(0, None)\n",
    ")\n",
    "_grad_shear_fnc2 = vmap(\n",
    "    vmap(grad(inv_shear_func2), in_axes=(0, None)), in_axes=(0, None)\n",
    ")\n",
    "\n",
    "# already vmapped once\n",
    "_inv_shear_trans = vmap(inv_shear_transformation, in_axes=(0, None))\n",
    "\n",
    "\n",
    "def shear_eta_target(g, *, data, sigma_e: float, sigma_e_int: float):\n",
    "    assert g.shape == (2,)\n",
    "    assert data.ndim == 3 and data.shape[2] == 2\n",
    "    etas = data\n",
    "\n",
    "    # P(eta' | alpha, g) = P(eps | alpha) * (del eps' / del eta') * (del eps / del eps')\n",
    "    # jacobian on eta cancels between num and denom so we ignore it.\n",
    "    eps_sheared = vmap(vmap(eta2g))(etas)\n",
    "    eps = _inv_shear_trans(eps_sheared, g)\n",
    "    num1 = jnp.log(ellip_prior_e1e2(eps, sigma_e))\n",
    "\n",
    "    grad_eps1 = _grad_shear_fnc1(eps_sheared, g)\n",
    "    grad_eps2 = _grad_shear_fnc2(eps_sheared, g)\n",
    "    jac = jnp.abs(\n",
    "        grad_eps1[..., 0] * grad_eps2[..., 1] - grad_eps1[..., 1] * grad_eps2[..., 0]\n",
    "    )\n",
    "    num2 = jnp.log(jac)\n",
    "\n",
    "    num = num1 + num2\n",
    "\n",
    "    # now denom P0(eta') = P0(eps') * (del eps' / del eta')\n",
    "    denom = jnp.log(ellip_prior_e1e2(eps_sheared, sigma_e_int))\n",
    "\n",
    "    # ratio\n",
    "    ratio = jsp.special.logsumexp(num - denom, axis=-1)\n",
    "    loglike = ratio.sum()\n",
    "\n",
    "    # prior on shear\n",
    "    g_mag = jnp.sqrt(g[0] ** 2 + g[1] ** 2)\n",
    "    logprior = uniform_logpdf(g_mag, 0.0, 1.0) + jnp.log(1 / (2 * jnp.pi))\n",
    "\n",
    "    return logprior + loglike\n",
    "\n",
    "\n",
    "def run_one_eta_experiment(\n",
    "    rng_key: PRNGKey,\n",
    "    true_g,\n",
    "    *,\n",
    "    n_gals: int,\n",
    "    n_samples_per_gal: int,\n",
    "    n_samples_shear: int,\n",
    "    sigma_e: float,\n",
    "    sigma_e_int: float,\n",
    "    sigma_m: float,\n",
    "):\n",
    "    k1, k2, k3 = random.split(rng_key, 3)\n",
    "\n",
    "    # generate data\n",
    "    netas, etas = sample_noisy_eta(\n",
    "        k1, g=true_g, sigma_e=sigma_e, sigma_m=sigma_m, n=n_gals\n",
    "    )\n",
    "\n",
    "    # run phase 1\n",
    "    target1 = partial(eta_target, sigma_e=sigma_e_int, sigma_m=sigma_m)\n",
    "    pipe1 = partial(\n",
    "        run_inference_nuts,\n",
    "        logtarget=target1,\n",
    "        n_samples=n_samples_per_gal,\n",
    "        initial_step_size=0.01,\n",
    "        max_num_doublings=2,\n",
    "    )\n",
    "    pipe1 = vmap(jit(pipe1))\n",
    "    k2s = random.split(k2, n_gals)\n",
    "    eta_samples = pipe1(k2s, netas, etas)\n",
    "\n",
    "    # run phase 2\n",
    "    target2 = partial(shear_eta_target, sigma_e=sigma_e, sigma_e_int=sigma_e_int)\n",
    "    pipe2 = partial(\n",
    "        run_inference_nuts,\n",
    "        logtarget=target2,\n",
    "        n_samples=n_samples_shear,\n",
    "        initial_step_size=0.01,\n",
    "        max_num_doublings=2,\n",
    "    )\n",
    "    pipe2 = jit(pipe2)\n",
    "\n",
    "    g_samples = pipe2(k3, eta_samples, true_g)\n",
    "    return g_samples\n"
   ]
  },
  {
   "cell_type": "code",
   "execution_count": 47,
   "id": "ef214054-e89c-4947-8621-531f942aa3df",
   "metadata": {},
   "outputs": [],
   "source": [
    "k = random.key(42)\n",
    "k1, k2 = random.split(k)\n",
    "k1s = random.split(k1, 10)\n",
    "k2s = random.split(k2, 10)"
   ]
  },
  {
   "cell_type": "code",
   "execution_count": 48,
   "id": "b43c1876-3430-4e70-9955-bafaa0f23b19",
   "metadata": {},
   "outputs": [],
   "source": [
    "pipe = partial(run_one_eta_experiment, n_gals=1000, n_samples_per_gal=300, n_samples_shear=1000, sigma_e=0.2, sigma_e_int=0.3, sigma_m=0.5)\n",
    "pipe = jit(pipe)"
   ]
  },
  {
   "cell_type": "code",
   "execution_count": 49,
   "id": "56bac022-f9a8-4f5d-943d-9d8926804ca0",
   "metadata": {},
   "outputs": [],
   "source": [
    "# run once (jitting)\n",
    "_ = pipe(k1s[0], jnp.array([0.02, 0.0]))"
   ]
  },
  {
   "cell_type": "code",
   "execution_count": 50,
   "id": "6c817be0-ba36-47e0-b460-93aa6632d0ca",
   "metadata": {},
   "outputs": [],
   "source": [
    "# draw shear samples from prior (unit disk)\n",
    "def sample_shear_prior(rng_key):\n",
    "    k1, k2 = random.split(rng_key)\n",
    "    g_mag = random.uniform(k1, minval=-0.1, maxval=0.1)\n",
    "    theta = random.uniform(k2, minval=0, maxval=jnp.pi)\n",
    "    g1 = g_mag * jnp.cos(2 * theta)\n",
    "    g2 = g_mag * jnp.sin(2 * theta)\n",
    "    return jnp.array([g1,g2])\n",
    "    "
   ]
  },
  {
   "cell_type": "code",
   "execution_count": 51,
   "id": "fa4f498e-963a-4bbd-bdfe-d01d694f8ab1",
   "metadata": {},
   "outputs": [],
   "source": [
    "gs = vmap(sample_shear_prior)(k1s)"
   ]
  },
  {
   "cell_type": "code",
   "execution_count": 52,
   "id": "cdfb12ac-b772-4d24-96a2-a24d7fb8505c",
   "metadata": {},
   "outputs": [
    {
     "data": {
      "text/plain": [
       "(10, 2)"
      ]
     },
     "execution_count": 52,
     "metadata": {},
     "output_type": "execute_result"
    }
   ],
   "source": [
    "gs.shape"
   ]
  },
  {
   "cell_type": "code",
   "execution_count": 53,
   "id": "36ffc7ae-5c3c-408f-9656-f0894f8b9fff",
   "metadata": {},
   "outputs": [],
   "source": [
    "# now vectorize\n",
    "g_samples = vmap(pipe)(k2s, gs)"
   ]
  },
  {
   "cell_type": "code",
   "execution_count": 54,
   "id": "28274fd0-0695-4096-a6dc-4dec500e97ae",
   "metadata": {},
   "outputs": [
    {
     "data": {
      "text/plain": [
       "(10, 1000, 2)"
      ]
     },
     "execution_count": 54,
     "metadata": {},
     "output_type": "execute_result"
    }
   ],
   "source": [
    "g_samples.shape"
   ]
  },
  {
   "cell_type": "code",
   "execution_count": 73,
   "id": "41dd4d82-a4b1-46f5-b405-0a9ad56a93a9",
   "metadata": {},
   "outputs": [
    {
     "data": {
      "text/plain": [
       "<matplotlib.lines.Line2D at 0x7f2a1c243650>"
      ]
     },
     "execution_count": 73,
     "metadata": {},
     "output_type": "execute_result"
    },
    {
     "data": {
      "image/png": "[encoded data removed]",
      "text/plain": [
       "<Figure size 640x480 with 1 Axes>"
      ]
     },
     "metadata": {},
     "output_type": "display_data"
    }
   ],
   "source": [
    "plt.plot(g_samples[3, :, 1])\n",
    "plt.axhline(gs[3, 1], c='r', ls='--')"
   ]
  },
  {
   "cell_type": "code",
   "execution_count": null,
   "id": "00bf096e-a9f4-427d-aebb-f2f46046cd04",
   "metadata": {},
   "outputs": [],
   "source": []
  }
 ],
 "metadata": {
  "kernelspec": {
   "display_name": "bpd_gpu4",
   "language": "python",
   "name": "bpd_gpu4"
  },
  "language_info": {
   "codemirror_mode": {
    "name": "ipython",
    "version": 3
   },
   "file_extension": ".py",
   "mimetype": "text/x-python",
   "name": "python",
   "nbconvert_exporter": "python",
   "pygments_lexer": "ipython3",
   "version": "3.12.11"
  }
 },
 "nbformat": 4,
 "nbformat_minor": 5
}
