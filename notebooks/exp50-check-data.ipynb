{
 "cells": [
  {
   "cell_type": "code",
   "execution_count": 11,
   "id": "16de4d23-20da-4f03-af1e-1a7d1c8fef2c",
   "metadata": {},
   "outputs": [],
   "source": [
    "from bpd.io import load_dataset\n",
    "import numpy as np "
   ]
  },
  {
   "cell_type": "code",
   "execution_count": 12,
   "id": "8eb0981e-2cf8-4a15-84c1-f1d1c0769d5c",
   "metadata": {},
   "outputs": [],
   "source": [
    "fname = \"/pscratch/sd/i/imendoza/data/cache_chains/exp50_42/interim_samples_42_plus.npz\""
   ]
  },
  {
   "cell_type": "code",
   "execution_count": 13,
   "id": "4f75820b-b2d1-401c-89ba-f47a4abc0064",
   "metadata": {},
   "outputs": [],
   "source": [
    "ds = load_dataset(fname)"
   ]
  },
  {
   "cell_type": "code",
   "execution_count": 14,
   "id": "8f553f84-e546-446b-aa8c-ac771030e53e",
   "metadata": {},
   "outputs": [
    {
     "data": {
      "text/plain": [
       "{'mean_logflux': array(4.),\n",
       " 'sigma_e': array(0.01),\n",
       " 'g2': array(0.),\n",
       " 'sigma_logflux': array(0.3),\n",
       " 'sigma_e_int': array(0.05),\n",
       " 'mean_loghlr': array(-0.1),\n",
       " 'g1': array(0.02),\n",
       " 'sigma_loghlr': array(0.05)}"
      ]
     },
     "execution_count": 14,
     "metadata": {},
     "output_type": "execute_result"
    }
   ],
   "source": [
    "ds['hyper']"
   ]
  },
  {
   "cell_type": "code",
   "execution_count": 15,
   "id": "7b9591b6-0096-4897-8dd6-20d69403f465",
   "metadata": {},
   "outputs": [
    {
     "data": {
      "text/plain": [
       "dict_keys(['hyper', 'truth', 'samples'])"
      ]
     },
     "execution_count": 15,
     "metadata": {},
     "output_type": "execute_result"
    }
   ],
   "source": [
    "ds.keys()"
   ]
  },
  {
   "cell_type": "code",
   "execution_count": 20,
   "id": "649f40a3-bcf7-4bad-b49d-ee4f443d59d8",
   "metadata": {},
   "outputs": [
    {
     "data": {
      "text/plain": [
       "np.float64(0.0199331758892721)"
      ]
     },
     "execution_count": 20,
     "metadata": {},
     "output_type": "execute_result"
    }
   ],
   "source": [
    "ds['samples']['e1'].mean()"
   ]
  },
  {
   "cell_type": "code",
   "execution_count": 21,
   "id": "252bffb4-98bf-4404-a271-d4a984cfdfe1",
   "metadata": {},
   "outputs": [
    {
     "data": {
      "text/plain": [
       "np.float64(0.00015726302035720872)"
      ]
     },
     "execution_count": 21,
     "metadata": {},
     "output_type": "execute_result"
    }
   ],
   "source": [
    "ds['samples']['e2'].mean()"
   ]
  },
  {
   "cell_type": "code",
   "execution_count": 7,
   "id": "7ff7b84e-be50-4224-a743-ce7c44f17017",
   "metadata": {},
   "outputs": [
    {
     "data": {
      "text/plain": [
       "dict_keys(['e1', 'hlr', 'f', 'e2'])"
      ]
     },
     "execution_count": 7,
     "metadata": {},
     "output_type": "execute_result"
    }
   ],
   "source": [
    "ds['truth'].keys()"
   ]
  },
  {
   "cell_type": "code",
   "execution_count": 8,
   "id": "3e858f0e-725b-4081-a79b-c96d42f0d24c",
   "metadata": {},
   "outputs": [
    {
     "data": {
      "text/plain": [
       "np.float64(-0.10047656511425089)"
      ]
     },
     "execution_count": 8,
     "metadata": {},
     "output_type": "execute_result"
    }
   ],
   "source": [
    "np.log10(ds['truth']['hlr']).mean()"
   ]
  },
  {
   "cell_type": "code",
   "execution_count": 9,
   "id": "8767c2c3-0857-4aab-a77e-686874432564",
   "metadata": {},
   "outputs": [
    {
     "data": {
      "text/plain": [
       "(10000,)"
      ]
     },
     "execution_count": 9,
     "metadata": {},
     "output_type": "execute_result"
    }
   ],
   "source": [
    "ds['truth']['hlr'].shape"
   ]
  },
  {
   "cell_type": "code",
   "execution_count": 10,
   "id": "51daa258-4e29-4fab-809a-91b330117369",
   "metadata": {},
   "outputs": [
    {
     "data": {
      "text/plain": [
       "np.float64(3.9976527384259914)"
      ]
     },
     "execution_count": 10,
     "metadata": {},
     "output_type": "execute_result"
    }
   ],
   "source": [
    "np.log10(ds['truth']['f']).mean()"
   ]
  },
  {
   "cell_type": "code",
   "execution_count": null,
   "id": "4e026e41-eebe-4aa1-9359-968fe3ba4da1",
   "metadata": {},
   "outputs": [],
   "source": []
  }
 ],
 "metadata": {
  "kernelspec": {
   "display_name": "bpd_gpu3",
   "language": "python",
   "name": "bpd_gpu3"
  },
  "language_info": {
   "codemirror_mode": {
    "name": "ipython",
    "version": 3
   },
   "file_extension": ".py",
   "mimetype": "text/x-python",
   "name": "python",
   "nbconvert_exporter": "python",
   "pygments_lexer": "ipython3",
   "version": "3.12.8"
  }
 },
 "nbformat": 4,
 "nbformat_minor": 5
}
