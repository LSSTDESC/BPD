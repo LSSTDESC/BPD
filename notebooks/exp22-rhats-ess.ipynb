{
 "cells": [
  {
   "cell_type": "code",
   "execution_count": 2,
   "id": "d228b689-99e4-49e5-a822-50aeb9ee7ea5",
   "metadata": {},
   "outputs": [],
   "source": [
    "import os\n",
    "\n",
    "os.environ[\"CUDA_VISIBLE_DEVICES\"] = \"\"\n",
    "os.environ[\"JAX_PLATFORMS\"] = \"cpu\"\n",
    "os.environ[\"JAX_ENABLE_X64\"] = \"True\"\n"
   ]
  },
  {
   "cell_type": "code",
   "execution_count": 3,
   "id": "d4d52f2a-6daa-45bb-a349-d0590f0aacbc",
   "metadata": {},
   "outputs": [],
   "source": [
    "from bpd.io import load_dataset\n",
    "\n",
    "import matplotlib.pyplot as plt\n",
    "\n",
    "import numpy as np \n",
    "\n",
    "import arviz"
   ]
  },
  {
   "cell_type": "code",
   "execution_count": 4,
   "id": "93020ee2-ca52-449e-ac46-98d7ec5553f5",
   "metadata": {},
   "outputs": [],
   "source": [
    "ds = load_dataset(\"/pscratch/sd/i/imendoza/data/cache_chains/exp22_42/full_samples_42.npz\")"
   ]
  },
  {
   "cell_type": "code",
   "execution_count": 5,
   "id": "d2bc43c3-4e9b-4a7c-acbf-d8a6d7272300",
   "metadata": {},
   "outputs": [],
   "source": [
    "ds2 = load_dataset(\"/pscratch/sd/i/imendoza/data/cache_chains/exp22_42/convergence_results_42.npz\")"
   ]
  },
  {
   "cell_type": "code",
   "execution_count": 6,
   "id": "f8996a5f-822c-414f-a6a8-322a3136e111",
   "metadata": {},
   "outputs": [
    {
     "data": {
      "text/plain": [
       "dict_keys(['truth', 'hyper', 'samples'])"
      ]
     },
     "execution_count": 6,
     "metadata": {},
     "output_type": "execute_result"
    }
   ],
   "source": [
    "ds.keys()"
   ]
  },
  {
   "cell_type": "code",
   "execution_count": 7,
   "id": "e4e96976-411e-4c1a-a50c-b62282a26851",
   "metadata": {},
   "outputs": [
    {
     "data": {
      "text/plain": [
       "dict_keys(['ess', 'rhat'])"
      ]
     },
     "execution_count": 7,
     "metadata": {},
     "output_type": "execute_result"
    }
   ],
   "source": [
    "ds2.keys()"
   ]
  },
  {
   "cell_type": "code",
   "execution_count": 8,
   "id": "e184d859-7ebd-46f3-9260-87c53b7ea21f",
   "metadata": {},
   "outputs": [
    {
     "data": {
      "text/plain": [
       "dict_keys(['lhlr', 'lf', 'e1', 'dy', 'dx', 'e2'])"
      ]
     },
     "execution_count": 8,
     "metadata": {},
     "output_type": "execute_result"
    }
   ],
   "source": [
    "ds2['rhat'].keys()"
   ]
  },
  {
   "cell_type": "code",
   "execution_count": 10,
   "id": "d4e34f49-86da-4ca5-99e0-adcd84f41d21",
   "metadata": {},
   "outputs": [
    {
     "name": "stdout",
     "output_type": "stream",
     "text": [
      "Number of R-hat outliers for lhlr: 159\n",
      "Number of R-hat outliers for lf: 6\n",
      "Number of R-hat outliers for e1: 154\n",
      "Number of R-hat outliers for dy: 4\n",
      "Number of R-hat outliers for dx: 2\n",
      "Number of R-hat outliers for e2: 152\n"
     ]
    }
   ],
   "source": [
    "rhats_dict = ds2['rhat']\n",
    "for p in rhats_dict:\n",
    "    rhat = rhats_dict[p]\n",
    "    outliers = (rhat < 0.99) | (rhat > 1.05)\n",
    "    n_outliers = sum(outliers)\n",
    "    print(f\"Number of R-hat outliers for {p}: {n_outliers}\")"
   ]
  },
  {
   "cell_type": "code",
   "execution_count": 11,
   "id": "1da76360-80e8-4659-97f0-32d58f3d2e1f",
   "metadata": {},
   "outputs": [],
   "source": [
    "# get mask based on rhat for all\n",
    "rhats_dict = ds2['rhat']\n",
    "mask = np.ones_like(ds['truth']['f']).astype(bool)\n",
    "for p in rhats_dict:\n",
    "    rhat = rhats_dict[p]\n",
    "    _mask = (rhat < 0.99) | (rhat > 1.05)\n",
    "    mask = mask & ~_mask"
   ]
  },
  {
   "cell_type": "code",
   "execution_count": 12,
   "id": "22c765b3-c0cd-4ec8-8bb8-0de99a639878",
   "metadata": {},
   "outputs": [
    {
     "data": {
      "text/plain": [
       "np.int64(162)"
      ]
     },
     "execution_count": 12,
     "metadata": {},
     "output_type": "execute_result"
    }
   ],
   "source": [
    "sum(~mask)"
   ]
  },
  {
   "cell_type": "code",
   "execution_count": 17,
   "id": "2e7a370e-9940-4cf4-8e6c-750c520e5ebf",
   "metadata": {},
   "outputs": [],
   "source": [
    "f_all = np.log10(ds['truth']['f'])"
   ]
  },
  {
   "cell_type": "code",
   "execution_count": null,
   "id": "62dea445-66e4-473f-9f6d-aa5a3d5ca427",
   "metadata": {},
   "outputs": [],
   "source": [
    "f_bad = f_all[~mask]"
   ]
  },
  {
   "cell_type": "code",
   "execution_count": 14,
   "id": "5e42a367-ab58-4095-bbbc-8ebdda725135",
   "metadata": {},
   "outputs": [
    {
     "data": {
      "text/plain": [
       "((8000,), (162,))"
      ]
     },
     "execution_count": 14,
     "metadata": {},
     "output_type": "execute_result"
    }
   ],
   "source": [
    "f_all.shape, f_bad.shape"
   ]
  },
  {
   "cell_type": "code",
   "execution_count": 15,
   "id": "7d4a7ba2-f083-4969-ae19-31cdc60024ce",
   "metadata": {},
   "outputs": [
    {
     "data": {
      "text/plain": [
       "<matplotlib.lines.Line2D at 0x7efcb35820c0>"
      ]
     },
     "execution_count": 15,
     "metadata": {},
     "output_type": "execute_result"
    },
    {
     "data": {
      "image/png": "[encoded data removed]",
      "text/plain": [
       "<Figure size 640x480 with 1 Axes>"
      ]
     },
     "metadata": {},
     "output_type": "display_data"
    }
   ],
   "source": [
    "n1, bins, _ = plt.hist(f_all, histtype='step', color='r', bins=31) \n",
    "n2, bins, _ = plt.hist(f_bad, histtype='step', bins=bins, color='b') \n",
    "plt.stairs(n1 - n2, bins, color='g')\n",
    "\n",
    "plt.yscale('log')\n",
    "plt.axvline(2.4)"
   ]
  },
  {
   "cell_type": "code",
   "execution_count": 16,
   "id": "597d605e-ae4e-422e-a317-857fc0abe7d0",
   "metadata": {},
   "outputs": [
    {
     "data": {
      "text/plain": [
       "<matplotlib.lines.Line2D at 0x7efcb345edb0>"
      ]
     },
     "execution_count": 16,
     "metadata": {},
     "output_type": "execute_result"
    },
    {
     "data": {
      "image/png": "[encoded data removed]",
      "text/plain": [
       "<Figure size 640x480 with 1 Axes>"
      ]
     },
     "metadata": {},
     "output_type": "display_data"
    }
   ],
   "source": [
    "n1, bins, _ = plt.hist(f_all, histtype='step', color='r', bins=31)\n",
    "n2, bins, _ = plt.hist(f_bad, histtype='step', bins=bins, color='b') \n",
    "plt.stairs(n1 - n2, bins, color='g')\n",
    "\n",
    "# plt.yscale('log')\n",
    "plt.axvline(2.4)"
   ]
  },
  {
   "cell_type": "markdown",
   "id": "f6570efe-8970-4b90-9552-49840c2c6928",
   "metadata": {},
   "source": [
    "## Truncated Gaussian Centered at 2.5"
   ]
  },
  {
   "cell_type": "code",
   "execution_count": 18,
   "id": "879f6d02-953f-4611-acf8-4b41fbd20588",
   "metadata": {},
   "outputs": [],
   "source": [
    "from scipy.stats import truncnorm\n",
    "\n",
    "\n",
    "loc, scale = 2.5, 0.4\n",
    "a = (2.45 - loc) / scale  # wiggle room (not 2.4)\n",
    "b = np.inf\n",
    "\n",
    "rv = truncnorm(a, b, loc=loc, scale=scale)"
   ]
  },
  {
   "cell_type": "code",
   "execution_count": 19,
   "id": "5b47401b-644e-4085-bfd1-66b312df42c8",
   "metadata": {},
   "outputs": [
    {
     "data": {
      "text/plain": [
       "(8000,)"
      ]
     },
     "execution_count": 19,
     "metadata": {},
     "output_type": "execute_result"
    }
   ],
   "source": [
    "import numpy as np\n",
    "rng = np.random.default_rng(12349)\n",
    "rvs= rv.rvs(size=8000, random_state=rng)\n",
    "rvs.shape"
   ]
  },
  {
   "cell_type": "code",
   "execution_count": null,
   "id": "9c361591-9d13-40a1-b601-6615a1e4aad2",
   "metadata": {},
   "outputs": [],
   "source": [
    "jax.random.key(52)"
   ]
  },
  {
   "cell_type": "code",
   "execution_count": 20,
   "id": "8e023c7a-8c2f-4ba0-acba-93659a4ac7f3",
   "metadata": {},
   "outputs": [
    {
     "data": {
      "text/plain": [
       "<matplotlib.lines.Line2D at 0x7efbdeda71d0>"
      ]
     },
     "execution_count": 20,
     "metadata": {},
     "output_type": "execute_result"
    },
    {
     "data": {
      "image/png": "[encoded data removed]",
      "text/plain": [
       "<Figure size 640x480 with 1 Axes>"
      ]
     },
     "metadata": {},
     "output_type": "display_data"
    }
   ],
   "source": [
    "bins  = np.arange(1, 4, 0.05)\n",
    "_, _, _ = plt.hist(f_all, histtype='step', color='r', bins=bins) \n",
    "\n",
    "plt.hist(rv.rvs(size=8000), histtype='step', color='g', bins=bins)\n",
    "plt.axvline(2.45)"
   ]
  },
  {
   "cell_type": "code",
   "execution_count": 21,
   "id": "08f0b65a-1422-4138-b4bc-95451cc7fb80",
   "metadata": {},
   "outputs": [
    {
     "data": {
      "text/plain": [
       "array([1.  , 1.05, 1.1 , 1.15, 1.2 , 1.25, 1.3 , 1.35, 1.4 , 1.45, 1.5 ,\n",
       "       1.55, 1.6 , 1.65, 1.7 , 1.75, 1.8 , 1.85, 1.9 , 1.95, 2.  , 2.05,\n",
       "       2.1 , 2.15, 2.2 , 2.25, 2.3 , 2.35, 2.4 , 2.45, 2.5 , 2.55, 2.6 ,\n",
       "       2.65, 2.7 , 2.75, 2.8 , 2.85, 2.9 , 2.95, 3.  , 3.05, 3.1 , 3.15,\n",
       "       3.2 , 3.25, 3.3 , 3.35, 3.4 , 3.45, 3.5 , 3.55, 3.6 , 3.65, 3.7 ,\n",
       "       3.75, 3.8 , 3.85, 3.9 , 3.95])"
      ]
     },
     "execution_count": 21,
     "metadata": {},
     "output_type": "execute_result"
    }
   ],
   "source": [
    "np.arange(1, 4, 0.05)"
   ]
  },
  {
   "cell_type": "code",
   "execution_count": 63,
   "id": "dbd553e4-f7b5-4d29-8986-068bcdd21c30",
   "metadata": {},
   "outputs": [],
   "source": [
    "import jax\n",
    "key = jax.random.key(52)"
   ]
  },
  {
   "cell_type": "code",
   "execution_count": 64,
   "id": "0484dadc-a9f6-44be-a28b-ad7cd116fb3b",
   "metadata": {},
   "outputs": [],
   "source": [
    "k1, k2 = jax.random.split(key)"
   ]
  },
  {
   "cell_type": "code",
   "execution_count": 72,
   "id": "9036f1a4-1c5b-455e-a492-ad0fd64eda67",
   "metadata": {},
   "outputs": [],
   "source": [
    "rng = np.random.default_rng(np.array(jax.random.key_data(k1)))"
   ]
  },
  {
   "cell_type": "code",
   "execution_count": 74,
   "id": "f68176af-979b-4983-a4bf-848116bfb0a5",
   "metadata": {},
   "outputs": [
    {
     "data": {
      "text/plain": [
       "1.4702537503615625"
      ]
     },
     "execution_count": 74,
     "metadata": {},
     "output_type": "execute_result"
    }
   ],
   "source": [
    "rng.normal()"
   ]
  },
  {
   "cell_type": "code",
   "execution_count": 62,
   "id": "a24503b1-674b-4d5d-b219-4a69886f50df",
   "metadata": {},
   "outputs": [
    {
     "data": {
      "text/plain": [
       "(Array((), dtype=key<fry>) overlaying:\n",
       " [1495156955 3391349020],\n",
       " Array((), dtype=key<fry>) overlaying:\n",
       " [4243728637 2773183530])"
      ]
     },
     "execution_count": 62,
     "metadata": {},
     "output_type": "execute_result"
    }
   ],
   "source": [
    "k1, k2"
   ]
  },
  {
   "cell_type": "code",
   "execution_count": null,
   "id": "eb38df75-ebb3-4c38-88af-e779176a6d06",
   "metadata": {},
   "outputs": [],
   "source": [
    "k1."
   ]
  },
  {
   "cell_type": "markdown",
   "id": "4211acce-1ba8-43f4-8bb4-ffa0aacfb514",
   "metadata": {},
   "source": [
    "### Check custom function works too"
   ]
  },
  {
   "cell_type": "code",
   "execution_count": 33,
   "id": "bfbce267-4aab-4395-a315-ebb211727742",
   "metadata": {},
   "outputs": [],
   "source": [
    "import jax\n",
    "import numpy as np \n",
    "import jax.numpy as jnp"
   ]
  },
  {
   "cell_type": "code",
   "execution_count": 26,
   "id": "4fb842ed-89ba-4e08-a1fc-d8f90c2da589",
   "metadata": {},
   "outputs": [],
   "source": [
    "seed = 39\n",
    "key = jax.random.key(seed)"
   ]
  },
  {
   "cell_type": "code",
   "execution_count": 27,
   "id": "0cc1c535-6000-4a28-9f28-c586130709c1",
   "metadata": {},
   "outputs": [],
   "source": [
    "from bpd.sample import sample_galaxy_params_trunc\n",
    "params = sample_galaxy_params_trunc(key, mean_logflux=2.5, sigma_logflux=0.4, min_logflux=2.45, mean_loghlr=-0.4, sigma_loghlr=0.05, shape_noise=0.2, n=8000) "
   ]
  },
  {
   "cell_type": "code",
   "execution_count": 28,
   "id": "9f4645fd-5096-47b9-b9b5-28992b152325",
   "metadata": {},
   "outputs": [],
   "source": [
    "f_all = np.log10(ds['truth']['f'])"
   ]
  },
  {
   "cell_type": "code",
   "execution_count": 29,
   "id": "e9739cdf-f860-4676-b2b2-6768d5af9ab6",
   "metadata": {},
   "outputs": [
    {
     "data": {
      "text/plain": [
       "((8000,), (8000,))"
      ]
     },
     "execution_count": 29,
     "metadata": {},
     "output_type": "execute_result"
    }
   ],
   "source": [
    "params['lf'].shape, f_all.shape"
   ]
  },
  {
   "cell_type": "code",
   "execution_count": 30,
   "id": "8962381c-6c94-45c8-9dc3-97d2c1318a5b",
   "metadata": {},
   "outputs": [
    {
     "data": {
      "text/plain": [
       "<matplotlib.lines.Line2D at 0x7f5bd8176510>"
      ]
     },
     "execution_count": 30,
     "metadata": {},
     "output_type": "execute_result"
    },
    {
     "data": {
      "image/png": "[encoded data removed]",
      "text/plain": [
       "<Figure size 640x480 with 1 Axes>"
      ]
     },
     "metadata": {},
     "output_type": "display_data"
    }
   ],
   "source": [
    "bins  = np.arange(1, 4, 0.05)\n",
    "_, _, _ = plt.hist(f_all, histtype='step', color='r', bins=bins) \n",
    "\n",
    "plt.hist(params['lf'], histtype='step', color='b', bins=bins)\n",
    "plt.axvline(2.45)"
   ]
  },
  {
   "cell_type": "code",
   "execution_count": 36,
   "id": "842ab5ca-679f-4206-aabc-4a70800cb1a6",
   "metadata": {},
   "outputs": [
    {
     "data": {
      "text/plain": [
       "Array([0., 0., 0., 0., 0., 0., 0., 0., 0., 0.], dtype=float64)"
      ]
     },
     "execution_count": 36,
     "metadata": {},
     "output_type": "execute_result"
    }
   ],
   "source": [
    "jnp.array(np.zeros(10,))"
   ]
  },
  {
   "cell_type": "markdown",
   "id": "20fc327b-401b-4677-95ad-c3799bcebaf2",
   "metadata": {},
   "source": [
    "## Arviz amd ESS"
   ]
  },
  {
   "cell_type": "code",
   "execution_count": 14,
   "id": "05e70ae9-eeee-44ef-934c-660c331601f2",
   "metadata": {},
   "outputs": [],
   "source": [
    "from tqdm import tqdm\n"
   ]
  },
  {
   "cell_type": "code",
   "execution_count": 15,
   "id": "7c84af55-c488-4abd-9029-388786ad3cf6",
   "metadata": {},
   "outputs": [],
   "source": [
    "samples = ds['samples']"
   ]
  },
  {
   "cell_type": "code",
   "execution_count": 16,
   "id": "3bdebb60-b820-43d5-884e-0c41ff79f38f",
   "metadata": {},
   "outputs": [
    {
     "data": {
      "text/plain": [
       "dict_keys(['lhlr', 'lf', 'e1', 'dy', 'dx', 'e2'])"
      ]
     },
     "execution_count": 16,
     "metadata": {},
     "output_type": "execute_result"
    }
   ],
   "source": [
    "samples.keys()"
   ]
  },
  {
   "cell_type": "code",
   "execution_count": 17,
   "id": "3754b677-a76e-4cd2-a722-7cadef3b6ac8",
   "metadata": {},
   "outputs": [
    {
     "data": {
      "text/plain": [
       "(8000, 4, 500)"
      ]
     },
     "execution_count": 17,
     "metadata": {},
     "output_type": "execute_result"
    }
   ],
   "source": [
    "samples['lf'].shape"
   ]
  },
  {
   "cell_type": "code",
   "execution_count": 28,
   "id": "2888bc0c-c1b7-4fad-8db7-f6b09b1b4c78",
   "metadata": {},
   "outputs": [
    {
     "name": "stderr",
     "output_type": "stream",
     "text": [
      "100%|██████████| 8000/8000 [00:49<00:00, 160.02it/s]\n"
     ]
    },
    {
     "ename": "NameError",
     "evalue": "name 'jnp' is not defined",
     "output_type": "error",
     "traceback": [
      "\u001b[31m---------------------------------------------------------------------------\u001b[39m",
      "\u001b[31mNameError\u001b[39m                                 Traceback (most recent call last)",
      "\u001b[36mCell\u001b[39m\u001b[36m \u001b[39m\u001b[32mIn[28]\u001b[39m\u001b[32m, line 14\u001b[39m\n\u001b[32m     11\u001b[39m         \u001b[38;5;28;01melse\u001b[39;00m: \n\u001b[32m     12\u001b[39m             ess_dict[k].append(kval)\n\u001b[32m---> \u001b[39m\u001b[32m14\u001b[39m _ess_dict = {k:\u001b[43mjnp\u001b[49m.array(v) \u001b[38;5;28;01mfor\u001b[39;00m k,v \u001b[38;5;129;01min\u001b[39;00m ess_dict.items()}\n",
      "\u001b[31mNameError\u001b[39m: name 'jnp' is not defined"
     ]
    }
   ],
   "source": [
    "ess_dict = {} \n",
    "\n",
    "for ii in tqdm(range(8000)): \n",
    "    params = {k:v[ii] for k,v in samples.items()}\n",
    "    value = arviz.ess(params)\n",
    "\n",
    "    for k in samples:\n",
    "        kval = value[k].data.item()\n",
    "        if k not in ess_dict:\n",
    "            ess_dict[k] = [kval]\n",
    "        else: \n",
    "            ess_dict[k].append(kval)\n",
    "\n"
   ]
  },
  {
   "cell_type": "code",
   "execution_count": 29,
   "id": "ac7d03b7-2fa7-4380-8929-62a2c7310cbd",
   "metadata": {},
   "outputs": [],
   "source": [
    "_ess_dict = {k:np.array(v) for k,v in ess_dict.items()}"
   ]
  },
  {
   "cell_type": "code",
   "execution_count": 47,
   "id": "e09a9e8b-fae3-4b77-a05f-8193299e1296",
   "metadata": {},
   "outputs": [
    {
     "data": {
      "text/plain": [
       "np.int64(149)"
      ]
     },
     "execution_count": 47,
     "metadata": {},
     "output_type": "execute_result"
    }
   ],
   "source": [
    "sum(np.isnan(_ess_dict['lf']))"
   ]
  },
  {
   "cell_type": "code",
   "execution_count": 37,
   "id": "d224d427-7f89-416b-924a-f2010f68e07d",
   "metadata": {},
   "outputs": [
    {
     "data": {
      "text/plain": [
       "array([  15.64537681, 1106.88490672, 2012.25427973, ..., 1907.07492896,\n",
       "       1892.20303879, 1748.68487957], shape=(8000,))"
      ]
     },
     "execution_count": 37,
     "metadata": {},
     "output_type": "execute_result"
    }
   ],
   "source": [
    "_ess_dict['e1']"
   ]
  },
  {
   "cell_type": "code",
   "execution_count": 33,
   "id": "506b2f68-b09b-46ed-8f39-9442b815c236",
   "metadata": {},
   "outputs": [
    {
     "data": {
      "text/plain": [
       "(array([ 158.,    6.,    7.,   10.,   22.,   28.,   46.,   82.,  107.,\n",
       "         153.,  311.,  534.,  688.,  991., 1184., 1193.,  918.,  687.,\n",
       "         420.,  239.,  121.,   60.,   20.,   12.,    3.]),\n",
       " array([   4.06504065,  127.01438262,  249.9637246 ,  372.91306657,\n",
       "         495.86240855,  618.81175052,  741.7610925 ,  864.71043447,\n",
       "         987.65977644, 1110.60911842, 1233.55846039, 1356.50780237,\n",
       "        1479.45714434, 1602.40648632, 1725.35582829, 1848.30517026,\n",
       "        1971.25451224, 2094.20385421, 2217.15319619, 2340.10253816,\n",
       "        2463.05188013, 2586.00122211, 2708.95056408, 2831.89990606,\n",
       "        2954.84924803, 3077.79859001]),\n",
       " <BarContainer object of 25 artists>)"
      ]
     },
     "execution_count": 33,
     "metadata": {},
     "output_type": "execute_result"
    },
    {
     "data": {
      "image/png": "[encoded data removed]",
      "text/plain": [
       "<Figure size 640x480 with 1 Axes>"
      ]
     },
     "metadata": {},
     "output_type": "display_data"
    }
   ],
   "source": [
    "plt.hist(_ess_dict['e1'], bins=25)"
   ]
  },
  {
   "cell_type": "code",
   "execution_count": 48,
   "id": "268b7148-7a50-4d56-9dca-f7c6bdf38942",
   "metadata": {},
   "outputs": [
    {
     "data": {
      "text/plain": [
       "np.int64(7813)"
      ]
     },
     "execution_count": 48,
     "metadata": {},
     "output_type": "execute_result"
    }
   ],
   "source": [
    "# outliers and compare with the rhat ones \n",
    "mask = np.ones_like(ds['truth']['f']).astype(bool)\n",
    "for k in _ess_dict: \n",
    "    new_mask = (_ess_dict[k] / 2000 < 0.1) | np.isnan(_ess_dict[k])\n",
    "    mask = mask & (~new_mask)\n",
    "sum(mask)"
   ]
  },
  {
   "cell_type": "code",
   "execution_count": 49,
   "id": "31a795b0-1bb6-4d2f-b29f-f7dcf0be0956",
   "metadata": {},
   "outputs": [],
   "source": [
    "f_all = np.log10(ds['truth']['f'])\n",
    "f_bad = f_all[~mask]"
   ]
  },
  {
   "cell_type": "code",
   "execution_count": 50,
   "id": "e583b147-4c88-44a4-a06f-7a072de48ba6",
   "metadata": {},
   "outputs": [
    {
     "data": {
      "text/plain": [
       "((8000,), (187,))"
      ]
     },
     "execution_count": 50,
     "metadata": {},
     "output_type": "execute_result"
    }
   ],
   "source": [
    "f_all.shape, f_bad.shape"
   ]
  },
  {
   "cell_type": "code",
   "execution_count": 51,
   "id": "afa80a48-bd63-48d0-9d7a-17b5cdfe0945",
   "metadata": {},
   "outputs": [
    {
     "data": {
      "text/plain": [
       "<matplotlib.lines.Line2D at 0x7f7fcc98d940>"
      ]
     },
     "execution_count": 51,
     "metadata": {},
     "output_type": "execute_result"
    },
    {
     "data": {
      "image/png": "[encoded data removed]",
      "text/plain": [
       "<Figure size 640x480 with 1 Axes>"
      ]
     },
     "metadata": {},
     "output_type": "display_data"
    }
   ],
   "source": [
    "n1, bins, _ = plt.hist(f_all, histtype='step', color='r', bins=31) \n",
    "n2, bins, _ = plt.hist(f_bad, histtype='step', bins=bins, color='b') \n",
    "plt.stairs(n1 - n2, bins, color='g')\n",
    "\n",
    "plt.yscale('log')\n",
    "plt.axvline(2.4)"
   ]
  },
  {
   "cell_type": "code",
   "execution_count": null,
   "id": "7819abd2-edef-419f-a6cb-d6879bd73c8c",
   "metadata": {},
   "outputs": [],
   "source": []
  }
 ],
 "metadata": {
  "kernelspec": {
   "display_name": "bpd_cpu",
   "language": "python",
   "name": "bpd_cpu"
  },
  "language_info": {
   "codemirror_mode": {
    "name": "ipython",
    "version": 3
   },
   "file_extension": ".py",
   "mimetype": "text/x-python",
   "name": "python",
   "nbconvert_exporter": "python",
   "pygments_lexer": "ipython3",
   "version": "3.12.9"
  }
 },
 "nbformat": 4,
 "nbformat_minor": 5
}
