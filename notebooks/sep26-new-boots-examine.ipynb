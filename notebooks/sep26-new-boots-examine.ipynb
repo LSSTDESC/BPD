{
 "cells": [
  {
   "cell_type": "code",
   "execution_count": 1,
   "id": "aeb83a52-154b-4582-8808-3319baca6b05",
   "metadata": {
    "scrolled": true
   },
   "outputs": [],
   "source": [
    "from bpd.io import load_dataset\n",
    "import matplotlib.pyplot as plt\n",
    "\n",
    "import numpy as np"
   ]
  },
  {
   "cell_type": "markdown",
   "id": "11e1bd1f-746f-4d32-9f11-120729c62f90",
   "metadata": {
    "jp-MarkdownHeadingCollapsed": true
   },
   "source": [
    "## Small test"
   ]
  },
  {
   "cell_type": "code",
   "execution_count": 111,
   "id": "e2410df4-b60a-4fe5-9cd6-9aee25966c51",
   "metadata": {},
   "outputs": [],
   "source": [
    "path_boot = \"/pscratch/sd/i/imendoza/data/cache_chains/exp72_51/g_samples_boots_5151.npz\""
   ]
  },
  {
   "cell_type": "code",
   "execution_count": 112,
   "id": "9c93a025-7a37-45b2-bc7c-b71c7df179d5",
   "metadata": {},
   "outputs": [],
   "source": [
    "fp = \"/pscratch/sd/i/imendoza/data/cache_chains/exp72_51/g_samples_512_plus.npz\"\n",
    "fm = \"/pscratch/sd/i/imendoza/data/cache_chains/exp72_51/g_samples_512_minus.npz\""
   ]
  },
  {
   "cell_type": "code",
   "execution_count": 113,
   "id": "884f3bdb-f7d1-41b2-b40f-5d7ca80f33b0",
   "metadata": {},
   "outputs": [
    {
     "data": {
      "text/plain": [
       "(200, 1000)"
      ]
     },
     "execution_count": 113,
     "metadata": {},
     "output_type": "execute_result"
    }
   ],
   "source": [
    "dsb = load_dataset(path_boot)\n",
    "dsp = load_dataset(fp)\n",
    "dsm = load_dataset(fm)\n",
    "dsb['plus']['g1'].shape"
   ]
  },
  {
   "cell_type": "code",
   "execution_count": 114,
   "id": "0b70a3c2-7a6e-4984-adc9-4a74cbeae625",
   "metadata": {},
   "outputs": [
    {
     "data": {
      "text/plain": [
       "<matplotlib.lines.Line2D at 0x7f2a4771a570>"
      ]
     },
     "execution_count": 114,
     "metadata": {},
     "output_type": "execute_result"
    },
    {
     "data": {
      "image/png": "[encoded data removed]",
      "text/plain": [
       "<Figure size 640x480 with 1 Axes>"
      ]
     },
     "metadata": {},
     "output_type": "display_data"
    }
   ],
   "source": [
    "plt.hist(dsb['plus']['g1'].mean(1), bins=21)\n",
    "plt.axvline(dsb['plus']['g1'].mean(), c='k', ls='--')\n",
    "plt.axvline(dsp['samples']['g1'].mean(), c='r', ls='--')"
   ]
  },
  {
   "cell_type": "code",
   "execution_count": 115,
   "id": "38135388-832f-4a37-aece-34d8368c725e",
   "metadata": {},
   "outputs": [],
   "source": [
    "m = (dsp['samples']['g1'].mean() - dsm['samples']['g1'].mean()) / 0.02 / 2 - 1"
   ]
  },
  {
   "cell_type": "code",
   "execution_count": 116,
   "id": "ce7466c5-53fe-428a-ad39-60205f2917f3",
   "metadata": {},
   "outputs": [
    {
     "data": {
      "text/plain": [
       "(200,)"
      ]
     },
     "execution_count": 116,
     "metadata": {},
     "output_type": "execute_result"
    }
   ],
   "source": [
    "mb = (dsb['plus']['g1'].mean(1) - dsb['minus']['g1'].mean(1)) / 2/ 0.02 - 1\n",
    "mb.shape"
   ]
  },
  {
   "cell_type": "code",
   "execution_count": 117,
   "id": "31cc3d11-b8c8-4466-bbf5-57a6c5726b91",
   "metadata": {},
   "outputs": [
    {
     "data": {
      "text/plain": [
       "<matplotlib.lines.Line2D at 0x7f2a49b23830>"
      ]
     },
     "execution_count": 117,
     "metadata": {},
     "output_type": "execute_result"
    },
    {
     "data": {
      "image/png": "[encoded data removed]",
      "text/plain": [
       "<Figure size 640x480 with 1 Axes>"
      ]
     },
     "metadata": {},
     "output_type": "display_data"
    }
   ],
   "source": [
    "plt.hist(mb, bins=21, histtype='step')\n",
    "plt.axvline(m, c='r', ls='--')\n",
    "plt.axvline(mb.mean(), c='k', ls='--')"
   ]
  },
  {
   "cell_type": "code",
   "execution_count": 118,
   "id": "ce0a4014-cde8-4b73-a7da-6c537e776178",
   "metadata": {},
   "outputs": [
    {
     "data": {
      "text/plain": [
       "np.float64(0.6404091205828439)"
      ]
     },
     "execution_count": 118,
     "metadata": {},
     "output_type": "execute_result"
    }
   ],
   "source": [
    "mb.std() / 1e-3  * 3"
   ]
  },
  {
   "cell_type": "markdown",
   "id": "7b139b06-fb88-4bcd-bf3a-bfa11b40c687",
   "metadata": {},
   "source": [
    "# New plot of all means so far"
   ]
  },
  {
   "cell_type": "code",
   "execution_count": 2,
   "id": "2e21acad-062e-4ccc-8fb6-79531c2032b3",
   "metadata": {},
   "outputs": [],
   "source": [
    "fpath1p= \"/pscratch/sd/i/imendoza/data/cache_chains/exp70_51/g_samples_512_plus.npz\"\n",
    "fpath1m= \"/pscratch/sd/i/imendoza/data/cache_chains/exp70_51/g_samples_512_minus.npz\"\n",
    "fpath2p= \"/pscratch/sd/i/imendoza/data/cache_chains/exp71_51/shear_samples_512_plus.npz\"\n",
    "fpath2m= \"/pscratch/sd/i/imendoza/data/cache_chains/exp71_51/shear_samples_512_minus.npz\"\n",
    "fpath3p= \"/pscratch/sd/i/imendoza/data/cache_chains/exp72_51/g_samples_512_plus.npz\"\n",
    "fpath3m= \"/pscratch/sd/i/imendoza/data/cache_chains/exp72_51/g_samples_512_minus.npz\"\n",
    "fpath4p= \"/pscratch/sd/i/imendoza/data/cache_chains/exp73_51/shear_samples_512_plus.npz\"\n",
    "fpath4m= \"/pscratch/sd/i/imendoza/data/cache_chains/exp73_51/shear_samples_512_minus.npz\"\n",
    "\n",
    "fpaths = [(fpath1p, fpath1m), (fpath2p, fpath2m), (fpath3p, fpath3m), (fpath4p, fpath4m)]"
   ]
  },
  {
   "cell_type": "code",
   "execution_count": 3,
   "id": "7fc196dc-4d68-4a42-b19f-b91144bde889",
   "metadata": {},
   "outputs": [],
   "source": [
    "efpath1= \"/pscratch/sd/i/imendoza/data/cache_chains/exp70_51/g_samples_514_errs.npz\"\n",
    "efpath2= \"/pscratch/sd/i/imendoza/data/cache_chains/exp71_51/g_samples_514_errs.npz\"\n",
    "efpath3= \"/pscratch/sd/i/imendoza/data/cache_chains/exp72_51/g_samples_514_errs.npz\"\n",
    "efpath4= \"/pscratch/sd/i/imendoza/data/cache_chains/exp73_51/g_samples_514_errs.npz\"\n",
    "\n",
    "errs_fpaths = [efpath1, efpath2, efpath3, efpath4]"
   ]
  },
  {
   "cell_type": "code",
   "execution_count": 4,
   "id": "b39fa0e2-e7f8-4ef0-ae83-ad7ccdae2106",
   "metadata": {},
   "outputs": [],
   "source": [
    "bfpath1= \"/pscratch/sd/i/imendoza/data/cache_chains/exp70_51/g_samples_boots_5151.npz\"\n",
    "bfpath2= \"/pscratch/sd/i/imendoza/data/cache_chains/exp71_51/g_samples_boots_5151.npz\"\n",
    "bfpath3= \"/pscratch/sd/i/imendoza/data/cache_chains/exp72_51/g_samples_boots_5151.npz\"\n",
    "# efpath4= \"/pscratch/sd/i/imendoza/data/cache_chains/exp73_51/g_samples_514_errs.npz\"\n",
    "\n",
    "boot_fpaths = [bfpath1, bfpath2, bfpath3]"
   ]
  },
  {
   "cell_type": "code",
   "execution_count": 5,
   "id": "f2223821-3709-4705-b576-12c25aa33f97",
   "metadata": {},
   "outputs": [],
   "source": [
    "# full posterior \n",
    "m_full = []\n",
    "for (fpp, fpm) in fpaths:\n",
    "    dsp = load_dataset(fpp)\n",
    "    dsm = load_dataset(fpm)\n",
    "    g1p = dsp['samples']['g1']\n",
    "    g1m = dsm['samples']['g1']\n",
    "    assert g1p.ndim == 1\n",
    "    m = (g1p.mean() - g1m.mean()) / 2/ 0.02 - 1\n",
    "    m_full.append(m)\n",
    "m_full = np.array(m_full)"
   ]
  },
  {
   "cell_type": "code",
   "execution_count": 6,
   "id": "e81aad9c-b89c-4aab-9870-b78f9482616f",
   "metadata": {},
   "outputs": [
    {
     "data": {
      "text/plain": [
       "array([-0.36092321, -0.26664114, -0.17723907, -0.31302023])"
      ]
     },
     "execution_count": 6,
     "metadata": {},
     "output_type": "execute_result"
    }
   ],
   "source": [
    "m_full / 1e-3"
   ]
  },
  {
   "cell_type": "code",
   "execution_count": 7,
   "id": "d0f8c63c-0be0-4c04-a6da-5a7544d15887",
   "metadata": {},
   "outputs": [],
   "source": [
    "# subset posterior \n",
    "m_sub = []\n",
    "sigma_m = [] \n",
    "for fp in errs_fpaths:\n",
    "    ds = load_dataset(fp)\n",
    "    g1p = ds['plus']['g1']\n",
    "    g1m = ds['minus']['g1']\n",
    "    assert g1p.ndim == 2\n",
    "    ms = (g1p.mean(1) - g1m.mean(1)) / 2/ 0.02 - 1\n",
    "    ms_mean = ms.mean()\n",
    "    sigm = ms.std() / np.sqrt(len(ms))\n",
    "    m_sub.append(ms_mean)\n",
    "    sigma_m.append(sigm)\n",
    "m_sub = np.array(m_sub)\n",
    "sigma_m = np.array(sigma_m)"
   ]
  },
  {
   "cell_type": "code",
   "execution_count": 8,
   "id": "dff17855-06fa-4510-94f7-77496e857299",
   "metadata": {},
   "outputs": [],
   "source": [
    "# bootstrap posterior \n",
    "m_boot = []\n",
    "err_boot = [] \n",
    "for fp in boot_fpaths:\n",
    "    ds = load_dataset(fp)\n",
    "    g1p = ds['plus']['g1']\n",
    "    g1m = ds['minus']['g1']\n",
    "    assert g1p.ndim == 2\n",
    "    mb = (g1p.mean(1) - g1m.mean(1)) / 2/ 0.02 - 1\n",
    "    mb_mean = mb.mean()\n",
    "    sigb = mb.std()\n",
    "    m_boot.append(mb_mean)\n",
    "    err_boot.append(sigb)\n",
    "m_boot = np.array(m_boot)\n",
    "err_boot = np.array(err_boot)"
   ]
  },
  {
   "cell_type": "code",
   "execution_count": 9,
   "id": "b5aa3a96-663f-4b81-ac71-bd8102f0bd41",
   "metadata": {},
   "outputs": [
    {
     "data": {
      "text/plain": [
       "array([-0.36092321, -0.26664114, -0.17723907, -0.31302023])"
      ]
     },
     "execution_count": 9,
     "metadata": {},
     "output_type": "execute_result"
    }
   ],
   "source": [
    "m_full/1e-3"
   ]
  },
  {
   "cell_type": "code",
   "execution_count": 10,
   "id": "15d9d6f2-bb25-46d5-b2a9-87a00cfb80d3",
   "metadata": {},
   "outputs": [
    {
     "data": {
      "text/plain": [
       "(array([0.75781401, 0.94637404, 0.77809427, 1.33108432]),\n",
       " array([0.70038359, 0.89470001, 0.64040912]))"
      ]
     },
     "execution_count": 10,
     "metadata": {},
     "output_type": "execute_result"
    }
   ],
   "source": [
    "sigma_m / 1e-3 * 3, err_boot / 1e-3 * 3"
   ]
  },
  {
   "cell_type": "code",
   "execution_count": 12,
   "id": "09bc00f6-84a0-4bc0-8175-de261db44b4c",
   "metadata": {},
   "outputs": [
    {
     "data": {
      "image/png": "[encoded data removed]",
      "text/plain": [
       "<Figure size 800x800 with 1 Axes>"
      ]
     },
     "metadata": {},
     "output_type": "display_data"
    }
   ],
   "source": [
    "\n",
    "fig, ax = plt.subplots(1,1, figsize=(8,8))\n",
    "ys = np.array([0.75, 0.5, 0.25, 0.0])\n",
    "ys2 = np.array([0.75, 0.5, 0.25])\n",
    "\n",
    "# multiplicative bias\n",
    "ax.errorbar(x=m_full, y=ys, color=\"k\", fmt=\"o\", capsize=10.0, label='full')\n",
    "ax.errorbar(x=m_sub, xerr=[s*3 for s in sigma_m],  y=ys+0.05, color=\"r\", fmt=\"o\", capsize=10.0, label='subset mean ')\n",
    "ax.errorbar(x=m_boot, xerr=[s*3 for s in err_boot],  y=ys2-0.05, color=\"b\", fmt=\"o\", capsize=10.0, label='(200) bootstraps mean')\n",
    "# ax.errorbar(x=mu3, y=ys+0.1, color=\"b\", fmt=\"o\", capsize=10.0, label='gaussian')\n",
    "# ax.errorbar(x=mu4, y=ys-0.05, color=\"m\", fmt=\"o\", capsize=10.0)\n",
    "\n",
    "\n",
    "ax.set_yticks([0.75, 0.5, 0.25, 0.0])\n",
    "ax.set_yticklabels([\"shapes-fixed\", \"shapes-all\", \"all-fixed\", \"all-free\"])\n",
    "plt.title(\"multiplicative bias (3 sigma errors)\")\n",
    "# ax.set_ylim(-0.1, 0.85)\n",
    "\n",
    "\n",
    "\n",
    "# ax.set_xlim(-3, 3)\n",
    "plt.legend()\n",
    "plt.tight_layout()"
   ]
  },
  {
   "cell_type": "code",
   "execution_count": null,
   "id": "40380183-47fe-4c9c-830b-068f172af73b",
   "metadata": {},
   "outputs": [],
   "source": []
  }
 ],
 "metadata": {
  "kernelspec": {
   "display_name": "bpd_gpu4",
   "language": "python",
   "name": "bpd_gpu4"
  },
  "language_info": {
   "codemirror_mode": {
    "name": "ipython",
    "version": 3
   },
   "file_extension": ".py",
   "mimetype": "text/x-python",
   "name": "python",
   "nbconvert_exporter": "python",
   "pygments_lexer": "ipython3",
   "version": "3.12.11"
  }
 },
 "nbformat": 4,
 "nbformat_minor": 5
}
