{
 "cells": [
  {
   "cell_type": "code",
   "execution_count": 7,
   "id": "ee3d70cc-3948-4661-b05f-24b4f36202e1",
   "metadata": {},
   "outputs": [],
   "source": [
    "from bpd.io import load_dataset\n",
    "import numpy as np"
   ]
  },
  {
   "cell_type": "code",
   "execution_count": 3,
   "id": "af16c863-6074-49ae-9ae8-ec8f3abd3963",
   "metadata": {},
   "outputs": [],
   "source": [
    "path = \"/pscratch/sd/i/imendoza/data/cache_chains/exp73_51/g_samples_boots_9940.npz\""
   ]
  },
  {
   "cell_type": "code",
   "execution_count": 4,
   "id": "f31bc549-44fa-4b01-b47e-5f9f9a4c8646",
   "metadata": {},
   "outputs": [
    {
     "data": {
      "text/plain": [
       "dict_keys(['g1', 'g2', 'a_logflux', 'mean_logflux', 'mean_loghlr', 'sigma_e', 'sigma_logflux', 'sigma_loghlr'])"
      ]
     },
     "execution_count": 4,
     "metadata": {},
     "output_type": "execute_result"
    }
   ],
   "source": [
    "ds = load_dataset(path) \n",
    "ds['plus'].keys()"
   ]
  },
  {
   "cell_type": "code",
   "execution_count": 5,
   "id": "68bdb318-be72-4628-bbd3-c01641e34a94",
   "metadata": {},
   "outputs": [
    {
     "data": {
      "text/plain": [
       "((2, 1000), (2, 1000))"
      ]
     },
     "execution_count": 5,
     "metadata": {},
     "output_type": "execute_result"
    }
   ],
   "source": [
    "ds['plus']['g1'].shape, ds['plus']['mean_logflux'].shape"
   ]
  },
  {
   "cell_type": "code",
   "execution_count": 6,
   "id": "8d1e6358-551e-40e8-86a2-7bedc66e0445",
   "metadata": {},
   "outputs": [],
   "source": [
    "# ds['minus']['g1'][1]"
   ]
  },
  {
   "cell_type": "code",
   "execution_count": 9,
   "id": "a0b3ea2a-8f5b-4826-a009-153843bb3a24",
   "metadata": {},
   "outputs": [
    {
     "data": {
      "text/plain": [
       "(np.float64(0.02072587354642636), np.float64(-0.019277458420532682))"
      ]
     },
     "execution_count": 9,
     "metadata": {},
     "output_type": "execute_result"
    }
   ],
   "source": [
    "ds['plus']['g1'].mean(), ds['minus']['g1'].mean()"
   ]
  },
  {
   "cell_type": "code",
   "execution_count": 10,
   "id": "df5d4764-f560-47d8-81e4-03836fce594d",
   "metadata": {},
   "outputs": [
    {
     "data": {
      "text/plain": [
       "array([[0.20000343, 0.2000285 , 0.20010307, ..., 0.19992327, 0.19994097,\n",
       "        0.19991204],\n",
       "       [0.20054872, 0.20052958, 0.20021259, ..., 0.20038171, 0.20034515,\n",
       "        0.20017366]], shape=(2, 1000))"
      ]
     },
     "execution_count": 10,
     "metadata": {},
     "output_type": "execute_result"
    }
   ],
   "source": [
    "ds['plus']['sigma_e']"
   ]
  },
  {
   "cell_type": "code",
   "execution_count": 13,
   "id": "2aba9767-6c30-448a-99ab-1b42e4f49187",
   "metadata": {},
   "outputs": [
    {
     "data": {
      "text/plain": [
       "array([[13.78701179, 13.79187968, 13.78468199, ..., 13.98495753,\n",
       "        13.8700135 , 13.92236955],\n",
       "       [14.29212638, 14.28674501, 14.27500754, ..., 13.90811473,\n",
       "        13.90859924, 13.84185803]], shape=(2, 1000))"
      ]
     },
     "execution_count": 13,
     "metadata": {},
     "output_type": "execute_result"
    }
   ],
   "source": [
    "ds['plus']['a_logflux']"
   ]
  },
  {
   "cell_type": "code",
   "execution_count": 14,
   "id": "320cc825-d8a9-4d3a-9523-70058300139d",
   "metadata": {},
   "outputs": [
    {
     "data": {
      "text/plain": [
       "array([[0.40140013, 0.40159454, 0.40162846, ..., 0.40116289, 0.40289479,\n",
       "        0.40215217],\n",
       "       [0.40012131, 0.39988945, 0.39978867, ..., 0.39961498, 0.39962669,\n",
       "        0.39932121]], shape=(2, 1000))"
      ]
     },
     "execution_count": 14,
     "metadata": {},
     "output_type": "execute_result"
    }
   ],
   "source": [
    "ds['plus']['sigma_logflux']"
   ]
  },
  {
   "cell_type": "markdown",
   "id": "5ad2dca6-aa7f-4722-a6f0-7db8663801e7",
   "metadata": {},
   "source": [
    "# Setting with all free"
   ]
  },
  {
   "cell_type": "code",
   "execution_count": 21,
   "id": "f50e9e73-a8a7-475c-a0c3-72e91a4a583a",
   "metadata": {},
   "outputs": [
    {
     "data": {
      "text/plain": [
       "np.float64(-0.3130202324510556)"
      ]
     },
     "execution_count": 21,
     "metadata": {},
     "output_type": "execute_result"
    }
   ],
   "source": [
    "dsp = load_dataset(\"/pscratch/sd/i/imendoza/data/cache_chains/exp73_51/shear_samples_512_plus.npz\")\n",
    "dsm = load_dataset(\"/pscratch/sd/i/imendoza/data/cache_chains/exp73_51/shear_samples_512_minus.npz\")\n",
    "\n",
    "g1p = dsp['samples']['g1']\n",
    "g1m = dsm['samples']['g1']\n",
    "mfull = (g1p.mean() - g1m.mean()) / 2/ 0.02 - 1 \n",
    "mfull / 1e-3"
   ]
  },
  {
   "cell_type": "code",
   "execution_count": 14,
   "id": "dbf6ea3d-ab40-457a-bc11-9c90cb20b4b3",
   "metadata": {},
   "outputs": [
    {
     "name": "stdout",
     "output_type": "stream",
     "text": [
      "[0.02044024 0.02101151]\n",
      "[-0.01956343 -0.01899149]\n",
      "[0.02108911 0.02076432]\n",
      "[-0.01891191 -0.01922609]\n",
      "[0.02058738 0.01965532]\n",
      "[-0.01941324 -0.02032691]\n",
      "[0.02009666 0.02030613]\n",
      "[-0.01991209 -0.01968038]\n"
     ]
    }
   ],
   "source": [
    "paths = [f\"/pscratch/sd/i/imendoza/data/cache_chains/exp73_51/g_samples_boots_994{i}.npz\" for i in range(0,4)]\n",
    "ms = []\n",
    "for p in paths:\n",
    "    ds = load_dataset(p)\n",
    "    g1p = ds['plus']['g1'].mean(1)\n",
    "    g1m = ds['minus']['g1'].mean(1)\n",
    "    print(g1p)\n",
    "    print(g1m)\n",
    "    m = (g1p - g1m) / 2/ 0.02 - 1\n",
    "    ms.append(m)"
   ]
  },
  {
   "cell_type": "code",
   "execution_count": 24,
   "id": "4f41f486-7b97-4c49-8628-4adde7443900",
   "metadata": {},
   "outputs": [
    {
     "data": {
      "text/plain": [
       "array([ 0.09156915,  0.0750292 ,  0.02549806, -0.23979181,  0.01533466,\n",
       "       -0.44423441,  0.21875551, -0.33740457])"
      ]
     },
     "execution_count": 24,
     "metadata": {},
     "output_type": "execute_result"
    }
   ],
   "source": [
    "_ms = np.concatenate(ms)\n",
    "_ms / 1e-3"
   ]
  },
  {
   "cell_type": "code",
   "execution_count": 25,
   "id": "c0db4041-58f2-4409-9e6a-e5baee993ec9",
   "metadata": {},
   "outputs": [
    {
     "data": {
      "text/plain": [
       "np.float64(-0.07440552766546649)"
      ]
     },
     "execution_count": 25,
     "metadata": {},
     "output_type": "execute_result"
    }
   ],
   "source": [
    "_ms.mean() / 1e-3"
   ]
  },
  {
   "cell_type": "code",
   "execution_count": null,
   "id": "a73e04cc-3938-41d1-9bb4-e75d8ff875fc",
   "metadata": {},
   "outputs": [],
   "source": []
  }
 ],
 "metadata": {
  "kernelspec": {
   "display_name": "bpd_gpu",
   "language": "python",
   "name": "bpd_gpu"
  },
  "language_info": {
   "codemirror_mode": {
    "name": "ipython",
    "version": 3
   },
   "file_extension": ".py",
   "mimetype": "text/x-python",
   "name": "python",
   "nbconvert_exporter": "python",
   "pygments_lexer": "ipython3",
   "version": "3.12.11"
  }
 },
 "nbformat": 4,
 "nbformat_minor": 5
}
