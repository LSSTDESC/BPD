{
 "cells": [
  {
   "cell_type": "code",
   "execution_count": 12,
   "metadata": {},
   "outputs": [],
   "source": [
    "from bpd.sample import sample_galaxy_params_simple\n",
    "from functools import partial \n",
    "\n",
    "import jax \n",
    "from jax import vmap\n",
    "\n",
    "import jax.numpy as jnp\n",
    "\n",
    "import matplotlib.pyplot as plt "
   ]
  },
  {
   "cell_type": "code",
   "execution_count": 2,
   "metadata": {},
   "outputs": [],
   "source": [
    "seed = 42 \n",
    "k = jax.random.key(42)\n",
    "keys = jax.random.split(k, 10000)"
   ]
  },
  {
   "cell_type": "code",
   "execution_count": 3,
   "metadata": {},
   "outputs": [],
   "source": [
    "_sample_fnc = partial(sample_galaxy_params_simple, \n",
    "                      shape_noise=0.1, mean_logflux=2.6, sigma_logflux=0.4, mean_loghlr=-0.1, sigma_loghlr=0.05)\n",
    "galaxy_params = vmap(_sample_fnc)(keys)"
   ]
  },
  {
   "cell_type": "code",
   "execution_count": 4,
   "metadata": {},
   "outputs": [
    {
     "data": {
      "text/plain": [
       "dict_keys(['e1', 'e2', 'g1', 'g2', 'x', 'y', 'f', 'hlr'])"
      ]
     },
     "execution_count": 4,
     "metadata": {},
     "output_type": "execute_result"
    }
   ],
   "source": [
    "draw_params = {**galaxy_params}\n",
    "draw_params['f'] = 10**draw_params.pop(\"lf\")\n",
    "draw_params['hlr'] = 10**draw_params.pop(\"lhlr\")\n",
    "draw_params['x'] = jnp.zeros_like(draw_params['x'])\n",
    "draw_params['y'] = jnp.zeros_like(draw_params['y'])\n",
    "\n",
    "draw_params.keys()"
   ]
  },
  {
   "cell_type": "code",
   "execution_count": 5,
   "metadata": {},
   "outputs": [
    {
     "name": "stderr",
     "output_type": "stream",
     "text": [
      "100%|██████████| 10000/10000 [01:23<00:00, 119.31it/s]\n"
     ]
    }
   ],
   "source": [
    "from bpd.draw import draw_exponential_galsim\n",
    "from tqdm import tqdm\n",
    "\n",
    "\n",
    "_draw_galsim = partial(draw_exponential_galsim, slen=101)\n",
    "noiseless = [] \n",
    "\n",
    "\n",
    "\n",
    "for ii in tqdm(range(10000)):\n",
    "    _params = {k:v[ii] for k,v in draw_params.items()}\n",
    "    noiseless.append(_draw_galsim(**_params))\n",
    "\n",
    "\n",
    "noiseless = jnp.stack(noiseless, axis=0)"
   ]
  },
  {
   "cell_type": "code",
   "execution_count": 7,
   "metadata": {},
   "outputs": [
    {
     "data": {
      "text/plain": [
       "(10000, 101, 101)"
      ]
     },
     "execution_count": 7,
     "metadata": {},
     "output_type": "execute_result"
    }
   ],
   "source": [
    "noiseless.shape"
   ]
  },
  {
   "cell_type": "code",
   "execution_count": null,
   "metadata": {},
   "outputs": [],
   "source": []
  },
  {
   "cell_type": "code",
   "execution_count": null,
   "metadata": {},
   "outputs": [],
   "source": []
  },
  {
   "cell_type": "code",
   "execution_count": 9,
   "metadata": {},
   "outputs": [
    {
     "name": "stderr",
     "output_type": "stream",
     "text": [
      "100%|██████████| 10000/10000 [00:05<00:00, 1942.54it/s]\n"
     ]
    }
   ],
   "source": [
    "from bpd.utils import get_snr\n",
    "\n",
    "snrs = [] \n",
    "for ii in tqdm(range(10000)):\n",
    "    snrs.append(get_snr(noiseless[ii], 1.0))\n",
    "\n",
    "snrs = jnp.stack(snrs, axis=0)"
   ]
  },
  {
   "cell_type": "code",
   "execution_count": 21,
   "metadata": {},
   "outputs": [
    {
     "data": {
      "text/plain": [
       "<matplotlib.lines.Line2D at 0x7fb03814c920>"
      ]
     },
     "execution_count": 21,
     "metadata": {},
     "output_type": "execute_result"
    },
    {
     "data": {
      "image/png": "[encoded data removed]",
      "text/plain": [
       "<Figure size 640x480 with 1 Axes>"
      ]
     },
     "metadata": {},
     "output_type": "display_data"
    }
   ],
   "source": [
    "plt.hist(snrs, bins=25, histtype='step', density=True)\n",
    "plt.axvline(snrs.mean(), linestyle='--', color='k')"
   ]
  },
  {
   "cell_type": "code",
   "execution_count": 20,
   "metadata": {},
   "outputs": [
    {
     "data": {
      "text/plain": [
       "(Array(14.246659, dtype=float32), Array(16.786205, dtype=float32))"
      ]
     },
     "execution_count": 20,
     "metadata": {},
     "output_type": "execute_result"
    }
   ],
   "source": [
    "jnp.median(snrs), snrs.mean()"
   ]
  },
  {
   "cell_type": "code",
   "execution_count": null,
   "metadata": {},
   "outputs": [],
   "source": []
  }
 ],
 "metadata": {
  "kernelspec": {
   "display_name": "bpd_gpu3",
   "language": "python",
   "name": "bpd_gpu3"
  },
  "language_info": {
   "codemirror_mode": {
    "name": "ipython",
    "version": 3
   },
   "file_extension": ".py",
   "mimetype": "text/x-python",
   "name": "python",
   "nbconvert_exporter": "python",
   "pygments_lexer": "ipython3",
   "version": "3.12.2"
  }
 },
 "nbformat": 4,
 "nbformat_minor": 4
}
