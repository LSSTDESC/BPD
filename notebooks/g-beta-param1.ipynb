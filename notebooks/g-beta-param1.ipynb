{
 "cells": [
  {
   "cell_type": "code",
   "execution_count": 8,
   "id": "ba5f524d-42c8-437f-80b8-b137c5a56203",
   "metadata": {
    "tags": []
   },
   "outputs": [],
   "source": [
    "import jax.numpy as jnp\n",
    "from jax import Array, random, vmap\n",
    "from jax._src.prng import PRNGKeyArray\n",
    "from jax.numpy.linalg import norm\n",
    "from jax.typing import ArrayLike"
   ]
  },
  {
   "cell_type": "code",
   "execution_count": 9,
   "id": "da0dc9a2-13bf-42a1-99be-30585b2d4003",
   "metadata": {
    "tags": []
   },
   "outputs": [],
   "source": [
    "def sample_ellip_prior(rng_key: PRNGKeyArray, sigma: float, n: int = 1):\n",
    "    \"\"\"Sample n ellipticities isotropic components with Gary's prior from magnitude.\"\"\"\n",
    "    key1, key2 = random.split(rng_key, 2)\n",
    "    e_mag = sample_mag_ellip_prior(key1, sigma=sigma, n=n)\n",
    "    beta = random.uniform(key2, shape=(n,), minval=0, maxval=jnp.pi)\n",
    "    return jnp.stack((e_mag, beta), axis=1)"
   ]
  },
  {
   "cell_type": "code",
   "execution_count": 10,
   "id": "baed30cf-33e4-4f25-a830-3d3334c838bf",
   "metadata": {
    "tags": []
   },
   "outputs": [],
   "source": [
    "def gete1e2_from_ebeta(e_mag:float, beta:float):\n",
    "    e1 = e_mag * jnp.cos(2 * beta)\n",
    "    e2 = e_mag * jnp.sin(2 * beta)\n",
    "    \n",
    "    return e1, e2\n",
    "\n",
    "def get_ebeta_from_e1e2(e1:float, e2:float):\n",
    "    beta = jnp.arctan2(e2 / e1) * 0.5\n",
    "    e_mag = jnp.sqrt(e1**2 + e2**2)\n",
    "    return e_mag, beta\n",
    "\n",
    "\n",
    "def scalar_shear_transformation(e: Array, g: Array):\n",
    "    \"\"\"Transform elliptiticies by a fixed shear (scalar version).\n",
    "\n",
    "    The transformation we used is equation 3.4b in Seitz & Schneider (1997).\n",
    "\n",
    "    NOTE: This function is meant to be vmapped later.\n",
    "    \"\"\"\n",
    "    assert e.shape == (2,) and g.shape == (2,)\n",
    "\n",
    "    e_mag, beta_e = e\n",
    "    g_mag, beta_g = g\n",
    "    \n",
    "    e1, e2 = gete1e2_from_ebeta(e_mag, beta_e)\n",
    "    g1, g2 = gete1e2_from_ebeta(g_mag, beta_g)\n",
    "\n",
    "    e_comp = e1 + e2 * 1j\n",
    "    g_comp = g1 + g2 * 1j\n",
    "\n",
    "    e_prime = (e_comp + g_comp) / (1 + g_comp.conjugate() * e_comp)\n",
    "    \n",
    "    ep1 = e_prime.real\n",
    "    ep2 = e_prime.imag\n",
    "    \n",
    "    ep_mag, beta_p = get_ebeta_from_e1e2(ep1, ep2)\n",
    "    \n",
    "    return jnp.array([ep_mag, beta_p])\n",
    "\n",
    "def scalar_inv_shear_transformation(e: Array, g: Array):\n",
    "    \"\"\"Transform elliptiticies by a fixed shear (scalar version).\n",
    "\n",
    "    The transformation we used is equation 3.4b in Seitz & Schneider (1997).\n",
    "\n",
    "    NOTE: This function is meant to be vmapped later.\n",
    "    \"\"\"\n",
    "    assert e.shape == (2,) and g.shape == (2,)\n",
    "\n",
    "    e_mag, beta_e = e\n",
    "    g_mag, beta_g = g\n",
    "    \n",
    "    e1, e2 = gete1e2_from_ebeta(e_mag, beta_e)\n",
    "    g1, g2 = gete1e2_from_ebeta(g_mag, beta_g)\n",
    "\n",
    "    e_comp = e1 + e2 * 1j\n",
    "    g_comp = g1 + g2 * 1j\n",
    "\n",
    "    e_prime = (e_comp - g_comp) / (1 - g_comp.conjugate() * e_comp)\n",
    "    \n",
    "    ep1 = e_prime.real\n",
    "    ep2 = e_prime.imag\n",
    "    \n",
    "    ep_mag, beta_p = get_ebeta_from_e1e2(ep1, ep2)\n",
    "    \n",
    "    return jnp.array([ep_mag, beta_p])\n",
    "\n",
    "# batched\n",
    "shear_transformation = vmap(scalar_shear_transformation, in_axes=(0, None))\n",
    "inv_shear_transformation = vmap(scalar_inv_shear_transformation, in_axes=(0, None))\n",
    "\n",
    "# useful for jacobian later\n",
    "inv_shear_func1 = lambda e, g: scalar_inv_shear_transformation(e, g)[0]\n",
    "inv_shear_func2 = lambda e, g: scalar_inv_shear_transformation(e, g)[1]"
   ]
  },
  {
   "cell_type": "code",
   "execution_count": null,
   "id": "c08eb564-6f73-46b8-94bc-422c1407f822",
   "metadata": {},
   "outputs": [],
   "source": [
    "# first set of likelihoods:\n",
    "def logtarget(\n",
    "    e_sheared: Array,\n",
    "    *,\n",
    "    data: Array,  # renamed from `e_obs` for comptability with `do_inference_nuts`\n",
    "    sigma_m: float,\n",
    "    interim_prior: Callable,\n",
    "):\n",
    "    e_obs = data\n",
    "    assert e_sheared.shape == (2,) and e_obs.shape == (2,)\n",
    "\n",
    "    # ignore angle prior assumed uniform\n",
    "    # prior enforces magnitude < 1.0 for posterior samples\n",
    "    prior = jnp.log(interim_prior(e_sheared[0]))\n",
    "    likelihood = jnp.sum(jsp.stats.norm.logpdf(e_obs, loc=e_sheared, scale=sigma_m))\n",
    "    return prior + likelihood"
   ]
  }
 ],
 "metadata": {
  "kernelspec": {
   "display_name": "bpd_gpu2",
   "language": "python",
   "name": "bpd_gpu2"
  },
  "language_info": {
   "codemirror_mode": {
    "name": "ipython",
    "version": 3
   },
   "file_extension": ".py",
   "mimetype": "text/x-python",
   "name": "python",
   "nbconvert_exporter": "python",
   "pygments_lexer": "ipython3",
   "version": "3.10.14"
  }
 },
 "nbformat": 4,
 "nbformat_minor": 5
}
