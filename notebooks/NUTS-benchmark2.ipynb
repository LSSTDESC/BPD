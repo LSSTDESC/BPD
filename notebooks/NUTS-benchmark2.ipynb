{
 "cells": [
  {
   "cell_type": "markdown",
   "id": "ea626e63-6076-415c-ae3d-fa895ac4555e",
   "metadata": {},
   "source": [
    "*Created: 08/27/24*\n",
    "\n",
    "*Most recent update: 09/02/24*\n",
    "\n",
    "**Authors:** Ismael Mendoza"
   ]
  },
  {
   "cell_type": "code",
   "execution_count": 111,
   "id": "a5e4b35d-5df3-4951-86e0-abc26a117e7f",
   "metadata": {
    "tags": []
   },
   "outputs": [
    {
     "data": {
      "text/plain": [
       "'1'"
      ]
     },
     "execution_count": 111,
     "metadata": {},
     "output_type": "execute_result"
    }
   ],
   "source": [
    "import os\n",
    "os.environ['CUDA_VISIBLE_DEVICES'] = '1'\n",
    "os.environ['CUDA_VISIBLE_DEVICES']"
   ]
  },
  {
   "cell_type": "code",
   "execution_count": 112,
   "id": "ca4bd286-da42-4beb-bac2-811b07c81996",
   "metadata": {
    "tags": []
   },
   "outputs": [],
   "source": [
    "import jax \n",
    "import jax.numpy as jnp\n",
    "from jax.scipy import stats\n",
    "\n",
    "from jax import random\n",
    "from jax import jit as jjit"
   ]
  },
  {
   "cell_type": "code",
   "execution_count": 113,
   "id": "184dfb1b-400c-4433-a94f-80edd264e324",
   "metadata": {
    "tags": []
   },
   "outputs": [],
   "source": [
    "import galsim \n",
    "import jax_galsim as xgalsim"
   ]
  },
  {
   "cell_type": "code",
   "execution_count": 114,
   "id": "dbd40aa0-7e80-42d6-8174-364b78b4af80",
   "metadata": {
    "tags": []
   },
   "outputs": [],
   "source": [
    "import blackjax\n",
    "import numpy as np \n",
    "\n",
    "import arviz as az\n",
    "import chainconsumer as cc\n",
    "import matplotlib.pyplot as plt\n",
    "\n",
    "import numpyro\n",
    "import time\n",
    "from datetime import date\n",
    "\n",
    "import matplotlib.pyplot as plt "
   ]
  },
  {
   "cell_type": "code",
   "execution_count": 115,
   "id": "abe90b2f-7299-4a77-bfa1-ac72f4b027ba",
   "metadata": {
    "tags": []
   },
   "outputs": [],
   "source": [
    "from tqdm import tqdm"
   ]
  },
  {
   "cell_type": "code",
   "execution_count": 116,
   "id": "2bb111b1-6ba0-4d7b-9e22-967ad77a1f17",
   "metadata": {
    "tags": []
   },
   "outputs": [],
   "source": [
    "from functools import partial"
   ]
  },
  {
   "cell_type": "code",
   "execution_count": 117,
   "id": "ec638526-7fb0-43ea-a0d4-4991b4c03f51",
   "metadata": {
    "tags": []
   },
   "outputs": [],
   "source": [
    "from blackjax.diagnostics import effective_sample_size, potential_scale_reduction"
   ]
  },
  {
   "cell_type": "code",
   "execution_count": 118,
   "id": "c6d47c02-2ff8-4112-b22d-90064a77385f",
   "metadata": {
    "tags": []
   },
   "outputs": [],
   "source": [
    "import bpd\n",
    "from bpd.draw import add_noise\n",
    "from bpd.measure import get_snr\n"
   ]
  },
  {
   "cell_type": "code",
   "execution_count": 119,
   "id": "d99369b4-02b8-4298-bbd2-006e36128984",
   "metadata": {
    "tags": []
   },
   "outputs": [],
   "source": [
    "from bpd.chains import inference_loop"
   ]
  },
  {
   "cell_type": "code",
   "execution_count": 120,
   "id": "50d4e1f6-8301-4368-a4b0-68b6da05ffbb",
   "metadata": {
    "tags": []
   },
   "outputs": [
    {
     "data": {
      "text/plain": [
       "[CudaDevice(id=0)]"
      ]
     },
     "execution_count": 120,
     "metadata": {},
     "output_type": "execute_result"
    }
   ],
   "source": [
    "jax.devices()"
   ]
  },
  {
   "cell_type": "code",
   "execution_count": 121,
   "id": "54c203ab-650b-43eb-afb6-d186ac640c28",
   "metadata": {
    "tags": []
   },
   "outputs": [],
   "source": [
    "GPU = jax.devices('gpu')[0]"
   ]
  },
  {
   "cell_type": "code",
   "execution_count": 122,
   "id": "6c76eece-f4e6-461b-920e-18ed4d810f41",
   "metadata": {
    "tags": []
   },
   "outputs": [],
   "source": [
    "jax.config.update(\"jax_default_device\", GPU)"
   ]
  },
  {
   "cell_type": "code",
   "execution_count": 123,
   "id": "b27fa20b-34b9-4052-b611-a47b1f9e9067",
   "metadata": {
    "tags": []
   },
   "outputs": [],
   "source": [
    "jax.config.update(\"jax_enable_x64\", True) # fair comparison with GalSim, among other reasons"
   ]
  },
  {
   "cell_type": "markdown",
   "id": "8abfc07f-46e8-4c33-9139-ca93965b9ce4",
   "metadata": {
    "tags": []
   },
   "source": [
    "# Drawing methods"
   ]
  },
  {
   "cell_type": "code",
   "execution_count": 124,
   "id": "cabdd06e-eef8-4cf5-b955-bd73dfbbbee0",
   "metadata": {
    "tags": []
   },
   "outputs": [],
   "source": [
    "# constant galaxy parameters to fit \n",
    "PIXEL_SCALE = 0.2\n",
    "BACKGROUND = 1e4\n",
    "SLEN= 53\n",
    "PSF_HLR = 0.7\n",
    "\n",
    "LOG_FLUX = 4.5\n",
    "HLR = 0.9\n",
    "G1 = 0.05\n",
    "G2 = 0.0\n",
    "X=0.\n",
    "Y=0.\n",
    "\n",
    "TRUE_PARAMS = {'f': LOG_FLUX, 'hlr': HLR, 'g1': G1, 'g2': G2, 'x': X, 'y': Y}"
   ]
  },
  {
   "cell_type": "code",
   "execution_count": 125,
   "id": "40fa5f3d-af1a-4384-b455-66e10e0b6599",
   "metadata": {
    "tags": []
   },
   "outputs": [],
   "source": [
    "def _draw_gal():\n",
    "    gal = galsim.Gaussian(flux=10**LOG_FLUX, half_light_radius=HLR)\n",
    "    gal = gal.shift(dx=X, dy=Y)\n",
    "    gal = gal.shear(g1=G1, g2=G2)\n",
    "    \n",
    "    psf = galsim.Gaussian(flux=1., half_light_radius=PSF_HLR)\n",
    "    gal_conv = galsim.Convolve([gal, psf])\n",
    "    image = gal_conv.drawImage(nx=SLEN,ny=SLEN,scale=PIXEL_SCALE,\n",
    "                                 )\n",
    "    return image.array"
   ]
  },
  {
   "cell_type": "code",
   "execution_count": 126,
   "id": "6f627ae5-340d-4265-a8f5-f125b394c6ad",
   "metadata": {
    "tags": []
   },
   "outputs": [
    {
     "data": {
      "text/plain": [
       "<matplotlib.colorbar.Colorbar at 0x7f0dfdc19fc0>"
      ]
     },
     "execution_count": 126,
     "metadata": {},
     "output_type": "execute_result"
    },
    {
     "data": {
      "image/png": "[encoded data removed]",
      "text/plain": [
       "<Figure size 640x480 with 2 Axes>"
      ]
     },
     "metadata": {},
     "output_type": "display_data"
    }
   ],
   "source": [
    "im_nn = _draw_gal()\n",
    "im = add_noise(im_nn, BACKGROUND)[0] ## does not add background just noise\n",
    "plt.imshow(im)\n",
    "plt.colorbar()"
   ]
  },
  {
   "cell_type": "code",
   "execution_count": 127,
   "id": "410a3e98-6eef-4596-b68f-5c2434ab43ee",
   "metadata": {
    "tags": []
   },
   "outputs": [
    {
     "name": "stdout",
     "output_type": "stream",
     "text": [
      "18.25107\n"
     ]
    }
   ],
   "source": [
    "print(get_snr(im_nn, BACKGROUND))"
   ]
  },
  {
   "cell_type": "code",
   "execution_count": 128,
   "id": "ebc5ac77-953e-434d-813b-d58c49ad1cb8",
   "metadata": {},
   "outputs": [],
   "source": [
    "from functools import partial\n",
    "# jax drawing\n",
    "GSPARAMS = xgalsim.GSParams(minimum_fft_size=256, maximum_fft_size=256)\n",
    "PIXEL_SCALE_GPU = jax.device_put(PIXEL_SCALE, device=GPU)\n",
    "TEN_GPU = jnp.array(10., device=GPU)\n",
    "ONE_GPU = jnp.array(1., device=GPU)\n",
    "PSF_HLR_GPU = jnp.array(PSF_HLR, device=GPU)\n",
    "SLEN_GPU = jnp.array(SLEN, device=GPU)\n",
    "\n",
    "def draw_gal(f, hlr, g1, g2, x, y):\n",
    "    # x, y arguments in pixels\n",
    "    gal = xgalsim.Gaussian(flux=TEN_GPU**f, half_light_radius=hlr)\n",
    "    gal = gal.shift(dx=x*PIXEL_SCALE_GPU, dy=y*PIXEL_SCALE_GPU)\n",
    "    gal = gal.shear(g1=g1, g2=g2)\n",
    "    \n",
    "    psf = xgalsim.Gaussian(flux=ONE_GPU, half_light_radius=PSF_HLR_GPU)\n",
    "    gal_conv = xgalsim.Convolve([gal, psf]).withGSParams(GSPARAMS)\n",
    "    image = gal_conv.drawImage(nx=SLEN,ny=SLEN, ## if I change this to SLEN_GPU, get error\n",
    "                               scale=PIXEL_SCALE_GPU,\n",
    "                            )\n",
    "    return image.array"
   ]
  },
  {
   "cell_type": "code",
   "execution_count": 129,
   "id": "41ed5bb5-4654-4af6-be25-85975a9d218c",
   "metadata": {
    "tags": []
   },
   "outputs": [
    {
     "data": {
      "text/plain": [
       "<matplotlib.colorbar.Colorbar at 0x7f0dfe0e3370>"
      ]
     },
     "execution_count": 129,
     "metadata": {},
     "output_type": "execute_result"
    },
    {
     "data": {
      "image/png": "[encoded data removed]",
      "text/plain": [
       "<Figure size 640x480 with 2 Axes>"
      ]
     },
     "metadata": {},
     "output_type": "display_data"
    }
   ],
   "source": [
    "# sanity check 1\n",
    "res = im - draw_gal(**TRUE_PARAMS)\n",
    "plt.imshow(res)\n",
    "plt.colorbar()"
   ]
  },
  {
   "cell_type": "code",
   "execution_count": 130,
   "id": "69f41686-0282-4d66-beec-da9dfa233747",
   "metadata": {
    "tags": []
   },
   "outputs": [
    {
     "data": {
      "text/plain": [
       "<matplotlib.colorbar.Colorbar at 0x7f0dfddd3940>"
      ]
     },
     "execution_count": 130,
     "metadata": {},
     "output_type": "execute_result"
    },
    {
     "data": {
      "image/png": "[encoded data removed]",
      "text/plain": [
       "<Figure size 640x480 with 2 Axes>"
      ]
     },
     "metadata": {},
     "output_type": "display_data"
    }
   ],
   "source": [
    "# sanity check 2\n",
    "res = im_nn - draw_gal(**TRUE_PARAMS)\n",
    "plt.imshow(res)\n",
    "plt.colorbar()"
   ]
  },
  {
   "cell_type": "code",
   "execution_count": 131,
   "id": "1b8ace33-baee-4de1-802b-385aee031983",
   "metadata": {
    "tags": []
   },
   "outputs": [
    {
     "name": "stdout",
     "output_type": "stream",
     "text": [
      "101 μs ± 3.45 μs per loop (mean ± std. dev. of 7 runs, 10,000 loops each)\n",
      "421 μs ± 6.21 μs per loop (mean ± std. dev. of 7 runs, 1,000 loops each)\n"
     ]
    }
   ],
   "source": [
    "# timing makes sense\n",
    "TRUE_PARAMS_GPU = jax.device_put(TRUE_PARAMS, device=GPU)\n",
    "\n",
    "draw_gal_jitted = jax.jit(draw_gal)\n",
    "draw_gal_jitted(**TRUE_PARAMS_GPU)\n",
    "\n",
    "%timeit draw_gal_jitted(**TRUE_PARAMS_GPU) # ~ 4x fast\n",
    "%timeit _draw_gal()"
   ]
  },
  {
   "cell_type": "markdown",
   "id": "e64b735c-8b5b-4256-b00a-0958b3202127",
   "metadata": {
    "tags": []
   },
   "source": [
    "# Setup logprob"
   ]
  },
  {
   "cell_type": "code",
   "execution_count": 132,
   "id": "05cf9bda-d929-4823-bc56-334d3b9956e1",
   "metadata": {
    "tags": []
   },
   "outputs": [],
   "source": [
    "TRUE_PARAMS_GPU = jax.device_put(TRUE_PARAMS, device=GPU)\n",
    "BACKGROUND_GPU = jax.device_put(BACKGROUND, device=GPU)\n",
    "BOUNDS = {'f': (-1., 9.), 'hlr': (0.01, 5.0), \n",
    "          'g1': (-0.7, 0.7), 'g2': (-0.7, 0.7), \n",
    "          'x': 1,  # sigma (in pixels)\n",
    "          'y':1 # sigma (in pixels)\n",
    "}\n",
    "BOUNDS_GPU = jax.device_put(BOUNDS, device=GPU)"
   ]
  },
  {
   "cell_type": "code",
   "execution_count": 133,
   "id": "4816840d-2fc6-47bd-a283-f61eef1ced28",
   "metadata": {
    "tags": []
   },
   "outputs": [],
   "source": [
    "def prior_sample(rng_key, n:int):\n",
    "    f = random.uniform(rng_key, (n,), minval=BOUNDS_GPU['f'][0], maxval=BOUNDS_GPU['f'][1])\n",
    "    hlr = random.uniform(rng_key, (n,), minval=BOUNDS_GPU['hlr'][0], maxval=BOUNDS_GPU['hlr'][1])\n",
    "    g1 = random.uniform(rng_key, (n,), minval=BOUNDS_GPU['g1'][0], maxval=BOUNDS_GPU['g1'][1])\n",
    "    g2 = random.uniform(rng_key, (n,), minval=BOUNDS_GPU['g2'][0], maxval=BOUNDS_GPU['g2'][1])\n",
    "    x = random.normal(rng_key, (n,)) * BOUNDS_GPU['x'] # mean = 0 , sigma=1\n",
    "    y = random.normal(rng_key, (n,)) * BOUNDS_GPU['y'] # mean = 0, sigma=1\n",
    "    \n",
    "    return {'f': f, 'hlr': hlr, 'g1': g1, 'g2': g2, 'x': x, 'y': y} "
   ]
  },
  {
   "cell_type": "code",
   "execution_count": 134,
   "id": "3c367a37-338f-4182-8562-5f073451d301",
   "metadata": {
    "tags": []
   },
   "outputs": [],
   "source": [
    "# sample from ball around some dictionary of true params\n",
    "def sample_ball(rng_key, center_params:dict):\n",
    "    new = {} \n",
    "    keys = random.split(rng_key, len(center_params.keys()))\n",
    "    rng_key_dict = {p:k for p,k in zip(center_params, keys)}\n",
    "    for p in center_params:\n",
    "        centr = center_params[p]\n",
    "        if p == 'f':\n",
    "            new[p] = random.uniform(rng_key_dict[p], shape=(), minval=centr - 0.25, maxval=centr + 0.25)\n",
    "        elif p == 'hlr':\n",
    "            new[p] = random.uniform(rng_key_dict[p], shape=(), minval=centr - 0.2, maxval=centr + 0.2)\n",
    "        elif p in {'g1', 'g2'}:\n",
    "            new[p] = random.uniform(rng_key_dict[p], shape=(), minval=centr - 0.025, maxval=centr + 0.025)\n",
    "        elif p in {'x', 'y'}:\n",
    "            new[p] = random.uniform(rng_key_dict[p], shape=(), minval=centr - 0.5, maxval=centr + 0.5)\n",
    "    return new\n",
    "        \n"
   ]
  },
  {
   "cell_type": "code",
   "execution_count": 135,
   "id": "71f033be-4e4e-405f-b5e0-e4e35f4105e4",
   "metadata": {
    "tags": []
   },
   "outputs": [],
   "source": [
    "def _logprob_fn(params, data):    \n",
    "    #prior\n",
    "    prior = jnp.array(0., device=GPU) \n",
    "    for p in ('f', 'hlr', 'g1', 'g2'): # uniform priors\n",
    "        b1, b2 = BOUNDS_GPU[p]\n",
    "        prior += stats.uniform.logpdf(params[p], b1, b2-b1)\n",
    "        \n",
    "    for p in ('x', 'y'): # normal\n",
    "        sigma = BOUNDS_GPU[p]\n",
    "        prior += stats.norm.logpdf(params[p], sigma)\n",
    "\n",
    "    # likelihood\n",
    "    model = draw_gal(**params)\n",
    "    likelihood = stats.norm.logpdf(data, loc=model, scale=jnp.sqrt(BACKGROUND_GPU))\n",
    "    \n",
    "    return jnp.sum(prior) + jnp.sum(likelihood)\n"
   ]
  },
  {
   "cell_type": "markdown",
   "id": "fb55a4f1-e87d-41ec-aa29-4475b138cf9f",
   "metadata": {},
   "source": [
    "# Benchmark 2\n",
    "\n",
    "We want to repeat the above what each chain will have a different random initial position sampled from a ball around the truth.\n",
    "\n",
    "We target different noise realizations. Each noise realization will have at least 4 chains to be able to estimate R-hat and ESS accurately. \n",
    "\n",
    "This time we also vectorize the warmup over each of the chains, i.e. no warmup sharing\n",
    "\n",
    "**Notes**\n",
    "\n",
    "- With max_num_doublings = 10 and bad warmup with many chains the computation can take a while..."
   ]
  },
  {
   "cell_type": "code",
   "execution_count": 136,
   "id": "c1b2eed5-87ad-4ed4-b257-37021519df91",
   "metadata": {},
   "outputs": [],
   "source": [
    "SEED = 42\n",
    "N_CHAINS_PER_OBJECT = 4"
   ]
  },
  {
   "cell_type": "code",
   "execution_count": 137,
   "id": "a0fc88ba-b7e8-4a05-ad16-4b307455e803",
   "metadata": {},
   "outputs": [
    {
     "name": "stdout",
     "output_type": "stream",
     "text": [
      "{CudaDevice(id=0)} <class 'jaxlib.xla_extension.ArrayImpl'> (25, 53, 53)\n"
     ]
    }
   ],
   "source": [
    "# get data\n",
    "data = add_noise(_draw_gal(), BACKGROUND, \n",
    "                 rng=np.random.default_rng(SEED), \n",
    "                 n=25) # maximum number of chains, 25*4, subsample below\n",
    "data_gpu = jax.device_put(data, device=GPU)\n",
    "print(data_gpu.devices(), type(data_gpu), data_gpu.shape)"
   ]
  },
  {
   "cell_type": "code",
   "execution_count": 138,
   "id": "e9ae90ea-9e86-4c61-b924-58c7a13c35ee",
   "metadata": {},
   "outputs": [
    {
     "name": "stdout",
     "output_type": "stream",
     "text": [
      "{CudaDevice(id=0)}\n"
     ]
    }
   ],
   "source": [
    "# base rng key\n",
    "rng_key = jax.random.key(SEED)\n",
    "rng_key = jax.device_put(rng_key, device=GPU)\n",
    "ball_key, sample_key, warmup_key = random.split(rng_key, 3)\n",
    "print(rng_key.devices())"
   ]
  },
  {
   "cell_type": "code",
   "execution_count": 149,
   "id": "feb73a1b-aed7-440a-bd7a-9bdadd4a568c",
   "metadata": {},
   "outputs": [],
   "source": [
    "# what parameter space do we want to explore?\n",
    "N_WARMUPS = (50, 100, 200, 500, 1000)\n",
    "MAX_DOUBLINGS = 5 # maybe good enough, 10 is a lot and probably need to explore what is good in terms of warmpu first, otherwise one chain can easily get stuck\n",
    "N_CHAINS = (1, 5, 10, 25) # probably explodes beyond 100"
   ]
  },
  {
   "cell_type": "code",
   "execution_count": 140,
   "id": "9cceff74-e099-403c-a2d6-3f33f6d25af7",
   "metadata": {},
   "outputs": [],
   "source": [
    "results_dict1 = {\n",
    "        n_chains:{n_warmups:{} for n_warmups in N_WARMUPS} for n_chains in N_CHAINS\n",
    "}\n",
    "# results_dict1"
   ]
  },
  {
   "cell_type": "code",
   "execution_count": 141,
   "id": "0b41643f-c135-4c2c-8aee-0cd47c92779c",
   "metadata": {
    "tags": []
   },
   "outputs": [
    {
     "data": {
      "text/plain": [
       "(25, 4)"
      ]
     },
     "execution_count": 141,
     "metadata": {},
     "output_type": "execute_result"
    }
   ],
   "source": [
    "ball_keys = random.split(ball_key, 25 * N_CHAINS_PER_OBJECT)\n",
    "all_init_positions = jax.vmap(sample_ball, in_axes=(0, None))(ball_keys, TRUE_PARAMS_GPU) # since we run 4 chains per noise realization in this case per object\n",
    "\n",
    "# reshape appropriately \n",
    "all_init_positions = {p:q.reshape(-1, N_CHAINS_PER_OBJECT) for p,q in all_init_positions.items()}\n",
    "all_init_positions['f'].shape"
   ]
  },
  {
   "cell_type": "code",
   "execution_count": 142,
   "id": "14019ade-2308-45c7-951f-b6e11a6866fe",
   "metadata": {},
   "outputs": [],
   "source": [
    "# vmap only rng_key\n",
    "def do_warmup(rng_key, init_position:dict, data, n_warmups:int,  max_num_doublings:int):\n",
    "    \n",
    "    _logdensity = partial(_logprob_fn, data=data)\n",
    "    \n",
    "    warmup = blackjax.window_adaptation(\n",
    "    blackjax.nuts, _logdensity, progress_bar=False, is_mass_matrix_diagonal=False, \n",
    "        max_num_doublings=max_num_doublings, \n",
    "        initial_step_size=0.1, \n",
    "        target_acceptance_rate=0.80 # default\n",
    "    )    \n",
    "    return warmup.run(rng_key, init_position, n_warmups) # (init_states, tuned_params), adapt_info\n",
    "\n",
    "    \n",
    "def do_inference(rng_key, init_state, data, step_size:float, inverse_mass_matrix, max_num_doublings:int, n_samples:int):\n",
    "    _logdensity = partial(_logprob_fn, data=data)\n",
    "    kernel = blackjax.nuts(_logdensity, step_size=step_size, inverse_mass_matrix=inverse_mass_matrix, \n",
    "                           max_num_doublings=max_num_doublings).step\n",
    "    return inference_loop(rng_key, init_state, kernel=kernel, n_samples=n_samples) # state, info\n",
    "    \n"
   ]
  },
  {
   "cell_type": "code",
   "execution_count": 147,
   "id": "8db0cf76-1f1c-4a8f-a101-241464fcf3b4",
   "metadata": {},
   "outputs": [
    {
     "name": "stdout",
     "output_type": "stream",
     "text": [
      "n_chains, n_warmup\n",
      "5 10\n",
      "DONE!\n"
     ]
    }
   ],
   "source": [
    "# here we do the warmup independently for every chain regardless of the fact that we target the same data \n",
    "\n",
    "N_SAMPLES = 2\n",
    "\n",
    "print('n_chains, n_warmup')\n",
    "for n_chains in (5,):\n",
    "    for n_warmups in (10,):\n",
    "        print(n_chains, n_warmups)\n",
    "\n",
    "        # two vmaps, one for data and one for 4 chains per data\n",
    "        _run_warmup = jax.vmap(\n",
    "                            jax.vmap(\n",
    "                                jax.jit(\n",
    "                                    partial(\n",
    "                                        do_warmup, n_warmups=n_warmups, max_num_doublings=MAX_DOUBLINGS\n",
    "                                    )\n",
    "                                ), in_axes=(0, 0, None)\n",
    "                            ), in_axes=(0, 0, 0)                \n",
    "        )\n",
    "        _run_inference = jax.vmap(\n",
    "                            jax.vmap(\n",
    "                                jax.jit(\n",
    "                                    partial(\n",
    "                                        do_inference, max_num_doublings=MAX_DOUBLINGS, n_samples=N_SAMPLES, \n",
    "                                    )\n",
    "                                ), in_axes=(0, 0, None, 0, 0)\n",
    "                            ), in_axes=(0, 0, 0, 0, 0)            \n",
    "        )\n",
    "        # prepare random keys\n",
    "        warmup_keys1 = random.split(warmup_key, n_chains)\n",
    "        warmup_keys = jax.vmap(random.split, in_axes=(0, None))(warmup_keys1, N_CHAINS_PER_OBJECT)\n",
    "\n",
    "        sample_keys1 = random.split(sample_key, n_chains)\n",
    "        sample_keys = jax.vmap(random.split, in_axes=(0, None))(sample_keys1, N_CHAINS_PER_OBJECT)\n",
    "\n",
    "        # prepare initialization \n",
    "        _init_positions = {p:q[:n_chains, :] for p,q in all_init_positions.items()}\n",
    "        _data_gpu1 = data_gpu[:n_chains, :, :]\n",
    "\n",
    "\n",
    "        # compilation times\n",
    "        t1 = time.time()\n",
    "        (_init_states, _tuned_params), _ = jax.block_until_ready(_run_warmup(warmup_keys, _init_positions, _data_gpu1))            \n",
    "        t2 = time.time()\n",
    "        results_dict1[n_chains][n_warmups]['warmup_comp_time'] = t2 - t1 \n",
    "\n",
    "        t1 = time.time()\n",
    "        _ = jax.block_until_ready(_run_inference(sample_keys, _init_states, _data_gpu1, \n",
    "                                                            _tuned_params['step_size'], \n",
    "                                                            _tuned_params['inverse_mass_matrix']))\n",
    "        t2 = time.time()\n",
    "        results_dict1[n_chains][n_warmups]['inference_comp_time'] = t2 - t1 \n",
    "\n",
    "        # run times\n",
    "        t1 = time.time()\n",
    "        (init_states, tuned_params), adapt_info = jax.block_until_ready(_run_warmup(warmup_keys, _init_positions, _data_gpu1))\n",
    "        t2 = time.time()\n",
    "        results_dict1[n_chains][n_warmups]['warmup_run_time'] = t2 - t1 \n",
    "\n",
    "        t1 = time.time()\n",
    "        states, infos = jax.block_until_ready(_run_inference(sample_keys, init_states, _data_gpu1, \n",
    "                                                             tuned_params['step_size'], \n",
    "                                                             tuned_params['inverse_mass_matrix']\n",
    "                                                            ))\n",
    "        t2 = time.time()\n",
    "        results_dict1[n_chains][n_warmups]['inference_run_time'] = t2 - t1 \n",
    "\n",
    "        # save states and info for future reference\n",
    "        results_dict1[n_chains][n_warmups]['states'] = states\n",
    "        results_dict1[n_chains][n_warmups]['info'] = infos\n",
    "        results_dict1[n_chains][n_warmups]['adapt_info'] = adapt_info\n",
    "print('DONE!')"
   ]
  },
  {
   "cell_type": "code",
   "execution_count": 148,
   "id": "de880603-f746-4414-90ae-3a6c5148ec53",
   "metadata": {
    "tags": []
   },
   "outputs": [
    {
     "data": {
      "text/plain": [
       "(5, 4, 2)"
      ]
     },
     "execution_count": 148,
     "metadata": {},
     "output_type": "execute_result"
    }
   ],
   "source": [
    "results_dict1[n_chains][n_warmups]['states'].position['f'].shape"
   ]
  },
  {
   "cell_type": "code",
   "execution_count": 52,
   "id": "c7f2cacb-4c39-47d8-be38-3a9cf4968ca2",
   "metadata": {
    "tags": []
   },
   "outputs": [],
   "source": [
    "# import pickle \n",
    "# with open('partial_results_benchmark2.pickle', 'wb') as f:\n",
    "#     pickle.dump(results_dict2, f, protocol=pickle.HIGHEST_PROTOCOL)"
   ]
  },
  {
   "cell_type": "code",
   "execution_count": 55,
   "id": "da60231c-cc3a-4c9c-9fa6-d2f90c696ea2",
   "metadata": {
    "tags": []
   },
   "outputs": [
    {
     "data": {
      "text/plain": [
       "dict_keys(['warmup_comp_time', 'inference_comp_time', 'warmup_run_time', 'inference_run_time', 'states', 'info'])"
      ]
     },
     "execution_count": 55,
     "metadata": {},
     "output_type": "execute_result"
    }
   ],
   "source": [
    "import pickle \n",
    "with open('partial_results_benchmark2.pickle', 'rb') as f:\n",
    "    ex = pickle.load(f)\n",
    "ex[5][10][10].keys()"
   ]
  },
  {
   "cell_type": "code",
   "execution_count": null,
   "id": "1a9874f9-8679-47e1-91e9-6fc7c50dc12a",
   "metadata": {
    "tags": []
   },
   "outputs": [],
   "source": [
    "md = 5\n",
    "warmup_times = \n",
    "run_times = "
   ]
  },
  {
   "cell_type": "code",
   "execution_count": null,
   "id": "42cf3e25-991e-45fd-a5bc-7591bc465ae6",
   "metadata": {},
   "outputs": [],
   "source": []
  }
 ],
 "metadata": {
  "kernelspec": {
   "display_name": "bpd_gpu2",
   "language": "python",
   "name": "bpd_gpu2"
  },
  "language_info": {
   "codemirror_mode": {
    "name": "ipython",
    "version": 3
   },
   "file_extension": ".py",
   "mimetype": "text/x-python",
   "name": "python",
   "nbconvert_exporter": "python",
   "pygments_lexer": "ipython3",
   "version": "3.10.14"
  }
 },
 "nbformat": 4,
 "nbformat_minor": 5
}
