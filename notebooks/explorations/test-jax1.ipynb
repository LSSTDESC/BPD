{
 "cells": [
  {
   "cell_type": "code",
   "execution_count": 1,
   "id": "0efcfcd1-e8dc-4dcd-bcf5-d612bbfa0664",
   "metadata": {
    "tags": []
   },
   "outputs": [],
   "source": [
    "import jax\n",
    "import jax.numpy as jnp"
   ]
  },
  {
   "cell_type": "code",
   "execution_count": 3,
   "id": "cdceebe8-26df-4631-9141-ff9a7fde3018",
   "metadata": {
    "tags": []
   },
   "outputs": [],
   "source": [
    "def g(c=3,d=5):\n",
    "    return c * d\n",
    "\n",
    "def f(a, b):\n",
    "    return g(**b) + a"
   ]
  },
  {
   "cell_type": "code",
   "execution_count": 4,
   "id": "f020ea7c-9008-48ba-bed9-7f56f1446695",
   "metadata": {
    "tags": []
   },
   "outputs": [
    {
     "name": "stderr",
     "output_type": "stream",
     "text": [
      "2024-11-19 11:32:46.907810: W external/xla/xla/service/gpu/nvptx_compiler.cc:836] The NVIDIA driver's CUDA version is 12.2 which is older than the PTX compiler version (12.6.20). Because the driver is older than the PTX compiler version, XLA is disabling parallel compilation, which may slow down compilation. You should update your NVIDIA driver or use the NVIDIA-provided CUDA forward compatibility packages.\n"
     ]
    }
   ],
   "source": [
    "a = jnp.array([1,2,3])\n",
    "b = {'c': jnp.array([4,5,6]), 'd':jnp.array([7,1, 3])}"
   ]
  },
  {
   "cell_type": "code",
   "execution_count": 6,
   "id": "05bf9cc2-6179-4e03-b159-da543c78dd30",
   "metadata": {
    "tags": []
   },
   "outputs": [
    {
     "data": {
      "text/plain": [
       "Array([16, 17, 18], dtype=int64)"
      ]
     },
     "execution_count": 6,
     "metadata": {},
     "output_type": "execute_result"
    }
   ],
   "source": [
    "f(a, {})"
   ]
  },
  {
   "cell_type": "code",
   "execution_count": null,
   "id": "b9932b6c-ba6a-43cf-92ae-cf894dd1ab39",
   "metadata": {},
   "outputs": [],
   "source": []
  }
 ],
 "metadata": {
  "kernelspec": {
   "display_name": "bpd_gpu2",
   "language": "python",
   "name": "bpd_gpu2"
  },
  "language_info": {
   "codemirror_mode": {
    "name": "ipython",
    "version": 3
   },
   "file_extension": ".py",
   "mimetype": "text/x-python",
   "name": "python",
   "nbconvert_exporter": "python",
   "pygments_lexer": "ipython3",
   "version": "3.10.14"
  }
 },
 "nbformat": 4,
 "nbformat_minor": 5
}
