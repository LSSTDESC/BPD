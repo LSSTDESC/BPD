{
 "cells": [
  {
   "cell_type": "code",
   "execution_count": 1,
   "id": "4a213c34-b49c-41ce-86e2-442af71fff46",
   "metadata": {
    "tags": []
   },
   "outputs": [
    {
     "name": "stderr",
     "output_type": "stream",
     "text": [
      "/pscratch/sd/i/imendoza/miniconda3/envs/bpd_gpu3/lib/python3.12/site-packages/tqdm/auto.py:21: TqdmWarning: IProgress not found. Please update jupyter and ipywidgets. See https://ipywidgets.readthedocs.io/en/stable/user_install.html\n",
      "  from .autonotebook import tqdm as notebook_tqdm\n"
     ]
    }
   ],
   "source": [
    "#!/usr/bin/env python3\n",
    "\n",
    "import os\n",
    "\n",
    "os.environ[\"CUDA_VISIBLE_DEVICES\"] = \"\"\n",
    "os.environ[\"JAX_PLATFORMS\"] = \"cpu\"\n",
    "os.environ[\"JAX_ENABLE_X64\"] = \"True\"\n",
    "\n",
    "import jax.numpy as jnp\n",
    "import matplotlib.pyplot as plt\n",
    "import numpy as np\n",
    "import typer\n",
    "from jax import Array\n",
    "from matplotlib.backends.backend_pdf import PdfPages\n",
    "\n",
    "from bpd import DATA_DIR\n",
    "from bpd.diagnostics import get_contour_plot\n",
    "from bpd.io import load_dataset\n"
   ]
  },
  {
   "cell_type": "code",
   "execution_count": 2,
   "id": "edea5496-4787-4e10-bb0e-f0c1369b589c",
   "metadata": {
    "tags": []
   },
   "outputs": [],
   "source": [
    "data_dict = load_dataset(\"/pscratch/sd/i/imendoza/data/cache_chains/exp4_42/e_post_42.npz\")"
   ]
  },
  {
   "cell_type": "code",
   "execution_count": 8,
   "id": "889c5a4c-4625-4919-80a0-6b231c0d42e5",
   "metadata": {
    "tags": []
   },
   "outputs": [
    {
     "data": {
      "text/plain": [
       "dict_keys(['e_post', 'true_g', 'dx', 'dy', 'sigma_e', 'sigma_e_int', 'e1', 'e2'])"
      ]
     },
     "execution_count": 8,
     "metadata": {},
     "output_type": "execute_result"
    }
   ],
   "source": [
    "data_dict.keys()"
   ]
  },
  {
   "cell_type": "code",
   "execution_count": 4,
   "id": "2a50e56d-2151-469c-8cf9-158c20824e9f",
   "metadata": {
    "tags": []
   },
   "outputs": [],
   "source": [
    "dx = data_dict['dx']\n",
    "dy = data_dict['dy']"
   ]
  },
  {
   "cell_type": "code",
   "execution_count": 5,
   "id": "09d935ac-795d-4fad-935b-7f6021341eed",
   "metadata": {
    "tags": []
   },
   "outputs": [
    {
     "data": {
      "text/plain": [
       "((1000, 100), (1000, 100))"
      ]
     },
     "execution_count": 5,
     "metadata": {},
     "output_type": "execute_result"
    }
   ],
   "source": [
    "dx.shape, dy.shape"
   ]
  },
  {
   "cell_type": "code",
   "execution_count": 7,
   "id": "c6a91f9e-a7b9-4d68-b36b-69c820456cd8",
   "metadata": {
    "tags": []
   },
   "outputs": [
    {
     "data": {
      "text/plain": [
       "<matplotlib.collections.PathCollection at 0x7fc2ecf75c70>"
      ]
     },
     "execution_count": 7,
     "metadata": {},
     "output_type": "execute_result"
    },
    {
     "data": {
      "image/png": "[encoded data removed]",
      "text/plain": [
       "<Figure size 640x480 with 1 Axes>"
      ]
     },
     "metadata": {},
     "output_type": "display_data"
    }
   ],
   "source": [
    "plt.scatter(dx[3, :], dy[3, :], marker='x', color='r', s=5)"
   ]
  },
  {
   "cell_type": "code",
   "execution_count": null,
   "id": "21fe7d36-3f21-419c-a609-3c387fa70dd4",
   "metadata": {},
   "outputs": [],
   "source": []
  }
 ],
 "metadata": {
  "kernelspec": {
   "display_name": "bpd_gpu3",
   "language": "python",
   "name": "bpd_gpu3"
  },
  "language_info": {
   "codemirror_mode": {
    "name": "ipython",
    "version": 3
   },
   "file_extension": ".py",
   "mimetype": "text/x-python",
   "name": "python",
   "nbconvert_exporter": "python",
   "pygments_lexer": "ipython3",
   "version": "3.12.8"
  }
 },
 "nbformat": 4,
 "nbformat_minor": 5
}
