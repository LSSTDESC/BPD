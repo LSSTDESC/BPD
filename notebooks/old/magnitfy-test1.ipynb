{
 "cells": [
  {
   "cell_type": "code",
   "execution_count": 1,
   "metadata": {},
   "outputs": [],
   "source": [
    "import numpy as np\n",
    "import galsim "
   ]
  },
  {
   "cell_type": "code",
   "execution_count": 2,
   "metadata": {},
   "outputs": [],
   "source": [
    "g1 = 0.02\n",
    "g2 = 0.02 \n",
    "g = np.sqrt(g1**2 + g2**2)\n",
    "kappa=0\n",
    "mu = 1 / (1 - g1**2 - g2**2)"
   ]
  },
  {
   "cell_type": "code",
   "execution_count": 3,
   "metadata": {},
   "outputs": [],
   "source": [
    "gal = galsim.Gaussian(half_light_radius=0.9, flux=10.0)\n",
    "gal2 = gal.lens(g1=g1, g2=g2, mu=mu)\n",
    "gal3 = gal2.lens(g1=-g1, g2=-g2, mu=mu)"
   ]
  },
  {
   "cell_type": "code",
   "execution_count": 4,
   "metadata": {},
   "outputs": [
    {
     "data": {
      "text/plain": [
       "(10.0, np.float64(1.0008006405124097), np.float64(1.0016019220500492))"
      ]
     },
     "execution_count": 4,
     "metadata": {},
     "output_type": "execute_result"
    }
   ],
   "source": [
    "gal.flux, gal2.flux / gal.flux, gal3.flux / gal.flux"
   ]
  },
  {
   "cell_type": "code",
   "execution_count": 5,
   "metadata": {},
   "outputs": [
    {
     "data": {
      "text/plain": [
       "(0.9, np.float64(1.0006713770923128), np.float64(1.0008145369341657))"
      ]
     },
     "execution_count": 5,
     "metadata": {},
     "output_type": "execute_result"
    }
   ],
   "source": [
    "hlr1 = gal.calculateHLR(scale=0.005)\n",
    "hlr2 = gal2.calculateHLR(scale=0.005)\n",
    "hlr3 = gal3.calculateHLR(scale=0.005)\n",
    "\n",
    "hlr1, hlr2/hlr1, hlr3/hlr1"
   ]
  },
  {
   "cell_type": "code",
   "execution_count": 6,
   "metadata": {},
   "outputs": [
    {
     "data": {
      "text/plain": [
       "(np.float64(1.000400240160112), 1.00080064051241, 1.0016019220500498)"
      ]
     },
     "execution_count": 6,
     "metadata": {},
     "output_type": "execute_result"
    }
   ],
   "source": [
    "np.sqrt(mu), mu, mu**2"
   ]
  },
  {
   "cell_type": "code",
   "execution_count": 10,
   "metadata": {},
   "outputs": [
    {
     "data": {
      "text/plain": [
       "np.float64(1.0004019204339107)"
      ]
     },
     "execution_count": 10,
     "metadata": {},
     "output_type": "execute_result"
    }
   ],
   "source": [
    "hlr4 = gal.magnify(mu=mu).calculateHLR(scale=0.002)\n",
    "hlr4 / hlr1"
   ]
  },
  {
   "cell_type": "code",
   "execution_count": null,
   "metadata": {},
   "outputs": [],
   "source": []
  }
 ],
 "metadata": {
  "kernelspec": {
   "display_name": "bpd_gpu3",
   "language": "python",
   "name": "python3"
  },
  "language_info": {
   "codemirror_mode": {
    "name": "ipython",
    "version": 3
   },
   "file_extension": ".py",
   "mimetype": "text/x-python",
   "name": "python",
   "nbconvert_exporter": "python",
   "pygments_lexer": "ipython3",
   "version": "3.12.8"
  }
 },
 "nbformat": 4,
 "nbformat_minor": 2
}
