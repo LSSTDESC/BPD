{
 "cells": [
  {
   "cell_type": "code",
   "execution_count": 2,
   "id": "3b207640-97ca-4977-b166-be39ae6f4762",
   "metadata": {
    "tags": []
   },
   "outputs": [
    {
     "name": "stdout",
     "output_type": "stream",
     "text": [
      "devices available: [CudaDevice(id=0)]\n"
     ]
    }
   ],
   "source": [
    "import datetime\n",
    "import os\n",
    "\n",
    "os.environ[\"CUDA_VISIBLE_DEVICES\"] = \"0\"\n",
    "\n",
    "\n",
    "import time\n",
    "from functools import partial\n",
    "from pathlib import Path\n",
    "\n",
    "import blackjax\n",
    "import galsim\n",
    "import jax\n",
    "import jax.numpy as jnp\n",
    "import jax_galsim as xgalsim\n",
    "import numpy as np\n",
    "import optax\n",
    "from jax import jit as jjit\n",
    "from jax import random, vmap\n",
    "from jax.scipy import stats\n",
    "\n",
    "from bpd.chains import inference_loop\n",
    "from bpd.draw import add_noise\n",
    "from bpd.measure import get_snr\n",
    "\n",
    "print(\"devices available:\", jax.devices())\n",
    "\n",
    "SCRATCH_DIR = Path(\"/pscratch/sd/i/imendoza/data/cache_chains\")\n",
    "\n",
    "\n",
    "# GPU preamble\n",
    "GPU = jax.devices(\"gpu\")[0]\n",
    "\n",
    "jax.config.update(\"jax_default_device\", GPU)\n",
    "\n",
    "jax.config.update(\"jax_enable_x64\", True)"
   ]
  },
  {
   "cell_type": "code",
   "execution_count": 3,
   "id": "d4563064-a1d7-4930-95bb-d2c774fe5d43",
   "metadata": {
    "tags": []
   },
   "outputs": [],
   "source": [
    "PIXEL_SCALE = 0.2\n",
    "BACKGROUND = 1e4\n",
    "SLEN = 53\n",
    "PSF_HLR = 0.7\n",
    "GSPARAMS = xgalsim.GSParams(minimum_fft_size=256, maximum_fft_size=256)\n",
    "\n",
    "LOG_FLUX = 4.5\n",
    "HLR = 0.9\n",
    "G1 = 0.05\n",
    "G2 = 0.0\n",
    "X = 0.0\n",
    "Y = 0.0\n",
    "\n",
    "TRUE_PARAMS = {\"f\": LOG_FLUX, \"hlr\": HLR, \"g1\": G1, \"g2\": G2, \"x\": X, \"y\": Y}\n",
    "\n",
    "# make sure relevant things are in GPU\n",
    "TRUE_PARAMS_GPU = jax.device_put(TRUE_PARAMS, device=GPU)\n",
    "BACKGROUND_GPU = jax.device_put(BACKGROUND, device=GPU)\n",
    "BOUNDS = {\n",
    "    \"f\": (-1.0, 9.0),\n",
    "    \"hlr\": (0.01, 5.0),\n",
    "    \"g1\": (-0.7, 0.7),\n",
    "    \"g2\": (-0.7, 0.7),\n",
    "    \"x\": 1,  # sigma (in pixels)\n",
    "    \"y\": 1,  # sigma (in pixels)\n",
    "}\n",
    "BOUNDS_GPU = jax.device_put(BOUNDS, device=GPU)\n",
    "\n",
    "\n",
    "# run setup\n",
    "IS_MATRIX_DIAGONAL = True\n",
    "N_WARMUPS = 500\n",
    "N_SAMPLES = 1000\n",
    "SEED = 42\n",
    "\n",
    "# chees setup\n",
    "LR = 1e-3\n",
    "INIT_STEP_SIZE = 0.1\n",
    "\n",
    "\n",
    "# sample from ball around some dictionary of true params\n",
    "def sample_ball(rng_key, center_params: dict):\n",
    "    new = {}\n",
    "    keys = random.split(rng_key, len(center_params.keys()))\n",
    "    rng_key_dict = {p: k for p, k in zip(center_params, keys)}\n",
    "    for p in center_params:\n",
    "        centr = center_params[p]\n",
    "        if p == \"f\":\n",
    "            new[p] = random.uniform(\n",
    "                rng_key_dict[p], shape=(), minval=centr - 0.25, maxval=centr + 0.25\n",
    "            )\n",
    "        elif p == \"hlr\":\n",
    "            new[p] = random.uniform(\n",
    "                rng_key_dict[p], shape=(), minval=centr - 0.2, maxval=centr + 0.2\n",
    "            )\n",
    "        elif p in {\"g1\", \"g2\"}:\n",
    "            new[p] = random.uniform(\n",
    "                rng_key_dict[p], shape=(), minval=centr - 0.025, maxval=centr + 0.025\n",
    "            )\n",
    "        elif p in {\"x\", \"y\"}:\n",
    "            new[p] = random.uniform(\n",
    "                rng_key_dict[p], shape=(), minval=centr - 0.5, maxval=centr + 0.5\n",
    "            )\n",
    "    return new\n",
    "\n",
    "\n",
    "def _draw_gal():\n",
    "    gal = galsim.Gaussian(flux=10**LOG_FLUX, half_light_radius=HLR)\n",
    "    gal = gal.shift(dx=X, dy=Y)\n",
    "    gal = gal.shear(g1=G1, g2=G2)\n",
    "\n",
    "    psf = galsim.Gaussian(flux=1.0, half_light_radius=PSF_HLR)\n",
    "    gal_conv = galsim.Convolve([gal, psf])\n",
    "    image = gal_conv.drawImage(nx=SLEN, ny=SLEN, scale=PIXEL_SCALE)\n",
    "    return image.array\n",
    "\n",
    "\n",
    "def draw_gal(f, hlr, g1, g2, x, y):\n",
    "    # x, y arguments in pixels\n",
    "    gal = xgalsim.Gaussian(flux=10**f, half_light_radius=hlr)\n",
    "    gal = gal.shift(dx=x * PIXEL_SCALE, dy=y * PIXEL_SCALE)\n",
    "    gal = gal.shear(g1=g1, g2=g2)\n",
    "\n",
    "    psf = xgalsim.Gaussian(flux=1, half_light_radius=PSF_HLR)\n",
    "    gal_conv = xgalsim.Convolve([gal, psf]).withGSParams(GSPARAMS)\n",
    "    image = gal_conv.drawImage(nx=SLEN, ny=SLEN, scale=PIXEL_SCALE)\n",
    "    return image.array\n",
    "\n",
    "\n",
    "def _logprob_fn(params, data):\n",
    "\n",
    "    # prior\n",
    "    prior = jnp.array(0.0, device=GPU)\n",
    "    for p in (\"f\", \"hlr\", \"g1\", \"g2\"):  # uniform priors\n",
    "        b1, b2 = BOUNDS_GPU[p]\n",
    "        prior += stats.uniform.logpdf(params[p], b1, b2 - b1)\n",
    "\n",
    "    for p in (\"x\", \"y\"):  # normal\n",
    "        sigma = BOUNDS_GPU[p]\n",
    "        prior += stats.norm.logpdf(params[p], sigma)\n",
    "\n",
    "    # likelihood\n",
    "    model = draw_gal(**params)\n",
    "    likelihood_pp = stats.norm.logpdf(data, loc=model, scale=jnp.sqrt(BACKGROUND_GPU))\n",
    "    likelihood = jnp.sum(likelihood_pp)\n",
    "\n",
    "    return prior + likelihood"
   ]
  },
  {
   "cell_type": "code",
   "execution_count": 5,
   "id": "873f7acd-d9e7-494b-b10c-0936c901595a",
   "metadata": {
    "tags": []
   },
   "outputs": [
    {
     "name": "stdout",
     "output_type": "stream",
     "text": [
      "galaxy snr: 18.25107\n",
      "data info: {CudaDevice(id=0)} <class 'jaxlib.xla_extension.ArrayImpl'> (53, 53)\n"
     ]
    }
   ],
   "source": [
    "snr = get_snr(_draw_gal(), BACKGROUND)\n",
    "print(\"galaxy snr:\", snr)\n",
    "\n",
    "# get data\n",
    "_data = add_noise(_draw_gal(), BACKGROUND, rng=np.random.default_rng(SEED), n=1)[0]\n",
    "data_gpu = jax.device_put(_data, device=GPU)\n",
    "print(\"data info:\", data_gpu.devices(), type(data_gpu), data_gpu.shape)\n",
    "\n",
    "# collect random keys we need\n",
    "rng_key = random.key(SEED)\n",
    "rng_key = jax.device_put(rng_key, device=GPU)\n",
    "\n",
    "ball_key, warmup_key, sample_key = random.split(rng_key, 3)\n",
    "\n",
    "ball_keys = random.split(ball_key, 100)\n",
    "sample_keys = random.split(sample_key, 100)\n",
    "\n",
    "# get initial positions for all chains\n",
    "all_init_positions = vmap(sample_ball, in_axes=(0, None))(\n",
    "    ball_keys, TRUE_PARAMS_GPU\n",
    ")\n"
   ]
  },
  {
   "cell_type": "code",
   "execution_count": 7,
   "id": "05d93efd-90bc-4fd1-80f9-61275ff9ae63",
   "metadata": {
    "tags": []
   },
   "outputs": [
    {
     "data": {
      "text/plain": [
       "((100,), (100,))"
      ]
     },
     "execution_count": 7,
     "metadata": {},
     "output_type": "execute_result"
    }
   ],
   "source": [
    "sample_keys.shape, all_init_positions['f'].shape"
   ]
  },
  {
   "cell_type": "code",
   "execution_count": null,
   "id": "2dd673be-f85f-4107-868a-fc59beca31ef",
   "metadata": {},
   "outputs": [],
   "source": [
    "# jit and vmap functions to run chains\n",
    "_run_inference = vmap(jjit(do_inference), in_axes=(0, 0, None, None))"
   ]
  },
  {
   "cell_type": "code",
   "execution_count": 44,
   "id": "0c0b1f01-9701-4e4a-90aa-f40bc8df5571",
   "metadata": {
    "tags": []
   },
   "outputs": [],
   "source": [
    "OPTIM = optax.adam(LR)\n",
    "def do_warmup(rng_key, positions, data, n_chains: int = None):\n",
    "    logdensity = partial(_logprob_fn, data=data)\n",
    "    warmup = blackjax.chees_adaptation(logdensity, n_chains)\n",
    "    # `positions` = PyTree where each leaf has shape (num_chains, ...)\n",
    "    return warmup.run(rng_key, positions, INIT_STEP_SIZE, OPTIM, N_WARMUPS)\n",
    "\n",
    "\n",
    "def do_inference(rng_key, init_states, data, tuned_params: dict):\n",
    "    _logdensity = partial(_logprob_fn, data=data)\n",
    "    kernel = blackjax.dynamic_hmc(_logdensity, **tuned_params).step\n",
    "    return inference_loop(rng_key, init_states, kernel=kernel, n_samples=1000)"
   ]
  },
  {
   "cell_type": "code",
   "execution_count": 40,
   "id": "36f4097e-8dbb-4bff-af43-38d26d8c5a28",
   "metadata": {
    "tags": []
   },
   "outputs": [
    {
     "data": {
      "text/plain": [
       "(100,)"
      ]
     },
     "execution_count": 40,
     "metadata": {},
     "output_type": "execute_result"
    }
   ],
   "source": [
    "(last_states, tuned_params), _ = do_warmup(warmup_key, all_init_positions, data_gpu, n_chains=100)\n",
    "last_states.position['f'].shape"
   ]
  },
  {
   "cell_type": "code",
   "execution_count": 45,
   "id": "780e3c9f-f24c-4edb-87d6-5908920a85e9",
   "metadata": {
    "tags": []
   },
   "outputs": [],
   "source": [
    "_run_inference = vmap(do_inference, in_axes=(0, 0, None, None))"
   ]
  },
  {
   "cell_type": "code",
   "execution_count": 47,
   "id": "342adb62-b507-43e8-8c55-1debaaf5eed9",
   "metadata": {
    "tags": []
   },
   "outputs": [
    {
     "name": "stdout",
     "output_type": "stream",
     "text": [
      "CPU times: user 13.5 s, sys: 147 ms, total: 13.7 s\n",
      "Wall time: 12.8 s\n"
     ]
    }
   ],
   "source": [
    "%%time\n",
    "states, info = _run_inference(sample_keys, last_states, data_gpu, tuned_params)"
   ]
  },
  {
   "cell_type": "code",
   "execution_count": null,
   "id": "a07a7234-7b42-49d5-9be6-f3e472d51ba3",
   "metadata": {},
   "outputs": [],
   "source": []
  }
 ],
 "metadata": {
  "kernelspec": {
   "display_name": "bpd_gpu2",
   "language": "python",
   "name": "bpd_gpu2"
  },
  "language_info": {
   "codemirror_mode": {
    "name": "ipython",
    "version": 3
   },
   "file_extension": ".py",
   "mimetype": "text/x-python",
   "name": "python",
   "nbconvert_exporter": "python",
   "pygments_lexer": "ipython3",
   "version": "3.10.14"
  }
 },
 "nbformat": 4,
 "nbformat_minor": 5
}
