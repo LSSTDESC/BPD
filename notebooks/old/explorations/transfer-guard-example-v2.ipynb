{
 "cells": [
  {
   "cell_type": "markdown",
   "id": "412339e0-a4ba-45fa-a348-f8ddf4b3e72d",
   "metadata": {},
   "source": [
    "*09/01/24*\n",
    "Authors: Ismael Mendoza\n",
    "\n",
    "Here I check two things, that the jax-galsim jit compiled function to draw a model is allowed by the transfer guard, and the same thing for an inference loop in blackjax with a nuts kernel"
   ]
  },
  {
   "cell_type": "code",
   "execution_count": 1,
   "id": "805ff031-9de4-4b15-8913-2bdbb1f61d56",
   "metadata": {
    "tags": []
   },
   "outputs": [],
   "source": [
    "import jax \n",
    "import jax.numpy as jnp\n",
    "from jax.scipy import stats\n",
    "\n",
    "from jax import random\n",
    "from jax import jit as jjit"
   ]
  },
  {
   "cell_type": "code",
   "execution_count": 2,
   "id": "72e94e38-f2d6-4a19-8a94-6d972443c871",
   "metadata": {
    "tags": []
   },
   "outputs": [
    {
     "name": "stderr",
     "output_type": "stream",
     "text": [
      "2024-09-01 18:25:11.102540: W external/xla/xla/service/gpu/nvptx_compiler.cc:836] The NVIDIA driver's CUDA version is 12.2 which is older than the PTX compiler version (12.6.20). Because the driver is older than the PTX compiler version, XLA is disabling parallel compilation, which may slow down compilation. You should update your NVIDIA driver or use the NVIDIA-provided CUDA forward compatibility packages.\n",
      "2024-09-01 18:25:25.298816: W tensorflow/compiler/tf2tensorrt/utils/py_utils.cc:38] TF-TRT Warning: Could not find TensorRT\n"
     ]
    }
   ],
   "source": [
    "import galsim \n",
    "import jax_galsim as xgalsim"
   ]
  },
  {
   "cell_type": "code",
   "execution_count": 3,
   "id": "5c6536f1-81e2-4f83-ae67-089311c46ee1",
   "metadata": {
    "tags": []
   },
   "outputs": [
    {
     "name": "stderr",
     "output_type": "stream",
     "text": [
      "/pscratch/sd/i/imendoza/miniconda3/envs/bpd_gpu2/lib/python3.10/site-packages/tqdm/auto.py:21: TqdmWarning: IProgress not found. Please update jupyter and ipywidgets. See https://ipywidgets.readthedocs.io/en/stable/user_install.html\n",
      "  from .autonotebook import tqdm as notebook_tqdm\n"
     ]
    }
   ],
   "source": [
    "import blackjax\n",
    "import numpy as np \n",
    "\n",
    "import arviz as az\n",
    "import chainconsumer as cc\n",
    "import matplotlib.pyplot as plt\n",
    "\n",
    "import numpyro\n",
    "import time\n",
    "from datetime import date\n",
    "\n",
    "import matplotlib.pyplot as plt "
   ]
  },
  {
   "cell_type": "code",
   "execution_count": 4,
   "id": "cc6de4f3-ae49-4722-b3ba-a193f2389ae0",
   "metadata": {
    "tags": []
   },
   "outputs": [],
   "source": [
    "from tqdm import tqdm"
   ]
  },
  {
   "cell_type": "code",
   "execution_count": 5,
   "id": "c5899e5e-d103-492c-9d87-85ff720d5301",
   "metadata": {
    "tags": []
   },
   "outputs": [],
   "source": [
    "from functools import partial"
   ]
  },
  {
   "cell_type": "code",
   "execution_count": 6,
   "id": "4b58f324-886d-40da-947b-89a504f6738b",
   "metadata": {
    "tags": []
   },
   "outputs": [],
   "source": [
    "from blackjax.diagnostics import effective_sample_size, potential_scale_reduction"
   ]
  },
  {
   "cell_type": "code",
   "execution_count": 7,
   "id": "ffce730e-d8d5-4957-814c-1a3cf44ac19b",
   "metadata": {
    "tags": []
   },
   "outputs": [],
   "source": [
    "import bpd\n",
    "from bpd.draw import add_noise\n",
    "from bpd.measure import get_snr\n"
   ]
  },
  {
   "cell_type": "code",
   "execution_count": 8,
   "id": "a2a516fa-f6b3-493f-aeda-1e765f79ef7a",
   "metadata": {
    "tags": []
   },
   "outputs": [],
   "source": [
    "from bpd.chains import inference_loop"
   ]
  },
  {
   "cell_type": "code",
   "execution_count": 9,
   "id": "3e9f066a-9791-469b-9b55-e175b67974a5",
   "metadata": {
    "tags": []
   },
   "outputs": [
    {
     "data": {
      "text/plain": [
       "[CudaDevice(id=0), CudaDevice(id=1), CudaDevice(id=2), CudaDevice(id=3)]"
      ]
     },
     "execution_count": 9,
     "metadata": {},
     "output_type": "execute_result"
    }
   ],
   "source": [
    "jax.devices()"
   ]
  },
  {
   "cell_type": "code",
   "execution_count": 10,
   "id": "f4af5b2a-d7ac-4736-bb33-194df0407f1a",
   "metadata": {
    "tags": []
   },
   "outputs": [],
   "source": [
    "GPU = jax.devices('gpu')[0]"
   ]
  },
  {
   "cell_type": "code",
   "execution_count": 11,
   "id": "01de3178-af7f-445b-8b0f-d55d5cfe487d",
   "metadata": {
    "tags": []
   },
   "outputs": [],
   "source": [
    "jax.config.update(\"jax_enable_x64\", True) # fair comparison with GalSim, among other reasons"
   ]
  },
  {
   "cell_type": "markdown",
   "id": "bdac0c3b-7db1-46b5-9521-1a232df3173f",
   "metadata": {
    "tags": []
   },
   "source": [
    "# Drawing galaxy model "
   ]
  },
  {
   "cell_type": "code",
   "execution_count": 19,
   "id": "5b225508-4e7c-46c7-8943-eb3b47ebdf4c",
   "metadata": {
    "tags": []
   },
   "outputs": [],
   "source": [
    "# constant galaxy parameters to fit \n",
    "PIXEL_SCALE = 0.2\n",
    "BACKGROUND = 1e4\n",
    "SLEN= 53\n",
    "PSF_HLR = 0.7\n",
    "\n",
    "LOG_FLUX = 4.5\n",
    "HLR = 0.9\n",
    "G1 = 0.05\n",
    "G2 = 0.0\n",
    "X=0.\n",
    "Y=0.\n",
    "\n",
    "TRUE_PARAMS = {'f': LOG_FLUX, 'hlr': HLR, 'g1': G1, 'g2': G2, 'x': X, 'y': Y}"
   ]
  },
  {
   "cell_type": "code",
   "execution_count": 20,
   "id": "50de5323-f92a-4926-8ee6-e6ce5a0603cc",
   "metadata": {
    "tags": []
   },
   "outputs": [],
   "source": [
    "from functools import partial\n",
    "# jax drawing\n",
    "GSPARAMS = xgalsim.GSParams(minimum_fft_size=256, maximum_fft_size=256)\n",
    "\n",
    "def draw_gal(f, hlr, g1, g2, x, y):\n",
    "    # x, y arguments in pixels\n",
    "    gal = xgalsim.Gaussian(flux=10**f, half_light_radius=hlr)\n",
    "    gal = gal.shift(dx=x*PIXEL_SCALE, dy=y*PIXEL_SCALE)\n",
    "    gal = gal.shear(g1=g1, g2=g2)\n",
    "    \n",
    "    psf = xgalsim.Gaussian(flux=1., half_light_radius=PSF_HLR)\n",
    "    gal_conv = xgalsim.Convolve([gal, psf]).withGSParams(GSPARAMS)\n",
    "    image = gal_conv.drawImage(nx=SLEN,ny=SLEN, ## if I change this to SLEN_GPU, get error\n",
    "                               scale=PIXEL_SCALE_GPU,\n",
    "                            )\n",
    "    return image.array"
   ]
  },
  {
   "cell_type": "code",
   "execution_count": 21,
   "id": "1b460c68-04a1-4f64-bbfd-b0dcd5e11731",
   "metadata": {
    "tags": []
   },
   "outputs": [],
   "source": [
    "TRUE_PARAMS_GPU = jax.device_put(TRUE_PARAMS, device=GPU)\n",
    "\n",
    "draw_gal_jitted = jax.jit(draw_gal, backend='gpu')\n",
    "_ = draw_gal_jitted(**TRUE_PARAMS_GPU)"
   ]
  },
  {
   "cell_type": "code",
   "execution_count": 23,
   "id": "1bb8b202-d7b0-468d-b02a-619d444b6b2b",
   "metadata": {
    "tags": []
   },
   "outputs": [
    {
     "ename": "XlaRuntimeError",
     "evalue": "INVALID_ARGUMENT: Disallowed host-to-device transfer: aval=ShapedArray(float64[]), dst_sharding=SingleDeviceSharding(device=CudaDevice(id=0))",
     "output_type": "error",
     "traceback": [
      "\u001b[0;31m---------------------------------------------------------------------------\u001b[0m",
      "\u001b[0;31mXlaRuntimeError\u001b[0m                           Traceback (most recent call last)",
      "Cell \u001b[0;32mIn[23], line 2\u001b[0m\n\u001b[1;32m      1\u001b[0m \u001b[38;5;28;01mwith\u001b[39;00m jax\u001b[38;5;241m.\u001b[39mtransfer_guard(\u001b[38;5;124m'\u001b[39m\u001b[38;5;124mdisallow\u001b[39m\u001b[38;5;124m'\u001b[39m):\n\u001b[0;32m----> 2\u001b[0m     _ \u001b[38;5;241m=\u001b[39m \u001b[43mdraw_gal_jitted\u001b[49m\u001b[43m(\u001b[49m\u001b[38;5;241;43m*\u001b[39;49m\u001b[38;5;241;43m*\u001b[39;49m\u001b[43mTRUE_PARAMS\u001b[49m\u001b[43m)\u001b[49m \u001b[38;5;66;03m# always gives error\u001b[39;00m\n",
      "    \u001b[0;31m[... skipping hidden 15 frame]\u001b[0m\n",
      "File \u001b[0;32m/pscratch/sd/i/imendoza/miniconda3/envs/bpd_gpu2/lib/python3.10/site-packages/jax/_src/interpreters/pxla.py:192\u001b[0m, in \u001b[0;36mbatched_device_put\u001b[0;34m(aval, sharding, xs, devices, committed)\u001b[0m\n\u001b[1;32m    189\u001b[0m \u001b[38;5;28;01mif\u001b[39;00m \u001b[38;5;28mlen\u001b[39m(bufs) \u001b[38;5;241m==\u001b[39m \u001b[38;5;28mlen\u001b[39m(xs):\n\u001b[1;32m    190\u001b[0m   \u001b[38;5;28;01mreturn\u001b[39;00m array\u001b[38;5;241m.\u001b[39mArrayImpl(\n\u001b[1;32m    191\u001b[0m       aval, sharding, bufs, committed\u001b[38;5;241m=\u001b[39mcommitted, _skip_checks\u001b[38;5;241m=\u001b[39m\u001b[38;5;28;01mTrue\u001b[39;00m)\n\u001b[0;32m--> 192\u001b[0m \u001b[38;5;28;01mreturn\u001b[39;00m \u001b[43mxc\u001b[49m\u001b[38;5;241;43m.\u001b[39;49m\u001b[43mbatched_device_put\u001b[49m\u001b[43m(\u001b[49m\u001b[43maval\u001b[49m\u001b[43m,\u001b[49m\u001b[43m \u001b[49m\u001b[43msharding\u001b[49m\u001b[43m,\u001b[49m\u001b[43m \u001b[49m\u001b[43mxs\u001b[49m\u001b[43m,\u001b[49m\u001b[43m \u001b[49m\u001b[38;5;28;43mlist\u001b[39;49m\u001b[43m(\u001b[49m\u001b[43mdevices\u001b[49m\u001b[43m)\u001b[49m\u001b[43m,\u001b[49m\u001b[43m \u001b[49m\u001b[43mcommitted\u001b[49m\u001b[43m)\u001b[49m\n",
      "\u001b[0;31mXlaRuntimeError\u001b[0m: INVALID_ARGUMENT: Disallowed host-to-device transfer: aval=ShapedArray(float64[]), dst_sharding=SingleDeviceSharding(device=CudaDevice(id=0))"
     ]
    }
   ],
   "source": [
    "with jax.transfer_guard('disallow'):\n",
    "    _ = draw_gal_jitted(**TRUE_PARAMS) # always gives error"
   ]
  },
  {
   "cell_type": "code",
   "execution_count": 24,
   "id": "cbc7b426-855c-47a0-9188-0f6cc75f5d50",
   "metadata": {
    "tags": []
   },
   "outputs": [],
   "source": [
    "with jax.transfer_guard('disallow'):\n",
    "    _ = draw_gal_jitted(**TRUE_PARAMS_GPU) # OK"
   ]
  },
  {
   "cell_type": "markdown",
   "id": "aaf0ee95-0585-4171-a72b-3f466724ff0e",
   "metadata": {
    "tags": []
   },
   "source": [
    "# Simple inference loop"
   ]
  },
  {
   "cell_type": "code",
   "execution_count": 28,
   "id": "88236df6-f269-49ca-944f-25452ac7cc01",
   "metadata": {
    "tags": []
   },
   "outputs": [],
   "source": [
    "def _draw_gal():\n",
    "    gal = galsim.Gaussian(flux=10**LOG_FLUX, half_light_radius=HLR)\n",
    "    gal = gal.shift(dx=X, dy=Y)\n",
    "    gal = gal.shear(g1=G1, g2=G2)\n",
    "    \n",
    "    psf = galsim.Gaussian(flux=1., half_light_radius=PSF_HLR)\n",
    "    gal_conv = galsim.Convolve([gal, psf])\n",
    "    image = gal_conv.drawImage(nx=SLEN,ny=SLEN,scale=PIXEL_SCALE,\n",
    "                                 )\n",
    "    return image.array"
   ]
  },
  {
   "cell_type": "code",
   "execution_count": 29,
   "id": "76f40923-43d9-4f83-a88f-195e7f180b5a",
   "metadata": {
    "tags": []
   },
   "outputs": [],
   "source": [
    "TRUE_PARAMS_GPU = jax.device_put(TRUE_PARAMS, device=GPU)\n",
    "BACKGROUND_GPU = jax.device_put(BACKGROUND, device=GPU)\n",
    "BOUNDS = {'f': (-1., 9.), 'hlr': (0.01, 5.0), \n",
    "          'g1': (-0.7, 0.7), 'g2': (-0.7, 0.7), \n",
    "          'x': 1,  # sigma (in pixels)\n",
    "          'y':1 # sigma (in pixels)\n",
    "}\n",
    "BOUNDS_GPU = jax.device_put(BOUNDS, device=GPU)"
   ]
  },
  {
   "cell_type": "code",
   "execution_count": 30,
   "id": "7995d8a1-ce34-4301-b510-69ec425cd85c",
   "metadata": {
    "tags": []
   },
   "outputs": [],
   "source": [
    "def _logprob_fn(params, data):    \n",
    "    #prior\n",
    "    prior = jnp.array(0., device=GPU) \n",
    "    for p in ('f', 'hlr', 'g1', 'g2'): # uniform priors\n",
    "        b1, b2 = BOUNDS_GPU[p]\n",
    "        prior += stats.uniform.logpdf(params[p], b1, b2-b1)\n",
    "        \n",
    "    for p in ('x', 'y'): # normal\n",
    "        sigma = BOUNDS_GPU[p]\n",
    "        prior += stats.norm.logpdf(params[p], sigma)\n",
    "\n",
    "    # likelihood\n",
    "    model = draw_gal(**params)\n",
    "    likelihood = stats.norm.logpdf(data, loc=model, scale=jnp.sqrt(BACKGROUND_GPU))\n",
    "    \n",
    "    return jnp.sum(prior) + jnp.sum(likelihood)\n"
   ]
  },
  {
   "cell_type": "code",
   "execution_count": 32,
   "id": "71b4ec47-543b-4c17-aacb-b8517fce6805",
   "metadata": {
    "tags": []
   },
   "outputs": [
    {
     "name": "stdout",
     "output_type": "stream",
     "text": [
      "{CudaDevice(id=0)} <class 'jaxlib.xla_extension.ArrayImpl'> (53, 53)\n"
     ]
    }
   ],
   "source": [
    "# get data\n",
    "SEED = 42\n",
    "\n",
    "data = add_noise(_draw_gal(), BACKGROUND, \n",
    "                 rng=np.random.default_rng(SEED), \n",
    "                 n=1)[0]\n",
    "data_gpu = jax.device_put(data, device=GPU)\n",
    "print(data_gpu.devices(), type(data_gpu), data_gpu.shape)"
   ]
  },
  {
   "cell_type": "code",
   "execution_count": 37,
   "id": "fbf6468a-dc2f-47b2-9245-a0694b446a94",
   "metadata": {
    "tags": []
   },
   "outputs": [
    {
     "name": "stdout",
     "output_type": "stream",
     "text": [
      "{CudaDevice(id=0)}\n"
     ]
    }
   ],
   "source": [
    "# base rng key\n",
    "rng_key = jax.random.key(SEED)\n",
    "rng_key = jax.device_put(rng_key, device=GPU)\n",
    "print(rng_key.devices())"
   ]
  },
  {
   "cell_type": "code",
   "execution_count": 38,
   "id": "2d6a778f-5752-44c0-89bd-739b554b4b41",
   "metadata": {
    "tags": []
   },
   "outputs": [],
   "source": [
    "init_positions = {**TRUE_PARAMS_GPU}"
   ]
  },
  {
   "cell_type": "code",
   "execution_count": 39,
   "id": "d69a895c-b45e-4d61-8c46-0d3ae76e3c54",
   "metadata": {
    "tags": []
   },
   "outputs": [],
   "source": [
    "# warmup function to jit\n",
    "def call_warmup(rng_key, init_positions, data, n_warmups, max_num_doublings):\n",
    "    _logdensity = partial(_logprob_fn, data=data)\n",
    "    warmup = blackjax.window_adaptation(\n",
    "    blackjax.nuts, _logdensity, progress_bar=False, is_mass_matrix_diagonal=False, \n",
    "        max_num_doublings=max_num_doublings, \n",
    "        initial_step_size=0.1, \n",
    "        target_acceptance_rate=0.90 # sometimes prevents divergences by decrasing final step size, although now priors should be wide enough..\n",
    "    )\n",
    "    return warmup.run(rng_key, init_positions, n_warmups) # (init_states, tuned_params), adapt_info"
   ]
  },
  {
   "cell_type": "code",
   "execution_count": 40,
   "id": "e5d15696-6fac-433c-9aff-4c37f33aaf0b",
   "metadata": {
    "tags": []
   },
   "outputs": [],
   "source": [
    "run_warmup = jjit(partial(call_warmup, n_warmups=10, max_num_doublings=5))\n",
    "_ = run_warmup(rng_key, init_positions, data_gpu)"
   ]
  },
  {
   "cell_type": "code",
   "execution_count": 46,
   "id": "b2525508-dd82-4d42-ba9b-771a1b2f4f27",
   "metadata": {
    "tags": []
   },
   "outputs": [],
   "source": [
    "with jax.transfer_guard('disallow'):\n",
    "    (state, tuned_params), _ = run_warmup(rng_key, init_positions, data_gpu) #WARMUP OK after compilation"
   ]
  },
  {
   "cell_type": "code",
   "execution_count": 51,
   "id": "6bee8687-58df-4b73-adce-51e3fd254dac",
   "metadata": {
    "tags": []
   },
   "outputs": [],
   "source": [
    "# vmap only rng_key\n",
    "def do_inference(rng_key, init_state, data, tuned_params:dict, n_samples:int):\n",
    "    logdensity = partial(_logprob_fn, data=data)\n",
    "    kernel = blackjax.nuts(logdensity, **tuned_params).step\n",
    "    return inference_loop(rng_key, init_state, kernel=kernel, n_samples=n_samples)\n",
    "    \n"
   ]
  },
  {
   "cell_type": "code",
   "execution_count": 55,
   "id": "283b6fa1-346b-4e8c-96cb-ff9f1166d5c0",
   "metadata": {
    "tags": []
   },
   "outputs": [],
   "source": [
    "_run_inference =jax.jit(partial(do_inference, n_samples=10, tuned_params=tuned_params))\n",
    "_ = _run_inference(rng_key, state, data_gpu)"
   ]
  },
  {
   "cell_type": "code",
   "execution_count": 56,
   "id": "9f6331c0-f97b-4daa-92fb-e5b1402cff46",
   "metadata": {
    "tags": []
   },
   "outputs": [],
   "source": [
    "with jax.transfer_guard('disallow'):\n",
    "    _ = _run_inference(rng_key, state, data_gpu) #INFERENCE OK after compilation"
   ]
  }
 ],
 "metadata": {
  "kernelspec": {
   "display_name": "bpd_gpu2",
   "language": "python",
   "name": "bpd_gpu2"
  },
  "language_info": {
   "codemirror_mode": {
    "name": "ipython",
    "version": 3
   },
   "file_extension": ".py",
   "mimetype": "text/x-python",
   "name": "python",
   "nbconvert_exporter": "python",
   "pygments_lexer": "ipython3",
   "version": "3.10.14"
  }
 },
 "nbformat": 4,
 "nbformat_minor": 5
}
