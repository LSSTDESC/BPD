{
 "cells": [
  {
   "cell_type": "code",
   "execution_count": 4,
   "id": "22908138-8892-40f9-bc18-903d0053feb5",
   "metadata": {
    "tags": []
   },
   "outputs": [],
   "source": [
    "import multiprocessing as mp\n",
    "from functools import partial\n",
    "\n",
    "import click\n",
    "import jax.numpy as jnp\n",
    "import numpy as np\n",
    "\n",
    "from bpd import DATA_DIR\n",
    "from bpd.io import save_dataset"
   ]
  },
  {
   "cell_type": "code",
   "execution_count": 44,
   "id": "f4753df3-af31-4b25-8fd2-8ac5db60e0f0",
   "metadata": {
    "tags": []
   },
   "outputs": [],
   "source": [
    "def f(a,b):\n",
    "    return a + b['a']"
   ]
  },
  {
   "cell_type": "code",
   "execution_count": 45,
   "id": "59bb9332-d909-437a-8e1b-23c00b091f3a",
   "metadata": {
    "tags": []
   },
   "outputs": [],
   "source": [
    "pool = mp.Pool(processes=3)\n"
   ]
  },
  {
   "cell_type": "code",
   "execution_count": 46,
   "id": "951f7f24-8b56-48b8-8188-d7f74d950e4b",
   "metadata": {
    "tags": []
   },
   "outputs": [],
   "source": [
    "a = [1,2,3]\n",
    "b = [4,5,6]"
   ]
  },
  {
   "cell_type": "code",
   "execution_count": 47,
   "id": "6204c7fa-df46-42dd-8e17-6b070a83bb56",
   "metadata": {
    "tags": []
   },
   "outputs": [
    {
     "data": {
      "text/plain": [
       "\u001b[0;31mSignature:\u001b[0m \u001b[0mpool\u001b[0m\u001b[0;34m.\u001b[0m\u001b[0mmap\u001b[0m\u001b[0;34m(\u001b[0m\u001b[0mfunc\u001b[0m\u001b[0;34m,\u001b[0m \u001b[0miterable\u001b[0m\u001b[0;34m,\u001b[0m \u001b[0mchunksize\u001b[0m\u001b[0;34m=\u001b[0m\u001b[0;32mNone\u001b[0m\u001b[0;34m)\u001b[0m\u001b[0;34m\u001b[0m\u001b[0;34m\u001b[0m\u001b[0m\n",
       "\u001b[0;31mDocstring:\u001b[0m\n",
       "Apply `func` to each element in `iterable`, collecting the results\n",
       "in a list that is returned.\n",
       "\u001b[0;31mFile:\u001b[0m      /pscratch/sd/i/imendoza/miniconda3/envs/bpd_cpu2/lib/python3.10/multiprocessing/pool.py\n",
       "\u001b[0;31mType:\u001b[0m      method"
      ]
     },
     "metadata": {},
     "output_type": "display_data"
    }
   ],
   "source": [
    "pool.map?"
   ]
  },
  {
   "cell_type": "code",
   "execution_count": 48,
   "id": "d03f0895-a819-481f-b060-359e231e0bb2",
   "metadata": {
    "tags": []
   },
   "outputs": [],
   "source": [
    "a = [1,2,3]\n",
    "b = [{'a':4,'b':6}, {'a':3, 'b':6}, {'a':8,'b':6}]"
   ]
  },
  {
   "cell_type": "code",
   "execution_count": 49,
   "id": "ea5e983f-988d-4209-88f8-c904b8abedf1",
   "metadata": {
    "tags": []
   },
   "outputs": [
    {
     "name": "stdout",
     "output_type": "stream",
     "text": [
      "1 {'a': 4, 'b': 6}\n",
      "2 {'a': 3, 'b': 6}\n",
      "3 {'a': 8, 'b': 6}\n"
     ]
    }
   ],
   "source": [
    "for x,y in zip(a,b):\n",
    "    print(x,y)"
   ]
  },
  {
   "cell_type": "code",
   "execution_count": 50,
   "id": "17f6bd31-9156-4559-9612-ca4a274b25e8",
   "metadata": {
    "tags": []
   },
   "outputs": [
    {
     "name": "stdout",
     "output_type": "stream",
     "text": [
      "1 {'a': 4, 'b': 6}\n",
      "2 {'a': 3, 'b': 6}\n",
      "3 {'a': 8, 'b': 6}\n"
     ]
    }
   ],
   "source": [
    "for x,y in zip(a,b):\n",
    "    print(x,y)"
   ]
  },
  {
   "cell_type": "code",
   "execution_count": 51,
   "id": "14945d1e-8567-4aee-952c-7e00f31fd8fa",
   "metadata": {
    "tags": []
   },
   "outputs": [
    {
     "data": {
      "text/plain": [
       "[5, 5, 11]"
      ]
     },
     "execution_count": 51,
     "metadata": {},
     "output_type": "execute_result"
    }
   ],
   "source": [
    "pool.starmap(f, zip(a,b))"
   ]
  },
  {
   "cell_type": "code",
   "execution_count": null,
   "id": "801fe07f-46ca-450a-a9ed-385e92b6e17e",
   "metadata": {},
   "outputs": [],
   "source": []
  }
 ],
 "metadata": {
  "kernelspec": {
   "display_name": "bpd_cpu2",
   "language": "python",
   "name": "bpd_cpu2"
  },
  "language_info": {
   "codemirror_mode": {
    "name": "ipython",
    "version": 3
   },
   "file_extension": ".py",
   "mimetype": "text/x-python",
   "name": "python",
   "nbconvert_exporter": "python",
   "pygments_lexer": "ipython3",
   "version": "3.10.14"
  }
 },
 "nbformat": 4,
 "nbformat_minor": 5
}
