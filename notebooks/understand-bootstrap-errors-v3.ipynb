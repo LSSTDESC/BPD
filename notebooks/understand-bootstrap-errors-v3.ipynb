{
 "cells": [
  {
   "cell_type": "code",
   "execution_count": 1,
   "id": "9d671b17-1398-4c1a-80a2-f0c6de3094ab",
   "metadata": {},
   "outputs": [],
   "source": [
    "\"\"\"Here we explicitly prove that we get a different multiplicative bias distribution depending on how many galaxies are used jointly for shear inference. \n",
    "\n",
    "To accomplish this in the cleanest way possible, we use the same exact galaxies in each case.\n",
    "\n",
    "\"\"\";\n"
   ]
  },
  {
   "cell_type": "code",
   "execution_count": 2,
   "id": "71d108df-4a2e-460a-9135-77db1c554796",
   "metadata": {},
   "outputs": [],
   "source": [
    "from tqdm import tqdm "
   ]
  },
  {
   "cell_type": "code",
   "execution_count": 167,
   "id": "b251e151-6dd3-4283-9220-c3440e188080",
   "metadata": {},
   "outputs": [],
   "source": [
    "from functools import partial\n",
    "\n",
    "import bpd\n",
    "\n",
    "from jax import jit, vmap\n",
    "\n",
    "import jax.numpy as jnp\n",
    "\n",
    "from bpd.sample import sample_noisy_ellipticities_unclipped\n",
    "from bpd.pipelines import logtarget_toy_ellips, pipeline_shear_inference_simple\n",
    "\n",
    "from bpd.chains import run_inference_nuts\n",
    "\n",
    "from jax import random\n",
    "\n",
    "import matplotlib.pyplot as plt \n",
    "\n",
    "import numpy as np \n"
   ]
  },
  {
   "cell_type": "code",
   "execution_count": 168,
   "id": "37b84979-82a8-4acf-8a30-1e1c51e14be0",
   "metadata": {},
   "outputs": [],
   "source": [
    "seed = 99\n",
    "g1 = 0.02 \n",
    "g2 = 0.0\n",
    "\n",
    "shape_noise = 0.2\n",
    "sigma_e_int=0.3\n",
    "sigma_m = 1e-5"
   ]
  },
  {
   "cell_type": "code",
   "execution_count": 169,
   "id": "d22a1a27-eec3-4e5b-90c7-36126a4c8124",
   "metadata": {},
   "outputs": [],
   "source": [
    "# sample ellipticities\n",
    "\n",
    "k = random.key(seed)\n",
    "k1, k2, k3 = random.split(k, 3 )\n",
    "true_g = jnp.array([g1, g2])"
   ]
  },
  {
   "cell_type": "code",
   "execution_count": 170,
   "id": "017d7417-d526-4a73-b7a5-4c7b377a9b1d",
   "metadata": {},
   "outputs": [],
   "source": [
    "e_obs_p, _, e_int = sample_noisy_ellipticities_unclipped(\n",
    "    k1, g=true_g, sigma_m=sigma_m, sigma_e=shape_noise, n=100 * 100\n",
    ")\n",
    "\n",
    "e_obs_m, _, _ = sample_noisy_ellipticities_unclipped(\n",
    "    k1, g=(-1) * true_g, sigma_m=sigma_m, sigma_e=shape_noise, n=100 * 100\n",
    ")"
   ]
  },
  {
   "cell_type": "code",
   "execution_count": 171,
   "id": "73ce8588-9db8-48d0-bbcf-b84b1f47bf3b",
   "metadata": {},
   "outputs": [
    {
     "data": {
      "text/plain": [
       "((10000, 2), (10000, 2))"
      ]
     },
     "execution_count": 171,
     "metadata": {},
     "output_type": "execute_result"
    }
   ],
   "source": [
    "e_obs_p.shape, e_obs_m.shape"
   ]
  },
  {
   "cell_type": "code",
   "execution_count": 172,
   "id": "2b41a1d8-abff-4986-a4c3-b8592ffc4812",
   "metadata": {},
   "outputs": [],
   "source": [
    "def get_e1e2_post(key, e_obs_plus, e_obs_minus, *, sigma_e_int, sigma_m, n_samples=300):\n",
    "\n",
    "    _logtarget = partial(logtarget_toy_ellips, sigma_m=sigma_m, sigma_e_int=sigma_e_int)\n",
    "\n",
    "    k2s = random.split(key, e_obs_plus.shape[0])\n",
    "\n",
    "    _pipe = jit(\n",
    "        partial(\n",
    "            run_inference_nuts,\n",
    "            logtarget=_logtarget,\n",
    "            n_samples=n_samples,\n",
    "            initial_step_size=0.01,\n",
    "            max_num_doublings=2,\n",
    "            n_warmup_steps=500,\n",
    "        )\n",
    "    )\n",
    "    pipe = vmap(_pipe, in_axes=(0, 0, 0))\n",
    "\n",
    "    _ = pipe(k2s[:2], e_obs_plus[:2], e_int[:2])\n",
    "    \n",
    "    e1e2p = pipe(k2s, e_obs_plus, e_int)\n",
    "    e1e2m = pipe(k2s, e_obs_minus, e_int)\n",
    "\n",
    "    return e1e2p, e1e2m"
   ]
  },
  {
   "cell_type": "code",
   "execution_count": 173,
   "id": "5e5e8c1a-2d19-41b0-b71d-f4be8099cb5b",
   "metadata": {},
   "outputs": [],
   "source": [
    "# now  obtain posteriors \n",
    "e1e2p, e1e2m = get_e1e2_post(k2, e_obs_p, e_obs_m, sigma_e_int=sigma_e_int, sigma_m=sigma_m)"
   ]
  },
  {
   "cell_type": "code",
   "execution_count": 174,
   "id": "0819768d-3830-4456-b810-c8d684c1de88",
   "metadata": {},
   "outputs": [
    {
     "data": {
      "text/plain": [
       "((10000, 300, 2), (10000, 300, 2))"
      ]
     },
     "execution_count": 174,
     "metadata": {},
     "output_type": "execute_result"
    }
   ],
   "source": [
    "e1e2p.shape, e1e2m.shape"
   ]
  },
  {
   "cell_type": "code",
   "execution_count": 175,
   "id": "22b75763-69e0-4389-b339-4c6ccfbc0840",
   "metadata": {},
   "outputs": [],
   "source": [
    "def get_shear(key, e1e2, *, shape_noise, sigma_e_int, n_samples:int=1000):\n",
    "    \n",
    "    raw_pipeline = partial(\n",
    "        pipeline_shear_inference_simple,\n",
    "        init_g=jnp.array([0.0, 0.0]),\n",
    "        sigma_e=shape_noise ,\n",
    "        sigma_e_int=sigma_e_int,\n",
    "        n_samples=n_samples,\n",
    "        initial_step_size=0.01,\n",
    "    )\n",
    "    pipe = jit(raw_pipeline)\n",
    "\n",
    "\n",
    "    return pipe(key, e1e2)"
   ]
  },
  {
   "cell_type": "code",
   "execution_count": 176,
   "id": "56c79b49-c36b-41a3-b0d8-09c0daa58cbf",
   "metadata": {},
   "outputs": [
    {
     "data": {
      "text/plain": [
       "(1000, 2)"
      ]
     },
     "execution_count": 176,
     "metadata": {},
     "output_type": "execute_result"
    }
   ],
   "source": [
    "gp1 = get_shear(k3, e1e2p, shape_noise=shape_noise , sigma_e_int=sigma_e_int)\n",
    "gp1.shape"
   ]
  },
  {
   "cell_type": "code",
   "execution_count": 177,
   "id": "dd7942fd-4907-47ff-9d67-00d5f04cf6f8",
   "metadata": {},
   "outputs": [
    {
     "data": {
      "text/plain": [
       "(1000, 2)"
      ]
     },
     "execution_count": 177,
     "metadata": {},
     "output_type": "execute_result"
    }
   ],
   "source": [
    "gm1 = get_shear(k3, e1e2m, shape_noise=shape_noise , sigma_e_int=sigma_e_int)\n",
    "gm1.shape"
   ]
  },
  {
   "cell_type": "code",
   "execution_count": 178,
   "id": "19e149de-4b3d-42e1-a054-0f1ac1da2a5d",
   "metadata": {},
   "outputs": [],
   "source": [
    "# now split into groups of 10\n",
    "k3s = random.split(k3, 1000) \n",
    "e1e2ps = e1e2p.reshape(1000, 10, 300, 2)\n",
    "e1e2ms = e1e2m.reshape(1000, 10, 300, 2)\n"
   ]
  },
  {
   "cell_type": "code",
   "execution_count": 179,
   "id": "5a269fbd-5b30-4a55-b05a-7ae64aaa0026",
   "metadata": {},
   "outputs": [
    {
     "data": {
      "text/plain": [
       "(1000, 1000, 2)"
      ]
     },
     "execution_count": 179,
     "metadata": {},
     "output_type": "execute_result"
    }
   ],
   "source": [
    "_get_shear = partial(get_shear, shape_noise=shape_noise, sigma_e_int=sigma_e_int, n_samples=1000)\n",
    "gp2 = vmap(_get_shear)(k3s, e1e2ps)\n",
    "gp2.shape"
   ]
  },
  {
   "cell_type": "code",
   "execution_count": 180,
   "id": "3abb8f94-89ce-41b1-b67b-b2e6be2919b4",
   "metadata": {},
   "outputs": [
    {
     "data": {
      "text/plain": [
       "(1000, 1000, 2)"
      ]
     },
     "execution_count": 180,
     "metadata": {},
     "output_type": "execute_result"
    }
   ],
   "source": [
    "gm2 = vmap(_get_shear)(k3s, e1e2ms)\n",
    "gm2.shape"
   ]
  },
  {
   "cell_type": "code",
   "execution_count": 181,
   "id": "d958e959-a407-4e86-a565-2434583a462c",
   "metadata": {},
   "outputs": [
    {
     "data": {
      "text/plain": [
       "(Array(0.02128704, dtype=float64), Array(0.02115343, dtype=float64))"
      ]
     },
     "execution_count": 181,
     "metadata": {},
     "output_type": "execute_result"
    }
   ],
   "source": [
    "## now compare  (g1 plus posterior)\n",
    "gp1[:, 0].mean(), gp2[...,0].mean()"
   ]
  },
  {
   "cell_type": "code",
   "execution_count": 182,
   "id": "4488ddd4-4010-4966-bb42-a756f2e46e03",
   "metadata": {},
   "outputs": [
    {
     "data": {
      "text/plain": [
       "(Array(-0.01868729, dtype=float64), Array(-0.01833848, dtype=float64))"
      ]
     },
     "execution_count": 182,
     "metadata": {},
     "output_type": "execute_result"
    }
   ],
   "source": [
    "gm1[:, 0].mean(), gm2[...,0].mean()"
   ]
  },
  {
   "cell_type": "code",
   "execution_count": 184,
   "id": "e7b9fb98-a91d-4973-93f9-eaf11d1515a0",
   "metadata": {},
   "outputs": [
    {
     "data": {
      "text/plain": [
       "<matplotlib.collections.FillBetweenPolyCollection at 0x7f00b9037bf0>"
      ]
     },
     "execution_count": 184,
     "metadata": {},
     "output_type": "execute_result"
    },
    {
     "data": {
      "image/png": "[encoded data removed]",
      "text/plain": [
       "<Figure size 640x480 with 1 Axes>"
      ]
     },
     "metadata": {},
     "output_type": "display_data"
    }
   ],
   "source": [
    "x = gp2[:, :, 0].mean()\n",
    "s = gp2[:, :, 0].std() / np.sqrt(gp2.shape[0])\n",
    "\n",
    "plt.hist(gp2[..., 0].mean(axis=1), bins=11)\n",
    "plt.axvline(gp1[:, 0].mean(), c='k', ls='-.')\n",
    "plt.axvline(gp2[:, :, 0].mean(), c='r', ls='--')\n",
    "plt.fill_between(np.linspace(x - s*3 , x + s*3, 1000), 0, 200, alpha=0.5, color='r')"
   ]
  },
  {
   "cell_type": "code",
   "execution_count": 185,
   "id": "ed648f75-7bfd-45ae-8e5b-523bbc51fb7b",
   "metadata": {},
   "outputs": [
    {
     "data": {
      "text/plain": [
       "<matplotlib.lines.Line2D at 0x7f00dee7f410>"
      ]
     },
     "execution_count": 185,
     "metadata": {},
     "output_type": "execute_result"
    },
    {
     "data": {
      "image/png": "[encoded data removed]",
      "text/plain": [
       "<Figure size 640x480 with 1 Axes>"
      ]
     },
     "metadata": {},
     "output_type": "display_data"
    }
   ],
   "source": [
    "plt.hist(gm2[..., 0].mean(axis=1), bins=11)\n",
    "plt.axvline(gm1[:, 0].mean(), c='k', ls='-.')\n",
    "plt.axvline(gm2[:, :, 0].mean(), c='r', ls='--')"
   ]
  },
  {
   "cell_type": "code",
   "execution_count": 186,
   "id": "0078c292-59df-4799-a297-4a1ce63cc4e3",
   "metadata": {},
   "outputs": [
    {
     "data": {
      "text/plain": [
       "Array(-0.00064187, dtype=float64)"
      ]
     },
     "execution_count": 186,
     "metadata": {},
     "output_type": "execute_result"
    }
   ],
   "source": [
    "# multiplicative bias \n",
    "m1 = (gp1[:, 0].mean() - gm1[:, 0].mean()) / 0.02 / 2 - 1 \n",
    "m1"
   ]
  },
  {
   "cell_type": "code",
   "execution_count": 187,
   "id": "79a479f6-d199-4802-b8c0-d5be4e47a7b8",
   "metadata": {},
   "outputs": [
    {
     "data": {
      "text/plain": [
       "(1000,)"
      ]
     },
     "execution_count": 187,
     "metadata": {},
     "output_type": "execute_result"
    }
   ],
   "source": [
    "m2 = (gp2[:, :, 0].mean(axis=1) - gm2[:,:, 0].mean(axis=1)) / 0.02 / 2 - 1 \n",
    "m2.shape"
   ]
  },
  {
   "cell_type": "code",
   "execution_count": 188,
   "id": "d443dc34-03c9-4fbd-a1f3-4f4dac0f3b82",
   "metadata": {},
   "outputs": [
    {
     "data": {
      "text/plain": [
       "[<matplotlib.lines.Line2D at 0x7f00b84583b0>]"
      ]
     },
     "execution_count": 188,
     "metadata": {},
     "output_type": "execute_result"
    },
    {
     "data": {
      "image/png": "[encoded data removed]",
      "text/plain": [
       "<Figure size 640x480 with 1 Axes>"
      ]
     },
     "metadata": {},
     "output_type": "display_data"
    }
   ],
   "source": [
    "plt.plot(gp2[:, :, 0].mean(axis=1), gm2[:,:, 0].mean(axis=1), 'o', ms=3)\n",
    "plt.plot(gp1[:, 0].mean(), gm1[:, 0].mean(), 'o', c='r')"
   ]
  },
  {
   "cell_type": "code",
   "execution_count": 189,
   "id": "9574daf8-5772-4152-bf2d-91ff014622df",
   "metadata": {},
   "outputs": [
    {
     "data": {
      "text/plain": [
       "<matplotlib.collections.FillBetweenPolyCollection at 0x7f00b84706e0>"
      ]
     },
     "execution_count": 189,
     "metadata": {},
     "output_type": "execute_result"
    },
    {
     "data": {
      "image/png": "[encoded data removed]",
      "text/plain": [
       "<Figure size 640x480 with 1 Axes>"
      ]
     },
     "metadata": {},
     "output_type": "display_data"
    }
   ],
   "source": [
    "plt.hist(m2, bins=11)\n",
    "plt.axvline(m1,  c='k', ls='-.')\n",
    "plt.axvline(m2.mean(), c='r', ls='--')\n",
    "\n",
    "\n",
    "x = m2.mean() \n",
    "s = m2.std() / np.sqrt(m2.shape[0])\n",
    "plt.fill_between(np.linspace(x - s * 3, x + s * 3, 1000), 0, 330, color='r', alpha=0.5)"
   ]
  },
  {
   "cell_type": "code",
   "execution_count": 190,
   "id": "6c16a3ce-9d05-48c8-b421-91f79119175f",
   "metadata": {},
   "outputs": [
    {
     "data": {
      "text/plain": [
       "Array(0.00109474, dtype=float64)"
      ]
     },
     "execution_count": 190,
     "metadata": {},
     "output_type": "execute_result"
    }
   ],
   "source": [
    "m2.std() / np.sqrt(1000)"
   ]
  },
  {
   "cell_type": "code",
   "execution_count": 191,
   "id": "30fd1db0-a0c3-4972-a8a8-c2f13760658c",
   "metadata": {},
   "outputs": [
    {
     "data": {
      "text/plain": [
       "(Array(-0.00064187, dtype=float64), Array(-0.01270217, dtype=float64))"
      ]
     },
     "execution_count": 191,
     "metadata": {},
     "output_type": "execute_result"
    }
   ],
   "source": [
    "m1, m2.mean()"
   ]
  },
  {
   "cell_type": "code",
   "execution_count": null,
   "id": "f94476c3-0197-4035-9a40-e9f91c972bef",
   "metadata": {},
   "outputs": [],
   "source": []
  },
  {
   "cell_type": "code",
   "execution_count": null,
   "id": "542b3910-aec8-4bdb-bb9e-4a20e5f334bb",
   "metadata": {},
   "outputs": [],
   "source": []
  }
 ],
 "metadata": {
  "kernelspec": {
   "display_name": "bpd_gpu",
   "language": "python",
   "name": "bpd_gpu"
  },
  "language_info": {
   "codemirror_mode": {
    "name": "ipython",
    "version": 3
   },
   "file_extension": ".py",
   "mimetype": "text/x-python",
   "name": "python",
   "nbconvert_exporter": "python",
   "pygments_lexer": "ipython3",
   "version": "3.12.9"
  }
 },
 "nbformat": 4,
 "nbformat_minor": 5
}
