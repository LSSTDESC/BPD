{
 "cells": [
  {
   "cell_type": "markdown",
   "id": "87afb373-bdc2-4f81-8946-8a771d09a3ad",
   "metadata": {},
   "source": [
    "Here we attempt to show that the jackknife errors converge as the number of jackknives increase (now that we fixed the issue with the prior on shear)."
   ]
  },
  {
   "cell_type": "code",
   "execution_count": 54,
   "id": "d0532824-b5cd-43ec-847f-f863d68638dd",
   "metadata": {},
   "outputs": [],
   "source": [
    "import os\n",
    "os.environ[\"JAX_ENABLE_X64\"] = \"True\"\n"
   ]
  },
  {
   "cell_type": "code",
   "execution_count": 55,
   "id": "1c3e0e9f-8eee-4c28-abf7-47099a81f921",
   "metadata": {},
   "outputs": [],
   "source": [
    "from tqdm import tqdm "
   ]
  },
  {
   "cell_type": "code",
   "execution_count": 56,
   "id": "bd44f867-8362-4a09-9c77-4c3825dcc065",
   "metadata": {},
   "outputs": [],
   "source": [
    "from functools import partial\n",
    "\n",
    "import bpd\n",
    "\n",
    "from jax import jit, vmap\n",
    "\n",
    "import jax.numpy as jnp\n",
    "\n",
    "from bpd.sample import sample_noisy_ellipticities_unclipped\n",
    "from bpd.pipelines import logtarget_toy_ellips, pipeline_shear_inference_simple\n",
    "\n",
    "from bpd.chains import run_inference_nuts\n",
    "\n",
    "from jax import random\n",
    "\n",
    "import matplotlib.pyplot as plt \n",
    "\n",
    "import numpy as np \n"
   ]
  },
  {
   "cell_type": "code",
   "execution_count": 57,
   "id": "0c92644a-a39a-41d3-bb71-d2dd8f4ca7e1",
   "metadata": {},
   "outputs": [],
   "source": [
    "seed = 99\n",
    "g1 = 0.02 \n",
    "g2 = 0.0\n",
    "\n",
    "shape_noise = 0.02\n",
    "sigma_e_int=0.05\n",
    "sigma_m = 1e-5"
   ]
  },
  {
   "cell_type": "code",
   "execution_count": 58,
   "id": "6167452c-a1b1-4de5-9fdd-badcfc1e3d95",
   "metadata": {},
   "outputs": [],
   "source": [
    "# sample ellipticities\n",
    "\n",
    "k = random.key(seed)\n",
    "k1, k2, k3, k4 = random.split(k, 4 )\n",
    "true_g = jnp.array([g1, g2])"
   ]
  },
  {
   "cell_type": "code",
   "execution_count": 78,
   "id": "f1add146-64d3-4584-874b-58b62180d1bc",
   "metadata": {},
   "outputs": [],
   "source": [
    "e_obs_p, _, e_int = sample_noisy_ellipticities_unclipped(\n",
    "    k1, g=true_g, sigma_m=sigma_m, sigma_e=shape_noise, n=100 * 10\n",
    ")\n",
    "\n",
    "e_obs_m, _, _ = sample_noisy_ellipticities_unclipped(\n",
    "    k1, g=(-1) * true_g, sigma_m=sigma_m, sigma_e=shape_noise, n=100 * 10\n",
    ")"
   ]
  },
  {
   "cell_type": "code",
   "execution_count": 79,
   "id": "04559941-9b72-4938-ac2c-b661298236d4",
   "metadata": {},
   "outputs": [
    {
     "data": {
      "text/plain": [
       "((1000, 2), (1000, 2))"
      ]
     },
     "execution_count": 79,
     "metadata": {},
     "output_type": "execute_result"
    }
   ],
   "source": [
    "e_obs_p.shape, e_obs_m.shape"
   ]
  },
  {
   "cell_type": "code",
   "execution_count": 80,
   "id": "7a228331-cd62-4d17-be43-009b8c6b921c",
   "metadata": {},
   "outputs": [],
   "source": [
    "def get_e1e2_post(key, e_obs_plus, e_obs_minus, *, sigma_e_int, sigma_m, n_samples=300):\n",
    "\n",
    "    _logtarget = partial(logtarget_toy_ellips, sigma_m=sigma_m, sigma_e_int=sigma_e_int)\n",
    "\n",
    "    k2s = random.split(key, e_obs_plus.shape[0])\n",
    "\n",
    "    _pipe = jit(\n",
    "        partial(\n",
    "            run_inference_nuts,\n",
    "            logtarget=_logtarget,\n",
    "            n_samples=n_samples,\n",
    "            initial_step_size=0.01,\n",
    "            max_num_doublings=2,\n",
    "            n_warmup_steps=500,\n",
    "        )\n",
    "    )\n",
    "    pipe = vmap(_pipe, in_axes=(0, 0, 0))\n",
    "\n",
    "    _ = pipe(k2s[:2], e_obs_plus[:2], e_int[:2])\n",
    "    \n",
    "    e1e2p = pipe(k2s, e_obs_plus, e_int)\n",
    "    e1e2m = pipe(k2s, e_obs_minus, e_int)\n",
    "\n",
    "    return e1e2p, e1e2m"
   ]
  },
  {
   "cell_type": "code",
   "execution_count": 81,
   "id": "a1d80f59-b670-4f9b-ab83-f6933b29222a",
   "metadata": {},
   "outputs": [],
   "source": [
    "# now  obtain posteriors \n",
    "e1e2p, e1e2m = get_e1e2_post(k2, e_obs_p, e_obs_m, sigma_e_int=sigma_e_int, sigma_m=sigma_m)"
   ]
  },
  {
   "cell_type": "code",
   "execution_count": 82,
   "id": "9b8997a7-52b3-42b8-8eed-5f37a85542ff",
   "metadata": {},
   "outputs": [
    {
     "data": {
      "text/plain": [
       "((1000, 300, 2), (1000, 300, 2))"
      ]
     },
     "execution_count": 82,
     "metadata": {},
     "output_type": "execute_result"
    }
   ],
   "source": [
    "e1e2p.shape, e1e2m.shape"
   ]
  },
  {
   "cell_type": "code",
   "execution_count": 83,
   "id": "c27294f1-88aa-4cf8-bb0d-f6b179c70221",
   "metadata": {},
   "outputs": [],
   "source": [
    "def get_shear(key, e1e2, *, shape_noise, sigma_e_int, n_samples:int=1000):\n",
    "    \n",
    "    raw_pipeline = partial(\n",
    "        pipeline_shear_inference_simple,\n",
    "        init_g=jnp.array([0.0, 0.0]),\n",
    "        sigma_e=shape_noise ,\n",
    "        sigma_e_int=sigma_e_int,\n",
    "        n_samples=n_samples,\n",
    "        initial_step_size=0.01,\n",
    "    )\n",
    "    pipe = jit(raw_pipeline)\n",
    "\n",
    "\n",
    "    return pipe(key, e1e2)"
   ]
  },
  {
   "cell_type": "code",
   "execution_count": 84,
   "id": "4fc501bf-0ec2-44e7-8a38-7242b3887bf5",
   "metadata": {},
   "outputs": [
    {
     "data": {
      "text/plain": [
       "(1000, 2)"
      ]
     },
     "execution_count": 84,
     "metadata": {},
     "output_type": "execute_result"
    }
   ],
   "source": [
    "gp = get_shear(k3, e1e2p, shape_noise=shape_noise , sigma_e_int=sigma_e_int)\n",
    "gp.shape"
   ]
  },
  {
   "cell_type": "code",
   "execution_count": 85,
   "id": "97cb4a18-33ab-403c-9944-860527158193",
   "metadata": {},
   "outputs": [
    {
     "data": {
      "text/plain": [
       "(1000, 2)"
      ]
     },
     "execution_count": 85,
     "metadata": {},
     "output_type": "execute_result"
    }
   ],
   "source": [
    "gm = get_shear(k3, e1e2m, shape_noise=shape_noise , sigma_e_int=sigma_e_int)\n",
    "gm.shape"
   ]
  },
  {
   "cell_type": "code",
   "execution_count": 86,
   "id": "e3865733-52c1-4fc5-a8b2-e6f0933c5402",
   "metadata": {},
   "outputs": [
    {
     "data": {
      "text/plain": [
       "Array(-6.54415011e-05, dtype=float64)"
      ]
     },
     "execution_count": 86,
     "metadata": {},
     "output_type": "execute_result"
    }
   ],
   "source": [
    "m = (gp[:, 0].mean() - gm[:, 0].mean()) / 2/ 0.02 -1\n",
    "m"
   ]
  },
  {
   "cell_type": "markdown",
   "id": "7de3b788-e82d-4e29-a929-fd119642cbfa",
   "metadata": {},
   "source": [
    "# Jackknife errors"
   ]
  },
  {
   "cell_type": "code",
   "execution_count": 87,
   "id": "2faae441-193f-47ff-be16-82c738474313",
   "metadata": {},
   "outputs": [
    {
     "data": {
      "text/plain": [
       "1000"
      ]
     },
     "execution_count": 87,
     "metadata": {},
     "output_type": "execute_result"
    }
   ],
   "source": [
    "n_gals = e1e2p.shape[0]\n",
    "n_gals"
   ]
  },
  {
   "cell_type": "code",
   "execution_count": 88,
   "id": "e6834acb-1991-4da1-a942-1e5803fc4719",
   "metadata": {},
   "outputs": [],
   "source": [
    "_pipe = jit(partial(get_shear, shape_noise=shape_noise, sigma_e_int=sigma_e_int))"
   ]
  },
  {
   "cell_type": "code",
   "execution_count": 89,
   "id": "b25932cf-2d48-4d7e-8027-02c57ef15114",
   "metadata": {},
   "outputs": [
    {
     "data": {
      "text/plain": [
       "(1000, 300, 2)"
      ]
     },
     "execution_count": 89,
     "metadata": {},
     "output_type": "execute_result"
    }
   ],
   "source": [
    "e1e2p.shape"
   ]
  },
  {
   "cell_type": "code",
   "execution_count": 90,
   "id": "789a84f5-6885-4b93-baba-783346ebdf60",
   "metadata": {},
   "outputs": [],
   "source": [
    "n_jacks = 100\n",
    "\n",
    "\n",
    "b1 = n_gals // n_jacks\n",
    "assert n_jacks * b1 == n_gals\n",
    "k3s = random.split(k3, n_jacks)\n",
    "\n",
    "e1e2pj = [] \n",
    "e1e2mj = [] \n",
    "for ii in range(n_jacks):\n",
    "    start, end = ii * b1, (ii + 1) * b1\n",
    "    e1e2pj.append(jnp.concatenate([e1e2p[:start], e1e2p[end:]]))\n",
    "    e1e2mj.append(jnp.concatenate([e1e2m[:start], e1e2m[end:]]))\n",
    "\n",
    "e1e2pj = jnp.stack(e1e2pj, axis=0)\n",
    "e1e2mj = jnp.stack(e1e2mj, axis=0)\n",
    "\n",
    "        \n"
   ]
  },
  {
   "cell_type": "code",
   "execution_count": 91,
   "id": "92c94808-cb8f-4c4b-a1ab-6754b929b64a",
   "metadata": {},
   "outputs": [
    {
     "data": {
      "text/plain": [
       "(100, 990, 300, 2)"
      ]
     },
     "execution_count": 91,
     "metadata": {},
     "output_type": "execute_result"
    }
   ],
   "source": [
    "e1e2pj.shape"
   ]
  },
  {
   "cell_type": "code",
   "execution_count": 92,
   "id": "e7dbfd52-f1b4-4733-8ee8-499e307206dd",
   "metadata": {},
   "outputs": [],
   "source": [
    "gpj = vmap(_pipe, in_axes=(None, 0))(k3, e1e2pj)"
   ]
  },
  {
   "cell_type": "code",
   "execution_count": 93,
   "id": "1b35141d-2a81-4472-a04b-4da4e1a03399",
   "metadata": {},
   "outputs": [
    {
     "data": {
      "text/plain": [
       "(100, 1000, 2)"
      ]
     },
     "execution_count": 93,
     "metadata": {},
     "output_type": "execute_result"
    }
   ],
   "source": [
    "gpj.shape"
   ]
  },
  {
   "cell_type": "code",
   "execution_count": 94,
   "id": "e96b9ba4-6401-44d3-b306-6660f43045b9",
   "metadata": {},
   "outputs": [],
   "source": [
    "gmj = vmap(_pipe, in_axes=(None, 0))(k3, e1e2mj)"
   ]
  },
  {
   "cell_type": "code",
   "execution_count": 95,
   "id": "58374d38-31e4-4e70-8f3b-d3941493d9ea",
   "metadata": {},
   "outputs": [
    {
     "data": {
      "text/plain": [
       "(100, 1000, 2)"
      ]
     },
     "execution_count": 95,
     "metadata": {},
     "output_type": "execute_result"
    }
   ],
   "source": [
    "gmj.shape"
   ]
  },
  {
   "cell_type": "code",
   "execution_count": 96,
   "id": "ed64cc33-85aa-4be8-9057-6eb811d564ca",
   "metadata": {},
   "outputs": [
    {
     "data": {
      "text/plain": [
       "(100,)"
      ]
     },
     "execution_count": 96,
     "metadata": {},
     "output_type": "execute_result"
    }
   ],
   "source": [
    "mj = (gpj[:, :, 0].mean(1) - gmj[:, :, 0].mean(1)) / 2 / 0.02  - 1\n",
    "mj.shape"
   ]
  },
  {
   "cell_type": "code",
   "execution_count": 97,
   "id": "f8d67e48-6e5b-4c3c-87c7-b83928255fd6",
   "metadata": {},
   "outputs": [
    {
     "data": {
      "text/plain": [
       "Array(0.00018015, dtype=float64)"
      ]
     },
     "execution_count": 97,
     "metadata": {},
     "output_type": "execute_result"
    }
   ],
   "source": [
    "mj.std()"
   ]
  },
  {
   "cell_type": "code",
   "execution_count": 98,
   "id": "e8f35ca8-c19f-4e75-984a-ec909f86233a",
   "metadata": {},
   "outputs": [
    {
     "data": {
      "text/plain": [
       "(Array(0.02033819, dtype=float64), Array(0.02033842, dtype=float64))"
      ]
     },
     "execution_count": 98,
     "metadata": {},
     "output_type": "execute_result"
    }
   ],
   "source": [
    "gpj[:, :, 0].mean(), gp[:, 0].mean(), "
   ]
  },
  {
   "cell_type": "code",
   "execution_count": 99,
   "id": "5240d152-8bc9-498f-8d62-e2217ffe2830",
   "metadata": {},
   "outputs": [
    {
     "data": {
      "text/plain": [
       "(Array(-0.01966195, dtype=float64), Array(-0.01965897, dtype=float64))"
      ]
     },
     "execution_count": 99,
     "metadata": {},
     "output_type": "execute_result"
    }
   ],
   "source": [
    "gmj[:, :, 0].mean(), gm[:, 0].mean(), "
   ]
  },
  {
   "cell_type": "code",
   "execution_count": 100,
   "id": "3ee21514-b581-4a52-ba77-4ad134caaa78",
   "metadata": {},
   "outputs": [
    {
     "data": {
      "text/plain": [
       "<matplotlib.lines.Line2D at 0x7fe73ac0ec90>"
      ]
     },
     "execution_count": 100,
     "metadata": {},
     "output_type": "execute_result"
    },
    {
     "data": {
      "image/png": "[encoded data removed]",
      "text/plain": [
       "<Figure size 640x480 with 1 Axes>"
      ]
     },
     "metadata": {},
     "output_type": "display_data"
    }
   ],
   "source": [
    "plt.hist(mj)\n",
    "plt.axvline(m, c='k', ls='--')\n",
    "plt.axvline(mj.mean(), c='r', ls='--')"
   ]
  },
  {
   "cell_type": "code",
   "execution_count": 101,
   "id": "b5f02d75-8755-4c4f-803c-22eebd029ef0",
   "metadata": {},
   "outputs": [
    {
     "data": {
      "text/plain": [
       "(Array(-6.54415011e-05, dtype=float64),\n",
       " Array(3.37761552e-06, dtype=float64),\n",
       " np.float64(0.0017924888046422028))"
      ]
     },
     "execution_count": 101,
     "metadata": {},
     "output_type": "execute_result"
    }
   ],
   "source": [
    "m, mj.mean(), np.sqrt(mj.var() * (len(mj) - 1))"
   ]
  },
  {
   "cell_type": "markdown",
   "id": "689f5550-734d-46f8-b890-8893b3e19435",
   "metadata": {
    "jp-MarkdownHeadingCollapsed": true
   },
   "source": [
    "## Jackknife convergence"
   ]
  },
  {
   "cell_type": "code",
   "execution_count": 152,
   "id": "a6144f0e-4ce9-4987-be53-4784a0ba5f40",
   "metadata": {
    "collapsed": true,
    "jupyter": {
     "outputs_hidden": true
    }
   },
   "outputs": [
    {
     "name": "stderr",
     "output_type": "stream",
     "text": [
      "2025-04-11 10:08:13.999147: W external/xla/xla/tsl/framework/bfc_allocator.cc:501] Allocator (GPU_0_bfc) ran out of memory trying to allocate 18.97GiB (rounded to 20371523328)requested by op \n",
      "2025-04-11 10:08:13.999429: W external/xla/xla/tsl/framework/bfc_allocator.cc:512] ****___***_________________********_______*********_________________________________________________\n",
      "E0411 10:08:13.999451 1272324 pjrt_stream_executor_client.cc:3086] Execution of replica 0 failed: RESOURCE_EXHAUSTED: Out of memory while trying to allocate 20371523176 bytes.\n",
      " 80%|████████  | 4/5 [08:42<02:10, 130.61s/it]\n"
     ]
    },
    {
     "ename": "XlaRuntimeError",
     "evalue": "RESOURCE_EXHAUSTED: Out of memory while trying to allocate 20371523176 bytes.",
     "output_type": "error",
     "traceback": [
      "\u001b[31m---------------------------------------------------------------------------\u001b[39m",
      "\u001b[31mXlaRuntimeError\u001b[39m                           Traceback (most recent call last)",
      "\u001b[36mCell\u001b[39m\u001b[36m \u001b[39m\u001b[32mIn[152]\u001b[39m\u001b[32m, line 18\u001b[39m\n\u001b[32m     15\u001b[39m e1e2pj = jnp.stack(e1e2pj, axis=\u001b[32m0\u001b[39m)\n\u001b[32m     16\u001b[39m e1e2mj = jnp.stack(e1e2mj, axis=\u001b[32m0\u001b[39m)\n\u001b[32m---> \u001b[39m\u001b[32m18\u001b[39m gpj = \u001b[43mvmap\u001b[49m\u001b[43m(\u001b[49m\u001b[43m_pipe\u001b[49m\u001b[43m)\u001b[49m\u001b[43m(\u001b[49m\u001b[43mk3s\u001b[49m\u001b[43m,\u001b[49m\u001b[43m \u001b[49m\u001b[43me1e2pj\u001b[49m\u001b[43m)\u001b[49m\n\u001b[32m     19\u001b[39m gmj = vmap(_pipe)(k3s, e1e2mj)\n\u001b[32m     20\u001b[39m mj = (gpj[:, :, \u001b[32m0\u001b[39m].mean(\u001b[32m1\u001b[39m) - gmj[:, :, \u001b[32m0\u001b[39m].mean(\u001b[32m1\u001b[39m)) / \u001b[32m2\u001b[39m/ \u001b[32m0.02\u001b[39m  - \u001b[32m1\u001b[39m\n",
      "    \u001b[31m[... skipping hidden 20 frame]\u001b[39m\n",
      "\u001b[36mFile \u001b[39m\u001b[32m/pscratch/sd/i/imendoza/miniconda3/envs/bpd_gpu/lib/python3.12/site-packages/jax/_src/interpreters/pxla.py:1298\u001b[39m, in \u001b[36mExecuteReplicated.__call__\u001b[39m\u001b[34m(self, *args)\u001b[39m\n\u001b[32m   1296\u001b[39m   \u001b[38;5;28mself\u001b[39m._handle_token_bufs(result_token_bufs, sharded_runtime_token)\n\u001b[32m   1297\u001b[39m \u001b[38;5;28;01melse\u001b[39;00m:\n\u001b[32m-> \u001b[39m\u001b[32m1298\u001b[39m   results = \u001b[38;5;28;43mself\u001b[39;49m\u001b[43m.\u001b[49m\u001b[43mxla_executable\u001b[49m\u001b[43m.\u001b[49m\u001b[43mexecute_sharded\u001b[49m\u001b[43m(\u001b[49m\u001b[43minput_bufs\u001b[49m\u001b[43m)\u001b[49m\n\u001b[32m   1300\u001b[39m \u001b[38;5;28;01mif\u001b[39;00m dispatch.needs_check_special():\n\u001b[32m   1301\u001b[39m   out_arrays = results.disassemble_into_single_device_arrays()\n",
      "\u001b[31mXlaRuntimeError\u001b[39m: RESOURCE_EXHAUSTED: Out of memory while trying to allocate 20371523176 bytes."
     ]
    }
   ],
   "source": [
    "n_jackss = (10, 50, 100, 200)\n",
    "mjs = [] \n",
    "\n",
    "for n_jacks in tqdm(n_jackss):\n",
    "    b1 = n_gals // n_jacks\n",
    "    k3s = random.split(k3, n_jacks)\n",
    "\n",
    "    e1e2pj = [] \n",
    "    e1e2mj = [] \n",
    "    for ii in range(n_jacks):\n",
    "        start, end = ii * b1, (ii + 1) * b1\n",
    "        e1e2pj.append(jnp.concatenate([e1e2p[:start], e1e2p[end:]]))\n",
    "        e1e2mj.append(jnp.concatenate([e1e2m[:start], e1e2m[end:]]))\n",
    "\n",
    "    e1e2pj = jnp.stack(e1e2pj, axis=0)\n",
    "    e1e2mj = jnp.stack(e1e2mj, axis=0)\n",
    "\n",
    "    gpj = vmap(_pipe)(k3s, e1e2pj)\n",
    "    gmj = vmap(_pipe)(k3s, e1e2mj)\n",
    "    mj = (gpj[:, :, 0].mean(1) - gmj[:, :, 0].mean(1)) / 2/ 0.02  - 1\n",
    "    mjs.append(mj)"
   ]
  },
  {
   "cell_type": "code",
   "execution_count": 153,
   "id": "eead2454-e7a9-4e33-b393-3c3bae50a915",
   "metadata": {},
   "outputs": [
    {
     "data": {
      "text/plain": [
       "4"
      ]
     },
     "execution_count": 153,
     "metadata": {},
     "output_type": "execute_result"
    }
   ],
   "source": [
    "len(mjs)"
   ]
  },
  {
   "cell_type": "code",
   "execution_count": 177,
   "id": "c6a7303b-c70b-428b-93b1-2d8fc6df6dc4",
   "metadata": {},
   "outputs": [],
   "source": [
    "mj_means  = [mj.mean() for mj in mjs]\n",
    "mj_sigmas = [np.sqrt(mj.var() * (len(mj) - 1)) for mj in mjs]"
   ]
  },
  {
   "cell_type": "code",
   "execution_count": 181,
   "id": "59ef1f5b-1c5d-4f43-ac75-46e516236a4c",
   "metadata": {},
   "outputs": [
    {
     "data": {
      "text/plain": [
       "10"
      ]
     },
     "execution_count": 181,
     "metadata": {},
     "output_type": "execute_result"
    }
   ],
   "source": [
    "len(mjs[0])"
   ]
  },
  {
   "cell_type": "code",
   "execution_count": 183,
   "id": "8a1fa9de-5919-4b65-8987-bc14bda22786",
   "metadata": {},
   "outputs": [
    {
     "data": {
      "text/plain": [
       "[np.float64(0.0009992877813459233),\n",
       " np.float64(0.0020501438904605746),\n",
       " np.float64(0.003166261437133035),\n",
       " np.float64(0.0033813438725487925)]"
      ]
     },
     "execution_count": 183,
     "metadata": {},
     "output_type": "execute_result"
    }
   ],
   "source": [
    "# explicit expression\n",
    "[ np.sqrt((len(mj) - 1) / len(mj) * np.sum( (mj - mj.mean())**2 ) ) for mj in mjs]"
   ]
  },
  {
   "cell_type": "code",
   "execution_count": 178,
   "id": "d8a0a1e2-f322-4541-96ec-212f880cc7d7",
   "metadata": {},
   "outputs": [
    {
     "data": {
      "text/plain": [
       "([Array(-0.00012086, dtype=float64),\n",
       "  Array(-4.64712922e-05, dtype=float64),\n",
       "  Array(1.00987258e-05, dtype=float64),\n",
       "  Array(2.88625318e-05, dtype=float64)],\n",
       " [np.float64(0.0009992877813459233),\n",
       "  np.float64(0.002050143890460574),\n",
       "  np.float64(0.003166261437133035),\n",
       "  np.float64(0.0033813438725487925)])"
      ]
     },
     "execution_count": 178,
     "metadata": {},
     "output_type": "execute_result"
    }
   ],
   "source": [
    "mj_means, mj_sigmas"
   ]
  },
  {
   "cell_type": "code",
   "execution_count": 180,
   "id": "04472719-d849-4dc2-aad1-49326eb98356",
   "metadata": {},
   "outputs": [
    {
     "data": {
      "text/plain": [
       "Array(0.0002397, dtype=float64)"
      ]
     },
     "execution_count": 180,
     "metadata": {},
     "output_type": "execute_result"
    },
    {
     "data": {
      "image/png": "[encoded data removed]",
      "text/plain": [
       "<Figure size 640x480 with 1 Axes>"
      ]
     },
     "metadata": {},
     "output_type": "display_data"
    }
   ],
   "source": [
    "plt.hist(mjs[-1])\n",
    "mjs[-1].std()"
   ]
  },
  {
   "cell_type": "markdown",
   "id": "6d956684-52a1-496a-bb0a-142b375602d8",
   "metadata": {},
   "source": [
    "# Bootstrap comparison"
   ]
  },
  {
   "cell_type": "code",
   "execution_count": 102,
   "id": "576cf171-364d-4602-94e8-7591526add2c",
   "metadata": {},
   "outputs": [],
   "source": [
    "n_boots = 200"
   ]
  },
  {
   "cell_type": "code",
   "execution_count": 103,
   "id": "06e7838a-2550-4243-b8c7-d4778560a82e",
   "metadata": {},
   "outputs": [],
   "source": [
    "k3s = random.split(k3, n_boots)"
   ]
  },
  {
   "cell_type": "code",
   "execution_count": 104,
   "id": "a2396d1c-b391-46e1-9a5e-eaa6e0022a58",
   "metadata": {},
   "outputs": [],
   "source": [
    "indices = random.choice(k4, jnp.arange(len(e1e2p)), shape=(n_boots, 1000), replace=True)"
   ]
  },
  {
   "cell_type": "code",
   "execution_count": 105,
   "id": "ea5e9a1b-d455-4bf1-879c-d8bc2d9462dc",
   "metadata": {},
   "outputs": [
    {
     "data": {
      "text/plain": [
       "(200, 1000)"
      ]
     },
     "execution_count": 105,
     "metadata": {},
     "output_type": "execute_result"
    }
   ],
   "source": [
    "indices.shape"
   ]
  },
  {
   "cell_type": "code",
   "execution_count": 106,
   "id": "c552594d-0a51-45e2-94a4-008ce858f32a",
   "metadata": {},
   "outputs": [
    {
     "data": {
      "text/plain": [
       "(200, 1000, 300, 2)"
      ]
     },
     "execution_count": 106,
     "metadata": {},
     "output_type": "execute_result"
    }
   ],
   "source": [
    "e1e2pb = e1e2p[indices]\n",
    "e1e2mb = e1e2m[indices]\n",
    "e1e2pb.shape"
   ]
  },
  {
   "cell_type": "code",
   "execution_count": 107,
   "id": "c330aa4d-5428-4e91-92a7-0ee9f3d3e53c",
   "metadata": {},
   "outputs": [],
   "source": [
    "gpb = vmap(_pipe, in_axes=(None, 0))(k3, e1e2pb)"
   ]
  },
  {
   "cell_type": "code",
   "execution_count": 108,
   "id": "61084186-98f8-41af-bc74-b5503d42972c",
   "metadata": {},
   "outputs": [],
   "source": [
    "gmb = vmap(_pipe, in_axes=(None, 0))(k3, e1e2mb)"
   ]
  },
  {
   "cell_type": "code",
   "execution_count": 109,
   "id": "97d87d0a-43c6-45d9-b238-e20d912aaa91",
   "metadata": {},
   "outputs": [
    {
     "data": {
      "text/plain": [
       "((200, 1000, 2), (200, 1000, 2))"
      ]
     },
     "execution_count": 109,
     "metadata": {},
     "output_type": "execute_result"
    }
   ],
   "source": [
    "gpb.shape, gmb.shape"
   ]
  },
  {
   "cell_type": "code",
   "execution_count": 110,
   "id": "e7552f48-0d35-44da-9fea-73a9ea197432",
   "metadata": {},
   "outputs": [],
   "source": [
    "mb = (gpb[:, :, 0].mean(1) - gmb[:, :, 0].mean(1)) / 2/ 0.02  - 1"
   ]
  },
  {
   "cell_type": "code",
   "execution_count": 111,
   "id": "92293499-8311-4326-8460-dfd04f77b482",
   "metadata": {},
   "outputs": [
    {
     "data": {
      "text/plain": [
       "(200,)"
      ]
     },
     "execution_count": 111,
     "metadata": {},
     "output_type": "execute_result"
    }
   ],
   "source": [
    "mb.shape"
   ]
  },
  {
   "cell_type": "code",
   "execution_count": 112,
   "id": "aef24c2d-e597-4d50-b9f6-9d9f18bc0fda",
   "metadata": {},
   "outputs": [
    {
     "data": {
      "text/plain": [
       "<matplotlib.lines.Line2D at 0x7fe71effd970>"
      ]
     },
     "execution_count": 112,
     "metadata": {},
     "output_type": "execute_result"
    },
    {
     "data": {
      "image/png": "[encoded data removed]",
      "text/plain": [
       "<Figure size 640x480 with 1 Axes>"
      ]
     },
     "metadata": {},
     "output_type": "display_data"
    }
   ],
   "source": [
    "plt.hist(mb)\n",
    "plt.axvline(m, c='k', ls='--')\n",
    "# plt.axvline(mjs[-1].mean(), c='bx', ls='--')\n",
    "plt.axvline(mb.mean(), c='r', ls='--')"
   ]
  },
  {
   "cell_type": "code",
   "execution_count": 113,
   "id": "712e6c1b-728e-42ca-acc9-7346ff1bc121",
   "metadata": {},
   "outputs": [
    {
     "data": {
      "text/plain": [
       "(Array(5.58996729e-05, dtype=float64), Array(0.00019884, dtype=float64))"
      ]
     },
     "execution_count": 113,
     "metadata": {},
     "output_type": "execute_result"
    }
   ],
   "source": [
    "mb.mean(), mb.std()"
   ]
  },
  {
   "cell_type": "markdown",
   "id": "2e6c9bb0-2265-457e-b464-16710bfa2790",
   "metadata": {},
   "source": [
    "# Look at mean of posteriors on shear"
   ]
  },
  {
   "cell_type": "code",
   "execution_count": 114,
   "id": "35f199af-42d6-48ec-9caa-f4d08a54100c",
   "metadata": {},
   "outputs": [
    {
     "data": {
      "text/plain": [
       "((100, 1000, 2), (200, 1000, 2))"
      ]
     },
     "execution_count": 114,
     "metadata": {},
     "output_type": "execute_result"
    }
   ],
   "source": [
    "gpj.shape, gpb.shape"
   ]
  },
  {
   "cell_type": "code",
   "execution_count": 117,
   "id": "58255e05-d993-414e-ba86-45a8deb2824e",
   "metadata": {},
   "outputs": [
    {
     "data": {
      "text/plain": [
       "np.float64(0.0006007032247028022)"
      ]
     },
     "execution_count": 117,
     "metadata": {},
     "output_type": "execute_result"
    }
   ],
   "source": [
    "np.sqrt(gpj[...,0].mean(1).var()  * (99))"
   ]
  },
  {
   "cell_type": "code",
   "execution_count": 118,
   "id": "5f62ba0d-09f5-4eda-9dd8-f9f8f77b0d83",
   "metadata": {},
   "outputs": [
    {
     "data": {
      "text/plain": [
       "Array(0.00061257, dtype=float64)"
      ]
     },
     "execution_count": 118,
     "metadata": {},
     "output_type": "execute_result"
    }
   ],
   "source": [
    "gpb[...,0].mean(1).std()"
   ]
  },
  {
   "cell_type": "code",
   "execution_count": 119,
   "id": "a3dd48d7-8aa7-4509-86b8-48962ab3cae6",
   "metadata": {},
   "outputs": [],
   "source": [
    "# they agree!"
   ]
  },
  {
   "cell_type": "code",
   "execution_count": null,
   "id": "8d154a4c-73bb-4218-b0f1-d25a8e8d3d7c",
   "metadata": {},
   "outputs": [],
   "source": []
  },
  {
   "cell_type": "code",
   "execution_count": null,
   "id": "91635e3d-34e5-4cef-99c3-8fbd1c55e2d2",
   "metadata": {},
   "outputs": [],
   "source": []
  }
 ],
 "metadata": {
  "kernelspec": {
   "display_name": "bpd_gpu",
   "language": "python",
   "name": "bpd_gpu"
  },
  "language_info": {
   "codemirror_mode": {
    "name": "ipython",
    "version": 3
   },
   "file_extension": ".py",
   "mimetype": "text/x-python",
   "name": "python",
   "nbconvert_exporter": "python",
   "pygments_lexer": "ipython3",
   "version": "3.12.9"
  }
 },
 "nbformat": 4,
 "nbformat_minor": 5
}
