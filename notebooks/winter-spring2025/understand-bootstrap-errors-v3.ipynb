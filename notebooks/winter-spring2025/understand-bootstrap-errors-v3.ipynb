{
 "cells": [
  {
   "cell_type": "code",
   "execution_count": 1,
   "id": "9d671b17-1398-4c1a-80a2-f0c6de3094ab",
   "metadata": {},
   "outputs": [],
   "source": [
    "\"\"\"Here we explicitly prove that we get a different multiplicative bias distribution depending on how many galaxies are used jointly for shear inference. \n",
    "\n",
    "To accomplish this in the cleanest way possible, we use the same exact galaxies in each case.\n",
    "\n",
    "\"\"\";\n"
   ]
  },
  {
   "cell_type": "code",
   "execution_count": 2,
   "id": "71d108df-4a2e-460a-9135-77db1c554796",
   "metadata": {},
   "outputs": [],
   "source": [
    "from tqdm import tqdm "
   ]
  },
  {
   "cell_type": "code",
   "execution_count": 3,
   "id": "b251e151-6dd3-4283-9220-c3440e188080",
   "metadata": {},
   "outputs": [],
   "source": [
    "from functools import partial\n",
    "\n",
    "import bpd\n",
    "\n",
    "from jax import jit, vmap\n",
    "\n",
    "import jax.numpy as jnp\n",
    "\n",
    "from bpd.sample import sample_noisy_ellipticities_unclipped\n",
    "from bpd.pipelines import logtarget_toy_ellips, pipeline_shear_inference_simple\n",
    "\n",
    "from bpd.chains import run_inference_nuts\n",
    "\n",
    "from jax import random\n",
    "\n",
    "import matplotlib.pyplot as plt \n",
    "\n",
    "import numpy as np \n"
   ]
  },
  {
   "cell_type": "code",
   "execution_count": 4,
   "id": "37b84979-82a8-4acf-8a30-1e1c51e14be0",
   "metadata": {},
   "outputs": [],
   "source": [
    "seed = 99\n",
    "g1 = 0.02 \n",
    "g2 = 0.0\n",
    "\n",
    "shape_noise = 0.2\n",
    "sigma_e_int=0.3\n",
    "sigma_m = 1e-5"
   ]
  },
  {
   "cell_type": "code",
   "execution_count": 5,
   "id": "d22a1a27-eec3-4e5b-90c7-36126a4c8124",
   "metadata": {},
   "outputs": [],
   "source": [
    "# sample ellipticities\n",
    "\n",
    "k = random.key(seed)\n",
    "k1, k2, k3 = random.split(k, 3 )\n",
    "true_g = jnp.array([g1, g2])"
   ]
  },
  {
   "cell_type": "code",
   "execution_count": 6,
   "id": "017d7417-d526-4a73-b7a5-4c7b377a9b1d",
   "metadata": {},
   "outputs": [],
   "source": [
    "e_obs_p, _, e_int = sample_noisy_ellipticities_unclipped(\n",
    "    k1, g=true_g, sigma_m=sigma_m, sigma_e=shape_noise, n=100 * 100\n",
    ")\n",
    "\n",
    "e_obs_m, _, _ = sample_noisy_ellipticities_unclipped(\n",
    "    k1, g=(-1) * true_g, sigma_m=sigma_m, sigma_e=shape_noise, n=100 * 100\n",
    ")"
   ]
  },
  {
   "cell_type": "code",
   "execution_count": 7,
   "id": "73ce8588-9db8-48d0-bbcf-b84b1f47bf3b",
   "metadata": {},
   "outputs": [
    {
     "data": {
      "text/plain": [
       "((10000, 2), (10000, 2))"
      ]
     },
     "execution_count": 7,
     "metadata": {},
     "output_type": "execute_result"
    }
   ],
   "source": [
    "e_obs_p.shape, e_obs_m.shape"
   ]
  },
  {
   "cell_type": "code",
   "execution_count": 8,
   "id": "2b41a1d8-abff-4986-a4c3-b8592ffc4812",
   "metadata": {},
   "outputs": [],
   "source": [
    "def get_e1e2_post(key, e_obs_plus, e_obs_minus, *, sigma_e_int, sigma_m, n_samples=300):\n",
    "\n",
    "    _logtarget = partial(logtarget_toy_ellips, sigma_m=sigma_m, sigma_e_int=sigma_e_int)\n",
    "\n",
    "    k2s = random.split(key, e_obs_plus.shape[0])\n",
    "\n",
    "    _pipe = jit(\n",
    "        partial(\n",
    "            run_inference_nuts,\n",
    "            logtarget=_logtarget,\n",
    "            n_samples=n_samples,\n",
    "            initial_step_size=0.01,\n",
    "            max_num_doublings=2,\n",
    "            n_warmup_steps=500,\n",
    "        )\n",
    "    )\n",
    "    pipe = vmap(_pipe, in_axes=(0, 0, 0))\n",
    "\n",
    "    _ = pipe(k2s[:2], e_obs_plus[:2], e_int[:2])\n",
    "    \n",
    "    e1e2p = pipe(k2s, e_obs_plus, e_int)\n",
    "    e1e2m = pipe(k2s, e_obs_minus, e_int)\n",
    "\n",
    "    return e1e2p, e1e2m"
   ]
  },
  {
   "cell_type": "code",
   "execution_count": 9,
   "id": "5e5e8c1a-2d19-41b0-b71d-f4be8099cb5b",
   "metadata": {},
   "outputs": [],
   "source": [
    "# now  obtain posteriors \n",
    "e1e2p, e1e2m = get_e1e2_post(k2, e_obs_p, e_obs_m, sigma_e_int=sigma_e_int, sigma_m=sigma_m)"
   ]
  },
  {
   "cell_type": "code",
   "execution_count": 10,
   "id": "0819768d-3830-4456-b810-c8d684c1de88",
   "metadata": {},
   "outputs": [
    {
     "data": {
      "text/plain": [
       "((10000, 300, 2), (10000, 300, 2))"
      ]
     },
     "execution_count": 10,
     "metadata": {},
     "output_type": "execute_result"
    }
   ],
   "source": [
    "e1e2p.shape, e1e2m.shape"
   ]
  },
  {
   "cell_type": "code",
   "execution_count": 11,
   "id": "22b75763-69e0-4389-b339-4c6ccfbc0840",
   "metadata": {},
   "outputs": [],
   "source": [
    "def get_shear(key, e1e2, *, shape_noise, sigma_e_int, n_samples:int=1000):\n",
    "    \n",
    "    raw_pipeline = partial(\n",
    "        pipeline_shear_inference_simple,\n",
    "        init_g=jnp.array([0.0, 0.0]),\n",
    "        sigma_e=shape_noise ,\n",
    "        sigma_e_int=sigma_e_int,\n",
    "        n_samples=n_samples,\n",
    "        initial_step_size=0.01,\n",
    "    )\n",
    "    pipe = jit(raw_pipeline)\n",
    "\n",
    "\n",
    "    return pipe(key, e1e2)"
   ]
  },
  {
   "cell_type": "code",
   "execution_count": 12,
   "id": "56c79b49-c36b-41a3-b0d8-09c0daa58cbf",
   "metadata": {},
   "outputs": [
    {
     "data": {
      "text/plain": [
       "(1000, 2)"
      ]
     },
     "execution_count": 12,
     "metadata": {},
     "output_type": "execute_result"
    }
   ],
   "source": [
    "gp1 = get_shear(k3, e1e2p, shape_noise=shape_noise , sigma_e_int=sigma_e_int)\n",
    "gp1.shape"
   ]
  },
  {
   "cell_type": "code",
   "execution_count": 13,
   "id": "dd7942fd-4907-47ff-9d67-00d5f04cf6f8",
   "metadata": {},
   "outputs": [
    {
     "data": {
      "text/plain": [
       "(1000, 2)"
      ]
     },
     "execution_count": 13,
     "metadata": {},
     "output_type": "execute_result"
    }
   ],
   "source": [
    "gm1 = get_shear(k3, e1e2m, shape_noise=shape_noise , sigma_e_int=sigma_e_int)\n",
    "gm1.shape"
   ]
  },
  {
   "cell_type": "code",
   "execution_count": 14,
   "id": "19e149de-4b3d-42e1-a054-0f1ac1da2a5d",
   "metadata": {},
   "outputs": [],
   "source": [
    "# now split into groups of 10\n",
    "k3s = random.split(k3, 1000) \n",
    "e1e2ps = e1e2p.reshape(1000, 10, 300, 2)\n",
    "e1e2ms = e1e2m.reshape(1000, 10, 300, 2)\n"
   ]
  },
  {
   "cell_type": "code",
   "execution_count": 15,
   "id": "5a269fbd-5b30-4a55-b05a-7ae64aaa0026",
   "metadata": {},
   "outputs": [
    {
     "data": {
      "text/plain": [
       "(1000, 1000, 2)"
      ]
     },
     "execution_count": 15,
     "metadata": {},
     "output_type": "execute_result"
    }
   ],
   "source": [
    "_get_shear = partial(get_shear, shape_noise=shape_noise, sigma_e_int=sigma_e_int, n_samples=1000)\n",
    "gp2 = vmap(_get_shear)(k3s, e1e2ps)\n",
    "gp2.shape"
   ]
  },
  {
   "cell_type": "code",
   "execution_count": 16,
   "id": "3abb8f94-89ce-41b1-b67b-b2e6be2919b4",
   "metadata": {},
   "outputs": [
    {
     "data": {
      "text/plain": [
       "(1000, 1000, 2)"
      ]
     },
     "execution_count": 16,
     "metadata": {},
     "output_type": "execute_result"
    }
   ],
   "source": [
    "gm2 = vmap(_get_shear)(k3s, e1e2ms)\n",
    "gm2.shape"
   ]
  },
  {
   "cell_type": "code",
   "execution_count": 17,
   "id": "d958e959-a407-4e86-a565-2434583a462c",
   "metadata": {},
   "outputs": [
    {
     "data": {
      "text/plain": [
       "(Array(0.02132525, dtype=float64), Array(0.02115343, dtype=float64))"
      ]
     },
     "execution_count": 17,
     "metadata": {},
     "output_type": "execute_result"
    }
   ],
   "source": [
    "## now compare  (g1 plus posterior)\n",
    "gp1[:, 0].mean(), gp2[...,0].mean()"
   ]
  },
  {
   "cell_type": "code",
   "execution_count": 27,
   "id": "000eea65-7a58-4d53-b209-1f22d04f9550",
   "metadata": {},
   "outputs": [
    {
     "data": {
      "text/plain": [
       "0.06626249999999989"
      ]
     },
     "execution_count": 27,
     "metadata": {},
     "output_type": "execute_result"
    }
   ],
   "source": [
    "0.02132525 / 0.02 - 1"
   ]
  },
  {
   "cell_type": "code",
   "execution_count": 18,
   "id": "4488ddd4-4010-4966-bb42-a756f2e46e03",
   "metadata": {},
   "outputs": [
    {
     "data": {
      "text/plain": [
       "(Array(-0.01866147, dtype=float64), Array(-0.01833848, dtype=float64))"
      ]
     },
     "execution_count": 18,
     "metadata": {},
     "output_type": "execute_result"
    }
   ],
   "source": [
    "gm1[:, 0].mean(), gm2[...,0].mean()"
   ]
  },
  {
   "cell_type": "code",
   "execution_count": 30,
   "id": "bbf38ba9-ae11-4ef0-9ad1-614ed69c527c",
   "metadata": {},
   "outputs": [
    {
     "data": {
      "text/plain": [
       "Array(0.12758861, dtype=float64)"
      ]
     },
     "execution_count": 30,
     "metadata": {},
     "output_type": "execute_result"
    }
   ],
   "source": [
    "gp2[:, :, 0].std()/ np.sqrt(gp2.shape[0]) / 0.02 "
   ]
  },
  {
   "cell_type": "code",
   "execution_count": 19,
   "id": "e7b9fb98-a91d-4973-93f9-eaf11d1515a0",
   "metadata": {},
   "outputs": [
    {
     "data": {
      "text/plain": [
       "<matplotlib.collections.FillBetweenPolyCollection at 0x7f1acca02540>"
      ]
     },
     "execution_count": 19,
     "metadata": {},
     "output_type": "execute_result"
    },
    {
     "data": {
      "image/png": "[encoded data removed]",
      "text/plain": [
       "<Figure size 640x480 with 1 Axes>"
      ]
     },
     "metadata": {},
     "output_type": "display_data"
    }
   ],
   "source": [
    "x = gp2[:, :, 0].mean()\n",
    "s = gp2[:, :, 0].std() / np.sqrt(gp2.shape[0])\n",
    "\n",
    "plt.hist(gp2[..., 0].mean(axis=1), bins=11)\n",
    "plt.axvline(gp1[:, 0].mean(), c='k', ls='-.')\n",
    "plt.axvline(gp2[:, :, 0].mean(), c='r', ls='--')\n",
    "plt.fill_between(np.linspace(x - s*3 , x + s*3, 1000), 0, 250, alpha=0.5, color='r')"
   ]
  },
  {
   "cell_type": "code",
   "execution_count": 20,
   "id": "ed648f75-7bfd-45ae-8e5b-523bbc51fb7b",
   "metadata": {},
   "outputs": [
    {
     "data": {
      "text/plain": [
       "<matplotlib.lines.Line2D at 0x7f1310671130>"
      ]
     },
     "execution_count": 20,
     "metadata": {},
     "output_type": "execute_result"
    },
    {
     "data": {
      "image/png": "[encoded data removed]",
      "text/plain": [
       "<Figure size 640x480 with 1 Axes>"
      ]
     },
     "metadata": {},
     "output_type": "display_data"
    }
   ],
   "source": [
    "plt.hist(gm2[..., 0].mean(axis=1), bins=11)\n",
    "plt.axvline(gm1[:, 0].mean(), c='k', ls='-.')\n",
    "plt.axvline(gm2[:, :, 0].mean(), c='r', ls='--')"
   ]
  },
  {
   "cell_type": "code",
   "execution_count": 21,
   "id": "0078c292-59df-4799-a297-4a1ce63cc4e3",
   "metadata": {},
   "outputs": [
    {
     "data": {
      "text/plain": [
       "Array(-0.00033211, dtype=float64)"
      ]
     },
     "execution_count": 21,
     "metadata": {},
     "output_type": "execute_result"
    }
   ],
   "source": [
    "# multiplicative bias \n",
    "m1 = (gp1[:, 0].mean() - gm1[:, 0].mean()) / 0.02 / 2 - 1 \n",
    "m1"
   ]
  },
  {
   "cell_type": "code",
   "execution_count": 22,
   "id": "79a479f6-d199-4802-b8c0-d5be4e47a7b8",
   "metadata": {},
   "outputs": [
    {
     "data": {
      "text/plain": [
       "(1000,)"
      ]
     },
     "execution_count": 22,
     "metadata": {},
     "output_type": "execute_result"
    }
   ],
   "source": [
    "m2 = (gp2[:, :, 0].mean(axis=1) - gm2[:,:, 0].mean(axis=1)) / 0.02 / 2 - 1 \n",
    "m2.shape"
   ]
  },
  {
   "cell_type": "code",
   "execution_count": 23,
   "id": "d443dc34-03c9-4fbd-a1f3-4f4dac0f3b82",
   "metadata": {},
   "outputs": [
    {
     "data": {
      "text/plain": [
       "[<matplotlib.lines.Line2D at 0x7f1310584110>]"
      ]
     },
     "execution_count": 23,
     "metadata": {},
     "output_type": "execute_result"
    },
    {
     "data": {
      "image/png": "[encoded data removed]",
      "text/plain": [
       "<Figure size 640x480 with 1 Axes>"
      ]
     },
     "metadata": {},
     "output_type": "display_data"
    }
   ],
   "source": [
    "plt.plot(gp2[:, :, 0].mean(axis=1), gm2[:,:, 0].mean(axis=1), 'o', ms=3)\n",
    "plt.plot(gp1[:, 0].mean(), gm1[:, 0].mean(), 'o', c='r')"
   ]
  },
  {
   "cell_type": "code",
   "execution_count": 24,
   "id": "9574daf8-5772-4152-bf2d-91ff014622df",
   "metadata": {},
   "outputs": [
    {
     "data": {
      "text/plain": [
       "<matplotlib.collections.FillBetweenPolyCollection at 0x7f1b041464e0>"
      ]
     },
     "execution_count": 24,
     "metadata": {},
     "output_type": "execute_result"
    },
    {
     "data": {
      "image/png": "[encoded data removed]",
      "text/plain": [
       "<Figure size 640x480 with 1 Axes>"
      ]
     },
     "metadata": {},
     "output_type": "display_data"
    }
   ],
   "source": [
    "plt.hist(m2, bins=11)\n",
    "plt.axvline(m1,  c='k', ls='-.')\n",
    "plt.axvline(m2.mean(), c='r', ls='--')\n",
    "\n",
    "\n",
    "x = m2.mean() \n",
    "s = m2.std() / np.sqrt(m2.shape[0])\n",
    "plt.fill_between(np.linspace(x - s * 3, x + s * 3, 1000), 0, 33, color='r', alpha=0.5)"
   ]
  },
  {
   "cell_type": "code",
   "execution_count": 25,
   "id": "6c16a3ce-9d05-48c8-b421-91f79119175f",
   "metadata": {},
   "outputs": [
    {
     "data": {
      "text/plain": [
       "Array(0.00109474, dtype=float64)"
      ]
     },
     "execution_count": 25,
     "metadata": {},
     "output_type": "execute_result"
    }
   ],
   "source": [
    "m2.std() / np.sqrt(1000)"
   ]
  },
  {
   "cell_type": "code",
   "execution_count": 26,
   "id": "30fd1db0-a0c3-4972-a8a8-c2f13760658c",
   "metadata": {},
   "outputs": [
    {
     "data": {
      "text/plain": [
       "(Array(-0.00033211, dtype=float64), Array(-0.01270217, dtype=float64))"
      ]
     },
     "execution_count": 26,
     "metadata": {},
     "output_type": "execute_result"
    }
   ],
   "source": [
    "m1, m2.mean()"
   ]
  },
  {
   "cell_type": "markdown",
   "id": "0959da6f-d9e2-4389-a635-0e211bdf0129",
   "metadata": {},
   "source": [
    "## Additive bias "
   ]
  },
  {
   "cell_type": "code",
   "execution_count": 150,
   "id": "faa92899-d459-4261-a262-ccf8f6a1e17b",
   "metadata": {},
   "outputs": [
    {
     "data": {
      "text/plain": [
       "((), (1000,))"
      ]
     },
     "execution_count": 150,
     "metadata": {},
     "output_type": "execute_result"
    }
   ],
   "source": [
    "c1 = (gp1[:, 1].mean() + gm1[:, 1].mean()) / 2 \n",
    "c2 = (gp2[...,1].mean(1) + gm2[...,1].mean(1)) / 2\n",
    "c1.shape, c2.shape"
   ]
  },
  {
   "cell_type": "code",
   "execution_count": 151,
   "id": "d633b9d9-f9fd-40b3-b3f4-91a976ec62fc",
   "metadata": {},
   "outputs": [
    {
     "data": {
      "text/plain": [
       "(array([  3.,   3.,  10.,  30.,  43.,  49.,  69.,  98., 111., 116., 118.,\n",
       "        109.,  90.,  60.,  44.,  24.,  12.,   7.,   2.,   1.,   1.]),\n",
       " array([-0.164569  , -0.14741378, -0.13025856, -0.11310334, -0.09594813,\n",
       "        -0.07879291, -0.06163769, -0.04448247, -0.02732725, -0.01017203,\n",
       "         0.00698319,  0.02413841,  0.04129363,  0.05844884,  0.07560406,\n",
       "         0.09275928,  0.1099145 ,  0.12706972,  0.14422494,  0.16138016,\n",
       "         0.17853538,  0.1956906 ]),\n",
       " <BarContainer object of 21 artists>)"
      ]
     },
     "execution_count": 151,
     "metadata": {},
     "output_type": "execute_result"
    },
    {
     "data": {
      "image/png": "[encoded data removed]",
      "text/plain": [
       "<Figure size 640x480 with 1 Axes>"
      ]
     },
     "metadata": {},
     "output_type": "display_data"
    }
   ],
   "source": [
    "plt.hist(c2, bins=21)"
   ]
  },
  {
   "cell_type": "code",
   "execution_count": 152,
   "id": "c4f8b128-a536-4bb3-9fb5-57b46600204b",
   "metadata": {},
   "outputs": [
    {
     "data": {
      "text/plain": [
       "(Array(0.00103605, dtype=float64), Array(0.00089804, dtype=float64))"
      ]
     },
     "execution_count": 152,
     "metadata": {},
     "output_type": "execute_result"
    }
   ],
   "source": [
    "c1, c2.mean()"
   ]
  },
  {
   "cell_type": "code",
   "execution_count": 153,
   "id": "ec1d8518-c709-4edf-a8b8-a656f588a6c2",
   "metadata": {},
   "outputs": [
    {
     "data": {
      "text/plain": [
       "Array(0.00176576, dtype=float64)"
      ]
     },
     "execution_count": 153,
     "metadata": {},
     "output_type": "execute_result"
    }
   ],
   "source": [
    "c2.std() / np.sqrt(1000)"
   ]
  },
  {
   "cell_type": "code",
   "execution_count": null,
   "id": "fd0c95cb-47dd-4d7a-b30d-9a26879bb3be",
   "metadata": {},
   "outputs": [],
   "source": []
  }
 ],
 "metadata": {
  "kernelspec": {
   "display_name": "bpd_gpu",
   "language": "python",
   "name": "bpd_gpu"
  },
  "language_info": {
   "codemirror_mode": {
    "name": "ipython",
    "version": 3
   },
   "file_extension": ".py",
   "mimetype": "text/x-python",
   "name": "python",
   "nbconvert_exporter": "python",
   "pygments_lexer": "ipython3",
   "version": "3.12.9"
  }
 },
 "nbformat": 4,
 "nbformat_minor": 5
}
