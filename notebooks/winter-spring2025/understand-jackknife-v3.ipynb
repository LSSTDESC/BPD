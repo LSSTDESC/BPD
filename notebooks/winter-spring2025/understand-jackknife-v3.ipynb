{
 "cells": [
  {
   "cell_type": "markdown",
   "id": "87afb373-bdc2-4f81-8946-8a771d09a3ad",
   "metadata": {},
   "source": [
    "Here we attempt to show that the jackknife errors converge as the number of jackknives increase (now that we fixed the issue with the prior on shear)."
   ]
  },
  {
   "cell_type": "code",
   "execution_count": 1,
   "id": "d0532824-b5cd-43ec-847f-f863d68638dd",
   "metadata": {},
   "outputs": [],
   "source": [
    "import os\n",
    "os.environ[\"JAX_ENABLE_X64\"] = \"True\"\n"
   ]
  },
  {
   "cell_type": "code",
   "execution_count": 2,
   "id": "1c3e0e9f-8eee-4c28-abf7-47099a81f921",
   "metadata": {},
   "outputs": [],
   "source": [
    "from tqdm import tqdm "
   ]
  },
  {
   "cell_type": "code",
   "execution_count": 3,
   "id": "bd44f867-8362-4a09-9c77-4c3825dcc065",
   "metadata": {},
   "outputs": [],
   "source": [
    "from functools import partial\n",
    "\n",
    "import bpd\n",
    "\n",
    "from jax import jit, vmap\n",
    "\n",
    "import jax.numpy as jnp\n",
    "\n",
    "from bpd.sample import sample_noisy_ellipticities_unclipped\n",
    "from bpd.pipelines import logtarget_toy_ellips, pipeline_shear_inference_simple\n",
    "\n",
    "from bpd.chains import run_inference_nuts\n",
    "\n",
    "from jax import random\n",
    "\n",
    "import matplotlib.pyplot as plt \n",
    "\n",
    "import numpy as np \n",
    "\n",
    "from bpd.utils import process_in_batches\n"
   ]
  },
  {
   "cell_type": "code",
   "execution_count": 4,
   "id": "0c92644a-a39a-41d3-bb71-d2dd8f4ca7e1",
   "metadata": {},
   "outputs": [],
   "source": [
    "seed = 99\n",
    "g1 = 0.02 \n",
    "g2 = 0.0\n",
    "\n",
    "shape_noise = 0.02\n",
    "sigma_e_int=0.05\n",
    "sigma_m = 1e-5"
   ]
  },
  {
   "cell_type": "code",
   "execution_count": 5,
   "id": "6167452c-a1b1-4de5-9fdd-badcfc1e3d95",
   "metadata": {},
   "outputs": [],
   "source": [
    "# sample ellipticities\n",
    "\n",
    "k = random.key(seed)\n",
    "k1, k2, k3, k4 = random.split(k, 4 )\n",
    "true_g = jnp.array([g1, g2])"
   ]
  },
  {
   "cell_type": "code",
   "execution_count": 6,
   "id": "f1add146-64d3-4584-874b-58b62180d1bc",
   "metadata": {},
   "outputs": [],
   "source": [
    "e_obs_p, _, e_int = sample_noisy_ellipticities_unclipped(\n",
    "    k1, g=true_g, sigma_m=sigma_m, sigma_e=shape_noise, n=100 * 100\n",
    ")\n",
    "\n",
    "e_obs_m, _, _ = sample_noisy_ellipticities_unclipped(\n",
    "    k1, g=(-1) * true_g, sigma_m=sigma_m, sigma_e=shape_noise, n=100 * 100\n",
    ")"
   ]
  },
  {
   "cell_type": "code",
   "execution_count": 7,
   "id": "04559941-9b72-4938-ac2c-b661298236d4",
   "metadata": {},
   "outputs": [
    {
     "data": {
      "text/plain": [
       "((10000, 2), (10000, 2))"
      ]
     },
     "execution_count": 7,
     "metadata": {},
     "output_type": "execute_result"
    }
   ],
   "source": [
    "e_obs_p.shape, e_obs_m.shape"
   ]
  },
  {
   "cell_type": "code",
   "execution_count": 8,
   "id": "7a228331-cd62-4d17-be43-009b8c6b921c",
   "metadata": {},
   "outputs": [],
   "source": [
    "def get_e1e2_post(key, e_obs_plus, e_obs_minus, *, sigma_e_int, sigma_m, n_samples=300):\n",
    "\n",
    "    _logtarget = partial(logtarget_toy_ellips, sigma_m=sigma_m, sigma_e_int=sigma_e_int)\n",
    "\n",
    "    k2s = random.split(key, e_obs_plus.shape[0])\n",
    "\n",
    "    _pipe = jit(\n",
    "        partial(\n",
    "            run_inference_nuts,\n",
    "            logtarget=_logtarget,\n",
    "            n_samples=n_samples,\n",
    "            initial_step_size=0.01,\n",
    "            max_num_doublings=2,\n",
    "            n_warmup_steps=500,\n",
    "        )\n",
    "    )\n",
    "    pipe = vmap(_pipe, in_axes=(0, 0, 0))\n",
    "\n",
    "    _ = pipe(k2s[:2], e_obs_plus[:2], e_int[:2])\n",
    "    \n",
    "    e1e2p = pipe(k2s, e_obs_plus, e_int)\n",
    "    e1e2m = pipe(k2s, e_obs_minus, e_int)\n",
    "\n",
    "    return e1e2p, e1e2m"
   ]
  },
  {
   "cell_type": "code",
   "execution_count": 9,
   "id": "a1d80f59-b670-4f9b-ab83-f6933b29222a",
   "metadata": {},
   "outputs": [],
   "source": [
    "# now  obtain posteriors \n",
    "e1e2p, e1e2m = get_e1e2_post(k2, e_obs_p, e_obs_m, sigma_e_int=sigma_e_int, sigma_m=sigma_m)"
   ]
  },
  {
   "cell_type": "code",
   "execution_count": 10,
   "id": "9b8997a7-52b3-42b8-8eed-5f37a85542ff",
   "metadata": {},
   "outputs": [
    {
     "data": {
      "text/plain": [
       "((10000, 300, 2), (10000, 300, 2))"
      ]
     },
     "execution_count": 10,
     "metadata": {},
     "output_type": "execute_result"
    }
   ],
   "source": [
    "e1e2p.shape, e1e2m.shape"
   ]
  },
  {
   "cell_type": "code",
   "execution_count": 11,
   "id": "c27294f1-88aa-4cf8-bb0d-f6b179c70221",
   "metadata": {},
   "outputs": [],
   "source": [
    "def get_shear(key, e1e2, *, shape_noise, sigma_e_int, n_samples:int=1000):\n",
    "    \n",
    "    raw_pipeline = partial(\n",
    "        pipeline_shear_inference_simple,\n",
    "        init_g=jnp.array([0.0, 0.0]),\n",
    "        sigma_e=shape_noise ,\n",
    "        sigma_e_int=sigma_e_int,\n",
    "        n_samples=n_samples,\n",
    "        initial_step_size=0.01,\n",
    "    )\n",
    "    pipe = jit(raw_pipeline)\n",
    "\n",
    "\n",
    "    return pipe(key, e1e2)"
   ]
  },
  {
   "cell_type": "code",
   "execution_count": 12,
   "id": "4fc501bf-0ec2-44e7-8a38-7242b3887bf5",
   "metadata": {},
   "outputs": [
    {
     "data": {
      "text/plain": [
       "(1000, 2)"
      ]
     },
     "execution_count": 12,
     "metadata": {},
     "output_type": "execute_result"
    }
   ],
   "source": [
    "gp = get_shear(k3, e1e2p, shape_noise=shape_noise , sigma_e_int=sigma_e_int)\n",
    "gp.shape"
   ]
  },
  {
   "cell_type": "code",
   "execution_count": 13,
   "id": "97cb4a18-33ab-403c-9944-860527158193",
   "metadata": {},
   "outputs": [
    {
     "data": {
      "text/plain": [
       "(1000, 2)"
      ]
     },
     "execution_count": 13,
     "metadata": {},
     "output_type": "execute_result"
    }
   ],
   "source": [
    "gm = get_shear(k3, e1e2m, shape_noise=shape_noise , sigma_e_int=sigma_e_int)\n",
    "gm.shape"
   ]
  },
  {
   "cell_type": "code",
   "execution_count": 14,
   "id": "e3865733-52c1-4fc5-a8b2-e6f0933c5402",
   "metadata": {},
   "outputs": [
    {
     "data": {
      "text/plain": [
       "Array(3.50213662e-05, dtype=float64)"
      ]
     },
     "execution_count": 14,
     "metadata": {},
     "output_type": "execute_result"
    }
   ],
   "source": [
    "m = (gp[:, 0].mean() - gm[:, 0].mean()) / 2/ 0.02 -1\n",
    "m"
   ]
  },
  {
   "cell_type": "markdown",
   "id": "7de3b788-e82d-4e29-a929-fd119642cbfa",
   "metadata": {},
   "source": [
    "# Jackknife errors"
   ]
  },
  {
   "cell_type": "code",
   "execution_count": 15,
   "id": "2faae441-193f-47ff-be16-82c738474313",
   "metadata": {},
   "outputs": [
    {
     "data": {
      "text/plain": [
       "10000"
      ]
     },
     "execution_count": 15,
     "metadata": {},
     "output_type": "execute_result"
    }
   ],
   "source": [
    "n_gals = e1e2p.shape[0]\n",
    "n_gals"
   ]
  },
  {
   "cell_type": "code",
   "execution_count": 23,
   "id": "e6834acb-1991-4da1-a942-1e5803fc4719",
   "metadata": {},
   "outputs": [],
   "source": [
    "_pipe = vmap(jit(partial(get_shear, shape_noise=shape_noise, sigma_e_int=sigma_e_int)))"
   ]
  },
  {
   "cell_type": "code",
   "execution_count": 24,
   "id": "b25932cf-2d48-4d7e-8027-02c57ef15114",
   "metadata": {},
   "outputs": [
    {
     "data": {
      "text/plain": [
       "(10000, 300, 2)"
      ]
     },
     "execution_count": 24,
     "metadata": {},
     "output_type": "execute_result"
    }
   ],
   "source": [
    "e1e2p.shape"
   ]
  },
  {
   "cell_type": "code",
   "execution_count": 25,
   "id": "789a84f5-6885-4b93-baba-783346ebdf60",
   "metadata": {},
   "outputs": [
    {
     "name": "stderr",
     "output_type": "stream",
     "text": [
      "100%|██████████| 100/100 [00:00<00:00, 1003.19it/s]\n"
     ]
    }
   ],
   "source": [
    "from tqdm import tqdm\n",
    "\n",
    "n_jacks = 100\n",
    "\n",
    "\n",
    "b1 = n_gals // n_jacks\n",
    "assert n_jacks * b1 == n_gals\n",
    "k3s = random.split(k3, n_jacks)\n",
    "\n",
    "e1e2pj = [] \n",
    "e1e2mj = [] \n",
    "for ii in tqdm(range(n_jacks)):\n",
    "    start, end = ii * b1, (ii + 1) * b1\n",
    "    e1e2pj.append(jnp.concatenate([e1e2p[:start], e1e2p[end:]]))\n",
    "    e1e2mj.append(jnp.concatenate([e1e2m[:start], e1e2m[end:]]))\n",
    "\n",
    "e1e2pj = jnp.stack(e1e2pj, axis=0)\n",
    "e1e2mj = jnp.stack(e1e2mj, axis=0)\n",
    "\n",
    "        \n"
   ]
  },
  {
   "cell_type": "code",
   "execution_count": 26,
   "id": "92c94808-cb8f-4c4b-a1ab-6754b929b64a",
   "metadata": {},
   "outputs": [
    {
     "data": {
      "text/plain": [
       "(100, 9900, 300, 2)"
      ]
     },
     "execution_count": 26,
     "metadata": {},
     "output_type": "execute_result"
    }
   ],
   "source": [
    "e1e2pj.shape"
   ]
  },
  {
   "cell_type": "code",
   "execution_count": 27,
   "id": "08b562e4-5f81-433f-b41e-4604280ea752",
   "metadata": {},
   "outputs": [],
   "source": [
    "# jit pipe\n",
    "_ = _pipe(k3s[0:1], e1e2pj[0:1])"
   ]
  },
  {
   "cell_type": "code",
   "execution_count": 30,
   "id": "43c84e25-c8ac-48fe-9b1f-f02cd012a823",
   "metadata": {},
   "outputs": [],
   "source": [
    "# gpj  = _pipe(k3s, e1e2pj)"
   ]
  },
  {
   "cell_type": "code",
   "execution_count": 31,
   "id": "e7dbfd52-f1b4-4733-8ee8-499e307206dd",
   "metadata": {},
   "outputs": [
    {
     "name": "stderr",
     "output_type": "stream",
     "text": [
      "Processing batches: 100%|██████████| 5/5 [09:50<00:00, 118.20s/it]\n"
     ]
    }
   ],
   "source": [
    "gpj = process_in_batches(_pipe, k3s, e1e2pj, n_points=n_jacks, batch_size=20)"
   ]
  },
  {
   "cell_type": "code",
   "execution_count": 32,
   "id": "e96b9ba4-6401-44d3-b306-6660f43045b9",
   "metadata": {},
   "outputs": [
    {
     "name": "stderr",
     "output_type": "stream",
     "text": [
      "Processing batches: 100%|██████████| 5/5 [09:43<00:00, 116.70s/it]\n"
     ]
    }
   ],
   "source": [
    "gmj = process_in_batches(_pipe, k3s, e1e2mj, n_points=n_jacks, batch_size=20)"
   ]
  },
  {
   "cell_type": "code",
   "execution_count": 34,
   "id": "58374d38-31e4-4e70-8f3b-d3941493d9ea",
   "metadata": {},
   "outputs": [
    {
     "data": {
      "text/plain": [
       "((100, 1000, 2), (100, 1000, 2))"
      ]
     },
     "execution_count": 34,
     "metadata": {},
     "output_type": "execute_result"
    }
   ],
   "source": [
    "gpj.shape, gmj.shape"
   ]
  },
  {
   "cell_type": "code",
   "execution_count": 35,
   "id": "ed64cc33-85aa-4be8-9057-6eb811d564ca",
   "metadata": {},
   "outputs": [
    {
     "data": {
      "text/plain": [
       "(100,)"
      ]
     },
     "execution_count": 35,
     "metadata": {},
     "output_type": "execute_result"
    }
   ],
   "source": [
    "mj = (gpj[:, :, 0].mean(1) - gmj[:, :, 0].mean(1)) / 2 / 0.02  - 1\n",
    "mj.shape"
   ]
  },
  {
   "cell_type": "code",
   "execution_count": 37,
   "id": "f8d67e48-6e5b-4c3c-87c7-b83928255fd6",
   "metadata": {},
   "outputs": [
    {
     "data": {
      "text/plain": [
       "(Array(5.96231418e-06, dtype=float64), Array(8.05922138e-05, dtype=float64))"
      ]
     },
     "execution_count": 37,
     "metadata": {},
     "output_type": "execute_result"
    }
   ],
   "source": [
    "mj.mean(), mj.std()"
   ]
  },
  {
   "cell_type": "code",
   "execution_count": 38,
   "id": "e8f35ca8-c19f-4e75-984a-ec909f86233a",
   "metadata": {},
   "outputs": [
    {
     "data": {
      "text/plain": [
       "(Array(0.01984458, dtype=float64), Array(0.01985071, dtype=float64))"
      ]
     },
     "execution_count": 38,
     "metadata": {},
     "output_type": "execute_result"
    }
   ],
   "source": [
    "gpj[:, :, 0].mean(), gp[:, 0].mean(), "
   ]
  },
  {
   "cell_type": "code",
   "execution_count": 39,
   "id": "5240d152-8bc9-498f-8d62-e2217ffe2830",
   "metadata": {},
   "outputs": [
    {
     "data": {
      "text/plain": [
       "(Array(-0.02015566, dtype=float64), Array(-0.02015069, dtype=float64))"
      ]
     },
     "execution_count": 39,
     "metadata": {},
     "output_type": "execute_result"
    }
   ],
   "source": [
    "gmj[:, :, 0].mean(), gm[:, 0].mean(), "
   ]
  },
  {
   "cell_type": "code",
   "execution_count": 40,
   "id": "3ee21514-b581-4a52-ba77-4ad134caaa78",
   "metadata": {},
   "outputs": [
    {
     "data": {
      "text/plain": [
       "<matplotlib.lines.Line2D at 0x7f4b4e461460>"
      ]
     },
     "execution_count": 40,
     "metadata": {},
     "output_type": "execute_result"
    },
    {
     "data": {
      "image/png": "[encoded data removed]",
      "text/plain": [
       "<Figure size 640x480 with 1 Axes>"
      ]
     },
     "metadata": {},
     "output_type": "display_data"
    }
   ],
   "source": [
    "plt.hist(mj)\n",
    "plt.axvline(m, c='k', ls='--')\n",
    "plt.axvline(mj.mean(), c='r', ls='--')"
   ]
  },
  {
   "cell_type": "code",
   "execution_count": 41,
   "id": "b5f02d75-8755-4c4f-803c-22eebd029ef0",
   "metadata": {},
   "outputs": [
    {
     "data": {
      "text/plain": [
       "(Array(3.50213662e-05, dtype=float64),\n",
       " Array(5.96231418e-06, dtype=float64),\n",
       " np.float64(0.0008018824026078882))"
      ]
     },
     "execution_count": 41,
     "metadata": {},
     "output_type": "execute_result"
    }
   ],
   "source": [
    "m, mj.mean(), np.sqrt(mj.var() * (len(mj) - 1))"
   ]
  },
  {
   "cell_type": "markdown",
   "id": "689f5550-734d-46f8-b890-8893b3e19435",
   "metadata": {
    "jp-MarkdownHeadingCollapsed": true
   },
   "source": [
    "## Jackknife convergence"
   ]
  },
  {
   "cell_type": "code",
   "execution_count": 152,
   "id": "a6144f0e-4ce9-4987-be53-4784a0ba5f40",
   "metadata": {
    "collapsed": true,
    "jupyter": {
     "outputs_hidden": true
    }
   },
   "outputs": [
    {
     "name": "stderr",
     "output_type": "stream",
     "text": [
      "2025-04-11 10:08:13.999147: W external/xla/xla/tsl/framework/bfc_allocator.cc:501] Allocator (GPU_0_bfc) ran out of memory trying to allocate 18.97GiB (rounded to 20371523328)requested by op \n",
      "2025-04-11 10:08:13.999429: W external/xla/xla/tsl/framework/bfc_allocator.cc:512] ****___***_________________********_______*********_________________________________________________\n",
      "E0411 10:08:13.999451 1272324 pjrt_stream_executor_client.cc:3086] Execution of replica 0 failed: RESOURCE_EXHAUSTED: Out of memory while trying to allocate 20371523176 bytes.\n",
      " 80%|████████  | 4/5 [08:42<02:10, 130.61s/it]\n"
     ]
    },
    {
     "ename": "XlaRuntimeError",
     "evalue": "RESOURCE_EXHAUSTED: Out of memory while trying to allocate 20371523176 bytes.",
     "output_type": "error",
     "traceback": [
      "\u001b[31m---------------------------------------------------------------------------\u001b[39m",
      "\u001b[31mXlaRuntimeError\u001b[39m                           Traceback (most recent call last)",
      "\u001b[36mCell\u001b[39m\u001b[36m \u001b[39m\u001b[32mIn[152]\u001b[39m\u001b[32m, line 18\u001b[39m\n\u001b[32m     15\u001b[39m e1e2pj = jnp.stack(e1e2pj, axis=\u001b[32m0\u001b[39m)\n\u001b[32m     16\u001b[39m e1e2mj = jnp.stack(e1e2mj, axis=\u001b[32m0\u001b[39m)\n\u001b[32m---> \u001b[39m\u001b[32m18\u001b[39m gpj = \u001b[43mvmap\u001b[49m\u001b[43m(\u001b[49m\u001b[43m_pipe\u001b[49m\u001b[43m)\u001b[49m\u001b[43m(\u001b[49m\u001b[43mk3s\u001b[49m\u001b[43m,\u001b[49m\u001b[43m \u001b[49m\u001b[43me1e2pj\u001b[49m\u001b[43m)\u001b[49m\n\u001b[32m     19\u001b[39m gmj = vmap(_pipe)(k3s, e1e2mj)\n\u001b[32m     20\u001b[39m mj = (gpj[:, :, \u001b[32m0\u001b[39m].mean(\u001b[32m1\u001b[39m) - gmj[:, :, \u001b[32m0\u001b[39m].mean(\u001b[32m1\u001b[39m)) / \u001b[32m2\u001b[39m/ \u001b[32m0.02\u001b[39m  - \u001b[32m1\u001b[39m\n",
      "    \u001b[31m[... skipping hidden 20 frame]\u001b[39m\n",
      "\u001b[36mFile \u001b[39m\u001b[32m/pscratch/sd/i/imendoza/miniconda3/envs/bpd_gpu/lib/python3.12/site-packages/jax/_src/interpreters/pxla.py:1298\u001b[39m, in \u001b[36mExecuteReplicated.__call__\u001b[39m\u001b[34m(self, *args)\u001b[39m\n\u001b[32m   1296\u001b[39m   \u001b[38;5;28mself\u001b[39m._handle_token_bufs(result_token_bufs, sharded_runtime_token)\n\u001b[32m   1297\u001b[39m \u001b[38;5;28;01melse\u001b[39;00m:\n\u001b[32m-> \u001b[39m\u001b[32m1298\u001b[39m   results = \u001b[38;5;28;43mself\u001b[39;49m\u001b[43m.\u001b[49m\u001b[43mxla_executable\u001b[49m\u001b[43m.\u001b[49m\u001b[43mexecute_sharded\u001b[49m\u001b[43m(\u001b[49m\u001b[43minput_bufs\u001b[49m\u001b[43m)\u001b[49m\n\u001b[32m   1300\u001b[39m \u001b[38;5;28;01mif\u001b[39;00m dispatch.needs_check_special():\n\u001b[32m   1301\u001b[39m   out_arrays = results.disassemble_into_single_device_arrays()\n",
      "\u001b[31mXlaRuntimeError\u001b[39m: RESOURCE_EXHAUSTED: Out of memory while trying to allocate 20371523176 bytes."
     ]
    }
   ],
   "source": [
    "n_jackss = (10, 50, 100, 200)\n",
    "mjs = [] \n",
    "\n",
    "for n_jacks in tqdm(n_jackss):\n",
    "    b1 = n_gals // n_jacks\n",
    "    k3s = random.split(k3, n_jacks)\n",
    "\n",
    "    e1e2pj = [] \n",
    "    e1e2mj = [] \n",
    "    for ii in range(n_jacks):\n",
    "        start, end = ii * b1, (ii + 1) * b1\n",
    "        e1e2pj.append(jnp.concatenate([e1e2p[:start], e1e2p[end:]]))\n",
    "        e1e2mj.append(jnp.concatenate([e1e2m[:start], e1e2m[end:]]))\n",
    "\n",
    "    e1e2pj = jnp.stack(e1e2pj, axis=0)\n",
    "    e1e2mj = jnp.stack(e1e2mj, axis=0)\n",
    "\n",
    "    gpj = vmap(_pipe)(k3s, e1e2pj)\n",
    "    gmj = vmap(_pipe)(k3s, e1e2mj)\n",
    "    mj = (gpj[:, :, 0].mean(1) - gmj[:, :, 0].mean(1)) / 2/ 0.02  - 1\n",
    "    mjs.append(mj)"
   ]
  },
  {
   "cell_type": "code",
   "execution_count": 153,
   "id": "eead2454-e7a9-4e33-b393-3c3bae50a915",
   "metadata": {},
   "outputs": [
    {
     "data": {
      "text/plain": [
       "4"
      ]
     },
     "execution_count": 153,
     "metadata": {},
     "output_type": "execute_result"
    }
   ],
   "source": [
    "len(mjs)"
   ]
  },
  {
   "cell_type": "code",
   "execution_count": 177,
   "id": "c6a7303b-c70b-428b-93b1-2d8fc6df6dc4",
   "metadata": {},
   "outputs": [],
   "source": [
    "mj_means  = [mj.mean() for mj in mjs]\n",
    "mj_sigmas = [np.sqrt(mj.var() * (len(mj) - 1)) for mj in mjs]"
   ]
  },
  {
   "cell_type": "code",
   "execution_count": 181,
   "id": "59ef1f5b-1c5d-4f43-ac75-46e516236a4c",
   "metadata": {},
   "outputs": [
    {
     "data": {
      "text/plain": [
       "10"
      ]
     },
     "execution_count": 181,
     "metadata": {},
     "output_type": "execute_result"
    }
   ],
   "source": [
    "len(mjs[0])"
   ]
  },
  {
   "cell_type": "code",
   "execution_count": 183,
   "id": "8a1fa9de-5919-4b65-8987-bc14bda22786",
   "metadata": {},
   "outputs": [
    {
     "data": {
      "text/plain": [
       "[np.float64(0.0009992877813459233),\n",
       " np.float64(0.0020501438904605746),\n",
       " np.float64(0.003166261437133035),\n",
       " np.float64(0.0033813438725487925)]"
      ]
     },
     "execution_count": 183,
     "metadata": {},
     "output_type": "execute_result"
    }
   ],
   "source": [
    "# explicit expression\n",
    "[ np.sqrt((len(mj) - 1) / len(mj) * np.sum( (mj - mj.mean())**2 ) ) for mj in mjs]"
   ]
  },
  {
   "cell_type": "code",
   "execution_count": 178,
   "id": "d8a0a1e2-f322-4541-96ec-212f880cc7d7",
   "metadata": {},
   "outputs": [
    {
     "data": {
      "text/plain": [
       "([Array(-0.00012086, dtype=float64),\n",
       "  Array(-4.64712922e-05, dtype=float64),\n",
       "  Array(1.00987258e-05, dtype=float64),\n",
       "  Array(2.88625318e-05, dtype=float64)],\n",
       " [np.float64(0.0009992877813459233),\n",
       "  np.float64(0.002050143890460574),\n",
       "  np.float64(0.003166261437133035),\n",
       "  np.float64(0.0033813438725487925)])"
      ]
     },
     "execution_count": 178,
     "metadata": {},
     "output_type": "execute_result"
    }
   ],
   "source": [
    "mj_means, mj_sigmas"
   ]
  },
  {
   "cell_type": "code",
   "execution_count": 180,
   "id": "04472719-d849-4dc2-aad1-49326eb98356",
   "metadata": {},
   "outputs": [
    {
     "data": {
      "text/plain": [
       "Array(0.0002397, dtype=float64)"
      ]
     },
     "execution_count": 180,
     "metadata": {},
     "output_type": "execute_result"
    },
    {
     "data": {
      "image/png": "[encoded data removed]",
      "text/plain": [
       "<Figure size 640x480 with 1 Axes>"
      ]
     },
     "metadata": {},
     "output_type": "display_data"
    }
   ],
   "source": [
    "plt.hist(mjs[-1])\n",
    "mjs[-1].std()"
   ]
  },
  {
   "cell_type": "markdown",
   "id": "6d956684-52a1-496a-bb0a-142b375602d8",
   "metadata": {},
   "source": [
    "# Bootstrap comparison"
   ]
  },
  {
   "cell_type": "code",
   "execution_count": 57,
   "id": "576cf171-364d-4602-94e8-7591526add2c",
   "metadata": {},
   "outputs": [
    {
     "data": {
      "text/plain": [
       "10000"
      ]
     },
     "execution_count": 57,
     "metadata": {},
     "output_type": "execute_result"
    }
   ],
   "source": [
    "n_boots = 100\n",
    "n_gals"
   ]
  },
  {
   "cell_type": "code",
   "execution_count": 62,
   "id": "00e367fd-df23-420d-9d80-b43640838c65",
   "metadata": {},
   "outputs": [],
   "source": [
    "_pipe = jit(partial(get_shear, shape_noise=shape_noise, sigma_e_int=sigma_e_int))"
   ]
  },
  {
   "cell_type": "code",
   "execution_count": 58,
   "id": "06e7838a-2550-4243-b8c7-d4778560a82e",
   "metadata": {},
   "outputs": [],
   "source": [
    "k3s = random.split(k3, n_boots)\n",
    "k4s = random.split(k4, n_boots)"
   ]
  },
  {
   "cell_type": "code",
   "execution_count": 65,
   "id": "e7d2dac1-4138-406b-8250-ee9513f11486",
   "metadata": {},
   "outputs": [
    {
     "name": "stderr",
     "output_type": "stream",
     "text": [
      "100%|██████████| 100/100 [21:50<00:00, 13.11s/it]\n"
     ]
    }
   ],
   "source": [
    "gpbs = [] \n",
    "gmbs = [] \n",
    "\n",
    "for ii in tqdm(range(n_boots)):\n",
    "    indices = random.choice(k4s[ii], jnp.arange(len(e1e2p)), shape=(n_gals,), replace=True)\n",
    "    _gpb = _pipe(k3s[ii], e1e2p[indices])   \n",
    "    _gmb = _pipe(k3s[ii], e1e2m[indices])\n",
    "\n",
    "    gpbs.append(_gpb)\n",
    "    gmbs.append(_gmb)"
   ]
  },
  {
   "cell_type": "code",
   "execution_count": null,
   "id": "9bdee63b-01ed-426a-b133-cfa1a221888d",
   "metadata": {},
   "outputs": [],
   "source": []
  },
  {
   "cell_type": "code",
   "execution_count": 64,
   "id": "c552594d-0a51-45e2-94a4-008ce858f32a",
   "metadata": {},
   "outputs": [],
   "source": [
    "# # e1e2pb = e1e2p[indices]\n",
    "# # e1e2mb = e1e2m[indices]\n",
    "# e1e2pb.shape"
   ]
  },
  {
   "cell_type": "code",
   "execution_count": 107,
   "id": "c330aa4d-5428-4e91-92a7-0ee9f3d3e53c",
   "metadata": {},
   "outputs": [],
   "source": [
    "# gpb = vmap(_pipe, in_axes=(None, 0))(k3, e1e2pb)"
   ]
  },
  {
   "cell_type": "code",
   "execution_count": 108,
   "id": "61084186-98f8-41af-bc74-b5503d42972c",
   "metadata": {},
   "outputs": [],
   "source": [
    "# gmb = vmap(_pipe, in_axes=(None, 0))(k3, e1e2mb)"
   ]
  },
  {
   "cell_type": "code",
   "execution_count": 66,
   "id": "f9799300-e9d6-42c4-a05b-8b78cacec11c",
   "metadata": {},
   "outputs": [],
   "source": [
    "gpb = jnp.stack(gpbs, axis=0)"
   ]
  },
  {
   "cell_type": "code",
   "execution_count": 67,
   "id": "6b271600-8fe0-47c3-8851-bfa23e58ebf0",
   "metadata": {},
   "outputs": [],
   "source": [
    "gmb = jnp.stack(gmbs, axis=0)"
   ]
  },
  {
   "cell_type": "code",
   "execution_count": 68,
   "id": "97d87d0a-43c6-45d9-b238-e20d912aaa91",
   "metadata": {},
   "outputs": [
    {
     "data": {
      "text/plain": [
       "((100, 1000, 2), (100, 1000, 2))"
      ]
     },
     "execution_count": 68,
     "metadata": {},
     "output_type": "execute_result"
    }
   ],
   "source": [
    "gpb.shape, gmb.shape"
   ]
  },
  {
   "cell_type": "code",
   "execution_count": 69,
   "id": "e7552f48-0d35-44da-9fea-73a9ea197432",
   "metadata": {},
   "outputs": [],
   "source": [
    "mb = (gpb[:, :, 0].mean(1) - gmb[:, :, 0].mean(1)) / 2/ 0.02  - 1"
   ]
  },
  {
   "cell_type": "code",
   "execution_count": 70,
   "id": "92293499-8311-4326-8460-dfd04f77b482",
   "metadata": {},
   "outputs": [
    {
     "data": {
      "text/plain": [
       "(100,)"
      ]
     },
     "execution_count": 70,
     "metadata": {},
     "output_type": "execute_result"
    }
   ],
   "source": [
    "mb.shape"
   ]
  },
  {
   "cell_type": "code",
   "execution_count": 71,
   "id": "aef24c2d-e597-4d50-b9f6-9d9f18bc0fda",
   "metadata": {},
   "outputs": [
    {
     "data": {
      "text/plain": [
       "<matplotlib.lines.Line2D at 0x7f4b37f96a20>"
      ]
     },
     "execution_count": 71,
     "metadata": {},
     "output_type": "execute_result"
    },
    {
     "data": {
      "image/png": "[encoded data removed]",
      "text/plain": [
       "<Figure size 640x480 with 1 Axes>"
      ]
     },
     "metadata": {},
     "output_type": "display_data"
    }
   ],
   "source": [
    "plt.hist(mb)\n",
    "plt.axvline(m, c='k', ls='--')\n",
    "# plt.axvline(mjs[-1].mean(), c='bx', ls='--')\n",
    "plt.axvline(mb.mean(), c='r', ls='--')"
   ]
  },
  {
   "cell_type": "code",
   "execution_count": 72,
   "id": "712e6c1b-728e-42ca-acc9-7346ff1bc121",
   "metadata": {},
   "outputs": [
    {
     "data": {
      "text/plain": [
       "(Array(7.16853987e-06, dtype=float64), Array(8.64939272e-05, dtype=float64))"
      ]
     },
     "execution_count": 72,
     "metadata": {},
     "output_type": "execute_result"
    }
   ],
   "source": [
    "mb.mean(), mb.std()"
   ]
  },
  {
   "cell_type": "markdown",
   "id": "7127d478-aec2-4d0f-bc7a-4540c9bdabff",
   "metadata": {},
   "source": [
    "# Summary"
   ]
  },
  {
   "cell_type": "code",
   "execution_count": 74,
   "id": "f6e489a6-52de-4dde-91de-eb664a8bc14c",
   "metadata": {},
   "outputs": [
    {
     "data": {
      "text/plain": [
       "(Array(3.50213662e-05, dtype=float64),\n",
       " Array(5.96231418e-06, dtype=float64),\n",
       " Array(7.16853987e-06, dtype=float64))"
      ]
     },
     "execution_count": 74,
     "metadata": {},
     "output_type": "execute_result"
    }
   ],
   "source": [
    "m, mj.mean(), mb.mean()"
   ]
  },
  {
   "cell_type": "code",
   "execution_count": 77,
   "id": "2f41620c-8931-4bba-986b-c7bdd2b952ce",
   "metadata": {},
   "outputs": [
    {
     "data": {
      "text/plain": [
       "(Array(8.05922138e-05, dtype=float64), 100)"
      ]
     },
     "execution_count": 77,
     "metadata": {},
     "output_type": "execute_result"
    }
   ],
   "source": [
    "mj.std()"
   ]
  },
  {
   "cell_type": "code",
   "execution_count": 75,
   "id": "38a03de6-0a42-4981-874a-be589e673f43",
   "metadata": {},
   "outputs": [
    {
     "data": {
      "text/plain": [
       "(np.float64(0.0008018824026078882), Array(8.64939272e-05, dtype=float64))"
      ]
     },
     "execution_count": 75,
     "metadata": {},
     "output_type": "execute_result"
    }
   ],
   "source": [
    "np.sqrt(mj.var() * (len(mj) - 1)), mb.std()"
   ]
  },
  {
   "cell_type": "code",
   "execution_count": null,
   "id": "68d1bf9f-7f4e-4cb9-9496-52a925061db0",
   "metadata": {},
   "outputs": [],
   "source": []
  },
  {
   "cell_type": "markdown",
   "id": "2e6c9bb0-2265-457e-b464-16710bfa2790",
   "metadata": {},
   "source": [
    "# Look at mean of posteriors on shear"
   ]
  },
  {
   "cell_type": "code",
   "execution_count": 78,
   "id": "35f199af-42d6-48ec-9caa-f4d08a54100c",
   "metadata": {},
   "outputs": [
    {
     "data": {
      "text/plain": [
       "((100, 1000, 2), (100, 1000, 2))"
      ]
     },
     "execution_count": 78,
     "metadata": {},
     "output_type": "execute_result"
    }
   ],
   "source": [
    "gpj.shape, gpb.shape"
   ]
  },
  {
   "cell_type": "code",
   "execution_count": 81,
   "id": "58255e05-d993-414e-ba86-45a8deb2824e",
   "metadata": {},
   "outputs": [
    {
     "data": {
      "text/plain": [
       "np.float64(0.0002049215219508461)"
      ]
     },
     "execution_count": 81,
     "metadata": {},
     "output_type": "execute_result"
    }
   ],
   "source": [
    "np.sqrt(gpj[...,0].mean(1).var()  * (len(gpj) - 1) )"
   ]
  },
  {
   "cell_type": "code",
   "execution_count": 82,
   "id": "5f62ba0d-09f5-4eda-9dd8-f9f8f77b0d83",
   "metadata": {},
   "outputs": [
    {
     "data": {
      "text/plain": [
       "Array(0.00020265, dtype=float64)"
      ]
     },
     "execution_count": 82,
     "metadata": {},
     "output_type": "execute_result"
    }
   ],
   "source": [
    "gpb[...,0].mean(1).std()"
   ]
  },
  {
   "cell_type": "code",
   "execution_count": 119,
   "id": "a3dd48d7-8aa7-4509-86b8-48962ab3cae6",
   "metadata": {},
   "outputs": [],
   "source": [
    "# they agree!"
   ]
  },
  {
   "cell_type": "code",
   "execution_count": null,
   "id": "8d154a4c-73bb-4218-b0f1-d25a8e8d3d7c",
   "metadata": {},
   "outputs": [],
   "source": []
  },
  {
   "cell_type": "markdown",
   "id": "7e54bb83-594a-4add-aeba-869a9ee9cf12",
   "metadata": {},
   "source": [
    "# Misc"
   ]
  },
  {
   "cell_type": "code",
   "execution_count": 84,
   "id": "91635e3d-34e5-4cef-99c3-8fbd1c55e2d2",
   "metadata": {},
   "outputs": [
    {
     "data": {
      "text/plain": [
       "(array([  3.,   2.,   8., 972.,   5.,   3.,   1.,   3.,   2.,   1.]),\n",
       " array([-0.00873138, -0.00634588, -0.00396038, -0.00157487,  0.00081063,\n",
       "         0.00319613,  0.00558163,  0.00796713,  0.01035263,  0.01273813,\n",
       "         0.01512363]),\n",
       " <BarContainer object of 10 artists>)"
      ]
     },
     "execution_count": 84,
     "metadata": {},
     "output_type": "execute_result"
    },
    {
     "data": {
      "image/png": "[encoded data removed]",
      "text/plain": [
       "<Figure size 640x480 with 1 Axes>"
      ]
     },
     "metadata": {},
     "output_type": "display_data"
    }
   ],
   "source": [
    "m_post = (gp[:, 0] - gm[:, 0]) / 2/ 0.02 - 1\n",
    "plt.hist(m_post)"
   ]
  },
  {
   "cell_type": "code",
   "execution_count": 128,
   "id": "0397a51e-5b91-49f9-a962-c7e788f62581",
   "metadata": {},
   "outputs": [
    {
     "data": {
      "text/plain": [
       "(Array(3.50213662e-05, dtype=float64), Array(3.28352935e-05, dtype=float64))"
      ]
     },
     "execution_count": 128,
     "metadata": {},
     "output_type": "execute_result"
    }
   ],
   "source": [
    "m_post.mean(), m_post.std() / np.sqrt(1000 )"
   ]
  },
  {
   "cell_type": "code",
   "execution_count": 129,
   "id": "ef6c7672-b546-4e3c-a607-64ec1089b224",
   "metadata": {},
   "outputs": [],
   "source": [
    "import math\n",
    "import numpy as np\n",
    "def do_jack(x, fnc, n_jacks=10):\n",
    "    assert x.ndim == 1\n",
    "    n = x.shape[0]\n",
    "    b = math.ceil(n / n_jacks)\n",
    "\n",
    "    res = [] \n",
    "    for ii in range(n_jacks):\n",
    "        idx1, idx2 = ii * b, (ii+1) * b\n",
    "        _x = jnp.concatenate([x[:idx1], x[idx2:]])\n",
    "        res.append(fnc(_x))\n",
    "    res = np.array(res)\n",
    "    return np.sqrt(np.var(res) * (n_jacks-1))"
   ]
  },
  {
   "cell_type": "code",
   "execution_count": 131,
   "id": "b11322d8-5d69-4e73-9c40-c4ecc1e6ea90",
   "metadata": {},
   "outputs": [],
   "source": [
    "import math\n",
    "import numpy as np\n",
    "def do_boot(x, fnc, n_boots=500):\n",
    "    assert x.ndim == 1\n",
    "    n = x.shape[0]\n",
    "\n",
    "    res = [] \n",
    "    for ii in range(n_boots):\n",
    "        indices = np.random.choice(np.arange(n), size=(n,), replace=True)\n",
    "        res.append(fnc(x[indices]))\n",
    "    res = np.array(res)\n",
    "    return np.std(res)"
   ]
  },
  {
   "cell_type": "code",
   "execution_count": 130,
   "id": "c477e336-2c59-4113-99a3-56b6b02546c8",
   "metadata": {},
   "outputs": [
    {
     "data": {
      "text/plain": [
       "np.float64(3.299885864739951e-05)"
      ]
     },
     "execution_count": 130,
     "metadata": {},
     "output_type": "execute_result"
    }
   ],
   "source": [
    "do_jack(m_post, np.mean, n_jacks=100)"
   ]
  },
  {
   "cell_type": "code",
   "execution_count": 136,
   "id": "26d793ea-c704-4854-9030-c02100ada72a",
   "metadata": {},
   "outputs": [
    {
     "data": {
      "text/plain": [
       "np.float64(3.348408705413145e-05)"
      ]
     },
     "execution_count": 136,
     "metadata": {},
     "output_type": "execute_result"
    }
   ],
   "source": [
    "do_boot(m_post, np.mean)"
   ]
  },
  {
   "cell_type": "markdown",
   "id": "fbfdce6f-973e-4a06-93cb-fdfa1db08851",
   "metadata": {},
   "source": [
    "## What is ESS"
   ]
  },
  {
   "cell_type": "code",
   "execution_count": null,
   "id": "2f11809e-31a2-4926-886e-82d03623a3d5",
   "metadata": {},
   "outputs": [],
   "source": [
    "from arviz import ess\n"
   ]
  },
  {
   "cell_type": "code",
   "execution_count": 98,
   "id": "589ab9c6-fc03-4404-9531-aa4e5d8df4c0",
   "metadata": {},
   "outputs": [],
   "source": [
    "_k3s = random.split(k3, 4)"
   ]
  },
  {
   "cell_type": "code",
   "execution_count": 99,
   "id": "1b6cc575-7097-4de6-bbb6-007fc5aa9dc3",
   "metadata": {},
   "outputs": [],
   "source": [
    "pipe = jit(partial(get_shear, shape_noise=shape_noise , sigma_e_int=sigma_e_int))"
   ]
  },
  {
   "cell_type": "code",
   "execution_count": 101,
   "id": "9298afaf-173b-4f33-826e-d3164c06a6b0",
   "metadata": {},
   "outputs": [],
   "source": [
    "gp = vmap(pipe, in_axes=(0, None))(_k3s, e1e2p)"
   ]
  },
  {
   "cell_type": "code",
   "execution_count": 102,
   "id": "866c26f0-fc74-47a6-8540-7fd965d5431e",
   "metadata": {},
   "outputs": [],
   "source": [
    "gm = vmap(pipe, in_axes=(0, None))(_k3s, e1e2m)"
   ]
  },
  {
   "cell_type": "code",
   "execution_count": 104,
   "id": "eff937ab-1507-494e-a540-04f4c8901d9f",
   "metadata": {},
   "outputs": [
    {
     "data": {
      "text/plain": [
       "(4, 1000, 2)"
      ]
     },
     "execution_count": 104,
     "metadata": {},
     "output_type": "execute_result"
    }
   ],
   "source": [
    "gp.shape"
   ]
  },
  {
   "cell_type": "code",
   "execution_count": 105,
   "id": "a1d891cd-8115-497c-a6fb-5f68a7b1a365",
   "metadata": {},
   "outputs": [
    {
     "data": {
      "text/plain": [
       "(4, 1000)"
      ]
     },
     "execution_count": 105,
     "metadata": {},
     "output_type": "execute_result"
    }
   ],
   "source": [
    "m_chains = (gp[:, :, 0] - gm[:, :, 0]) / 2/ 0.02 -1\n",
    "m_chains.shape"
   ]
  },
  {
   "cell_type": "code",
   "execution_count": 125,
   "id": "31a070f6-3770-4ccb-9392-160b86b192b0",
   "metadata": {},
   "outputs": [
    {
     "data": {
      "text/plain": [
       "np.float64(3167.904980371274)"
      ]
     },
     "execution_count": 125,
     "metadata": {},
     "output_type": "execute_result"
    }
   ],
   "source": [
    "_ess_g = ess(np.asarray(gm[:, :, 0]))\n",
    "_ess_g"
   ]
  },
  {
   "cell_type": "code",
   "execution_count": 126,
   "id": "6589aa7d-e054-4e0e-ba1c-2baa670204c0",
   "metadata": {},
   "outputs": [
    {
     "data": {
      "text/plain": [
       "np.float64(4015.299315663907)"
      ]
     },
     "execution_count": 126,
     "metadata": {},
     "output_type": "execute_result"
    }
   ],
   "source": [
    "_ess_m = ess(np.asarray(m_chains))\n",
    "_ess_m"
   ]
  },
  {
   "cell_type": "code",
   "execution_count": 127,
   "id": "7bd83639-589f-4125-b5e7-dd53b1371234",
   "metadata": {},
   "outputs": [
    {
     "data": {
      "text/plain": [
       "[<matplotlib.lines.Line2D at 0x7f4ae7378410>]"
      ]
     },
     "execution_count": 127,
     "metadata": {},
     "output_type": "execute_result"
    },
    {
     "data": {
      "image/png": "[encoded data removed]",
      "text/plain": [
       "<Figure size 640x480 with 1 Axes>"
      ]
     },
     "metadata": {},
     "output_type": "display_data"
    }
   ],
   "source": [
    "plt.plot(m_chains[0, :])"
   ]
  },
  {
   "cell_type": "code",
   "execution_count": null,
   "id": "a08014dc-9cc7-4564-8006-9b764c5421f0",
   "metadata": {},
   "outputs": [],
   "source": []
  }
 ],
 "metadata": {
  "kernelspec": {
   "display_name": "bpd_gpu",
   "language": "python",
   "name": "bpd_gpu"
  },
  "language_info": {
   "codemirror_mode": {
    "name": "ipython",
    "version": 3
   },
   "file_extension": ".py",
   "mimetype": "text/x-python",
   "name": "python",
   "nbconvert_exporter": "python",
   "pygments_lexer": "ipython3",
   "version": "3.12.9"
  }
 },
 "nbformat": 4,
 "nbformat_minor": 5
}
