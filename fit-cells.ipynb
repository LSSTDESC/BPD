{
 "cells": [
  {
   "cell_type": "markdown",
   "id": "06757af7-2522-4a62-ba65-31f106b788cd",
   "metadata": {},
   "source": [
    "Credit: *Axel Guinot* for all simulations from `descwl_shear_sims`, *Ismael Mendoza* functions for HMC using `jax_galsim`."
   ]
  },
  {
   "cell_type": "markdown",
   "id": "cc4f2a95-8e09-4f43-8b4d-74f10ab2ad4d",
   "metadata": {},
   "source": [
    "# Setup"
   ]
  },
  {
   "cell_type": "code",
   "execution_count": 11,
   "id": "5d815351-b2ab-453f-9781-ccc16f3eb8d2",
   "metadata": {
    "tags": []
   },
   "outputs": [],
   "source": [
    "import numpy as np\n",
    "\n",
    "import lsst.afw.image as afw_image\n",
    "import lsst.afw.geom as afw_geom\n",
    "from descwl_shear_sims.galaxies import make_galaxy_catalog\n",
    "from descwl_shear_sims.psfs import make_fixed_psf\n",
    "from descwl_shear_sims.sim import make_sim\n",
    "from descwl_shear_sims.objlists import get_objlist\n",
    "from descwl_shear_sims.surveys import get_survey\n",
    "from descwl_shear_sims.constants import FIXED_PSF_FWHM\n",
    "\n",
    "import matplotlib.pyplot as plt\n",
    "\n",
    "import galsim\n",
    "\n",
    "import gc"
   ]
  },
  {
   "cell_type": "code",
   "execution_count": 12,
   "id": "f0e1bab7-58fc-4c2e-bdb1-10e0efa42efe",
   "metadata": {
    "tags": []
   },
   "outputs": [],
   "source": [
    "import numpy as np\n",
    "import descwl_shear_sims\n",
    "import lsst.afw\n",
    "import matplotlib.pyplot as plt \n",
    "\n",
    "# Working in float64\n",
    "from jax.config import config\n",
    "config.update(\"jax_enable_x64\", True)\n",
    "\n",
    "import jax\n",
    "import jax.numpy as jnp\n",
    "import jax_galsim as galaxim"
   ]
  },
  {
   "cell_type": "code",
   "execution_count": 13,
   "id": "5ba1e63b-3c20-4e56-814b-8393c6e7a757",
   "metadata": {
    "tags": []
   },
   "outputs": [],
   "source": [
    "import numpyro\n",
    "import numpyro.distributions as dist\n",
    "from numpyro.infer import MCMC, NUTS\n",
    "from jax import random"
   ]
  },
  {
   "cell_type": "code",
   "execution_count": 14,
   "id": "37fb2f35-8477-42ee-b695-ddfeaa439eb9",
   "metadata": {
    "tags": []
   },
   "outputs": [],
   "source": [
    "def get_coadd_center_gs_pos(coadd_wcs, coadd_bbox):\n",
    "    \"\"\"\n",
    "    get the sky position of the center of the coadd within the\n",
    "    bbox as a galsim CelestialCoord\n",
    "\n",
    "    Parameters\n",
    "    ----------\n",
    "    coadd_wcs: DM wcs\n",
    "        The wcs for the coadd\n",
    "    coadd_bbox: geom.Box2I\n",
    "        The bounding box for the coadd within larger wcs system\n",
    "\n",
    "    Returns\n",
    "    -------\n",
    "    galsim CelestialCoord\n",
    "    \"\"\"\n",
    "\n",
    "    # world origin is at center of the coadd, which itself\n",
    "    # is in a bbox shifted from the overall WORLD_ORIGIN\n",
    "\n",
    "    bbox_cen_skypos = coadd_wcs.pixelToSky(\n",
    "        coadd_bbox.getCenter()\n",
    "    )\n",
    "\n",
    "    return galsim.CelestialCoord(\n",
    "        ra=float(bbox_cen_skypos.getRa()) * galsim.radians,\n",
    "        dec=float(bbox_cen_skypos.getDec()) * galsim.radians,\n",
    ")"
   ]
  },
  {
   "cell_type": "markdown",
   "id": "5bb7a99d-1b4d-4f07-9358-ef2836ad8620",
   "metadata": {},
   "source": [
    "## Setup data"
   ]
  },
  {
   "cell_type": "code",
   "execution_count": 17,
   "id": "887d72bc-04d3-41c3-af79-a83db98a86f9",
   "metadata": {
    "tags": []
   },
   "outputs": [],
   "source": [
    "seed = 8312\n",
    "rng = np.random.RandomState(seed)\n",
    "# coadd_dim = 251\n",
    "COADD_DIM = 201\n",
    "PSF_DIM = 51\n",
    "bands = ['i']\n",
    "NOISE_FACTOR = 1e-3\n",
    "\n",
    "# this makes a grid of fixed exponential galaxies\n",
    "# with default properties. One exposure per band\n",
    "\n",
    "galaxy_catalog = make_galaxy_catalog(\n",
    "    rng=rng,\n",
    "    gal_type='fixed',\n",
    "    coadd_dim=COADD_DIM,\n",
    "    buff=30,\n",
    "    layout='grid',\n",
    "    gal_config={\"morph\": \"exp\", \"mag\": 20}\n",
    ")\n",
    "survey = get_survey(gal_type=galaxy_catalog.gal_type, band=bands[0])\n",
    "noise_for_gsparams = survey.noise*NOISE_FACTOR\n",
    "lists = get_objlist(\n",
    "    galaxy_catalog=galaxy_catalog,\n",
    "    survey=survey,\n",
    "    star_catalog=None,\n",
    "    noise=noise_for_gsparams,\n",
    ")\n",
    "# gaussian psf\n",
    "psf = make_fixed_psf(psf_type='gauss')"
   ]
  },
  {
   "cell_type": "code",
   "execution_count": 18,
   "id": "33fbe260-b0f9-4bd3-9e6f-c67edaa8b5b3",
   "metadata": {
    "tags": []
   },
   "outputs": [],
   "source": [
    "data = make_sim(\n",
    "    rng=rng,\n",
    "    galaxy_catalog=galaxy_catalog,\n",
    "    coadd_dim=COADD_DIM,\n",
    "    psf_dim=PSF_DIM,\n",
    "    bands=bands,\n",
    "    g1=0.02,\n",
    "    g2=0.00,\n",
    "    psf=psf,\n",
    "    dither=False,\n",
    "    rotate=False,\n",
    "    se_dim=COADD_DIM,\n",
    "    noise_factor=NOISE_FACTOR,\n",
    ")\n"
   ]
  },
  {
   "cell_type": "code",
   "execution_count": 19,
   "id": "f5e32bd7-6e82-4dfa-bcca-721d610faa79",
   "metadata": {
    "tags": []
   },
   "outputs": [],
   "source": [
    "se_wcs = data['se_wcs'][0]\n",
    "coadd_gs_center = get_coadd_center_gs_pos(data['coadd_wcs'], data['coadd_bbox'])\n",
    "obj_x = []\n",
    "obj_y = []\n",
    "for shift in lists['shifts']:\n",
    "    shift = shift.shear(galsim.Shear(g1=0.02, g2=0.))\n",
    "    w_pos = coadd_gs_center.deproject(shift.x*galsim.arcsec, shift.y*galsim.arcsec)\n",
    "    image_pos = se_wcs.toImage(w_pos)\n",
    "    obj_x.append(image_pos.x)\n",
    "    obj_y.append(image_pos.y)\n",
    "obj_x = np.array(obj_x)\n",
    "obj_y = np.array(obj_y)"
   ]
  },
  {
   "cell_type": "code",
   "execution_count": 20,
   "id": "beb3bcec-e870-4c2e-80af-692fdca3b5cc",
   "metadata": {
    "tags": []
   },
   "outputs": [
    {
     "data": {
      "image/png": "[encoded data removed]",
      "text/plain": [
       "<Figure size 700x700 with 1 Axes>"
      ]
     },
     "metadata": {},
     "output_type": "display_data"
    }
   ],
   "source": [
    "plt.figure(figsize=(7, 7))\n",
    "plt.imshow(data['band_data']['i'][0].image.array, cmap='gray', interpolation='nearest')\n",
    "plt.plot(obj_x-1, obj_y-1, 'r+')\n",
    "plt.show()"
   ]
  },
  {
   "cell_type": "code",
   "execution_count": 21,
   "id": "1bd07b1d-a5f2-4cb7-a86b-c78b01c98fd4",
   "metadata": {
    "tags": []
   },
   "outputs": [],
   "source": [
    "def _coadd_sim_data(rng, sim_data, nowarp, remove_poisson):\n",
    "    \"\"\"\n",
    "    copied from mdet-lsst-sim\n",
    "    \"\"\"\n",
    "    from descwl_coadd.coadd import make_coadd\n",
    "    from descwl_coadd.coadd_nowarp import make_coadd_nowarp\n",
    "    from metadetect.lsst.util import extract_multiband_coadd_data\n",
    "\n",
    "    bands = list(sim_data['band_data'].keys())\n",
    "\n",
    "    if nowarp:\n",
    "        exps = sim_data['band_data'][bands[0]]\n",
    "\n",
    "        if len(exps) > 1:\n",
    "            raise ValueError('only one epoch for nowarp')\n",
    "\n",
    "        coadd_data_list = [\n",
    "            make_coadd_nowarp(\n",
    "                exp=exps[0],\n",
    "                psf_dims=sim_data['psf_dims'],\n",
    "                rng=rng,\n",
    "                remove_poisson=remove_poisson,\n",
    "            )\n",
    "            for band in bands\n",
    "        ]\n",
    "    else:\n",
    "        coadd_data_list = [\n",
    "            make_coadd(\n",
    "                exps=sim_data['band_data'][band],\n",
    "                psf_dims=sim_data['psf_dims'],\n",
    "                rng=rng,\n",
    "                coadd_wcs=sim_data['coadd_wcs'],\n",
    "                coadd_bbox=sim_data['coadd_bbox'],\n",
    "                remove_poisson=remove_poisson,\n",
    "            )\n",
    "            for band in bands\n",
    "        ]\n",
    "    return extract_multiband_coadd_data(coadd_data_list)"
   ]
  },
  {
   "cell_type": "code",
   "execution_count": 22,
   "id": "697d75a7-c468-4dcc-8fe5-7560ece52696",
   "metadata": {
    "tags": []
   },
   "outputs": [],
   "source": [
    "def get_psf(exp):\n",
    "\n",
    "    from metadetect.lsst.util import get_integer_center\n",
    "\n",
    "    wcs = exp.getWcs()\n",
    "    bbox = exp.getBBox()\n",
    "\n",
    "    # this is to be consistent with the coadd code\n",
    "    cen, _ = get_integer_center(\n",
    "        wcs=wcs,\n",
    "        bbox=bbox,\n",
    "        as_double=True,\n",
    "    )\n",
    "    cen_gs = galsim.PositionD(x=cen.x, y=cen.y)\n",
    "\n",
    "    psf_obj = exp.getPsf()\n",
    "    psf_image = psf_obj.computeKernelImage(cen).array\n",
    "\n",
    "    coadd_wcs = make_coadd_wcs(wcs, bbox)\n",
    "\n",
    "    psf_gs = galsim.InterpolatedImage(\n",
    "        galsim.Image(psf_image, wcs=coadd_wcs)\n",
    "    )\n",
    "\n",
    "    local_wcs = coadd_wcs.local(cen_gs)\n",
    "\n",
    "    pixel = local_wcs.toWorld(galsim.Pixel(scale=1))\n",
    "    pixel_inv = galsim.Deconvolve(pixel)\n",
    "\n",
    "    psf_gs_no_pixel = galsim.Convolve([psf_gs, pixel_inv])\n",
    "\n",
    "    return psf_gs_no_pixel"
   ]
  },
  {
   "cell_type": "code",
   "execution_count": 23,
   "id": "2c74c5d0-9447-4d4c-85bc-027972ba46b1",
   "metadata": {
    "tags": []
   },
   "outputs": [
    {
     "data": {
      "text/plain": [
       "{'band_data': {'i': [<lsst.afw.image._exposure.ExposureF at 0x7fa304744bb0>]},\n",
       " 'coadd_wcs': FITS standard SkyWcs:\n",
       " Sky Origin: (200.0000000000, +0.0000000000)\n",
       " Pixel Origin: (1599, 1599)\n",
       " Pixel Scale: 0.2 arcsec/pixel,\n",
       " 'psf_dims': (51, 51),\n",
       " 'coadd_dims': (201, 201),\n",
       " 'coadd_bbox': Box2I(corner=Point2I(1000, 450), dimensions=Extent2I(201, 201)),\n",
       " 'bright_info': array([], dtype=int64),\n",
       " 'se_wcs': [galsim.GSFitsWCS(_data = ['TAN', array([101.0, 101.0]), array([[-5.5555555555555565e-05, -0.0], [0.0, 5.5555555555555565e-05]]), coord.CelestialCoord(coord.Angle(3.4911423480046486, coord.radians), coord.Angle(-0.0010171386331415655, coord.radians)), None, None, None])]}"
      ]
     },
     "execution_count": 23,
     "metadata": {},
     "output_type": "execute_result"
    }
   ],
   "source": [
    "data"
   ]
  },
  {
   "cell_type": "code",
   "execution_count": 24,
   "id": "47d44eb9-6f18-4d8c-8205-8ac4c284de82",
   "metadata": {
    "tags": []
   },
   "outputs": [],
   "source": [
    "mb_coadd = _coadd_sim_data(np.random.RandomState(42), data, True, False)"
   ]
  },
  {
   "cell_type": "code",
   "execution_count": 25,
   "id": "e053a518-a6b9-4e92-b320-8c7321d98b90",
   "metadata": {
    "tags": []
   },
   "outputs": [
    {
     "data": {
      "image/png": "[encoded data removed]",
      "text/plain": [
       "<Figure size 700x700 with 1 Axes>"
      ]
     },
     "metadata": {},
     "output_type": "display_data"
    }
   ],
   "source": [
    "plt.figure(figsize=(7, 7))\n",
    "plt.imshow(mb_coadd['mbexp']['i'].image.array, cmap='gray', interpolation='nearest')\n",
    "plt.plot(obj_x-1, obj_y-1, 'r+')\n",
    "#plt.plot(lists['shifts'][0].x, lists['shifts'][0].y, 'g+')\n",
    "plt.show()"
   ]
  },
  {
   "cell_type": "markdown",
   "id": "d2c095c4-f091-4113-884d-3c0c7f0367e6",
   "metadata": {},
   "source": [
    "# Model and Inference"
   ]
  },
  {
   "cell_type": "code",
   "execution_count": 44,
   "id": "2df16b88-d937-4832-803c-08cd0a90e375",
   "metadata": {
    "tags": []
   },
   "outputs": [],
   "source": [
    "def make_coadd_wcs(coadd_dm_wcs, coadd_dm_bbox):\n",
    "    \"\"\"\n",
    "    make and return a wcs object\n",
    "\n",
    "    NOTE: copy of make_wcs\n",
    "\n",
    "    Parameters\n",
    "    ----------\n",
    "\n",
    "    Returns\n",
    "    -------\n",
    "    A galsim wcs object, currently a TanWCS\n",
    "    \"\"\"\n",
    "\n",
    "    scale = coadd_dm_wcs.getPixelScale().asArcseconds()\n",
    "\n",
    "    w_orig = coadd_dm_wcs.getSkyOrigin()\n",
    "    ra = w_orig.getRa().asDegrees()\n",
    "    dec = w_orig.getDec().asDegrees()\n",
    "    world_origin = galsim.CelestialCoord(\n",
    "        ra=ra*galsim.degrees,\n",
    "        dec=dec*galsim.degrees,\n",
    "    )\n",
    "\n",
    "    coadd_dims = [coadd_dm_bbox.height, coadd_dm_bbox.width]\n",
    "    coadd_cen = (np.array(coadd_dims)-1)/2\n",
    "    image_origin = galsim.PositionD(x=coadd_cen[1], y=coadd_cen[0])\n",
    "    \n",
    "\n",
    "    mat = np.array(\n",
    "        [[scale, 0.0],\n",
    "         [0.0, scale]],\n",
    "    )\n",
    "\n",
    "    return galsim.TanWCS(\n",
    "        affine=galsim.AffineTransform(\n",
    "            mat[0, 0], mat[0, 1], mat[1, 0], mat[1, 1],\n",
    "            origin=image_origin,\n",
    "        ),\n",
    "        world_origin=world_origin,\n",
    "        units=galsim.arcsec,\n",
    "    )"
   ]
  },
  {
   "cell_type": "code",
   "execution_count": 55,
   "id": "93044bc7-aaa2-4d21-ba2d-ed5c1e5c8938",
   "metadata": {
    "tags": []
   },
   "outputs": [],
   "source": [
    "coadd_img = mb_coadd['mbexp']['i'].image.array\n",
    "# psf_gs_no_pix = get_psf(mb_coadd['mbexp']['i'])\n",
    "psf_gs_no_pix = galaxim.Gaussian(fwhm=FIXED_PSF_FWHM)\n",
    "# coadd_img = data['band_data']['i'][0].image.array\n",
    "inv_var = 1.  # /data['band_data']['i'][0].variance.array\n",
    "POS = np.array([obj_x, obj_y]).T\n",
    "coadd_wcs = data['coadd_wcs']\n",
    "coadd_bbox = data['coadd_bbox']"
   ]
  },
  {
   "cell_type": "code",
   "execution_count": 56,
   "id": "c781500f-ad8b-489a-8d09-e090010debd8",
   "metadata": {
    "tags": []
   },
   "outputs": [],
   "source": [
    "# coadd metadata setup\n",
    "COADD_WCS = make_coadd_wcs(coadd_wcs, COADD_BBOX)"
   ]
  },
  {
   "cell_type": "code",
   "execution_count": 60,
   "id": "b80d5e2d-e972-4219-b610-0ffe280ef244",
   "metadata": {
    "tags": []
   },
   "outputs": [],
   "source": [
    "@jax.jit\n",
    "@jax.vmap\n",
    "def get_model(xs, ys, hlrs, fluxes, g1, g2):\n",
    "\n",
    "    image = galaxim.Image.init(COADD_DIM, COADD_DIM, wcs=COADD_WCS)\n",
    "    psf_gs_no_pix = galaxim.Gaussian(fwhm=FIXED_PSF_FWHM)\n",
    "\n",
    "    for ii in range(4):\n",
    "        pos = POS[ii]\n",
    "        x = xs[ii]\n",
    "        y = ys[ii]\n",
    "        hlr = hlrs[ii]\n",
    "        flux = fluxes[ii]\n",
    "\n",
    "        image_pos = galaxim.PositionD(x=pos[0]-x, y=pos[1]-y)\n",
    "        local_wcs = COADD_WCS.local(image_pos=image_pos)\n",
    "\n",
    "        gal = galaxim.Gaussian(half_light_radius=hlr).withFlux(flux)\n",
    "        gal = gal.shear(g1=g1, g2=g2)\n",
    "\n",
    "        obj = galaxim.Convolve([gal, psf_gs_no_pix])\n",
    "        stamp = obj.drawImage(nx=COADD_DIM, ny=COADD_DIM, \n",
    "                              wcs=local_wcs, \n",
    "                              offset=image_pos)\n",
    "        image += stamp\n",
    "\n",
    "    return image.array"
   ]
  },
  {
   "cell_type": "code",
   "execution_count": 61,
   "id": "5aae9a15-4cc8-4eb7-8d38-48e529c658ab",
   "metadata": {
    "tags": []
   },
   "outputs": [],
   "source": [
    "def prob_model(y=None):\n",
    "    g1 = numpyro.sample('g1', dist.Uniform(-0.05, 0.05))\n",
    "    g2 = numpyro.sample('g2', dist.Uniform(-0.05, 0.05))\n",
    "    with numpyro.plate('gals', 4):\n",
    "        fluxes = numpyro.sample('flux', dist.Uniform(0, 1e6))\n",
    "        hlrs = numpyro.sample('hlr', dist.Uniform(0.01, 0.8))\n",
    "        xs = numpyro.sample('x', dist.Uniform(-0.5, 0.5))\n",
    "        ys = numpyro.sample('y', dist.Uniform(-0.5, 0.5))\n",
    "        im = draw_gal(xs, ys, hlrs, fluxes, g1, g2)\n",
    "        numpyro.sample('obs', dist.Normal(im, jnp.sqrt(im)), obs=y)"
   ]
  },
  {
   "cell_type": "code",
   "execution_count": 62,
   "id": "cd434509-23cd-457d-9516-2ab539fabecb",
   "metadata": {
    "tags": []
   },
   "outputs": [
    {
     "ename": "TypeError",
     "evalue": "wcs parameters must be a galsim.BaseWCS instance",
     "output_type": "error",
     "traceback": [
      "\u001b[0;31m---------------------------------------------------------------------------\u001b[0m",
      "\u001b[0;31mTypeError\u001b[0m                                 Traceback (most recent call last)",
      "Cell \u001b[0;32mIn[62], line 8\u001b[0m\n\u001b[1;32m      6\u001b[0m g1 \u001b[38;5;241m=\u001b[39m jnp\u001b[38;5;241m.\u001b[39marray([\u001b[38;5;241m0.02\u001b[39m])[\u001b[38;5;28;01mNone\u001b[39;00m, :] \n\u001b[1;32m      7\u001b[0m g2 \u001b[38;5;241m=\u001b[39m jnp\u001b[38;5;241m.\u001b[39marray([\u001b[38;5;241m0.00\u001b[39m])[\u001b[38;5;28;01mNone\u001b[39;00m, :] \n\u001b[0;32m----> 8\u001b[0m \u001b[43mget_model\u001b[49m\u001b[43m(\u001b[49m\u001b[43mxs\u001b[49m\u001b[43m,\u001b[49m\u001b[43m \u001b[49m\u001b[43mys\u001b[49m\u001b[43m,\u001b[49m\u001b[43m \u001b[49m\u001b[43mhlrs\u001b[49m\u001b[43m,\u001b[49m\u001b[43m \u001b[49m\u001b[43mfluxes\u001b[49m\u001b[43m,\u001b[49m\u001b[43m \u001b[49m\u001b[43mg1\u001b[49m\u001b[43m,\u001b[49m\u001b[43m \u001b[49m\u001b[43mg2\u001b[49m\u001b[43m)\u001b[49m\n",
      "    \u001b[0;31m[... skipping hidden 15 frame]\u001b[0m\n",
      "Cell \u001b[0;32mIn[60], line 5\u001b[0m, in \u001b[0;36mget_model\u001b[0;34m(xs, ys, hlrs, fluxes, g1, g2)\u001b[0m\n\u001b[1;32m      1\u001b[0m \u001b[38;5;129m@jax\u001b[39m\u001b[38;5;241m.\u001b[39mjit\n\u001b[1;32m      2\u001b[0m \u001b[38;5;129m@jax\u001b[39m\u001b[38;5;241m.\u001b[39mvmap\n\u001b[1;32m      3\u001b[0m \u001b[38;5;28;01mdef\u001b[39;00m \u001b[38;5;21mget_model\u001b[39m(xs, ys, hlrs, fluxes, g1, g2):\n\u001b[0;32m----> 5\u001b[0m     image \u001b[38;5;241m=\u001b[39m \u001b[43mgalaxim\u001b[49m\u001b[38;5;241;43m.\u001b[39;49m\u001b[43mImage\u001b[49m\u001b[38;5;241;43m.\u001b[39;49m\u001b[43minit\u001b[49m\u001b[43m(\u001b[49m\u001b[43mCOADD_DIM\u001b[49m\u001b[43m,\u001b[49m\u001b[43m \u001b[49m\u001b[43mCOADD_DIM\u001b[49m\u001b[43m,\u001b[49m\u001b[43m \u001b[49m\u001b[43mwcs\u001b[49m\u001b[38;5;241;43m=\u001b[39;49m\u001b[43mCOADD_WCS\u001b[49m\u001b[43m)\u001b[49m\n\u001b[1;32m      6\u001b[0m     psf_gs_no_pix \u001b[38;5;241m=\u001b[39m galaxim\u001b[38;5;241m.\u001b[39mGaussian(fwhm\u001b[38;5;241m=\u001b[39mFIXED_PSF_FWHM)\n\u001b[1;32m      8\u001b[0m     \u001b[38;5;28;01mfor\u001b[39;00m ii \u001b[38;5;129;01min\u001b[39;00m \u001b[38;5;28mrange\u001b[39m(\u001b[38;5;241m4\u001b[39m):\n",
      "File \u001b[0;32m/global/u2/i/imendoza/JAX-GalSim/jax_galsim/image.py:226\u001b[0m, in \u001b[0;36mImage.init\u001b[0;34m(cls, *args, **kwargs)\u001b[0m\n\u001b[1;32m    224\u001b[0m \u001b[38;5;28;01melse\u001b[39;00m:\n\u001b[1;32m    225\u001b[0m     \u001b[38;5;28;01mif\u001b[39;00m wcs \u001b[38;5;129;01mis\u001b[39;00m \u001b[38;5;129;01mnot\u001b[39;00m \u001b[38;5;28;01mNone\u001b[39;00m \u001b[38;5;129;01mand\u001b[39;00m \u001b[38;5;129;01mnot\u001b[39;00m \u001b[38;5;28misinstance\u001b[39m(wcs, BaseWCS):\n\u001b[0;32m--> 226\u001b[0m         \u001b[38;5;28;01mraise\u001b[39;00m \u001b[38;5;167;01mTypeError\u001b[39;00m(\u001b[38;5;124m\"\u001b[39m\u001b[38;5;124mwcs parameters must be a galsim.BaseWCS instance\u001b[39m\u001b[38;5;124m\"\u001b[39m)\n\u001b[1;32m    227\u001b[0m     wcs \u001b[38;5;241m=\u001b[39m wcs\n\u001b[1;32m    229\u001b[0m \u001b[38;5;28;01mreturn\u001b[39;00m \u001b[38;5;28mcls\u001b[39m(_array, _bounds, wcs, _dtype)\n",
      "\u001b[0;31mTypeError\u001b[0m: wcs parameters must be a galsim.BaseWCS instance"
     ]
    }
   ],
   "source": [
    "# truth check? \n",
    "xs = jnp.array(obj_x)[None, :]\n",
    "ys = jnp.array(obj_y)[None, :] \n",
    "hlrs = jnp.array([0.8, 0.8, 0.8, 0.8])[None, :] \n",
    "fluxes = jnp.array([1e4, 1e4, 1e4, 1e4])[None, :]  \n",
    "g1 = jnp.array([0.02])[None, :] \n",
    "g2 = jnp.array([0.00])[None, :] \n",
    "get_model(xs, ys, hlrs, fluxes, g1, g2)"
   ]
  },
  {
   "cell_type": "code",
   "execution_count": 63,
   "id": "4097fbd9-8118-4acf-91af-aceaac52001b",
   "metadata": {
    "tags": []
   },
   "outputs": [
    {
     "data": {
      "text/plain": [
       "galsim.GSFitsWCS(_data = ['TAN', array([100.0, 100.0]), array([[-5.5555555544063964e-05, -0.0], [0.0, 5.5555555544063964e-05]]), coord.CelestialCoord(coord.Angle(3.490658503988658, coord.radians), coord.Angle(0.0, coord.radians)), None, None, None])"
      ]
     },
     "execution_count": 63,
     "metadata": {},
     "output_type": "execute_result"
    }
   ],
   "source": [
    "COADD_WCS"
   ]
  },
  {
   "cell_type": "code",
   "execution_count": null,
   "id": "f7739cd5-5447-4206-b6e5-287996d8a6ba",
   "metadata": {},
   "outputs": [],
   "source": []
  }
 ],
 "metadata": {
  "kernelspec": {
   "display_name": "sshears",
   "language": "python",
   "name": "sshears"
  },
  "language_info": {
   "codemirror_mode": {
    "name": "ipython",
    "version": 3
   },
   "file_extension": ".py",
   "mimetype": "text/x-python",
   "name": "python",
   "nbconvert_exporter": "python",
   "pygments_lexer": "ipython3",
   "version": "3.10.12"
  }
 },
 "nbformat": 4,
 "nbformat_minor": 5
}
